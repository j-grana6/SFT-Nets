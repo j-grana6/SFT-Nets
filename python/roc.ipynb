{
 "metadata": {
  "name": ""
 },
 "nbformat": 3,
 "nbformat_minor": 0,
 "worksheets": [
  {
   "cells": [
    {
     "cell_type": "code",
     "collapsed": false,
     "input": [
      "# Import the sft stuff \n",
      "from sft import *\n",
      "from sft_net import *\n",
      "from roc import *\n",
      "from uniform_approx import *\n",
      "import numpy as np\n"
     ],
     "language": "python",
     "metadata": {},
     "outputs": [],
     "prompt_number": 1
    },
    {
     "cell_type": "markdown",
     "metadata": {},
     "source": [
      "Now we will create a net"
     ]
    },
    {
     "cell_type": "code",
     "collapsed": false,
     "input": [
      "A = SFT('A', ['normal' , 'infected'], ['B', 'F'], \n",
      "    {'B': np.array([[1, 0], [1,0]]), 'F' : np.array([[.5, 0], [.5, .01]])},\n",
      "    ['clean', 'malicious'], 'external')\n",
      "# Node A sends messages to B and F\n",
      "\n",
      "B = SFT('B', ['normal' , 'infected'], ['A', 'D', 'F'], \n",
      "    {'A': np.array([[1, 0], [1,.01]]), 'D': np.array([[1,0], [1.5, .01]]), 'F' : np.array([[1, 0], [1, .01]])},\n",
      "    ['clean', 'malicious'], 'internal')\n",
      "# B sends messages to A, D and F\n",
      "\n",
      "C = SFT('C', ['normal' , 'infected'], ['A', 'B', 'F'], \n",
      "    {'A': np.array([[1, 0], [1,.01]]), 'B': np.array([[1,0], [1, .0001]]), 'F' : np.array([[1, 0], [1, .01]])},\n",
      "    ['clean', 'malicious'], 'internal')\n",
      "# C sends messages to A, B and F\n",
      "\n",
      "D = SFT('D', ['normal' , 'infected'], ['A', 'C', 'F'], \n",
      "    {'A': np.array([[1, 0], [1,.01]]), 'C': np.array([[1,0], [1, .01]]), 'F' : np.array([[1, 0], [1, .01]])},\n",
      "    ['clean', 'malicious'], 'internal')\n",
      "# D sends nodes to A, C and F\n",
      "\n",
      "E = SFT('E', ['normal' , 'infected'], ['A', 'B', 'C', 'F'], \n",
      "    {'A': np.array([[.05, 0], [.05,.01]]), 'B': np.array([[.05,0], [05, .0001]]), \n",
      "     'C': np.array([[.05,0], [.05, .0001]]), 'F' : np.array([[.05, 0], [.05, .0001]])},\n",
      "    ['clean', 'malicious'], 'internal')\n",
      "# E (slowly) sends nodes to A, B, C and F\n",
      "\n",
      "F = SFT('F', ['normal' , 'infected'], ['A', 'E'], \n",
      "    {'A': np.array([[.7, 0], [.7,.01]]), 'E' : np.array([[1, 0], [.5, .0001]])},\n",
      "    ['clean', 'malicious'], 'external')\n",
      "# F sends nodes to A and E\n",
      "\n",
      "nodes= [A,B,C,D,E,F]\n",
      "net = SFTNet(nodes)"
     ],
     "language": "python",
     "metadata": {},
     "outputs": [],
     "prompt_number": 2
    },
    {
     "cell_type": "code",
     "collapsed": false,
     "input": [
      "import networkx as nx\n",
      "G = nx.DiGraph()\n",
      "G.add_nodes_from(['A', 'B', 'C', 'D', 'E', 'F'])\n",
      "edges = []\n",
      "for node in net.node_names:\n",
      "    for onode in net.node_dict[node].sends_to:\n",
      "        edges.append((node, onode))\n",
      "G.add_edges_from(edges)\n",
      "\n",
      "val_map = {'A': 'r',\n",
      "           'B': 'g',\n",
      "           'C': 'g',\n",
      "           'D': 'g',\n",
      "           'E': 'g', \n",
      "           'F': 'r'}\n",
      "\n",
      "values = [val_map.get(node, 0.25) for node in G.nodes()]\n",
      "nx.draw(G, node_color = values)\n",
      "## Soon enough I will draw the network with the rate constants displayed.\n",
      "## Also, we are open to suggestions of the type of net configuration we should be playing with.  If anybody \n",
      "## has any suggestions, we are open.  "
     ],
     "language": "python",
     "metadata": {},
     "outputs": [
      {
       "metadata": {},
       "output_type": "display_data",
       "png": "[encoded data removed]",
       "text": [
        "<matplotlib.figure.Figure at 0x5951650>"
       ]
      }
     ],
     "prompt_number": 3
    },
    {
     "cell_type": "code",
     "collapsed": false,
     "input": [
      "print 'hello'"
     ],
     "language": "python",
     "metadata": {},
     "outputs": [
      {
       "output_type": "stream",
       "stream": "stdout",
       "text": [
        "hello\n"
       ]
      }
     ],
     "prompt_number": 4
    },
    {
     "cell_type": "code",
     "collapsed": false,
     "input": [
      "## The ROC's run in parallel\n",
      "def f(x):\n",
      "    return get_roc_coords(x, 10, 10, net, s0 = {'A': 'infected', 'B': 'normal', 'C': 'normal', \n",
      "                          'D': 'normal', 'E': 'normal', 'F': 'infected'}, T=1000, uni_samp_size=2000)\n",
      "from IPython.parallel import Client\n",
      "c = Client()\n",
      "ids = c[:]\n",
      "print ids\n",
      "ids['get_roc_coords'] = get_roc_coords\n",
      "ids['net'] = net\n",
      "res = ids.map_sync(f, [1,2,3,4])\n",
      "#pos = []\n",
      "#neg = []\n",
      "#for i in range(4):\n",
      "#    pos.append(res[i][0])\n",
      "#    neg.append(res[i][1])"
     ],
     "language": "python",
     "metadata": {},
     "outputs": [],
     "prompt_number": "*"
    },
    {
     "cell_type": "code",
     "collapsed": false,
     "input": [
      "ids."
     ],
     "language": "python",
     "metadata": {},
     "outputs": [
      {
       "output_type": "stream",
       "stream": "stdout",
       "text": [
        "Done\n"
       ]
      }
     ],
     "prompt_number": 6
    },
    {
     "cell_type": "code",
     "collapsed": false,
     "input": [],
     "language": "python",
     "metadata": {},
     "outputs": []
    }
   ],
   "metadata": {}
  }
 ]
}