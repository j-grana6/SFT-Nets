{
 "metadata": {
  "name": ""
 },
 "nbformat": 3,
 "nbformat_minor": 0,
 "worksheets": [
  {
   "cells": [
    {
     "cell_type": "heading",
     "level": 1,
     "metadata": {},
     "source": [
      "Uniform Sampling is Deceiving!"
     ]
    },
    {
     "cell_type": "code",
     "collapsed": false,
     "input": [
      "from testing_net import net\n",
      "from tools import *\n",
      "import numpy as np\n",
      "np.random.seed(1)\n",
      "from uniform_approx import uniform_samp, plot_uniform_convergence\n",
      "from adsy.display import extended_styles\n",
      "#extended_styles()"
     ],
     "language": "python",
     "metadata": {},
     "outputs": [],
     "prompt_number": 1
    },
    {
     "cell_type": "code",
     "collapsed": false,
     "input": [
      "s0 = {'A': 'infected', 'B': 'normal', 'C': 'normal', 'D': 'normal'}"
     ],
     "language": "python",
     "metadata": {},
     "outputs": [],
     "prompt_number": 2
    },
    {
     "cell_type": "code",
     "collapsed": false,
     "input": [
      " data=gen_data(10000, net, s0)"
     ],
     "language": "python",
     "metadata": {},
     "outputs": [],
     "prompt_number": 6
    },
    {
     "cell_type": "heading",
     "level": 1,
     "metadata": {},
     "source": [
      "The true infection times"
     ]
    },
    {
     "cell_type": "code",
     "collapsed": false,
     "input": [
      "data[-1]"
     ],
     "language": "python",
     "metadata": {},
     "outputs": [
      {
       "metadata": {},
       "output_type": "pyout",
       "prompt_number": 7,
       "text": [
        "{'A': 0,\n",
        " 'B': 6774.112607540528,\n",
        " 'C': 6788.299166896274,\n",
        " 'D': 6778.217535446893}"
       ]
      }
     ],
     "prompt_number": 7
    },
    {
     "cell_type": "code",
     "collapsed": false,
     "input": [
      "uni_conv1 = []\n",
      "uni_val1= []\n",
      "for approx in range(10):\n",
      "    print approx\n",
      "    res = uniform_samp(net, s0, 1000, 10000, data)\n",
      "    uni_val1.append(res[0])\n",
      "    uni_conv1.append(plot_uniform_convergence(res))"
     ],
     "language": "python",
     "metadata": {},
     "outputs": [
      {
       "output_type": "stream",
       "stream": "stdout",
       "text": [
        "0\n",
        "1"
       ]
      },
      {
       "output_type": "stream",
       "stream": "stdout",
       "text": [
        "\n",
        "2"
       ]
      },
      {
       "output_type": "stream",
       "stream": "stdout",
       "text": [
        "\n",
        "3"
       ]
      },
      {
       "output_type": "stream",
       "stream": "stdout",
       "text": [
        "\n",
        "4"
       ]
      },
      {
       "output_type": "stream",
       "stream": "stdout",
       "text": [
        "\n",
        "5"
       ]
      },
      {
       "output_type": "stream",
       "stream": "stdout",
       "text": [
        "\n",
        "6"
       ]
      },
      {
       "output_type": "stream",
       "stream": "stdout",
       "text": [
        "\n",
        "7"
       ]
      },
      {
       "output_type": "stream",
       "stream": "stdout",
       "text": [
        "\n",
        "8"
       ]
      },
      {
       "output_type": "stream",
       "stream": "stdout",
       "text": [
        "\n",
        "9"
       ]
      },
      {
       "output_type": "stream",
       "stream": "stdout",
       "text": [
        "\n"
       ]
      }
     ],
     "prompt_number": 7
    },
    {
     "cell_type": "code",
     "collapsed": false,
     "input": [
      "uni_val1"
     ],
     "language": "python",
     "metadata": {},
     "outputs": [
      {
       "metadata": {},
       "output_type": "pyout",
       "prompt_number": 8,
       "text": [
        "[-61.846897559069106,\n",
        " -54.045662916421485,\n",
        " -59.463878440645615,\n",
        " -57.015566025811026,\n",
        " -54.446886620221413,\n",
        " -58.359584902886425,\n",
        " -57.575407081721067,\n",
        " -57.158311722266738,\n",
        " -57.8074456023663,\n",
        " -58.320276277518261]"
       ]
      }
     ],
     "prompt_number": 8
    },
    {
     "cell_type": "heading",
     "level": 1,
     "metadata": {},
     "source": [
      "Convergence of uniform sampling when N=10000"
     ]
    },
    {
     "cell_type": "code",
     "collapsed": false,
     "input": [
      "for i in range(10):\n",
      "    plt.plot(uni_conv1[i])"
     ],
     "language": "python",
     "metadata": {},
     "outputs": [
      {
       "metadata": {},
       "output_type": "display_data",
       "png": "[encoded data removed]",
       "text": [
        "<matplotlib.figure.Figure at 0x43f4fd0>"
       ]
      }
     ],
     "prompt_number": 9
    },
    {
     "cell_type": "code",
     "collapsed": false,
     "input": [
      "\n",
      "uni_conv2 = []\n",
      "uni_val2 = []\n",
      "for approx in range(20):\n",
      "    print approx\n",
      "    res = uniform_samp(net, s0, 1000, 10000, data)\n",
      "    uni_val2.append(res[0])\n",
      "    uni_conv2.append(plot_uniform_convergence(res))"
     ],
     "language": "python",
     "metadata": {},
     "outputs": [
      {
       "output_type": "stream",
       "stream": "stdout",
       "text": [
        "0\n",
        "1"
       ]
      },
      {
       "output_type": "stream",
       "stream": "stdout",
       "text": [
        "\n",
        "2"
       ]
      },
      {
       "output_type": "stream",
       "stream": "stdout",
       "text": [
        "\n",
        "3"
       ]
      },
      {
       "output_type": "stream",
       "stream": "stdout",
       "text": [
        "\n",
        "4"
       ]
      },
      {
       "output_type": "stream",
       "stream": "stdout",
       "text": [
        "\n",
        "5"
       ]
      },
      {
       "output_type": "stream",
       "stream": "stdout",
       "text": [
        "\n",
        "6"
       ]
      },
      {
       "output_type": "stream",
       "stream": "stdout",
       "text": [
        "\n",
        "7"
       ]
      },
      {
       "output_type": "stream",
       "stream": "stdout",
       "text": [
        "\n",
        "8"
       ]
      },
      {
       "output_type": "stream",
       "stream": "stdout",
       "text": [
        "\n",
        "9"
       ]
      },
      {
       "output_type": "stream",
       "stream": "stdout",
       "text": [
        "\n",
        "10"
       ]
      },
      {
       "output_type": "stream",
       "stream": "stdout",
       "text": [
        "\n",
        "11"
       ]
      },
      {
       "output_type": "stream",
       "stream": "stdout",
       "text": [
        "\n",
        "12"
       ]
      },
      {
       "output_type": "stream",
       "stream": "stdout",
       "text": [
        "\n",
        "13"
       ]
      },
      {
       "output_type": "stream",
       "stream": "stdout",
       "text": [
        "\n",
        "14"
       ]
      },
      {
       "output_type": "stream",
       "stream": "stdout",
       "text": [
        "\n",
        "15"
       ]
      },
      {
       "output_type": "stream",
       "stream": "stdout",
       "text": [
        "\n",
        "16"
       ]
      },
      {
       "output_type": "stream",
       "stream": "stdout",
       "text": [
        "\n",
        "17"
       ]
      },
      {
       "output_type": "stream",
       "stream": "stdout",
       "text": [
        "\n",
        "18"
       ]
      },
      {
       "output_type": "stream",
       "stream": "stdout",
       "text": [
        "\n",
        "19"
       ]
      },
      {
       "output_type": "stream",
       "stream": "stdout",
       "text": [
        "\n"
       ]
      }
     ],
     "prompt_number": 36
    },
    {
     "cell_type": "heading",
     "level": 1,
     "metadata": {},
     "source": [
      "Convergence when N=1000"
     ]
    },
    {
     "cell_type": "code",
     "collapsed": false,
     "input": [
      "for i in range(20):\n",
      "    plt.plot(uni_conv2[i])"
     ],
     "language": "python",
     "metadata": {},
     "outputs": [
      {
       "metadata": {},
       "output_type": "display_data",
       "png": "[encoded data removed]",
       "text": [
        "<matplotlib.figure.Figure at 0x6084390>"
       ]
      }
     ],
     "prompt_number": 37
    },
    {
     "cell_type": "code",
     "collapsed": false,
     "input": [
      "uni_conv = []\n",
      "uni_val = []\n",
      "for approx in range(10):\n",
      "    print approx\n",
      "    res = uniform_samp(net, s0, 100000, 10000, data)\n",
      "    uni_val.append(res[0])\n",
      "    uni_conv.append(plot_uniform_convergence(res))"
     ],
     "language": "python",
     "metadata": {},
     "outputs": [
      {
       "output_type": "stream",
       "stream": "stdout",
       "text": [
        "0\n",
        "1"
       ]
      },
      {
       "output_type": "stream",
       "stream": "stdout",
       "text": [
        "\n",
        "2"
       ]
      },
      {
       "output_type": "stream",
       "stream": "stdout",
       "text": [
        "\n",
        "3"
       ]
      },
      {
       "output_type": "stream",
       "stream": "stdout",
       "text": [
        "\n",
        "4"
       ]
      },
      {
       "output_type": "stream",
       "stream": "stdout",
       "text": [
        "\n",
        "5"
       ]
      },
      {
       "output_type": "stream",
       "stream": "stdout",
       "text": [
        "\n",
        "6"
       ]
      },
      {
       "output_type": "stream",
       "stream": "stdout",
       "text": [
        "\n",
        "7"
       ]
      },
      {
       "output_type": "stream",
       "stream": "stdout",
       "text": [
        "\n",
        "8"
       ]
      },
      {
       "output_type": "stream",
       "stream": "stdout",
       "text": [
        "\n",
        "9"
       ]
      },
      {
       "output_type": "stream",
       "stream": "stdout",
       "text": [
        "\n"
       ]
      }
     ],
     "prompt_number": 29
    },
    {
     "cell_type": "code",
     "collapsed": false,
     "input": [
      "from matplotlib import pyplot as plt\n",
      "plt.hist(uni_val, alpha=.7)"
     ],
     "language": "python",
     "metadata": {},
     "outputs": [
      {
       "metadata": {},
       "output_type": "pyout",
       "prompt_number": 30,
       "text": [
        "(array([ 2.,  1.,  0.,  1.,  1.,  1.,  1.,  1.,  1.,  1.]),\n",
        " array([-53.78059501, -53.31038357, -52.84017213, -52.36996069,\n",
        "       -51.89974925, -51.42953781, -50.95932636, -50.48911492,\n",
        "       -50.01890348, -49.54869204, -49.0784806 ]),\n",
        " <a list of 10 Patch objects>)"
       ]
      },
      {
       "metadata": {},
       "output_type": "display_data",
       "png": "[encoded data removed]",
       "text": [
        "<matplotlib.figure.Figure at 0x4c172d0>"
       ]
      }
     ],
     "prompt_number": 30
    },
    {
     "cell_type": "heading",
     "level": 1,
     "metadata": {},
     "source": [
      "Convergence when N=100000"
     ]
    },
    {
     "cell_type": "code",
     "collapsed": false,
     "input": [
      "for i in range(10):\n",
      "    plt.plot(uni_conv[i])"
     ],
     "language": "python",
     "metadata": {},
     "outputs": [
      {
       "metadata": {},
       "output_type": "display_data",
       "png": "[encoded data removed]",
       "text": [
        "<matplotlib.figure.Figure at 0x6077250>"
       ]
      }
     ],
     "prompt_number": 31
    },
    {
     "cell_type": "code",
     "collapsed": false,
     "input": [
      "from lhood_comps import MCMC_MH"
     ],
     "language": "python",
     "metadata": {},
     "outputs": [],
     "prompt_number": 38
    },
    {
     "cell_type": "code",
     "collapsed": false,
     "input": [
      "mcmc_conv1 = []\n",
      "mcmc_val1 = []\n",
      "for approx in range(10):\n",
      "    print approx\n",
      "    res = MCMC_MH(net, data, s0, 300000, 10000, proposal_var=700)\n",
      "    mcmc_val1.append(res.calc_log_likelihood())\n",
      "    mcmc_conv1.append(res.plot_convergence())"
     ],
     "language": "python",
     "metadata": {},
     "outputs": [
      {
       "output_type": "stream",
       "stream": "stdout",
       "text": [
        "0\n",
        "1"
       ]
      },
      {
       "output_type": "stream",
       "stream": "stdout",
       "text": [
        "\n",
        "2"
       ]
      },
      {
       "output_type": "stream",
       "stream": "stdout",
       "text": [
        "\n",
        "3"
       ]
      },
      {
       "output_type": "stream",
       "stream": "stdout",
       "text": [
        "\n",
        "4"
       ]
      },
      {
       "output_type": "stream",
       "stream": "stdout",
       "text": [
        "\n",
        "5"
       ]
      },
      {
       "output_type": "stream",
       "stream": "stdout",
       "text": [
        "\n",
        "6"
       ]
      },
      {
       "output_type": "stream",
       "stream": "stdout",
       "text": [
        "\n",
        "7"
       ]
      },
      {
       "output_type": "stream",
       "stream": "stdout",
       "text": [
        "\n",
        "8"
       ]
      },
      {
       "output_type": "stream",
       "stream": "stdout",
       "text": [
        "\n",
        "9"
       ]
      },
      {
       "output_type": "stream",
       "stream": "stdout",
       "text": [
        "\n"
       ]
      }
     ],
     "prompt_number": 43
    },
    {
     "cell_type": "heading",
     "level": 1,
     "metadata": {},
     "source": [
      "Convergence of MCMC when N=300000"
     ]
    },
    {
     "cell_type": "code",
     "collapsed": false,
     "input": [
      "for i in range(10):\n",
      "    plt.plot(mcmc_conv1[i])"
     ],
     "language": "python",
     "metadata": {},
     "outputs": [
      {
       "metadata": {},
       "output_type": "display_data",
       "png": "[encoded data removed]",
       "text": [
        "<matplotlib.figure.Figure at 0x5d5a190>"
       ]
      }
     ],
     "prompt_number": 44
    },
    {
     "cell_type": "code",
     "collapsed": false,
     "input": [
      "mcmc_conv2 = []\n",
      "mcmc_val2 = []\n",
      "for approx in range(10):\n",
      "    print approx\n",
      "    res = MCMC_MH(net, data, s0, 1000000, 10000, proposal_var=700)\n",
      "    mcmc_val2.append(res.calc_log_likelihood())\n",
      "    mcmc_conv2.append(res.plot_convergence())"
     ],
     "language": "python",
     "metadata": {},
     "outputs": [
      {
       "output_type": "stream",
       "stream": "stdout",
       "text": [
        "0\n",
        "1"
       ]
      },
      {
       "output_type": "stream",
       "stream": "stdout",
       "text": [
        "\n",
        "2"
       ]
      },
      {
       "output_type": "stream",
       "stream": "stdout",
       "text": [
        "\n",
        "3"
       ]
      },
      {
       "output_type": "stream",
       "stream": "stdout",
       "text": [
        "\n",
        "4"
       ]
      },
      {
       "output_type": "stream",
       "stream": "stdout",
       "text": [
        "\n",
        "5"
       ]
      },
      {
       "output_type": "stream",
       "stream": "stdout",
       "text": [
        "\n",
        "6"
       ]
      },
      {
       "output_type": "stream",
       "stream": "stdout",
       "text": [
        "\n",
        "7"
       ]
      },
      {
       "output_type": "stream",
       "stream": "stdout",
       "text": [
        "\n",
        "8"
       ]
      },
      {
       "output_type": "stream",
       "stream": "stdout",
       "text": [
        "\n",
        "9"
       ]
      },
      {
       "output_type": "stream",
       "stream": "stdout",
       "text": [
        "\n"
       ]
      }
     ],
     "prompt_number": 46
    },
    {
     "cell_type": "heading",
     "level": 1,
     "metadata": {},
     "source": [
      "Convergence of MCMC when N=1,000,000"
     ]
    },
    {
     "cell_type": "code",
     "collapsed": false,
     "input": [
      "for i in range(10):\n",
      "    plt.plot(mcmc_conv2[i])\n",
      "    plt.ylim(-60, -40)"
     ],
     "language": "python",
     "metadata": {},
     "outputs": [
      {
       "metadata": {},
       "output_type": "display_data",
       "png": "[encoded data removed]",
       "text": [
        "<matplotlib.figure.Figure at 0x5d74d50>"
       ]
      }
     ],
     "prompt_number": 48
    },
    {
     "cell_type": "code",
     "collapsed": false,
     "input": [
      "mcmc_conv3 = []\n",
      "mcmc_val3 = []\n",
      "for approx in range(10):\n",
      "    print approx\n",
      "    res = MCMC_MH(net, data, s0, 1000000, 10000, proposal_var=1200)\n",
      "    mcmc_val3.append(res.calc_log_likelihood())\n",
      "    mcmc_conv3.append(res.plot_convergence())"
     ],
     "language": "python",
     "metadata": {},
     "outputs": [
      {
       "output_type": "stream",
       "stream": "stdout",
       "text": [
        "0\n",
        "1"
       ]
      },
      {
       "output_type": "stream",
       "stream": "stdout",
       "text": [
        "\n",
        "2"
       ]
      },
      {
       "output_type": "stream",
       "stream": "stdout",
       "text": [
        "\n",
        "3"
       ]
      },
      {
       "output_type": "stream",
       "stream": "stdout",
       "text": [
        "\n",
        "4"
       ]
      },
      {
       "output_type": "stream",
       "stream": "stdout",
       "text": [
        "\n",
        "5"
       ]
      },
      {
       "output_type": "stream",
       "stream": "stdout",
       "text": [
        "\n",
        "6"
       ]
      },
      {
       "output_type": "stream",
       "stream": "stdout",
       "text": [
        "\n",
        "7"
       ]
      },
      {
       "output_type": "stream",
       "stream": "stdout",
       "text": [
        "\n",
        "8"
       ]
      },
      {
       "output_type": "stream",
       "stream": "stdout",
       "text": [
        "\n",
        "9"
       ]
      },
      {
       "output_type": "stream",
       "stream": "stdout",
       "text": [
        "\n"
       ]
      }
     ],
     "prompt_number": 50
    },
    {
     "cell_type": "code",
     "collapsed": false,
     "input": [
      "for i in range(10):\n",
      "    plt.plot(mcmc_conv3[i])\n"
     ],
     "language": "python",
     "metadata": {},
     "outputs": [
      {
       "ename": "NameError",
       "evalue": "name 'mcmc_conv3' is not defined",
       "output_type": "pyerr",
       "traceback": [
        "\u001b[1;31m---------------------------------------------------------------------------\u001b[0m\n\u001b[1;31mNameError\u001b[0m                                 Traceback (most recent call last)",
        "\u001b[1;32m<ipython-input-13-75c24a0cf7aa>\u001b[0m in \u001b[0;36m<module>\u001b[1;34m()\u001b[0m\n\u001b[0;32m      1\u001b[0m \u001b[1;32mfor\u001b[0m \u001b[0mi\u001b[0m \u001b[1;32min\u001b[0m \u001b[0mrange\u001b[0m\u001b[1;33m(\u001b[0m\u001b[1;36m10\u001b[0m\u001b[1;33m)\u001b[0m\u001b[1;33m:\u001b[0m\u001b[1;33m\u001b[0m\u001b[0m\n\u001b[1;32m----> 2\u001b[1;33m     \u001b[0mplt\u001b[0m\u001b[1;33m.\u001b[0m\u001b[0mplot\u001b[0m\u001b[1;33m(\u001b[0m\u001b[0mmcmc_conv3\u001b[0m\u001b[1;33m[\u001b[0m\u001b[0mi\u001b[0m\u001b[1;33m]\u001b[0m\u001b[1;33m)\u001b[0m\u001b[1;33m\u001b[0m\u001b[0m\n\u001b[0m",
        "\u001b[1;31mNameError\u001b[0m: name 'mcmc_conv3' is not defined"
       ]
      }
     ],
     "prompt_number": 13
    },
    {
     "cell_type": "code",
     "collapsed": false,
     "input": [
      "from mcmc_over_dags import MCMC_sequence"
     ],
     "language": "python",
     "metadata": {},
     "outputs": [],
     "prompt_number": 6
    },
    {
     "cell_type": "heading",
     "level": 1,
     "metadata": {},
     "source": [
      "MCMC over sequences-10 runs"
     ]
    },
    {
     "cell_type": "code",
     "collapsed": false,
     "input": [
      "mcmc_sconv1 = []\n",
      "mcmc_sval1 = []\n",
      "for approx in range(10):\n",
      "    print approx\n",
      "    res = MCMC_sequence(net, data, s0, 10000, 10000)\n",
      "    mcmc_sval1.append(res.calc_log_likelihood(2000))\n",
      "    mcmc_sconv1.append(res.plot_convergence())"
     ],
     "language": "python",
     "metadata": {},
     "outputs": [
      {
       "output_type": "stream",
       "stream": "stdout",
       "text": [
        "0\n",
        "1"
       ]
      },
      {
       "output_type": "stream",
       "stream": "stdout",
       "text": [
        "\n",
        "2"
       ]
      },
      {
       "output_type": "stream",
       "stream": "stdout",
       "text": [
        "\n",
        "3"
       ]
      },
      {
       "output_type": "stream",
       "stream": "stdout",
       "text": [
        "\n",
        "4"
       ]
      },
      {
       "output_type": "stream",
       "stream": "stdout",
       "text": [
        "\n",
        "5"
       ]
      },
      {
       "output_type": "stream",
       "stream": "stdout",
       "text": [
        "\n",
        "6"
       ]
      },
      {
       "output_type": "stream",
       "stream": "stdout",
       "text": [
        "\n",
        "7"
       ]
      },
      {
       "output_type": "stream",
       "stream": "stdout",
       "text": [
        "\n",
        "8"
       ]
      },
      {
       "output_type": "stream",
       "stream": "stdout",
       "text": [
        "\n",
        "9"
       ]
      },
      {
       "output_type": "stream",
       "stream": "stdout",
       "text": [
        "\n"
       ]
      }
     ],
     "prompt_number": 7
    },
    {
     "cell_type": "code",
     "collapsed": false,
     "input": [
      "MCMC_sequence(net, data, s0, 10000, 10000, print_jumps=True)"
     ],
     "language": "python",
     "metadata": {},
     "outputs": [
      {
       "output_type": "stream",
       "stream": "stdout",
       "text": [
        "A Jump at,  1 to  {'A': 0, 'C': 4040.8512036456059, 'B': 4558.0166014773476, 'D': 4043.7508624937359} with prob [-21.469937206524762, -73.703903814499427, -0.69364705560159456, -0.69364705560159456] \n",
        "\n",
        "A Jump at,  2 to  {'A': 0, 'C': 3574.3719300469193, 'B': 3562.8933959505889, 'D': 3568.8075171297523} with prob [-16.267503117780318, -85.307867146646458, -1.3867942361615397, -1.3867942361615397] \n",
        "\n",
        "A Jump at,  3 to  {'A': 0, 'C': 1823.146545817609, 'B': 1810.488932841273, 'D': 1831.2157704363856} with prob [-18.031552297729139, -111.9696786890122, -1.3857947358284561, -1.3857947358284561] \n",
        "\n",
        "A Jump at,  14 to  {'A': 0, 'C': 9923.3278658056752, 'B': 9907.8208698949293, 'D': 9910.3143121050616} with prob [-17.597669743289075, -83.099361104115061, -1.3867942361615397, -1.3867942361615397] \n",
        "\n",
        "A Jump at,  16 to  {'A': 0, 'C': 55.667783541939372, 'B': 49.211909135931627, 'D': 55.935544676280223} with prob [-14.097889959734671, -147.27919307101268, -1.3857947358284561, -1.3857947358284561] \n",
        "\n",
        "A Jump at,  19 to  {'A': 0, 'C': 2127.2655626565265, 'D': 2135.3759690266133} with prob [-13.6545861146933, -98.084056109177254, -1.4801094586989332, -0.69364705560159456] \n",
        "\n",
        "A Jump at,  21 to  {'A': 0, 'C': 5358.0320135720185, 'B': 5356.6449199431909, 'D': 5358.8308750366723} with prob [-14.304443627476262, -54.423353403621149, -1.3857947358284561, -1.3857947358284561] \n",
        "\n",
        "A Jump at,  24 to  {'A': 0, 'C': 1550.5394370436929, 'D': 1559.688004495112} with prob [-13.804545718398455, -104.39363239322984, -1.5376782551520833, -0.69364705560159456] \n",
        "\n",
        "A Jump at,  27 to  {'A': 0, 'C': 837.8702267910204, 'B': 836.74138856674085, 'D': 841.23557272815685} with prob [-14.118731356495703, -130.62341644047103, -1.3857947358284561, -1.3857947358284561] \n",
        "\n",
        "A Jump at,  29 to  {'A': 0, 'C': 3290.9913023063623, 'D': 3292.9756740324274} with prob [-12.545751759853937, -81.163285839813852, -1.3643494881983518, -0.69364705560159456] \n",
        "\n",
        "A Jump at,  32 to  {'A': 0} with prob [-2.0, -73.499199443976977, -2.0, 0] \n",
        "\n",
        "A Jump at,  38 to  {'A': 0} with prob [-2.0, -73.499199443976977, -2.0, 0] \n",
        "\n",
        "A Jump at,  45 to  {'A': 0} with prob [-2.0, -73.499199443976977, -2.0, 0] \n",
        "\n",
        "A Jump at,  50 to  {'A': 0} with prob [-2.0, -73.499199443976977, -2.0, 0] \n",
        "\n",
        "A Jump at,  76 to  {'A': 0} with prob [-2.0, -73.499199443976977, -2.0, 0] \n",
        "\n",
        "A Jump at,  77 to  {'A': 0} with prob [-2.0, -73.499199443976977, -2.0, 0] \n",
        "\n",
        "A Jump at, "
       ]
      },
      {
       "output_type": "stream",
       "stream": "stdout",
       "text": [
        " 94 to  {'A': 0} with prob [-2.0, -73.499199443976977, -2.0, 0] \n",
        "\n",
        "A Jump at,  98 to  {'A': 0} with prob [-2.0, -73.499199443976977, -2.0, 0] \n",
        "\n",
        "A Jump at,  102 to  {'A': 0} with prob [-2.0, -73.499199443976977, -2.0, 0] \n",
        "\n",
        "A Jump at,  136 to  {'A': 0} with prob [-2.0, -73.499199443976977, -2.0, 0] \n",
        "\n",
        "A Jump at,  146 to  {'A': 0} with prob [-2.0, -73.499199443976977, -2.0, 0] \n",
        "\n",
        "A Jump at,  151 to  {'A': 0} with prob [-2.0, -73.499199443976977, -2.0, 0] \n",
        "\n",
        "A Jump at,  160 to  {'A': 0} with prob [-2.0, -73.499199443976977, -2.0, 0] \n",
        "\n",
        "A Jump at,  184 to  {'A': 0} with prob [-2.0, -73.499199443976977, -2.0, 0] \n",
        "\n",
        "A Jump at,  186 to  {'A': 0} with prob [-2.0, -73.499199443976977, -2.0, 0] \n",
        "\n",
        "A Jump at,  213 to  {'A': 0} with prob [-2.0, -73.499199443976977, -2.0, 0] \n",
        "\n",
        "A Jump at,  214 to  {'A': 0} with prob [-2.0, -73.499199443976977, -2.0, 0] \n",
        "\n",
        "A Jump at,  215 to  {'A': 0} with prob [-2.0, -73.499199443976977, -2.0, 0] \n",
        "\n",
        "A Jump at,  218 to  {'A': 0} with prob [-2.0, -73.499199443976977, -2.0, 0] \n",
        "\n",
        "A Jump at,  219 to  {'A': 0} with prob [-2.0, -73.499199443976977, -2.0, 0] \n",
        "\n",
        "A Jump at,  224 to  {'A': 0} with prob [-2.0, -73.499199443976977, -2.0, 0] \n",
        "\n",
        "A Jump at,  227 to  {'A': 0} with prob [-2.0, -73.499199443976977, -2.0, 0] \n",
        "\n",
        "A Jump at,  231 to  {'A': 0} with prob [-2.0, -73.499199443976977, -2.0, 0] \n",
        "\n",
        "A Jump at,  248 to  {'A': 0} with prob [-2.0, -73.499199443976977, -2.0, 0] \n",
        "\n",
        "A Jump at, "
       ]
      },
      {
       "output_type": "stream",
       "stream": "stdout",
       "text": [
        " 259 to  {'A': 0} with prob [-2.0, -73.499199443976977, -2.0, 0] \n",
        "\n",
        "A Jump at,  267 to  {'A': 0} with prob [-2.0, -73.499199443976977, -2.0, 0] \n",
        "\n",
        "A Jump at,  281 to  {'A': 0} with prob [-2.0, -73.499199443976977, -2.0, 0] \n",
        "\n",
        "A Jump at,  282 to  {'A': 0} with prob [-2.0, -73.499199443976977, -2.0, 0] \n",
        "\n",
        "A Jump at,  291 to  {'A': 0} with prob [-2.0, -73.499199443976977, -2.0, 0] \n",
        "\n",
        "A Jump at,  296 to  {'A': 0} with prob [-2.0, -73.499199443976977, -2.0, 0] \n",
        "\n",
        "A Jump at,  310 to  {'A': 0} with prob [-2.0, -73.499199443976977, -2.0, 0] \n",
        "\n",
        "A Jump at,  318 to  {'A': 0} with prob [-2.0, -73.499199443976977, -2.0, 0] \n",
        "\n",
        "A Jump at,  330 to  {'A': 0} with prob [-2.0, -73.499199443976977, -2.0, 0] \n",
        "\n",
        "A Jump at,  331 to  {'A': 0} with prob [-2.0, -73.499199443976977, -2.0, 0] \n",
        "\n",
        "A Jump at,  332 to  {'A': 0} with prob [-2.0, -73.499199443976977, -2.0, 0] \n",
        "\n",
        "A Jump at,  341 to  {'A': 0} with prob [-2.0, -73.499199443976977, -2.0, 0] \n",
        "\n",
        "A Jump at,  360 to  {'A': 0} with prob [-2.0, -73.499199443976977, -2.0, 0] \n",
        "\n",
        "A Jump at,  374 to  {'A': 0} with prob [-2.0, -73.499199443976977, -2.0, 0] \n",
        "\n",
        "A Jump at,  379 to  {'A': 0} with prob [-2.0, -73.499199443976977, -2.0, 0] \n",
        "\n",
        "A Jump at, "
       ]
      },
      {
       "output_type": "stream",
       "stream": "stdout",
       "text": [
        " 398 to  {'A': 0} with prob [-2.0, -73.499199443976977, -2.0, 0] \n",
        "\n",
        "A Jump at,  449 to  {'A': 0} with prob [-2.0, -73.499199443976977, -2.0, 0] \n",
        "\n",
        "A Jump at,  453 to  {'A': 0} with prob [-2.0, -73.499199443976977, -2.0, 0] \n",
        "\n",
        "A Jump at, "
       ]
      },
      {
       "output_type": "stream",
       "stream": "stdout",
       "text": [
        " 477 to  {'A': 0} with prob [-2.0, -73.499199443976977, -2.0, 0] \n",
        "\n",
        "A Jump at,  481 to  {'A': 0} with prob [-2.0, -73.499199443976977, -2.0, 0] \n",
        "\n",
        "A Jump at,  499 to  {'A': 0} with prob [-2.0, -73.499199443976977, -2.0, 0] \n",
        "\n",
        "A Jump at,  502 to  {'A': 0} with prob [-2.0, -73.499199443976977, -2.0, 0] \n",
        "\n",
        "A Jump at,  522 to  {'A': 0} with prob [-2.0, -73.499199443976977, -2.0, 0] \n",
        "\n",
        "A Jump at,  524 to  {'A': 0} with prob [-2.0, -73.499199443976977, -2.0, 0] \n",
        "\n",
        "A Jump at,  534 to  {'A': 0} with prob [-2.0, -73.499199443976977, -2.0, 0] \n",
        "\n",
        "A Jump at,  574 to  {'A': 0} with prob [-2.0, -73.499199443976977, -2.0, 0] \n",
        "\n",
        "A Jump at,  581 to  {'A': 0} with prob [-2.0, -73.499199443976977, -2.0, 0] \n",
        "\n",
        "A Jump at, "
       ]
      },
      {
       "output_type": "stream",
       "stream": "stdout",
       "text": [
        " 597 to  {'A': 0} with prob [-2.0, -73.499199443976977, -2.0, 0] \n",
        "\n",
        "A Jump at,  610 to  {'A': 0} with prob [-2.0, -73.499199443976977, -2.0, 0] \n",
        "\n",
        "A Jump at,  623 to  {'A': 0} with prob [-2.0, -73.499199443976977, -2.0, 0] \n",
        "\n",
        "A Jump at,  628 to  {'A': 0} with prob [-2.0, -73.499199443976977, -2.0, 0] \n",
        "\n",
        "A Jump at,  633 to  {'A': 0} with prob [-2.0, -73.499199443976977, -2.0, 0] \n",
        "\n",
        "A Jump at,  636 to  {'A': 0} with prob [-2.0, -73.499199443976977, -2.0, 0] \n",
        "\n",
        "A Jump at,  637 to  {'A': 0} with prob [-2.0, -73.499199443976977, -2.0, 0] \n",
        "\n",
        "A Jump at,  676 to  {'A': 0} with prob [-2.0, -73.499199443976977, -2.0, 0] \n",
        "\n",
        "A Jump at,  698 to  {'A': 0} with prob [-2.0, -73.499199443976977, -2.0, 0] \n",
        "\n",
        "A Jump at,  705 to  {'A': 0} with prob [-2.0, -73.499199443976977, -2.0, 0] \n",
        "\n",
        "A Jump at,  717 to  {'A': 0} with prob [-2.0, -73.499199443976977, -2.0, 0] \n",
        "\n",
        "A Jump at,  737 to  {'A': 0} with prob [-2.0, -73.499199443976977, -2.0, 0] \n",
        "\n",
        "A Jump at,  743 to  {'A': 0} with prob [-2.0, -73.499199443976977, -2.0, 0] \n",
        "\n",
        "A Jump at,  746 to  {'A': 0} with prob [-2.0, -73.499199443976977, -2.0, 0] \n",
        "\n",
        "A Jump at,  750 to  {'A': 0} with prob [-2.0, -73.499199443976977, -2.0, 0] \n",
        "\n",
        "A Jump at,  751 to  {'A': 0} with prob [-2.0, -73.499199443976977, -2.0, 0] \n",
        "\n",
        "A Jump at, "
       ]
      },
      {
       "output_type": "stream",
       "stream": "stdout",
       "text": [
        " 826 to  {'A': 0} with prob [-2.0, -73.499199443976977, -2.0, 0] \n",
        "\n",
        "A Jump at,  834 to  {'A': 0} with prob [-2.0, -73.499199443976977, -2.0, 0] \n",
        "\n",
        "A Jump at,  838 to  {'A': 0} with prob [-2.0, -73.499199443976977, -2.0, 0] \n",
        "\n",
        "A Jump at,  843 to  {'A': 0} with prob [-2.0, -73.499199443976977, -2.0, 0] \n",
        "\n",
        "A Jump at,  859 to  {'A': 0} with prob [-2.0, -73.499199443976977, -2.0, 0] \n",
        "\n",
        "A Jump at,  878 to  {'A': 0} with prob [-2.0, -73.499199443976977, -2.0, 0] \n",
        "\n",
        "A Jump at,  918 to  {'A': 0} with prob [-2.0, -73.499199443976977, -2.0, 0] \n",
        "\n",
        "A Jump at,  938 to  {'A': 0} with prob [-2.0, -73.499199443976977, -2.0, 0] \n",
        "\n",
        "A Jump at,  954 to  {'A': 0} with prob [-2.0, -73.499199443976977, -2.0, 0] \n",
        "\n",
        "A Jump at,  963 to  {'A': 0} with prob [-2.0, -73.499199443976977, -2.0, 0] \n",
        "\n",
        "A Jump at, "
       ]
      },
      {
       "output_type": "stream",
       "stream": "stdout",
       "text": [
        " 1021 to  {'A': 0} with prob [-2.0, -73.499199443976977, -2.0, 0] \n",
        "\n",
        "A Jump at,  1028 to  {'A': 0} with prob [-2.0, -73.499199443976977, -2.0, 0] \n",
        "\n",
        "A Jump at,  1035 to  {'A': 0} with prob [-2.0, -73.499199443976977, -2.0, 0] \n",
        "\n",
        "A Jump at,  1047 to  {'A': 0} with prob [-2.0, -73.499199443976977, -2.0, 0] \n",
        "\n",
        "A Jump at,  1057 to  {'A': 0} with prob [-2.0, -73.499199443976977, -2.0, 0] \n",
        "\n",
        "A Jump at,  1062 to  {'A': 0} with prob [-2.0, -73.499199443976977, -2.0, 0] \n",
        "\n",
        "A Jump at,  1070 to  {'A': 0} with prob [-2.0, -73.499199443976977, -2.0, 0] \n",
        "\n",
        "A Jump at,  1074 to  {'A': 0} with prob [-2.0, -73.499199443976977, -2.0, 0] \n",
        "\n",
        "A Jump at,  1077 to  {'A': 0} with prob [-2.0, -73.499199443976977, -2.0, 0] \n",
        "\n",
        "A Jump at,  1080 to  {'A': 0} with prob [-2.0, -73.499199443976977, -2.0, 0] \n",
        "\n",
        "A Jump at,  1097 to  {'A': 0} with prob [-2.0, -73.499199443976977, -2.0, 0] \n",
        "\n",
        "A Jump at,  1112 to  {'A': 0} with prob [-2.0, -73.499199443976977, -2.0, 0] \n",
        "\n",
        "A Jump at, "
       ]
      },
      {
       "output_type": "stream",
       "stream": "stdout",
       "text": [
        " 1177 to  {'A': 0} with prob [-2.0, -73.499199443976977, -2.0, 0] \n",
        "\n",
        "A Jump at,  1190 to  {'A': 0} with prob [-2.0, -73.499199443976977, -2.0, 0] \n",
        "\n",
        "A Jump at,  1224 to  {'A': 0} with prob [-2.0, -73.499199443976977, -2.0, 0] \n",
        "\n",
        "A Jump at,  1226 to  {'A': 0} with prob [-2.0, -73.499199443976977, -2.0, 0] \n",
        "\n",
        "A Jump at,  1227 to  {'A': 0} with prob [-2.0, -73.499199443976977, -2.0, 0] \n",
        "\n",
        "A Jump at,  1233 to  {'A': 0} with prob [-2.0, -73.499199443976977, -2.0, 0] \n",
        "\n",
        "A Jump at,  1237 to  {'A': 0} with prob [-2.0, -73.499199443976977, -2.0, 0] \n",
        "\n",
        "A Jump at,  1253 to  {'A': 0} with prob [-2.0, -73.499199443976977, -2.0, 0] \n",
        "\n",
        "A Jump at,  1273 to  {'A': 0} with prob [-2.0, -73.499199443976977, -2.0, 0] \n",
        "\n",
        "A Jump at, "
       ]
      },
      {
       "output_type": "stream",
       "stream": "stdout",
       "text": [
        " 1328 to  {'A': 0} with prob [-2.0, -73.499199443976977, -2.0, 0] \n",
        "\n",
        "A Jump at,  1348 to  {'A': 0} with prob [-2.0, -73.499199443976977, -2.0, 0] \n",
        "\n",
        "A Jump at,  1355 to  {'A': 0} with prob [-2.0, -73.499199443976977, -2.0, 0] \n",
        "\n",
        "A Jump at,  1366 to  {'A': 0} with prob [-2.0, -73.499199443976977, -2.0, 0] \n",
        "\n",
        "A Jump at,  1369 to  {'A': 0} with prob [-2.0, -73.499199443976977, -2.0, 0] \n",
        "\n",
        "A Jump at,  1398 to  {'A': 0} with prob [-2.0, -73.499199443976977, -2.0, 0] \n",
        "\n",
        "A Jump at,  1417 to  {'A': 0} with prob [-2.0, -73.499199443976977, -2.0, 0] \n",
        "\n",
        "A Jump at,  1419 to  {'A': 0} with prob [-2.0, -73.499199443976977, -2.0, 0] \n",
        "\n",
        "A Jump at,  1445 to  {'A': 0} with prob [-2.0, -73.499199443976977, -2.0, 0] \n",
        "\n",
        "A Jump at,  1460 to  {'A': 0} with prob [-2.0, -73.499199443976977, -2.0, 0] \n",
        "\n",
        "A Jump at,  1472 to  {'A': 0} with prob [-2.0, -73.499199443976977, -2.0, 0] \n",
        "\n",
        "A Jump at, "
       ]
      },
      {
       "output_type": "stream",
       "stream": "stdout",
       "text": [
        " 1490 to  {'A': 0} with prob [-2.0, -73.499199443976977, -2.0, 0] \n",
        "\n",
        "A Jump at,  1502 to  {'A': 0} with prob [-2.0, -73.499199443976977, -2.0, 0] \n",
        "\n",
        "A Jump at,  1509 to  {'A': 0} with prob [-2.0, -73.499199443976977, -2.0, 0] \n",
        "\n",
        "A Jump at,  1515 to  {'A': 0} with prob [-2.0, -73.499199443976977, -2.0, 0] \n",
        "\n",
        "A Jump at,  1530 to  {'A': 0} with prob [-2.0, -73.499199443976977, -2.0, 0] \n",
        "\n",
        "A Jump at,  1532 to  {'A': 0} with prob [-2.0, -73.499199443976977, -2.0, 0] \n",
        "\n",
        "A Jump at,  1550 to  {'A': 0} with prob [-2.0, -73.499199443976977, -2.0, 0] \n",
        "\n",
        "A Jump at,  1559 to  {'A': 0} with prob [-2.0, -73.499199443976977, -2.0, 0] \n",
        "\n",
        "A Jump at,  1574 to  {'A': 0} with prob [-2.0, -73.499199443976977, -2.0, 0] \n",
        "\n",
        "A Jump at,  1582 to  {'A': 0} with prob [-2.0, -73.499199443976977, -2.0, 0] \n",
        "\n",
        "A Jump at,  1593 to  {'A': 0} with prob [-2.0, -73.499199443976977, -2.0, 0] \n",
        "\n",
        "A Jump at,  1595 to  {'A': 0} with prob [-2.0, -73.499199443976977, -2.0, 0] \n",
        "\n",
        "A Jump at,  1620 to  {'A': 0} with prob [-2.0, -73.499199443976977, -2.0, 0] \n",
        "\n",
        "A Jump at,  1632 to  {'A': 0} with prob [-2.0, -73.499199443976977, -2.0, 0] \n",
        "\n",
        "A Jump at, "
       ]
      },
      {
       "output_type": "stream",
       "stream": "stdout",
       "text": [
        " 1640 to  {'A': 0} with prob [-2.0, -73.499199443976977, -2.0, 0] \n",
        "\n",
        "A Jump at,  1655 to  {'A': 0} with prob [-2.0, -73.499199443976977, -2.0, 0] \n",
        "\n",
        "A Jump at,  1657 to  {'A': 0} with prob [-2.0, -73.499199443976977, -2.0, 0] \n",
        "\n",
        "A Jump at,  1687 to  {'A': 0} with prob [-2.0, -73.499199443976977, -2.0, 0] \n",
        "\n",
        "A Jump at,  1705 to  {'A': 0} with prob [-2.0, -73.499199443976977, -2.0, 0] \n",
        "\n",
        "A Jump at,  1706 to  {'A': 0} with prob [-2.0, -73.499199443976977, -2.0, 0] \n",
        "\n",
        "A Jump at,  1707 to  {'A': 0} with prob [-2.0, -73.499199443976977, -2.0, 0] \n",
        "\n",
        "A Jump at,  1709 to  {'A': 0} with prob [-2.0, -73.499199443976977, -2.0, 0] \n",
        "\n",
        "A Jump at,  1714 to  {'A': 0} with prob [-2.0, -73.499199443976977, -2.0, 0] \n",
        "\n",
        "A Jump at,  1717 to  {'A': 0} with prob [-2.0, -73.499199443976977, -2.0, 0] \n",
        "\n",
        "A Jump at,  1719 to  {'A': 0} with prob [-2.0, -73.499199443976977, -2.0, 0] \n",
        "\n",
        "A Jump at,  1739 to  {'A': 0} with prob [-2.0, -73.499199443976977, -2.0, 0] \n",
        "\n",
        "A Jump at,  1744 to  {'A': 0} with prob [-2.0, -73.499199443976977, -2.0, 0] \n",
        "\n",
        "A Jump at,  1750 to  {'A': 0} with prob [-2.0, -73.499199443976977, -2.0, 0] \n",
        "\n",
        "A Jump at,  1756 to  {'A': 0} with prob [-2.0, -73.499199443976977, -2.0, 0] \n",
        "\n",
        "A Jump at,  1757 to  {'A': 0} with prob [-2.0, -73.499199443976977, -2.0, 0] \n",
        "\n",
        "A Jump at,  1761 to  {'A': 0} with prob [-2.0, -73.499199443976977, -2.0, 0] \n",
        "\n",
        "A Jump at,  1763 to  {'A': 0} with prob [-2.0, -73.499199443976977, -2.0, 0] \n",
        "\n",
        "A Jump at,  1776 to  {'A': 0} with prob [-2.0, -73.499199443976977, -2.0, 0] \n",
        "\n",
        "A Jump at,  1779 to  {'A': 0} with prob [-2.0, -73.499199443976977, -2.0, 0] \n",
        "\n",
        "A Jump at,  1781 to  {'A': 0} with prob [-2.0, -73.499199443976977, -2.0, 0] \n",
        "\n",
        "A Jump at,  1791 to  {'A': 0} with prob [-2.0, -73.499199443976977, -2.0, 0] \n",
        "\n",
        "A Jump at, "
       ]
      },
      {
       "output_type": "stream",
       "stream": "stdout",
       "text": [
        " 1795 to  {'A': 0} with prob [-2.0, -73.499199443976977, -2.0, 0] \n",
        "\n",
        "A Jump at,  1798 to  {'A': 0} with prob [-2.0, -73.499199443976977, -2.0, 0] \n",
        "\n",
        "A Jump at,  1808 to  {'A': 0} with prob [-2.0, -73.499199443976977, -2.0, 0] \n",
        "\n",
        "A Jump at,  1833 to  {'A': 0} with prob [-2.0, -73.499199443976977, -2.0, 0] \n",
        "\n",
        "A Jump at,  1840 to  {'A': 0} with prob [-2.0, -73.499199443976977, -2.0, 0] \n",
        "\n",
        "A Jump at,  1844 to  {'A': 0} with prob [-2.0, -73.499199443976977, -2.0, 0] \n",
        "\n",
        "A Jump at,  1874 to  {'A': 0} with prob [-2.0, -73.499199443976977, -2.0, 0] \n",
        "\n",
        "A Jump at,  1890 to  {'A': 0} with prob [-2.0, -73.499199443976977, -2.0, 0] \n",
        "\n",
        "A Jump at,  1891 to  {'A': 0} with prob [-2.0, -73.499199443976977, -2.0, 0] \n",
        "\n",
        "A Jump at, "
       ]
      },
      {
       "output_type": "stream",
       "stream": "stdout",
       "text": [
        " 1956 to  {'A': 0} with prob [-2.0, -73.499199443976977, -2.0, 0] \n",
        "\n",
        "A Jump at,  1958 to  {'A': 0} with prob [-2.0, -73.499199443976977, -2.0, 0] \n",
        "\n",
        "A Jump at,  1977 to  {'A': 0} with prob [-2.0, -73.499199443976977, -2.0, 0] \n",
        "\n",
        "A Jump at,  2000 to  {'A': 0} with prob [-2.0, -73.499199443976977, -2.0, 0] \n",
        "\n",
        "A Jump at,  2021 to  {'A': 0} with prob [-2.0, -73.499199443976977, -2.0, 0] \n",
        "\n",
        "A Jump at,  2028 to  {'A': 0} with prob [-2.0, -73.499199443976977, -2.0, 0] \n",
        "\n",
        "A Jump at,  2033 to  {'A': 0} with prob [-2.0, -73.499199443976977, -2.0, 0] \n",
        "\n",
        "A Jump at,  2037 to  {'A': 0} with prob [-2.0, -73.499199443976977, -2.0, 0] \n",
        "\n",
        "A Jump at,  2046 to  {'A': 0} with prob [-2.0, -73.499199443976977, -2.0, 0] \n",
        "\n",
        "A Jump at,  2051 to  {'A': 0} with prob [-2.0, -73.499199443976977, -2.0, 0] \n",
        "\n",
        "A Jump at,  2068 to  {'A': 0} with prob [-2.0, -73.499199443976977, -2.0, 0] \n",
        "\n",
        "A Jump at,  2076 to  {'A': 0} with prob [-2.0, -73.499199443976977, -2.0, 0] \n",
        "\n",
        "A Jump at,  2088 to  {'A': 0} with prob [-2.0, -73.499199443976977, -2.0, 0] \n",
        "\n",
        "A Jump at,  2104 to  {'A': 0} with prob [-2.0, -73.499199443976977, -2.0, 0] \n",
        "\n",
        "A Jump at,  2106 to  {'A': 0} with prob [-2.0, -73.499199443976977, -2.0, 0] \n",
        "\n",
        "A Jump at,  2107 to  {'A': 0} with prob [-2.0, -73.499199443976977, -2.0, 0] \n",
        "\n",
        "A Jump at, "
       ]
      },
      {
       "output_type": "stream",
       "stream": "stdout",
       "text": [
        " 2118 to  {'A': 0} with prob [-2.0, -73.499199443976977, -2.0, 0] \n",
        "\n",
        "A Jump at,  2160 to  {'A': 0} with prob [-2.0, -73.499199443976977, -2.0, 0] \n",
        "\n",
        "A Jump at,  2170 to  {'A': 0} with prob [-2.0, -73.499199443976977, -2.0, 0] \n",
        "\n",
        "A Jump at,  2175 to  {'A': 0} with prob [-2.0, -73.499199443976977, -2.0, 0] \n",
        "\n",
        "A Jump at,  2193 to  {'A': 0} with prob [-2.0, -73.499199443976977, -2.0, 0] \n",
        "\n",
        "A Jump at,  2201 to  {'A': 0} with prob [-2.0, -73.499199443976977, -2.0, 0] \n",
        "\n",
        "A Jump at,  2205 to  {'A': 0} with prob [-2.0, -73.499199443976977, -2.0, 0] \n",
        "\n",
        "A Jump at,  2206 to  {'A': 0} with prob [-2.0, -73.499199443976977, -2.0, 0] \n",
        "\n",
        "A Jump at,  2225 to  {'A': 0} with prob [-2.0, -73.499199443976977, -2.0, 0] \n",
        "\n",
        "A Jump at,  2237 to  {'A': 0} with prob [-2.0, -73.499199443976977, -2.0, 0] \n",
        "\n",
        "A Jump at,  2239 to  {'A': 0} with prob [-2.0, -73.499199443976977, -2.0, 0] \n",
        "\n",
        "A Jump at,  2260 to  {'A': 0} with prob [-2.0, -73.499199443976977, -2.0, 0] \n",
        "\n",
        "A Jump at,  2268 to  {'A': 0} with prob [-2.0, -73.499199443976977, -2.0, 0] \n",
        "\n",
        "A Jump at, "
       ]
      },
      {
       "output_type": "stream",
       "stream": "stdout",
       "text": [
        " 2274 to  {'A': 0} with prob [-2.0, -73.499199443976977, -2.0, 0] \n",
        "\n",
        "A Jump at,  2292 to  {'A': 0} with prob [-2.0, -73.499199443976977, -2.0, 0] \n",
        "\n",
        "A Jump at,  2303 to  {'A': 0} with prob [-2.0, -73.499199443976977, -2.0, 0] \n",
        "\n",
        "A Jump at,  2326 to  {'A': 0} with prob [-2.0, -73.499199443976977, -2.0, 0] \n",
        "\n",
        "A Jump at,  2336 to  {'A': 0} with prob [-2.0, -73.499199443976977, -2.0, 0] \n",
        "\n",
        "A Jump at, "
       ]
      },
      {
       "output_type": "stream",
       "stream": "stdout",
       "text": [
        " 2350 to  {'A': 0} with prob [-2.0, -73.499199443976977, -2.0, 0] \n",
        "\n",
        "A Jump at,  2365 to  {'A': 0} with prob [-2.0, -73.499199443976977, -2.0, 0] \n",
        "\n",
        "A Jump at,  2366 to  {'A': 0} with prob [-2.0, -73.499199443976977, -2.0, 0] \n",
        "\n",
        "A Jump at,  2376 to  {'A': 0} with prob [-2.0, -73.499199443976977, -2.0, 0] \n",
        "\n",
        "A Jump at,  2398 to  {'A': 0} with prob [-2.0, -73.499199443976977, -2.0, 0] \n",
        "\n",
        "A Jump at,  2409 to  {'A': 0} with prob [-2.0, -73.499199443976977, -2.0, 0] \n",
        "\n",
        "A Jump at,  2411 to  {'A': 0} with prob [-2.0, -73.499199443976977, -2.0, 0] \n",
        "\n",
        "A Jump at, "
       ]
      },
      {
       "output_type": "stream",
       "stream": "stdout",
       "text": [
        " 2431 to  {'A': 0} with prob [-2.0, -73.499199443976977, -2.0, 0] \n",
        "\n",
        "A Jump at,  2439 to  {'A': 0} with prob [-2.0, -73.499199443976977, -2.0, 0] \n",
        "\n",
        "A Jump at,  2444 to  {'A': 0} with prob [-2.0, -73.499199443976977, -2.0, 0] \n",
        "\n",
        "A Jump at,  2467 to  {'A': 0} with prob [-2.0, -73.499199443976977, -2.0, 0] \n",
        "\n",
        "A Jump at,  2476 to  {'A': 0} with prob [-2.0, -73.499199443976977, -2.0, 0] \n",
        "\n",
        "A Jump at,  2480 to  {'A': 0} with prob [-2.0, -73.499199443976977, -2.0, 0] \n",
        "\n",
        "A Jump at,  2484 to  {'A': 0} with prob [-2.0, -73.499199443976977, -2.0, 0] \n",
        "\n",
        "A Jump at,  2506 to  {'A': 0} with prob [-2.0, -73.499199443976977, -2.0, 0] \n",
        "\n",
        "A Jump at,  2516 to  {'A': 0} with prob [-2.0, -73.499199443976977, -2.0, 0] \n",
        "\n",
        "A Jump at,  2519 to  {'A': 0} with prob [-2.0, -73.499199443976977, -2.0, 0] \n",
        "\n",
        "A Jump at, "
       ]
      },
      {
       "output_type": "stream",
       "stream": "stdout",
       "text": [
        " 2542 to  {'A': 0} with prob [-2.0, -73.499199443976977, -2.0, 0] \n",
        "\n",
        "A Jump at,  2545 to  {'A': 0} with prob [-2.0, -73.499199443976977, -2.0, 0] \n",
        "\n",
        "A Jump at,  2552 to  {'A': 0} with prob [-2.0, -73.499199443976977, -2.0, 0] \n",
        "\n",
        "A Jump at,  2556 to  {'A': 0} with prob [-2.0, -73.499199443976977, -2.0, 0] \n",
        "\n",
        "A Jump at,  2559 to  {'A': 0} with prob [-2.0, -73.499199443976977, -2.0, 0] \n",
        "\n",
        "A Jump at,  2576 to  {'A': 0} with prob [-2.0, -73.499199443976977, -2.0, 0] \n",
        "\n",
        "A Jump at,  2583 to  {'A': 0} with prob [-2.0, -73.499199443976977, -2.0, 0] \n",
        "\n",
        "A Jump at,  2597 to  {'A': 0} with prob [-2.0, -73.499199443976977, -2.0, 0] \n",
        "\n",
        "A Jump at,  2610 to  {'A': 0} with prob [-2.0, -73.499199443976977, -2.0, 0] \n",
        "\n",
        "A Jump at,  2615 to  {'A': 0} with prob [-2.0, -73.499199443976977, -2.0, 0] \n",
        "\n",
        "A Jump at,  2618 to  {'A': 0} with prob [-2.0, -73.499199443976977, -2.0, 0] \n",
        "\n",
        "A Jump at,  2626 to  {'A': 0} with prob [-2.0, -73.499199443976977, -2.0, 0] \n",
        "\n",
        "A Jump at,  2633 to  {'A': 0} with prob [-2.0, -73.499199443976977, -2.0, 0] \n",
        "\n",
        "A Jump at,  2639 to  {'A': 0} with prob [-2.0, -73.499199443976977, -2.0, 0] \n",
        "\n",
        "A Jump at,  2647 to  {'A': 0} with prob [-2.0, -73.499199443976977, -2.0, 0] \n",
        "\n",
        "A Jump at, "
       ]
      },
      {
       "output_type": "stream",
       "stream": "stdout",
       "text": [
        " 2697 to  {'A': 0} with prob [-2.0, -73.499199443976977, -2.0, 0] \n",
        "\n",
        "A Jump at,  2702 to  {'A': 0} with prob [-2.0, -73.499199443976977, -2.0, 0] \n",
        "\n",
        "A Jump at,  2714 to  {'A': 0} with prob [-2.0, -73.499199443976977, -2.0, 0] \n",
        "\n",
        "A Jump at,  2724 to  {'A': 0} with prob [-2.0, -73.499199443976977, -2.0, 0] \n",
        "\n",
        "A Jump at,  2734 to  {'A': 0} with prob [-2.0, -73.499199443976977, -2.0, 0] \n",
        "\n",
        "A Jump at,  2741 to  {'A': 0} with prob [-2.0, -73.499199443976977, -2.0, 0] \n",
        "\n",
        "A Jump at,  2767 to  {'A': 0} with prob [-2.0, -73.499199443976977, -2.0, 0] \n",
        "\n",
        "A Jump at,  2787 to  {'A': 0} with prob [-2.0, -73.499199443976977, -2.0, 0] \n",
        "\n",
        "A Jump at,  2809 to  {'A': 0} with prob [-2.0, -73.499199443976977, -2.0, 0] \n",
        "\n",
        "A Jump at,  2836 to  {'A': 0} with prob [-2.0, -73.499199443976977, -2.0, 0] \n",
        "\n",
        "A Jump at, "
       ]
      },
      {
       "output_type": "stream",
       "stream": "stdout",
       "text": [
        " 2846 to  {'A': 0} with prob [-2.0, -73.499199443976977, -2.0, 0] \n",
        "\n",
        "A Jump at,  2888 to  {'A': 0} with prob [-2.0, -73.499199443976977, -2.0, 0] \n",
        "\n",
        "A Jump at,  2892 to  {'A': 0} with prob [-2.0, -73.499199443976977, -2.0, 0] \n",
        "\n",
        "A Jump at,  2912 to  {'A': 0} with prob [-2.0, -73.499199443976977, -2.0, 0] \n",
        "\n",
        "A Jump at,  2915 to  {'A': 0} with prob [-2.0, -73.499199443976977, -2.0, 0] \n",
        "\n",
        "A Jump at,  2917 to  {'A': 0} with prob [-2.0, -73.499199443976977, -2.0, 0] \n",
        "\n",
        "A Jump at,  2919 to  {'A': 0} with prob [-2.0, -73.499199443976977, -2.0, 0] \n",
        "\n",
        "A Jump at,  2930 to  {'A': 0} with prob [-2.0, -73.499199443976977, -2.0, 0] \n",
        "\n",
        "A Jump at,  2933 to  {'A': 0} with prob [-2.0, -73.499199443976977, -2.0, 0] \n",
        "\n",
        "A Jump at,  2937 to  {'A': 0} with prob [-2.0, -73.499199443976977, -2.0, 0] \n",
        "\n",
        "A Jump at,  2942 to  {'A': 0} with prob [-2.0, -73.499199443976977, -2.0, 0] \n",
        "\n",
        "A Jump at,  2954 to  {'A': 0} with prob [-2.0, -73.499199443976977, -2.0, 0] \n",
        "\n",
        "A Jump at,  2955 to  {'A': 0} with prob [-2.0, -73.499199443976977, -2.0, 0] \n",
        "\n",
        "A Jump at,  2958 to  {'A': 0} with prob [-2.0, -73.499199443976977, -2.0, 0] \n",
        "\n",
        "A Jump at,  2967 to  {'A': 0} with prob [-2.0, -73.499199443976977, -2.0, 0] \n",
        "\n",
        "A Jump at,  2969 to  {'A': 0} with prob [-2.0, -73.499199443976977, -2.0, 0] \n",
        "\n",
        "A Jump at,  2973 to  {'A': 0} with prob [-2.0, -73.499199443976977, -2.0, 0] \n",
        "\n",
        "A Jump at, "
       ]
      },
      {
       "output_type": "stream",
       "stream": "stdout",
       "text": [
        " 3009 to  {'A': 0} with prob [-2.0, -73.499199443976977, -2.0, 0] \n",
        "\n",
        "A Jump at,  3019 to  {'A': 0} with prob [-2.0, -73.499199443976977, -2.0, 0] \n",
        "\n",
        "A Jump at,  3024 to  {'A': 0} with prob [-2.0, -73.499199443976977, -2.0, 0] \n",
        "\n",
        "A Jump at,  3038 to  {'A': 0} with prob [-2.0, -73.499199443976977, -2.0, 0] \n",
        "\n",
        "A Jump at,  3057 to  {'A': 0} with prob [-2.0, -73.499199443976977, -2.0, 0] \n",
        "\n",
        "A Jump at,  3060 to  {'A': 0} with prob [-2.0, -73.499199443976977, -2.0, 0] \n",
        "\n",
        "A Jump at,  3083 to  {'A': 0} with prob [-2.0, -73.499199443976977, -2.0, 0] \n",
        "\n",
        "A Jump at, "
       ]
      },
      {
       "output_type": "stream",
       "stream": "stdout",
       "text": [
        " 3101 to  {'A': 0} with prob [-2.0, -73.499199443976977, -2.0, 0] \n",
        "\n",
        "A Jump at,  3104 to  {'A': 0} with prob [-2.0, -73.499199443976977, -2.0, 0] \n",
        "\n",
        "A Jump at,  3106 to  {'A': 0} with prob [-2.0, -73.499199443976977, -2.0, 0] \n",
        "\n",
        "A Jump at,  3110 to  {'A': 0} with prob [-2.0, -73.499199443976977, -2.0, 0] \n",
        "\n",
        "A Jump at,  3112 to  {'A': 0} with prob [-2.0, -73.499199443976977, -2.0, 0] \n",
        "\n",
        "A Jump at,  3116 to  {'A': 0} with prob [-2.0, -73.499199443976977, -2.0, 0] \n",
        "\n",
        "A Jump at,  3143 to  {'A': 0} with prob [-2.0, -73.499199443976977, -2.0, 0] \n",
        "\n",
        "A Jump at, "
       ]
      },
      {
       "output_type": "stream",
       "stream": "stdout",
       "text": [
        " 3161 to  {'A': 0} with prob [-2.0, -73.499199443976977, -2.0, 0] \n",
        "\n",
        "A Jump at,  3176 to  {'A': 0} with prob [-2.0, -73.499199443976977, -2.0, 0] \n",
        "\n",
        "A Jump at,  3216 to  {'A': 0} with prob [-2.0, -73.499199443976977, -2.0, 0] \n",
        "\n",
        "A Jump at, "
       ]
      },
      {
       "output_type": "stream",
       "stream": "stdout",
       "text": [
        " 3248 to  {'A': 0} with prob [-2.0, -73.499199443976977, -2.0, 0] \n",
        "\n",
        "A Jump at,  3261 to  {'A': 0} with prob [-2.0, -73.499199443976977, -2.0, 0] \n",
        "\n",
        "A Jump at,  3280 to  {'A': 0} with prob [-2.0, -73.499199443976977, -2.0, 0] \n",
        "\n",
        "A Jump at,  3295 to  {'A': 0} with prob [-2.0, -73.499199443976977, -2.0, 0] \n",
        "\n",
        "A Jump at,  3302 to  {'A': 0} with prob [-2.0, -73.499199443976977, -2.0, 0] \n",
        "\n",
        "A Jump at,  3308 to  {'A': 0} with prob [-2.0, -73.499199443976977, -2.0, 0] \n",
        "\n",
        "A Jump at,  3314 to  {'A': 0} with prob [-2.0, -73.499199443976977, -2.0, 0] \n",
        "\n",
        "A Jump at,  3326 to  {'A': 0} with prob [-2.0, -73.499199443976977, -2.0, 0]"
       ]
      },
      {
       "output_type": "stream",
       "stream": "stdout",
       "text": [
        " \n",
        "\n",
        "A Jump at,  3335 to  {'A': 0} with prob [-2.0, -73.499199443976977, -2.0, 0] \n",
        "\n",
        "A Jump at,  3336 to  {'A': 0} with prob [-2.0, -73.499199443976977, -2.0, 0] \n",
        "\n",
        "A Jump at,  3345 to  {'A': 0} with prob [-2.0, -73.499199443976977, -2.0, 0] \n",
        "\n",
        "A Jump at,  3353 to  {'A': 0} with prob [-2.0, -73.499199443976977, -2.0, 0] \n",
        "\n",
        "A Jump at,  3354 to  {'A': 0} with prob [-2.0, -73.499199443976977, -2.0, 0] \n",
        "\n",
        "A Jump at,  3366 to  {'A': 0} with prob [-2.0, -73.499199443976977, -2.0, 0] \n",
        "\n",
        "A Jump at,  3381 to  {'A': 0} with prob [-2.0, -73.499199443976977, -2.0, 0] \n",
        "\n",
        "A Jump at,  3382 to  {'A': 0} with prob [-2.0, -73.499199443976977, -2.0, 0] \n",
        "\n",
        "A Jump at,  3385 to  {'A': 0} with prob [-2.0, -73.499199443976977, -2.0, 0] \n",
        "\n",
        "A Jump at,  3393 to  {'A': 0} with prob [-2.0, -73.499199443976977, -2.0, 0] \n",
        "\n",
        "A Jump at,  3395 to  {'A': 0} with prob [-2.0, -73.499199443976977, -2.0, 0] \n",
        "\n",
        "A Jump at,  3403 to  {'A': 0} with prob [-2.0, -73.499199443976977, -2.0, 0] \n",
        "\n",
        "A Jump at,  3413 to  {'A': 0} with prob [-2.0, -73.499199443976977, -2.0, 0] \n",
        "\n",
        "A Jump at,  3421 to  {'A': 0} with prob [-2.0, -73.499199443976977, -2.0, 0] \n",
        "\n",
        "A Jump at,  3426 to  {'A': 0} with prob [-2.0, -73.499199443976977, -2.0, 0] \n",
        "\n",
        "A Jump at,  3469 to  {'A': 0} with prob [-2.0, -73.499199443976977, -2.0, 0] \n",
        "\n",
        "A Jump at, "
       ]
      },
      {
       "output_type": "stream",
       "stream": "stdout",
       "text": [
        " 3485 to  {'A': 0} with prob [-2.0, -73.499199443976977, -2.0, 0] \n",
        "\n",
        "A Jump at,  3488 to  {'A': 0} with prob [-2.0, -73.499199443976977, -2.0, 0] \n",
        "\n",
        "A Jump at,  3499 to  {'A': 0} with prob [-2.0, -73.499199443976977, -2.0, 0] \n",
        "\n",
        "A Jump at,  3513 to  {'A': 0} with prob [-2.0, -73.499199443976977, -2.0, 0] \n",
        "\n",
        "A Jump at,  3520 to  {'A': 0} with prob [-2.0, -73.499199443976977, -2.0, 0] \n",
        "\n",
        "A Jump at,  3532 to  {'A': 0} with prob [-2.0, -73.499199443976977, -2.0, 0] \n",
        "\n",
        "A Jump at,  3533 to  {'A': 0} with prob [-2.0, -73.499199443976977, -2.0, 0] \n",
        "\n",
        "A Jump at,  3542 to  {'A': 0} with prob [-2.0, -73.499199443976977, -2.0, 0] \n",
        "\n",
        "A Jump at,  3566 to  {'A': 0} with prob [-2.0, -73.499199443976977, -2.0, 0] \n",
        "\n",
        "A Jump at,  3588 to  {'A': 0} with prob [-2.0, -73.499199443976977, -2.0, 0] \n",
        "\n",
        "A Jump at,  3604 to  {'A': 0} with prob [-2.0, -73.499199443976977, -2.0, 0] \n",
        "\n",
        "A Jump at, "
       ]
      },
      {
       "output_type": "stream",
       "stream": "stdout",
       "text": [
        " 3634 to  {'A': 0} with prob [-2.0, -73.499199443976977, -2.0, 0] \n",
        "\n",
        "A Jump at,  3637 to  {'A': 0} with prob [-2.0, -73.499199443976977, -2.0, 0] \n",
        "\n",
        "A Jump at,  3645 to  {'A': 0} with prob [-2.0, -73.499199443976977, -2.0, 0] \n",
        "\n",
        "A Jump at,  3648 to  {'A': 0} with prob [-2.0, -73.499199443976977, -2.0, 0] \n",
        "\n",
        "A Jump at,  3654 to  {'A': 0} with prob [-2.0, -73.499199443976977, -2.0, 0] \n",
        "\n",
        "A Jump at,  3659 to  {'A': 0} with prob [-2.0, -73.499199443976977, -2.0, 0] \n",
        "\n",
        "A Jump at,  3661 to  {'A': 0} with prob [-2.0, -73.499199443976977, -2.0, 0] \n",
        "\n",
        "A Jump at,  3667 to  {'A': 0} with prob [-2.0, -73.499199443976977, -2.0, 0] \n",
        "\n",
        "A Jump at,  3697 to  {'A': 0} with prob [-2.0, -73.499199443976977, -2.0, 0] \n",
        "\n",
        "A Jump at,  3707 to  {'A': 0} with prob [-2.0, -73.499199443976977, -2.0, 0] \n",
        "\n",
        "A Jump at,  3714 to  {'A': 0} with prob [-2.0, -73.499199443976977, -2.0, 0] \n",
        "\n",
        "A Jump at,  3717 to  {'A': 0} with prob [-2.0, -73.499199443976977, -2.0, 0] \n",
        "\n",
        "A Jump at,  3774 to  {'A': 0} with prob [-2.0, -73.499199443976977, -2.0, 0] \n",
        "\n",
        "A Jump at, "
       ]
      },
      {
       "output_type": "stream",
       "stream": "stdout",
       "text": [
        " 3782 to  {'A': 0} with prob [-2.0, -73.499199443976977, -2.0, 0] \n",
        "\n",
        "A Jump at,  3788 to  {'A': 0} with prob [-2.0, -73.499199443976977, -2.0, 0] \n",
        "\n",
        "A Jump at,  3802 to  {'A': 0} with prob [-2.0, -73.499199443976977, -2.0, 0] \n",
        "\n",
        "A Jump at,  3850 to  {'A': 0} with prob [-2.0, -73.499199443976977, -2.0, 0] \n",
        "\n",
        "A Jump at,  3880 to  {'A': 0} with prob [-2.0, -73.499199443976977, -2.0, 0] \n",
        "\n",
        "A Jump at,  3883 to  {'A': 0} with prob [-2.0, -73.499199443976977, -2.0, 0] \n",
        "\n",
        "A Jump at,  3895 to  {'A': 0} with prob [-2.0, -73.499199443976977, -2.0, 0] \n",
        "\n",
        "A Jump at,  3922 to  {'A': 0} with prob [-2.0, -73.499199443976977, -2.0, 0] \n",
        "\n",
        "A Jump at, "
       ]
      },
      {
       "output_type": "stream",
       "stream": "stdout",
       "text": [
        " 3938 to  {'A': 0} with prob [-2.0, -73.499199443976977, -2.0, 0] \n",
        "\n",
        "A Jump at,  3947 to  {'A': 0} with prob [-2.0, -73.499199443976977, -2.0, 0] \n",
        "\n",
        "A Jump at,  3954 to  {'A': 0} with prob [-2.0, -73.499199443976977, -2.0, 0] \n",
        "\n",
        "A Jump at,  3957 to  {'A': 0} with prob [-2.0, -73.499199443976977, -2.0, 0] \n",
        "\n",
        "A Jump at,  3972 to  {'A': 0} with prob [-2.0, -73.499199443976977, -2.0, 0] \n",
        "\n",
        "A Jump at,  3976 to  {'A': 0} with prob [-2.0, -73.499199443976977, -2.0, 0] \n",
        "\n",
        "A Jump at,  3984 to  {'A': 0} with prob [-2.0, -73.499199443976977, -2.0, 0] \n",
        "\n",
        "A Jump at,  3994 to  {'A': 0} with prob [-2.0, -73.499199443976977, -2.0, 0] \n",
        "\n",
        "A Jump at,  3999 to  {'A': 0} with prob [-2.0, -73.499199443976977, -2.0, 0] \n",
        "\n",
        "A Jump at,  4000 to  {'A': 0} with prob [-2.0, -73.499199443976977, -2.0, 0] \n",
        "\n",
        "A Jump at,  4048 to  {'A': 0} with prob [-2.0, -73.499199443976977, -2.0, 0] \n",
        "\n",
        "A Jump at,  4069 to  {'A': 0} with prob [-2.0, -73.499199443976977, -2.0, 0] \n",
        "\n",
        "A Jump at,  4070 to  {'A': 0} with prob [-2.0, -73.499199443976977, -2.0, 0] \n",
        "\n",
        "A Jump at,  4072 to  {'A': 0} with prob [-2.0, -73.499199443976977, -2.0, 0] \n",
        "\n",
        "A Jump at,  4080 to  {'A': 0} with prob [-2.0, -73.499199443976977, -2.0, 0] \n",
        "\n",
        "A Jump at, "
       ]
      },
      {
       "output_type": "stream",
       "stream": "stdout",
       "text": [
        " 4107 to  {'A': 0} with prob [-2.0, -73.499199443976977, -2.0, 0] \n",
        "\n",
        "A Jump at,  4111 to  {'A': 0} with prob [-2.0, -73.499199443976977, -2.0, 0] \n",
        "\n",
        "A Jump at,  4116 to  {'A': 0} with prob [-2.0, -73.499199443976977, -2.0, 0] \n",
        "\n",
        "A Jump at,  4137 to  {'A': 0} with prob [-2.0, -73.499199443976977, -2.0, 0] \n",
        "\n",
        "A Jump at,  4146 to  {'A': 0} with prob [-2.0, -73.499199443976977, -2.0, 0] \n",
        "\n",
        "A Jump at,  4153 to  {'A': 0} with prob [-2.0, -73.499199443976977, -2.0, 0] \n",
        "\n",
        "A Jump at,  4161 to  {'A': 0} with prob [-2.0, -73.499199443976977, -2.0, 0] \n",
        "\n",
        "A Jump at,  4166 to  {'A': 0} with prob [-2.0, -73.499199443976977, -2.0, 0] \n",
        "\n",
        "A Jump at,  4168 to  {'A': 0} with prob [-2.0, -73.499199443976977, -2.0, 0] \n",
        "\n",
        "A Jump at,  4185 to  {'A': 0} with prob [-2.0, -73.499199443976977, -2.0, 0] \n",
        "\n",
        "A Jump at,  4191 to  {'A': 0} with prob [-2.0, -73.499199443976977, -2.0, 0] \n",
        "\n",
        "A Jump at,  4203 to  {'A': 0} with prob [-2.0, -73.499199443976977, -2.0, 0] \n",
        "\n",
        "A Jump at,  4218 to  {'A': 0} with prob [-2.0, -73.499199443976977, -2.0, 0] \n",
        "\n",
        "A Jump at,  4235 to  {'A': 0} with prob [-2.0, -73.499199443976977, -2.0, 0] \n",
        "\n",
        "A Jump at,  4239 to  {'A': 0} with prob [-2.0, -73.499199443976977, -2.0, 0] \n",
        "\n",
        "A Jump at, "
       ]
      },
      {
       "output_type": "stream",
       "stream": "stdout",
       "text": [
        " 4268 to  {'A': 0} with prob [-2.0, -73.499199443976977, -2.0, 0] \n",
        "\n",
        "A Jump at,  4279 to  {'A': 0} with prob [-2.0, -73.499199443976977, -2.0, 0] \n",
        "\n",
        "A Jump at,  4297 to  {'A': 0} with prob [-2.0, -73.499199443976977, -2.0, 0] \n",
        "\n",
        "A Jump at,  4299 to  {'A': 0} with prob [-2.0, -73.499199443976977, -2.0, 0] \n",
        "\n",
        "A Jump at,  4301 to  {'A': 0} with prob [-2.0, -73.499199443976977, -2.0, 0] \n",
        "\n",
        "A Jump at,  4308 to  {'A': 0} with prob [-2.0, -73.499199443976977, -2.0, 0] \n",
        "\n",
        "A Jump at,  4316 to  {'A': 0} with prob [-2.0, -73.499199443976977, -2.0, 0] \n",
        "\n",
        "A Jump at,  4336 to  {'A': 0} with prob [-2.0, -73.499199443976977, -2.0, 0] \n",
        "\n",
        "A Jump at,  4346 to  {'A': 0} with prob [-2.0, -73.499199443976977, -2.0, 0] \n",
        "\n",
        "A Jump at,  4349 to  {'A': 0} with prob [-2.0, -73.499199443976977, -2.0, 0] \n",
        "\n",
        "A Jump at,  4355 to  {'A': 0} with prob [-2.0, -73.499199443976977, -2.0, 0] \n",
        "\n",
        "A Jump at,  4368 to  {'A': 0} with prob [-2.0, -73.499199443976977, -2.0, 0] \n",
        "\n",
        "A Jump at,  4373 to  {'A': 0} with prob [-2.0, -73.499199443976977, -2.0, 0] \n",
        "\n",
        "A Jump at, "
       ]
      },
      {
       "output_type": "stream",
       "stream": "stdout",
       "text": [
        " 4385 to  {'A': 0} with prob [-2.0, -73.499199443976977, -2.0, 0] \n",
        "\n",
        "A Jump at,  4392 to  {'A': 0} with prob [-2.0, -73.499199443976977, -2.0, 0] \n",
        "\n",
        "A Jump at,  4393 to  {'A': 0} with prob [-2.0, -73.499199443976977, -2.0, 0] \n",
        "\n",
        "A Jump at,  4410 to  {'A': 0} with prob [-2.0, -73.499199443976977, -2.0, 0] \n",
        "\n",
        "A Jump at,  4426 to  {'A': 0} with prob [-2.0, -73.499199443976977, -2.0, 0] \n",
        "\n",
        "A Jump at,  4433 to  {'A': 0} with prob [-2.0, -73.499199443976977, -2.0, 0] \n",
        "\n",
        "A Jump at,  4436 to  {'A': 0} with prob [-2.0, -73.499199443976977, -2.0, 0] \n",
        "\n",
        "A Jump at,  4441 to  {'A': 0} with prob [-2.0, -73.499199443976977, -2.0, 0] \n",
        "\n",
        "A Jump at,  4448 to  {'A': 0} with prob [-2.0, -73.499199443976977, -2.0, 0] \n",
        "\n",
        "A Jump at,  4512 to  {'A': 0} with prob [-2.0, -73.499199443976977, -2.0, 0] \n",
        "\n",
        "A Jump at,  4515 to  {'A': 0} with prob [-2.0, -73.499199443976977, -2.0, 0] \n",
        "\n",
        "A Jump at,  4532 to  {'A': 0} with prob [-2.0, -73.499199443976977, -2.0, 0] \n",
        "\n",
        "A Jump at, "
       ]
      },
      {
       "output_type": "stream",
       "stream": "stdout",
       "text": [
        " 4536 to  {'A': 0} with prob [-2.0, -73.499199443976977, -2.0, 0] \n",
        "\n",
        "A Jump at,  4550 to  {'A': 0} with prob [-2.0, -73.499199443976977, -2.0, 0] \n",
        "\n",
        "A Jump at,  4551 to  {'A': 0} with prob [-2.0, -73.499199443976977, -2.0, 0] \n",
        "\n",
        "A Jump at,  4562 to  {'A': 0} with prob [-2.0, -73.499199443976977, -2.0, 0] \n",
        "\n",
        "A Jump at,  4592 to  {'A': 0} with prob [-2.0, -73.499199443976977, -2.0, 0] \n",
        "\n",
        "A Jump at,  4600 to  {'A': 0} with prob [-2.0, -73.499199443976977, -2.0, 0] \n",
        "\n",
        "A Jump at,  4601 to  {'A': 0} with prob [-2.0, -73.499199443976977, -2.0, 0] \n",
        "\n",
        "A Jump at,  4604 to  {'A': 0} with prob [-2.0, -73.499199443976977, -2.0, 0] \n",
        "\n",
        "A Jump at,  4608 to  {'A': 0} with prob [-2.0, -73.499199443976977, -2.0, 0] \n",
        "\n",
        "A Jump at,  4621 to  {'A': 0} with prob [-2.0, -73.499199443976977, -2.0, 0] \n",
        "\n",
        "A Jump at,  4647 to  {'A': 0} with prob [-2.0, -73.499199443976977, -2.0, 0] \n",
        "\n",
        "A Jump at,  4648 to  {'A': 0} with prob [-2.0, -73.499199443976977, -2.0, 0] \n",
        "\n",
        "A Jump at,  4649 to  {'A': 0} with prob [-2.0, -73.499199443976977, -2.0, 0] \n",
        "\n",
        "A Jump at,  4656 to  {'A': 0} with prob [-2.0, -73.499199443976977, -2.0, 0] \n",
        "\n",
        "A Jump at,  4680 to  {'A': 0} with prob [-2.0, -73.499199443976977, -2.0, 0] \n",
        "\n",
        "A Jump at, "
       ]
      },
      {
       "output_type": "stream",
       "stream": "stdout",
       "text": [
        " 4694 to  {'A': 0} with prob [-2.0, -73.499199443976977, -2.0, 0] \n",
        "\n",
        "A Jump at,  4698 to  {'A': 0} with prob [-2.0, -73.499199443976977, -2.0, 0] \n",
        "\n",
        "A Jump at,  4722 to  {'A': 0} with prob [-2.0, -73.499199443976977, -2.0, 0] \n",
        "\n",
        "A Jump at,  4745 to  {'A': 0} with prob [-2.0, -73.499199443976977, -2.0, 0] \n",
        "\n",
        "A Jump at, "
       ]
      },
      {
       "output_type": "stream",
       "stream": "stdout",
       "text": [
        " 4773 to  {'A': 0} with prob [-2.0, -73.499199443976977, -2.0, 0] \n",
        "\n",
        "A Jump at,  4776 to  {'A': 0} with prob [-2.0, -73.499199443976977, -2.0, 0] \n",
        "\n",
        "A Jump at,  4806 to  {'A': 0} with prob [-2.0, -73.499199443976977, -2.0, 0] \n",
        "\n",
        "A Jump at,  4810 to  {'A': 0} with prob [-2.0, -73.499199443976977, -2.0, 0] \n",
        "\n",
        "A Jump at,  4811 to  {'A': 0} with prob [-2.0, -73.499199443976977, -2.0, 0] \n",
        "\n",
        "A Jump at,  4818 to  {'A': 0} with prob [-2.0, -73.499199443976977, -2.0, 0] \n",
        "\n",
        "A Jump at,  4827 to  {'A': 0} with prob [-2.0, -73.499199443976977, -2.0, 0] \n",
        "\n",
        "A Jump at,  4841 to  {'A': 0} with prob [-2.0, -73.499199443976977, -2.0, 0] \n",
        "\n",
        "A Jump at,  4845 to  {'A': 0} with prob [-2.0, -73.499199443976977, -2.0, 0] \n",
        "\n",
        "A Jump at, "
       ]
      },
      {
       "output_type": "stream",
       "stream": "stdout",
       "text": [
        " 4863 to  {'A': 0} with prob [-2.0, -73.499199443976977, -2.0, 0] \n",
        "\n",
        "A Jump at,  4864 to  {'A': 0} with prob [-2.0, -73.499199443976977, -2.0, 0] \n",
        "\n",
        "A Jump at,  4868 to  {'A': 0} with prob [-2.0, -73.499199443976977, -2.0, 0] \n",
        "\n",
        "A Jump at,  4869 to  {'A': 0} with prob [-2.0, -73.499199443976977, -2.0, 0] \n",
        "\n",
        "A Jump at,  4883 to  {'A': 0} with prob [-2.0, -73.499199443976977, -2.0, 0] \n",
        "\n",
        "A Jump at,  4888 to  {'A': 0} with prob [-2.0, -73.499199443976977, -2.0, 0] \n",
        "\n",
        "A Jump at,  4900 to  {'A': 0} with prob [-2.0, -73.499199443976977, -2.0, 0] \n",
        "\n",
        "A Jump at,  4904 to  {'A': 0} with prob [-2.0, -73.499199443976977, -2.0, 0] \n",
        "\n",
        "A Jump at,  4924 to  {'A': 0} with prob [-2.0, -73.499199443976977, -2.0, 0] \n",
        "\n",
        "A Jump at,  4933 to  {'A': 0} with prob [-2.0, -73.499199443976977, -2.0, 0] \n",
        "\n",
        "A Jump at, "
       ]
      },
      {
       "output_type": "stream",
       "stream": "stdout",
       "text": [
        " 4963 to  {'A': 0} with prob [-2.0, -73.499199443976977, -2.0, 0] \n",
        "\n",
        "A Jump at,  4969 to  {'A': 0} with prob [-2.0, -73.499199443976977, -2.0, 0] \n",
        "\n",
        "A Jump at,  4972 to  {'A': 0} with prob [-2.0, -73.499199443976977, -2.0, 0] \n",
        "\n",
        "A Jump at,  4978 to  {'A': 0} with prob [-2.0, -73.499199443976977, -2.0, 0] \n",
        "\n",
        "A Jump at,  4993 to  {'A': 0} with prob [-2.0, -73.499199443976977, -2.0, 0] \n",
        "\n",
        "A Jump at,  5014 to  {'A': 0} with prob [-2.0, -73.499199443976977, -2.0, 0] \n",
        "\n",
        "A Jump at,  5026 to  {'A': 0} with prob [-2.0, -73.499199443976977, -2.0, 0] \n",
        "\n",
        "A Jump at,  5033 to  {'A': 0} with prob [-2.0, -73.499199443976977, -2.0, 0] \n",
        "\n",
        "A Jump at,  5043 to  {'A': 0} with prob [-2.0, -73.499199443976977, -2.0, 0] \n",
        "\n",
        "A Jump at,  5046 to  {'A': 0} with prob [-2.0, -73.499199443976977, -2.0, 0] \n",
        "\n",
        "A Jump at,  5051 to  {'A': 0} with prob [-2.0, -73.499199443976977, -2.0, 0] \n",
        "\n",
        "A Jump at, "
       ]
      },
      {
       "output_type": "stream",
       "stream": "stdout",
       "text": [
        " 5074 to  {'A': 0} with prob [-2.0, -73.499199443976977, -2.0, 0] \n",
        "\n",
        "A Jump at,  5088 to  {'A': 0} with prob [-2.0, -73.499199443976977, -2.0, 0] \n",
        "\n",
        "A Jump at,  5093 to  {'A': 0} with prob [-2.0, -73.499199443976977, -2.0, 0] \n",
        "\n",
        "A Jump at,  5100 to  {'A': 0} with prob [-2.0, -73.499199443976977, -2.0, 0] \n",
        "\n",
        "A Jump at,  5105 to  {'A': 0} with prob [-2.0, -73.499199443976977, -2.0, 0] \n",
        "\n",
        "A Jump at,  5108 to  {'A': 0} with prob [-2.0, -73.499199443976977, -2.0, 0] \n",
        "\n",
        "A Jump at,  5109 to  {'A': 0} with prob [-2.0, -73.499199443976977, -2.0, 0] \n",
        "\n",
        "A Jump at,  5110 to  {'A': 0} with prob [-2.0, -73.499199443976977, -2.0, 0] \n",
        "\n",
        "A Jump at,  5124 to  {'A': 0} with prob [-2.0, -73.499199443976977, -2.0, 0] \n",
        "\n",
        "A Jump at,  5125 to  {'A': 0} with prob [-2.0, -73.499199443976977, -2.0, 0] \n",
        "\n",
        "A Jump at,  5138 to  {'A': 0} with prob [-2.0, -73.499199443976977, -2.0, 0] \n",
        "\n",
        "A Jump at,  5142 to  {'A': 0} with prob [-2.0, -73.499199443976977, -2.0, 0] \n",
        "\n",
        "A Jump at,  5148 to  {'A': 0} with prob [-2.0, -73.499199443976977, -2.0, 0] \n",
        "\n",
        "A Jump at,  5162 to  {'A': 0} with prob [-2.0, -73.499199443976977, -2.0, 0] \n",
        "\n",
        "A Jump at,  5164 to  {'A': 0} with prob [-2.0, -73.499199443976977, -2.0, 0] \n",
        "\n",
        "A Jump at,  5169 to  {'A': 0} with prob [-2.0, -73.499199443976977, -2.0, 0] \n",
        "\n",
        "A Jump at,  5171 to  {'A': 0} with prob [-2.0, -73.499199443976977, -2.0, 0] \n",
        "\n",
        "A Jump at,  5174 to  {'A': 0} with prob [-2.0, -73.499199443976977, -2.0, 0] \n",
        "\n",
        "A Jump at, "
       ]
      },
      {
       "output_type": "stream",
       "stream": "stdout",
       "text": [
        " 5182 to  {'A': 0} with prob [-2.0, -73.499199443976977, -2.0, 0] \n",
        "\n",
        "A Jump at,  5216 to  {'A': 0} with prob [-2.0, -73.499199443976977, -2.0, 0] \n",
        "\n",
        "A Jump at,  5229 to  {'A': 0} with prob [-2.0, -73.499199443976977, -2.0, 0] \n",
        "\n",
        "A Jump at,  5248 to  {'A': 0} with prob [-2.0, -73.499199443976977, -2.0, 0] \n",
        "\n",
        "A Jump at,  5253 to  {'A': 0} with prob [-2.0, -73.499199443976977, -2.0, 0] \n",
        "\n",
        "A Jump at,  5257 to  {'A': 0} with prob [-2.0, -73.499199443976977, -2.0, 0] \n",
        "\n",
        "A Jump at,  5263 to  {'A': 0} with prob [-2.0, -73.499199443976977, -2.0, 0] \n",
        "\n",
        "A Jump at,  5274 to  {'A': 0} with prob [-2.0, -73.499199443976977, -2.0, 0] \n",
        "\n",
        "A Jump at,  5278 to  {'A': 0} with prob [-2.0, -73.499199443976977, -2.0, 0] \n",
        "\n",
        "A Jump at,  5296 to  {'A': 0} with prob [-2.0, -73.499199443976977, -2.0, 0] \n",
        "\n",
        "A Jump at,  5302 to  {'A': 0} with prob [-2.0, -73.499199443976977, -2.0, 0] "
       ]
      },
      {
       "output_type": "stream",
       "stream": "stdout",
       "text": [
        "\n",
        "\n",
        "A Jump at,  5327 to  {'A': 0} with prob [-2.0, -73.499199443976977, -2.0, 0] \n",
        "\n",
        "A Jump at,  5342 to  {'A': 0} with prob [-2.0, -73.499199443976977, -2.0, 0] \n",
        "\n",
        "A Jump at,  5361 to  {'A': 0} with prob [-2.0, -73.499199443976977, -2.0, 0] \n",
        "\n",
        "A Jump at,  5363 to  {'A': 0} with prob [-2.0, -73.499199443976977, -2.0, 0] \n",
        "\n",
        "A Jump at,  5376 to  {'A': 0} with prob [-2.0, -73.499199443976977, -2.0, 0] \n",
        "\n",
        "A Jump at,  5380 to  {'A': 0} with prob [-2.0, -73.499199443976977, -2.0, 0] \n",
        "\n",
        "A Jump at, "
       ]
      },
      {
       "output_type": "stream",
       "stream": "stdout",
       "text": [
        " 5392 to  {'A': 0} with prob [-2.0, -73.499199443976977, -2.0, 0] \n",
        "\n",
        "A Jump at,  5393 to  {'A': 0} with prob [-2.0, -73.499199443976977, -2.0, 0] \n",
        "\n",
        "A Jump at,  5403 to  {'A': 0} with prob [-2.0, -73.499199443976977, -2.0, 0] \n",
        "\n",
        "A Jump at,  5406 to  {'A': 0} with prob [-2.0, -73.499199443976977, -2.0, 0] \n",
        "\n",
        "A Jump at,  5422 to  {'A': 0} with prob [-2.0, -73.499199443976977, -2.0, 0] \n",
        "\n",
        "A Jump at,  5430 to  {'A': 0} with prob [-2.0, -73.499199443976977, -2.0, 0] \n",
        "\n",
        "A Jump at,  5434 to  {'A': 0} with prob [-2.0, -73.499199443976977, -2.0, 0] \n",
        "\n",
        "A Jump at,  5449 to  {'A': 0} with prob [-2.0, -73.499199443976977, -2.0, 0] \n",
        "\n",
        "A Jump at,  5463 to  {'A': 0} with prob [-2.0, -73.499199443976977, -2.0, 0] \n",
        "\n",
        "A Jump at,  5475 to  {'A': 0} with prob [-2.0, -73.499199443976977, -2.0, 0] \n",
        "\n",
        "A Jump at,  5479 to  {'A': 0} with prob [-2.0, -73.499199443976977, -2.0, 0] \n",
        "\n",
        "A Jump at,  5483 to  {'A': 0} with prob [-2.0, -73.499199443976977, -2.0, 0] \n",
        "\n",
        "A Jump at, "
       ]
      },
      {
       "output_type": "stream",
       "stream": "stdout",
       "text": [
        " 5500 to  {'A': 0} with prob [-2.0, -73.499199443976977, -2.0, 0] \n",
        "\n",
        "A Jump at,  5513 to  {'A': 0} with prob [-2.0, -73.499199443976977, -2.0, 0] \n",
        "\n",
        "A Jump at,  5515 to  {'A': 0} with prob [-2.0, -73.499199443976977, -2.0, 0] \n",
        "\n",
        "A Jump at,  5546 to  {'A': 0} with prob [-2.0, -73.499199443976977, -2.0, 0] \n",
        "\n",
        "A Jump at,  5551 to  {'A': 0} with prob [-2.0, -73.499199443976977, -2.0, 0] \n",
        "\n",
        "A Jump at,  5560 to  {'A': 0} with prob [-2.0, -73.499199443976977, -2.0, 0] \n",
        "\n",
        "A Jump at,  5567 to  {'A': 0} with prob [-2.0, -73.499199443976977, -2.0, 0] \n",
        "\n",
        "A Jump at,  5568 to  {'A': 0} with prob [-2.0, -73.499199443976977, -2.0, 0] \n",
        "\n",
        "A Jump at,  5571 to  {'A': 0} with prob [-2.0, -73.499199443976977, -2.0, 0] \n",
        "\n",
        "A Jump at,  5572 to  {'A': 0} with prob [-2.0, -73.499199443976977, -2.0, 0] \n",
        "\n",
        "A Jump at,  5608 to  {'A': 0} with prob [-2.0, -73.499199443976977, -2.0, 0] \n",
        "\n",
        "A Jump at,  5626 to  {'A': 0} with prob [-2.0, -73.499199443976977, -2.0, 0] \n",
        "\n",
        "A Jump at,  5639 to  {'A': 0} with prob [-2.0, -73.499199443976977, -2.0, 0] \n",
        "\n",
        "A Jump at, "
       ]
      },
      {
       "output_type": "stream",
       "stream": "stdout",
       "text": [
        " 5647 to  {'A': 0} with prob [-2.0, -73.499199443976977, -2.0, 0] \n",
        "\n",
        "A Jump at,  5652 to  {'A': 0} with prob [-2.0, -73.499199443976977, -2.0, 0] \n",
        "\n",
        "A Jump at,  5656 to  {'A': 0} with prob [-2.0, -73.499199443976977, -2.0, 0] \n",
        "\n",
        "A Jump at,  5673 to  {'A': 0} with prob [-2.0, -73.499199443976977, -2.0, 0] \n",
        "\n",
        "A Jump at,  5678 to  {'A': 0} with prob [-2.0, -73.499199443976977, -2.0, 0] \n",
        "\n",
        "A Jump at,  5706 to  {'A': 0} with prob [-2.0, -73.499199443976977, -2.0, 0] \n",
        "\n",
        "A Jump at,  5717 to  {'A': 0} with prob [-2.0, -73.499199443976977, -2.0, 0] \n",
        "\n",
        "A Jump at,  5731 to  {'A': 0} with prob [-2.0, -73.499199443976977, -2.0, 0] \n",
        "\n",
        "A Jump at,  5732 to  {'A': 0} with prob [-2.0, -73.499199443976977, -2.0, 0] \n",
        "\n",
        "A Jump at,  5740 to  {'A': 0} with prob [-2.0, -73.499199443976977, -2.0, 0] \n",
        "\n",
        "A Jump at,  5743 to  {'A': 0} with prob [-2.0, -73.499199443976977, -2.0, 0] \n",
        "\n",
        "A Jump at,  5745 to  {'A': 0} with prob [-2.0, -73.499199443976977, -2.0, 0] \n",
        "\n",
        "A Jump at, "
       ]
      },
      {
       "output_type": "stream",
       "stream": "stdout",
       "text": [
        " 5765 to  {'A': 0} with prob [-2.0, -73.499199443976977, -2.0, 0] \n",
        "\n",
        "A Jump at,  5773 to  {'A': 0} with prob [-2.0, -73.499199443976977, -2.0, 0] \n",
        "\n",
        "A Jump at,  5796 to  {'A': 0} with prob [-2.0, -73.499199443976977, -2.0, 0] \n",
        "\n",
        "A Jump at,  5797 to  {'A': 0} with prob [-2.0, -73.499199443976977, -2.0, 0] \n",
        "\n",
        "A Jump at,  5808 to  {'A': 0} with prob [-2.0, -73.499199443976977, -2.0, 0] \n",
        "\n",
        "A Jump at,  5834 to  {'A': 0} with prob [-2.0, -73.499199443976977, -2.0, 0] \n",
        "\n",
        "A Jump at,  5848 to  {'A': 0} with prob [-2.0, -73.499199443976977, -2.0, 0] \n",
        "\n",
        "A Jump at,  5854 to  {'A': 0} with prob [-2.0, -73.499199443976977, -2.0, 0] \n",
        "\n",
        "A Jump at,  5869 to  {'A': 0} with prob [-2.0, -73.499199443976977, -2.0, 0] \n",
        "\n",
        "A Jump at,  5879 to  {'A': 0} with prob [-2.0, -73.499199443976977, -2.0, 0] \n",
        "\n",
        "A Jump at,  5888 to  {'A': 0} with prob [-2.0, -73.499199443976977, -2.0, 0] \n",
        "\n",
        "A Jump at,  5891 to  {'A': 0} with prob [-2.0, -73.499199443976977, -2.0, 0] \n",
        "\n",
        "A Jump at,  5892 to  {'A': 0} with prob [-2.0, -73.499199443976977, -2.0, 0] \n",
        "\n",
        "A Jump at,  5896 to  {'A': 0} with prob [-2.0, -73.499199443976977, -2.0, 0] \n",
        "\n",
        "A Jump at,  5900 to  {'A': 0} with prob [-2.0, -73.499199443976977, -2.0, 0] \n",
        "\n",
        "A Jump at, "
       ]
      },
      {
       "output_type": "stream",
       "stream": "stdout",
       "text": [
        " 5925 to  {'A': 0} with prob [-2.0, -73.499199443976977, -2.0, 0] \n",
        "\n",
        "A Jump at,  5945 to  {'A': 0} with prob [-2.0, -73.499199443976977, -2.0, 0] \n",
        "\n",
        "A Jump at,  5957 to  {'A': 0} with prob [-2.0, -73.499199443976977, -2.0, 0] \n",
        "\n",
        "A Jump at,  5969 to  {'A': 0} with prob [-2.0, -73.499199443976977, -2.0, 0] \n",
        "\n",
        "A Jump at,  5975 to  {'A': 0} with prob [-2.0, -73.499199443976977, -2.0, 0] \n",
        "\n",
        "A Jump at,  5984 to  {'A': 0} with prob [-2.0, -73.499199443976977, -2.0, 0] \n",
        "\n",
        "A Jump at,  5997 to  {'A': 0} with prob [-2.0, -73.499199443976977, -2.0, 0] \n",
        "\n",
        "A Jump at,  6013 to  {'A': 0} with prob [-2.0, -73.499199443976977, -2.0, 0] \n",
        "\n",
        "A Jump at,  6021 to  {'A': 0} with prob [-2.0, -73.499199443976977, -2.0, 0] \n",
        "\n",
        "A Jump at,  6047 to  {'A': 0} with prob [-2.0, -73.499199443976977, -2.0, 0] \n",
        "\n",
        "A Jump at, "
       ]
      },
      {
       "output_type": "stream",
       "stream": "stdout",
       "text": [
        " 6072 to  {'A': 0} with prob [-2.0, -73.499199443976977, -2.0, 0] \n",
        "\n",
        "A Jump at,  6074 to  {'A': 0} with prob [-2.0, -73.499199443976977, -2.0, 0] \n",
        "\n",
        "A Jump at,  6085 to  {'A': 0} with prob [-2.0, -73.499199443976977, -2.0, 0] \n",
        "\n",
        "A Jump at,  6093 to  {'A': 0} with prob [-2.0, -73.499199443976977, -2.0, 0] \n",
        "\n",
        "A Jump at,  6097 to  {'A': 0} with prob [-2.0, -73.499199443976977, -2.0, 0] \n",
        "\n",
        "A Jump at,  6100 to  {'A': 0} with prob [-2.0, -73.499199443976977, -2.0, 0] \n",
        "\n",
        "A Jump at,  6108 to  {'A': 0} with prob [-2.0, -73.499199443976977, -2.0, 0] \n",
        "\n",
        "A Jump at,  6113 to  {'A': 0} with prob [-2.0, -73.499199443976977, -2.0, 0] \n",
        "\n",
        "A Jump at,  6142 to  {'A': 0} with prob [-2.0, -73.499199443976977, -2.0, 0] \n",
        "\n",
        "A Jump at,  6145 to  {'A': 0} with prob [-2.0, -73.499199443976977, -2.0, 0] \n",
        "\n",
        "A Jump at,  6148 to  {'A': 0} with prob [-2.0, -73.499199443976977, -2.0, 0] \n",
        "\n",
        "A Jump at,  6153 to  {'A': 0} with prob [-2.0, -73.499199443976977, -2.0, 0] \n",
        "\n",
        "A Jump at,  6182 to  {'A': 0} with prob [-2.0, -73.499199443976977, -2.0, 0] \n",
        "\n",
        "A Jump at,  6196 to  {'A': 0} with prob [-2.0, -73.499199443976977, -2.0, 0] \n",
        "\n",
        "A Jump at,  6204 to  {'A': 0} with prob [-2.0, -73.499199443976977, -2.0, 0] \n",
        "\n",
        "A Jump at, "
       ]
      },
      {
       "output_type": "stream",
       "stream": "stdout",
       "text": [
        " 6217 to  {'A': 0} with prob [-2.0, -73.499199443976977, -2.0, 0] \n",
        "\n",
        "A Jump at,  6236 to  {'A': 0} with prob [-2.0, -73.499199443976977, -2.0, 0] \n",
        "\n",
        "A Jump at,  6237 to  {'A': 0} with prob [-2.0, -73.499199443976977, -2.0, 0] \n",
        "\n",
        "A Jump at,  6244 to  {'A': 0} with prob [-2.0, -73.499199443976977, -2.0, 0] \n",
        "\n",
        "A Jump at,  6270 to  {'A': 0} with prob [-2.0, -73.499199443976977, -2.0, 0] \n",
        "\n",
        "A Jump at,  6278 to  {'A': 0} with prob [-2.0, -73.499199443976977, -2.0, 0] \n",
        "\n",
        "A Jump at,  6319 to  {'A': 0} with prob [-2.0, -73.499199443976977, -2.0, 0] \n",
        "\n",
        "A Jump at,  6328 to  {'A': 0} with prob [-2.0, -73.499199443976977, -2.0, 0] \n",
        "\n",
        "A Jump at,  6342 to  {'A': 0} with prob [-2.0, -73.499199443976977, -2.0, 0] \n",
        "\n",
        "A Jump at,  6344 to  {'A': 0} with prob [-2.0, -73.499199443976977, -2.0, 0] \n",
        "\n",
        "A Jump at,  6352 to  {'A': 0} with prob [-2.0, -73.499199443976977, -2.0, 0] \n",
        "\n",
        "A Jump at, "
       ]
      },
      {
       "output_type": "stream",
       "stream": "stdout",
       "text": [
        " 6370 to  {'A': 0} with prob [-2.0, -73.499199443976977, -2.0, 0] \n",
        "\n",
        "A Jump at,  6383 to  {'A': 0} with prob [-2.0, -73.499199443976977, -2.0, 0] \n",
        "\n",
        "A Jump at,  6390 to  {'A': 0} with prob [-2.0, -73.499199443976977, -2.0, 0] \n",
        "\n",
        "A Jump at,  6417 to  {'A': 0} with prob [-2.0, -73.499199443976977, -2.0, 0] \n",
        "\n",
        "A Jump at,  6419 to  {'A': 0} with prob [-2.0, -73.499199443976977, -2.0, 0] \n",
        "\n",
        "A Jump at,  6423 to  {'A': 0} with prob [-2.0, -73.499199443976977, -2.0, 0] \n",
        "\n",
        "A Jump at,  6426 to  {'A': 0} with prob [-2.0, -73.499199443976977, -2.0, 0] \n",
        "\n",
        "A Jump at,  6436 to  {'A': 0} with prob [-2.0, -73.499199443976977, -2.0, 0] \n",
        "\n",
        "A Jump at,  6480 to  {'A': 0} with prob [-2.0, -73.499199443976977, -2.0, 0] \n",
        "\n",
        "A Jump at,  6487 to  {'A': 0} with prob [-2.0, -73.499199443976977, -2.0, 0] \n",
        "\n",
        "A Jump at,  6489 to  {'A': 0} with prob [-2.0, -73.499199443976977, -2.0, 0] \n",
        "\n",
        "A Jump at,  6490 to  {'A': 0} with prob [-2.0, -73.499199443976977, -2.0, 0] \n",
        "\n",
        "A Jump at,  6499 to  {'A': 0} with prob [-2.0, -73.499199443976977, -2.0, 0] \n",
        "\n",
        "A Jump at,  6505 to  {'A': 0} with prob [-2.0, -73.499199443976977, -2.0, 0] \n",
        "\n",
        "A Jump at, "
       ]
      },
      {
       "output_type": "stream",
       "stream": "stdout",
       "text": [
        " 6524 to  {'A': 0} with prob [-2.0, -73.499199443976977, -2.0, 0] \n",
        "\n",
        "A Jump at,  6527 to  {'A': 0} with prob [-2.0, -73.499199443976977, -2.0, 0] \n",
        "\n",
        "A Jump at,  6540 to  {'A': 0} with prob [-2.0, -73.499199443976977, -2.0, 0] \n",
        "\n",
        "A Jump at,  6543 to  {'A': 0} with prob [-2.0, -73.499199443976977, -2.0, 0] \n",
        "\n",
        "A Jump at,  6548 to  {'A': 0} with prob [-2.0, -73.499199443976977, -2.0, 0] \n",
        "\n",
        "A Jump at,  6552 to  {'A': 0} with prob [-2.0, -73.499199443976977, -2.0, 0] \n",
        "\n",
        "A Jump at,  6566 to  {'A': 0} with prob [-2.0, -73.499199443976977, -2.0, 0] \n",
        "\n",
        "A Jump at,  6570 to  {'A': 0} with prob [-2.0, -73.499199443976977, -2.0, 0] \n",
        "\n",
        "A Jump at,  6581 to  {'A': 0} with prob [-2.0, -73.499199443976977, -2.0, 0] \n",
        "\n",
        "A Jump at,  6594 to  {'A': 0} with prob [-2.0, -73.499199443976977, -2.0, 0] \n",
        "\n",
        "A Jump at,  6599 to  {'A': 0} with prob [-2.0, -73.499199443976977, -2.0, 0] \n",
        "\n",
        "A Jump at,  6605 to  {'A': 0} with prob [-2.0, -73.499199443976977, -2.0, 0] \n",
        "\n",
        "A Jump at,  6619 to  {'A': 0} with prob [-2.0, -73.499199443976977, -2.0, 0] \n",
        "\n",
        "A Jump at,  6624 to  {'A': 0} with prob [-2.0, -73.499199443976977, -2.0, 0] \n",
        "\n",
        "A Jump at, "
       ]
      },
      {
       "output_type": "stream",
       "stream": "stdout",
       "text": [
        " 6667 to  {'A': 0} with prob [-2.0, -73.499199443976977, -2.0, 0] \n",
        "\n",
        "A Jump at,  6670 to  {'A': 0} with prob [-2.0, -73.499199443976977, -2.0, 0] \n",
        "\n",
        "A Jump at,  6671 to  {'A': 0} with prob [-2.0, -73.499199443976977, -2.0, 0] \n",
        "\n",
        "A Jump at,  6674 to  {'A': 0} with prob [-2.0, -73.499199443976977, -2.0, 0] \n",
        "\n",
        "A Jump at,  6684 to  {'A': 0} with prob [-2.0, -73.499199443976977, -2.0, 0] \n",
        "\n",
        "A Jump at,  6703 to  {'A': 0} with prob [-2.0, -73.499199443976977, -2.0, 0] \n",
        "\n",
        "A Jump at,  6711 to  {'A': 0} with prob [-2.0, -73.499199443976977, -2.0, 0] \n",
        "\n",
        "A Jump at,  6720 to  {'A': 0} with prob [-2.0, -73.499199443976977, -2.0, 0] \n",
        "\n",
        "A Jump at,  6730 to  {'A': 0} with prob [-2.0, -73.499199443976977, -2.0, 0] \n",
        "\n",
        "A Jump at,  6735 to  {'A': 0} with prob [-2.0, -73.499199443976977, -2.0, 0] \n",
        "\n",
        "A Jump at,  6748 to  {'A': 0} with prob [-2.0, -73.499199443976977, -2.0, 0] \n",
        "\n",
        "A Jump at,  6753 to  {'A': 0} with prob [-2.0, -73.499199443976977, -2.0, 0] \n",
        "\n",
        "A Jump at,  6763 to  {'A': 0} with prob [-2.0, -73.499199443976977, -2.0, 0] \n",
        "\n",
        "A Jump at,  6782 to  {'A': 0} with prob [-2.0, -73.499199443976977, -2.0, 0] \n",
        "\n",
        "A Jump at,  6789 to  {'A': 0} with prob [-2.0, -73.499199443976977, -2.0, 0] \n",
        "\n",
        "A Jump at,  6791 to  {'A': 0} with prob [-2.0, -73.499199443976977, -2.0, 0] \n",
        "\n",
        "A Jump at, "
       ]
      },
      {
       "output_type": "stream",
       "stream": "stdout",
       "text": [
        " 6843 to  {'A': 0} with prob [-2.0, -73.499199443976977, -2.0, 0] \n",
        "\n",
        "A Jump at,  6863 to  {'A': 0} with prob [-2.0, -73.499199443976977, -2.0, 0] \n",
        "\n",
        "A Jump at,  6875 to  {'A': 0} with prob [-2.0, -73.499199443976977, -2.0, 0] \n",
        "\n",
        "A Jump at,  6879 to  {'A': 0} with prob [-2.0, -73.499199443976977, -2.0, 0] \n",
        "\n",
        "A Jump at,  6881 to  {'A': 0} with prob [-2.0, -73.499199443976977, -2.0, 0] \n",
        "\n",
        "A Jump at,  6892 to  {'A': 0} with prob [-2.0, -73.499199443976977, -2.0, 0] \n",
        "\n",
        "A Jump at,  6893 to  {'A': 0} with prob [-2.0, -73.499199443976977, -2.0, 0] \n",
        "\n",
        "A Jump at,  6908 to  {'A': 0} with prob [-2.0, -73.499199443976977, -2.0, 0] \n",
        "\n",
        "A Jump at,  6925 to  {'A': 0} with prob [-2.0, -73.499199443976977, -2.0, 0] \n",
        "\n",
        "A Jump at,  6943 to  {'A': 0} with prob [-2.0, -73.499199443976977, -2.0, 0] \n",
        "\n",
        "A Jump at, "
       ]
      },
      {
       "output_type": "stream",
       "stream": "stdout",
       "text": [
        " 6961 to  {'A': 0} with prob [-2.0, -73.499199443976977, -2.0, 0] \n",
        "\n",
        "A Jump at,  6997 to  {'A': 0} with prob [-2.0, -73.499199443976977, -2.0, 0] \n",
        "\n",
        "A Jump at,  7011 to  {'A': 0} with prob [-2.0, -73.499199443976977, -2.0, 0] \n",
        "\n",
        "A Jump at,  7023 to  {'A': 0} with prob [-2.0, -73.499199443976977, -2.0, 0] \n",
        "\n",
        "A Jump at,  7048 to  {'A': 0} with prob [-2.0, -73.499199443976977, -2.0, 0] \n",
        "\n",
        "A Jump at,  7075 to  {'A': 0} with prob [-2.0, -73.499199443976977, -2.0, 0] \n",
        "\n",
        "A Jump at,  7086 to  {'A': 0} with prob [-2.0, -73.499199443976977, -2.0, 0] \n",
        "\n",
        "A Jump at, "
       ]
      },
      {
       "output_type": "stream",
       "stream": "stdout",
       "text": [
        " 7109 to  {'A': 0} with prob [-2.0, -73.499199443976977, -2.0, 0] \n",
        "\n",
        "A Jump at,  7114 to  {'A': 0} with prob [-2.0, -73.499199443976977, -2.0, 0] \n",
        "\n",
        "A Jump at,  7117 to  {'A': 0} with prob [-2.0, -73.499199443976977, -2.0, 0] \n",
        "\n",
        "A Jump at,  7118 to  {'A': 0} with prob [-2.0, -73.499199443976977, -2.0, 0] \n",
        "\n",
        "A Jump at,  7121 to  {'A': 0} with prob [-2.0, -73.499199443976977, -2.0, 0] \n",
        "\n",
        "A Jump at,  7135 to  {'A': 0} with prob [-2.0, -73.499199443976977, -2.0, 0] \n",
        "\n",
        "A Jump at,  7156 to  {'A': 0} with prob [-2.0, -73.499199443976977, -2.0, 0] \n",
        "\n",
        "A Jump at,  7159 to  {'A': 0} with prob [-2.0, -73.499199443976977, -2.0, 0] \n",
        "\n",
        "A Jump at,  7163 to  {'A': 0} with prob [-2.0, -73.499199443976977, -2.0, 0] \n",
        "\n",
        "A Jump at,  7174 to  {'A': 0} with prob [-2.0, -73.499199443976977, -2.0, 0] \n",
        "\n",
        "A Jump at, "
       ]
      },
      {
       "output_type": "stream",
       "stream": "stdout",
       "text": [
        " 7191 to  {'A': 0} with prob [-2.0, -73.499199443976977, -2.0, 0] \n",
        "\n",
        "A Jump at,  7198 to  {'A': 0} with prob [-2.0, -73.499199443976977, -2.0, 0] \n",
        "\n",
        "A Jump at,  7202 to  {'A': 0} with prob [-2.0, -73.499199443976977, -2.0, 0] \n",
        "\n",
        "A Jump at,  7212 to  {'A': 0} with prob [-2.0, -73.499199443976977, -2.0, 0] \n",
        "\n",
        "A Jump at,  7264 to  {'A': 0} with prob [-2.0, -73.499199443976977, -2.0, 0] \n",
        "\n",
        "A Jump at,  7268 to  {'A': 0} with prob [-2.0, -73.499199443976977, -2.0, 0] \n",
        "\n",
        "A Jump at,  7308 to  {'A': 0} with prob [-2.0, -73.499199443976977, -2.0, 0] \n",
        "\n",
        "A Jump at,  7313 to  {'A': 0} with prob [-2.0, -73.499199443976977, -2.0, 0] \n",
        "\n",
        "A Jump at,  7321 to  {'A': 0} with prob [-2.0, -73.499199443976977, -2.0, 0] \n",
        "\n",
        "A Jump at, "
       ]
      },
      {
       "output_type": "stream",
       "stream": "stdout",
       "text": [
        " 7325 to  {'A': 0} with prob [-2.0, -73.499199443976977, -2.0, 0] \n",
        "\n",
        "A Jump at,  7362 to  {'A': 0} with prob [-2.0, -73.499199443976977, -2.0, 0] \n",
        "\n",
        "A Jump at,  7367 to  {'A': 0} with prob [-2.0, -73.499199443976977, -2.0, 0] \n",
        "\n",
        "A Jump at,  7368 to  {'A': 0} with prob [-2.0, -73.499199443976977, -2.0, 0] \n",
        "\n",
        "A Jump at,  7378 to  {'A': 0} with prob [-2.0, -73.499199443976977, -2.0, 0] \n",
        "\n",
        "A Jump at,  7385 to  {'A': 0} with prob [-2.0, -73.499199443976977, -2.0, 0] \n",
        "\n",
        "A Jump at,  7411 to  {'A': 0} with prob [-2.0, -73.499199443976977, -2.0, 0] \n",
        "\n",
        "A Jump at,  7423 to  {'A': 0} with prob [-2.0, -73.499199443976977, -2.0, 0] \n",
        "\n",
        "A Jump at,  7430 to  {'A': 0} with prob [-2.0, -73.499199443976977, -2.0, 0] \n",
        "\n",
        "A Jump at,  7432 to  {'A': 0} with prob [-2.0, -73.499199443976977, -2.0, 0] \n",
        "\n",
        "A Jump at,  7447 to  {'A': 0} with prob [-2.0, -73.499199443976977, -2.0, 0] \n",
        "\n",
        "A Jump at, "
       ]
      },
      {
       "output_type": "stream",
       "stream": "stdout",
       "text": [
        " 7466 to  {'A': 0} with prob [-2.0, -73.499199443976977, -2.0, 0] \n",
        "\n",
        "A Jump at,  7481 to  {'A': 0} with prob [-2.0, -73.499199443976977, -2.0, 0] \n",
        "\n",
        "A Jump at,  7497 to  {'A': 0} with prob [-2.0, -73.499199443976977, -2.0, 0] \n",
        "\n",
        "A Jump at,  7513 to  {'A': 0} with prob [-2.0, -73.499199443976977, -2.0, 0] \n",
        "\n",
        "A Jump at,  7530 to  {'A': 0} with prob [-2.0, -73.499199443976977, -2.0, 0] \n",
        "\n",
        "A Jump at,  7532 to  {'A': 0} with prob [-2.0, -73.499199443976977, -2.0, 0] \n",
        "\n",
        "A Jump at, "
       ]
      },
      {
       "output_type": "stream",
       "stream": "stdout",
       "text": [
        " 7548 to  {'A': 0} with prob [-2.0, -73.499199443976977, -2.0, 0] \n",
        "\n",
        "A Jump at,  7554 to  {'A': 0} with prob [-2.0, -73.499199443976977, -2.0, 0] \n",
        "\n",
        "A Jump at,  7560 to  {'A': 0} with prob [-2.0, -73.499199443976977, -2.0, 0] \n",
        "\n",
        "A Jump at,  7579 to  {'A': 0} with prob [-2.0, -73.499199443976977, -2.0, 0] \n",
        "\n",
        "A Jump at,  7584 to  {'A': 0} with prob [-2.0, -73.499199443976977, -2.0, 0] \n",
        "\n",
        "A Jump at,  7585 to  {'A': 0} with prob [-2.0, -73.499199443976977, -2.0, 0] \n",
        "\n",
        "A Jump at,  7587 to  {'A': 0} with prob [-2.0, -73.499199443976977, -2.0, 0] \n",
        "\n",
        "A Jump at,  7588 to  {'A': 0} with prob [-2.0, -73.499199443976977, -2.0, 0] \n",
        "\n",
        "A Jump at,  7600 to  {'A': 0} with prob [-2.0, -73.499199443976977, -2.0, 0] \n",
        "\n",
        "A Jump at,  7604 to  {'A': 0} with prob [-2.0, -73.499199443976977, -2.0, 0] \n",
        "\n",
        "A Jump at,  7634 to  {'A': 0} with prob [-2.0, -73.499199443976977, -2.0, 0] \n",
        "\n",
        "A Jump at,  7640 to  {'A': 0} with prob [-2.0, -73.499199443976977, -2.0, 0] \n",
        "\n",
        "A Jump at,  7647 to  {'A': 0} with prob [-2.0, -73.499199443976977, -2.0, 0] \n",
        "\n",
        "A Jump at,  7655 to  {'A': 0} with prob [-2.0, -73.499199443976977, -2.0, 0] \n",
        "\n",
        "A Jump at,  7658 to  {'A': 0} with prob [-2.0, -73.499199443976977, -2.0, 0] \n",
        "\n",
        "A Jump at,  7666 to  {'A': 0} with prob [-2.0, -73.499199443976977, -2.0, 0] \n",
        "\n",
        "A Jump at, "
       ]
      },
      {
       "output_type": "stream",
       "stream": "stdout",
       "text": [
        " 7740 to  {'A': 0} with prob [-2.0, -73.499199443976977, -2.0, 0] \n",
        "\n",
        "A Jump at,  7745 to  {'A': 0} with prob [-2.0, -73.499199443976977, -2.0, 0] \n",
        "\n",
        "A Jump at,  7759 to  {'A': 0} with prob [-2.0, -73.499199443976977, -2.0, 0] \n",
        "\n",
        "A Jump at,  7766 to  {'A': 0} with prob [-2.0, -73.499199443976977, -2.0, 0] \n",
        "\n",
        "A Jump at,  7779 to  {'A': 0} with prob [-2.0, -73.499199443976977, -2.0, 0] \n",
        "\n",
        "A Jump at,  7799 to  {'A': 0} with prob [-2.0, -73.499199443976977, -2.0, 0] \n",
        "\n",
        "A Jump at,  7804 to  {'A': 0} with prob [-2.0, -73.499199443976977, -2.0, 0] \n",
        "\n",
        "A Jump at,  7806 to  {'A': 0} with prob [-2.0, -73.499199443976977, -2.0, 0] \n",
        "\n",
        "A Jump at,  7813 to  {'A': 0} with prob [-2.0, -73.499199443976977, -2.0, 0] \n",
        "\n",
        "A Jump at,  7821 to  {'A': 0} with prob [-2.0, -73.499199443976977, -2.0, 0] \n",
        "\n",
        "A Jump at,  7823 to  {'A': 0} with prob [-2.0, -73.499199443976977, -2.0, 0] \n",
        "\n",
        "A Jump at,  7827 to  {'A': 0} with prob [-2.0, -73.499199443976977, -2.0, 0] \n",
        "\n",
        "A Jump at,  7854 to  {'A': 0} with prob [-2.0, -73.499199443976977, -2.0, 0] \n",
        "\n",
        "A Jump at,  7865 to  {'A': 0} with prob [-2.0, -73.499199443976977, -2.0, 0] \n",
        "\n",
        "A Jump at,  7884 to  {'A': 0} with prob [-2.0, -73.499199443976977, -2.0, 0] \n",
        "\n",
        "A Jump at,  7887 to  {'A': 0} with prob [-2.0, -73.499199443976977, -2.0, 0] \n",
        "\n",
        "A Jump at,  7890 to  {'A': 0} with prob [-2.0, -73.499199443976977, -2.0, 0] \n",
        "\n",
        "A Jump at,  7891 to  {'A': 0} with prob [-2.0, -73.499199443976977, -2.0, 0] \n",
        "\n",
        "A Jump at, "
       ]
      },
      {
       "output_type": "stream",
       "stream": "stdout",
       "text": [
        " 7894 to  {'A': 0} with prob [-2.0, -73.499199443976977, -2.0, 0] \n",
        "\n",
        "A Jump at,  7896 to  {'A': 0} with prob [-2.0, -73.499199443976977, -2.0, 0] \n",
        "\n",
        "A Jump at,  7897 to  {'A': 0} with prob [-2.0, -73.499199443976977, -2.0, 0] \n",
        "\n",
        "A Jump at,  7905 to  {'A': 0} with prob [-2.0, -73.499199443976977, -2.0, 0] \n",
        "\n",
        "A Jump at,  7918 to  {'A': 0} with prob [-2.0, -73.499199443976977, -2.0, 0] \n",
        "\n",
        "A Jump at,  7925 to  {'A': 0} with prob [-2.0, -73.499199443976977, -2.0, 0] \n",
        "\n",
        "A Jump at,  7927 to  {'A': 0} with prob [-2.0, -73.499199443976977, -2.0, 0] \n",
        "\n",
        "A Jump at,  7948 to  {'A': 0} with prob [-2.0, -73.499199443976977, -2.0, 0] \n",
        "\n",
        "A Jump at,  7952 to  {'A': 0} with prob [-2.0, -73.499199443976977, -2.0, 0] \n",
        "\n",
        "A Jump at,  7957 to  {'A': 0} with prob [-2.0, -73.499199443976977, -2.0, 0] \n",
        "\n",
        "A Jump at,  7969 to  {'A': 0} with prob [-2.0, -73.499199443976977, -2.0, 0] \n",
        "\n",
        "A Jump at,  7977 to  {'A': 0} with prob [-2.0, -73.499199443976977, -2.0, 0] \n",
        "\n",
        "A Jump at,  8002 to  {'A': 0} with prob [-2.0, -73.499199443976977, -2.0, 0] \n",
        "\n",
        "A Jump at,  8005 to  {'A': 0} with prob [-2.0, -73.499199443976977, -2.0, 0] \n",
        "\n",
        "A Jump at,  8009 to  {'A': 0} with prob [-2.0, -73.499199443976977, -2.0, 0] \n",
        "\n",
        "A Jump at,  8011 to  {'A': 0} with prob [-2.0, -73.499199443976977, -2.0, 0] \n",
        "\n",
        "A Jump at,  8020 to  {'A': 0} with prob [-2.0, -73.499199443976977, -2.0, 0] \n",
        "\n",
        "A Jump at,  8029 to  {'A': 0} with prob [-2.0, -73.499199443976977, -2.0, 0] \n",
        "\n",
        "A Jump at,  8042 to  {'A': 0} with prob [-2.0, -73.499199443976977, -2.0, 0] \n",
        "\n",
        "A Jump at, "
       ]
      },
      {
       "output_type": "stream",
       "stream": "stdout",
       "text": [
        " 8052 to  {'A': 0} with prob [-2.0, -73.499199443976977, -2.0, 0] \n",
        "\n",
        "A Jump at,  8068 to  {'A': 0} with prob [-2.0, -73.499199443976977, -2.0, 0] \n",
        "\n",
        "A Jump at,  8081 to  {'A': 0} with prob [-2.0, -73.499199443976977, -2.0, 0] \n",
        "\n",
        "A Jump at,  8082 to  {'A': 0} with prob [-2.0, -73.499199443976977, -2.0, 0] \n",
        "\n",
        "A Jump at,  8087 to  {'A': 0} with prob [-2.0, -73.499199443976977, -2.0, 0] \n",
        "\n",
        "A Jump at,  8148 to  {'A': 0} with prob [-2.0, -73.499199443976977, -2.0, 0] \n",
        "\n",
        "A Jump at,  8154 to  {'A': 0} with prob [-2.0, -73.499199443976977, -2.0, 0] \n",
        "\n",
        "A Jump at,  8162 to  {'A': 0} with prob [-2.0, -73.499199443976977, -2.0, 0] \n",
        "\n",
        "A Jump at,  8166 to  {'A': 0} with prob [-2.0, -73.499199443976977, -2.0, 0] \n",
        "\n",
        "A Jump at,  8171 to  {'A': 0} with prob [-2.0, -73.499199443976977, -2.0, 0] \n",
        "\n",
        "A Jump at,  8178 to  {'A': 0} with prob [-2.0, -73.499199443976977, -2.0, 0] \n",
        "\n",
        "A Jump at,  8185 to  {'A': 0} with prob [-2.0, -73.499199443976977, -2.0, 0] \n",
        "\n",
        "A Jump at,  8188 to  {'A': 0} with prob [-2.0, -73.499199443976977, -2.0, 0] \n",
        "\n",
        "A Jump at,  8193 to  {'A': 0} with prob [-2.0, -73.499199443976977, -2.0, 0] \n",
        "\n",
        "A Jump at,  8198 to  {'A': 0} with prob [-2.0, -73.499199443976977, -2.0, 0] \n",
        "\n",
        "A Jump at,  8199 to  {'A': 0} with prob [-2.0, -73.499199443976977, -2.0, 0] \n",
        "\n",
        "A Jump at, "
       ]
      },
      {
       "output_type": "stream",
       "stream": "stdout",
       "text": [
        " 8207 to  {'A': 0} with prob [-2.0, -73.499199443976977, -2.0, 0] \n",
        "\n",
        "A Jump at,  8224 to  {'A': 0} with prob [-2.0, -73.499199443976977, -2.0, 0] \n",
        "\n",
        "A Jump at,  8237 to  {'A': 0} with prob [-2.0, -73.499199443976977, -2.0, 0] \n",
        "\n",
        "A Jump at,  8258 to  {'A': 0} with prob [-2.0, -73.499199443976977, -2.0, 0] \n",
        "\n",
        "A Jump at,  8300 to  {'A': 0} with prob [-2.0, -73.499199443976977, -2.0, 0] \n",
        "\n",
        "A Jump at,  8341 to  {'A': 0} with prob [-2.0, -73.499199443976977, -2.0, 0] \n",
        "\n",
        "A Jump at,  8348 to  {'A': 0} with prob [-2.0, -73.499199443976977, -2.0, 0] \n",
        "\n",
        "A Jump at,  8354 to  {'A': 0} with prob [-2.0, -73.499199443976977, -2.0, 0] \n",
        "\n",
        "A Jump at, "
       ]
      },
      {
       "output_type": "stream",
       "stream": "stdout",
       "text": [
        " 8363 to  {'A': 0} with prob [-2.0, -73.499199443976977, -2.0, 0] \n",
        "\n",
        "A Jump at,  8366 to  {'A': 0} with prob [-2.0, -73.499199443976977, -2.0, 0] \n",
        "\n",
        "A Jump at,  8379 to  {'A': 0} with prob [-2.0, -73.499199443976977, -2.0, 0] \n",
        "\n",
        "A Jump at,  8385 to  {'A': 0} with prob [-2.0, -73.499199443976977, -2.0, 0] \n",
        "\n",
        "A Jump at,  8389 to  {'A': 0} with prob [-2.0, -73.499199443976977, -2.0, 0] \n",
        "\n",
        "A Jump at,  8394 to  {'A': 0} with prob [-2.0, -73.499199443976977, -2.0, 0] \n",
        "\n",
        "A Jump at,  8406 to  {'A': 0} with prob [-2.0, -73.499199443976977, -2.0, 0] \n",
        "\n",
        "A Jump at,  8422 to  {'A': 0} with prob [-2.0, -73.499199443976977, -2.0, 0] \n",
        "\n",
        "A Jump at,  8424 to  {'A': 0} with prob [-2.0, -73.499199443976977, -2.0, 0] \n",
        "\n",
        "A Jump at,  8453 to  {'A': 0} with prob [-2.0, -73.499199443976977, -2.0, 0] \n",
        "\n",
        "A Jump at,  8458 to  {'A': 0} with prob [-2.0, -73.499199443976977, -2.0, 0] \n",
        "\n",
        "A Jump at,  8460 to  {'A': 0} with prob [-2.0, -73.499199443976977, -2.0, 0] \n",
        "\n",
        "A Jump at,  8473 to  {'A': 0} with prob [-2.0, -73.499199443976977, -2.0, 0] \n",
        "\n",
        "A Jump at,  8502 to  {'A': 0} with prob [-2.0, -73.499199443976977, -2.0, 0] \n",
        "\n",
        "A Jump at,  8510 to  {'A': 0} with prob [-2.0, -73.499199443976977, -2.0, 0] \n",
        "\n",
        "A Jump at,  8514 to  {'A': 0} with prob [-2.0, -73.499199443976977, -2.0, 0] \n",
        "\n",
        "A Jump at,  8518 to  {'A': 0} with prob [-2.0, -73.499199443976977, -2.0, 0] \n",
        "\n",
        "A Jump at, "
       ]
      },
      {
       "output_type": "stream",
       "stream": "stdout",
       "text": [
        " 8539 to  {'A': 0} with prob [-2.0, -73.499199443976977, -2.0, 0] \n",
        "\n",
        "A Jump at,  8540 to  {'A': 0} with prob [-2.0, -73.499199443976977, -2.0, 0] \n",
        "\n",
        "A Jump at,  8546 to  {'A': 0} with prob [-2.0, -73.499199443976977, -2.0, 0] \n",
        "\n",
        "A Jump at,  8550 to  {'A': 0} with prob [-2.0, -73.499199443976977, -2.0, 0] \n",
        "\n",
        "A Jump at,  8551 to  {'A': 0} with prob [-2.0, -73.499199443976977, -2.0, 0] \n",
        "\n",
        "A Jump at,  8575 to  {'A': 0} with prob [-2.0, -73.499199443976977, -2.0, 0] \n",
        "\n",
        "A Jump at,  8585 to  {'A': 0} with prob [-2.0, -73.499199443976977, -2.0, 0] \n",
        "\n",
        "A Jump at,  8599 to  {'A': 0} with prob [-2.0, -73.499199443976977, -2.0, 0] \n",
        "\n",
        "A Jump at,  8606 to  {'A': 0} with prob [-2.0, -73.499199443976977, -2.0, 0] \n",
        "\n",
        "A Jump at,  8620 to  {'A': 0} with prob [-2.0, -73.499199443976977, -2.0, 0] \n",
        "\n",
        "A Jump at,  8623 to  {'A': 0} with prob [-2.0, -73.499199443976977, -2.0, 0] \n",
        "\n",
        "A Jump at,  8628 to  {'A': 0} with prob [-2.0, -73.499199443976977, -2.0, 0] \n",
        "\n",
        "A Jump at,  8650 to  {'A': 0} with prob [-2.0, -73.499199443976977, -2.0, 0] \n",
        "\n",
        "A Jump at,  8654 to  {'A': 0} with prob [-2.0, -73.499199443976977, -2.0, 0] \n",
        "\n",
        "A Jump at,  8656 to  {'A': 0} with prob [-2.0, -73.499199443976977, -2.0, 0] \n",
        "\n",
        "A Jump at,  8662 to  {'A': 0} with prob [-2.0, -73.499199443976977, -2.0, 0] \n",
        "\n",
        "A Jump at,  8670 to  {'A': 0} with prob [-2.0, -73.499199443976977, -2.0, 0] \n",
        "\n",
        "A Jump at,  8676 to  {'A': 0} with prob [-2.0, -73.499199443976977, -2.0, 0] \n",
        "\n",
        "A Jump at,  8679 to  {'A': 0} with prob [-2.0, -73.499199443976977, -2.0, 0] \n",
        "\n",
        "A Jump at,  8683 to  {'A': 0} with prob [-2.0, -73.499199443976977, -2.0, 0] \n",
        "\n",
        "A Jump at,  8690 to  {'A': 0} with prob [-2.0, -73.499199443976977, -2.0, 0] \n",
        "\n",
        "A Jump at, "
       ]
      },
      {
       "output_type": "stream",
       "stream": "stdout",
       "text": [
        " 8704 to  {'A': 0} with prob [-2.0, -73.499199443976977, -2.0, 0] \n",
        "\n",
        "A Jump at,  8715 to  {'A': 0} with prob [-2.0, -73.499199443976977, -2.0, 0] \n",
        "\n",
        "A Jump at,  8722 to  {'A': 0} with prob [-2.0, -73.499199443976977, -2.0, 0] \n",
        "\n",
        "A Jump at,  8753 to  {'A': 0} with prob [-2.0, -73.499199443976977, -2.0, 0] \n",
        "\n",
        "A Jump at,  8787 to  {'A': 0} with prob [-2.0, -73.499199443976977, -2.0, 0] \n",
        "\n",
        "A Jump at,  8789 to  {'A': 0} with prob [-2.0, -73.499199443976977, -2.0, 0] \n",
        "\n",
        "A Jump at,  8802 to  {'A': 0} with prob [-2.0, -73.499199443976977, -2.0, 0] \n",
        "\n",
        "A Jump at,  8828 to  {'A': 0} with prob [-2.0, -73.499199443976977, -2.0, 0] \n",
        "\n",
        "A Jump at,  8831 to  {'A': 0} with prob [-2.0, -73.499199443976977, -2.0, 0] \n",
        "\n",
        "A Jump at,  8837 to  {'A': 0} with prob [-2.0, -73.499199443976977, -2.0, 0] \n",
        "\n",
        "A Jump at,  8846 to  {'A': 0} with prob [-2.0, -73.499199443976977, -2.0, 0] \n",
        "\n",
        "A Jump at,  8847 to  {'A': 0} with prob [-2.0, -73.499199443976977, -2.0, 0] \n",
        "\n",
        "A Jump at,  8849 to  {'A': 0} with prob [-2.0, -73.499199443976977, -2.0, 0] \n",
        "\n",
        "A Jump at, "
       ]
      },
      {
       "output_type": "stream",
       "stream": "stdout",
       "text": [
        " 8862 to  {'A': 0} with prob [-2.0, -73.499199443976977, -2.0, 0] \n",
        "\n",
        "A Jump at,  8870 to  {'A': 0} with prob [-2.0, -73.499199443976977, -2.0, 0] \n",
        "\n",
        "A Jump at,  8872 to  {'A': 0} with prob [-2.0, -73.499199443976977, -2.0, 0] \n",
        "\n",
        "A Jump at,  8873 to  {'A': 0} with prob [-2.0, -73.499199443976977, -2.0, 0] \n",
        "\n",
        "A Jump at,  8888 to  {'A': 0} with prob [-2.0, -73.499199443976977, -2.0, 0] \n",
        "\n",
        "A Jump at,  8897 to  {'A': 0} with prob [-2.0, -73.499199443976977, -2.0, 0] \n",
        "\n",
        "A Jump at,  8900 to  {'A': 0} with prob [-2.0, -73.499199443976977, -2.0, 0] \n",
        "\n",
        "A Jump at,  8901 to  {'A': 0} with prob [-2.0, -73.499199443976977, -2.0, 0] \n",
        "\n",
        "A Jump at,  8916 to  {'A': 0} with prob [-2.0, -73.499199443976977, -2.0, 0] \n",
        "\n",
        "A Jump at,  8927 to  {'A': 0} with prob [-2.0, -73.499199443976977, -2.0, 0] \n",
        "\n",
        "A Jump at,  8932 to  {'A': 0} with prob [-2.0, -73.499199443976977, -2.0, 0] \n",
        "\n",
        "A Jump at,  8947 to  {'A': 0} with prob [-2.0, -73.499199443976977, -2.0, 0] \n",
        "\n",
        "A Jump at,  8954 to  {'A': 0} with prob [-2.0, -73.499199443976977, -2.0, 0] \n",
        "\n",
        "A Jump at,  8982 to  {'A': 0} with prob [-2.0, -73.499199443976977, -2.0, 0] \n",
        "\n",
        "A Jump at,  8984 to  {'A': 0} with prob [-2.0, -73.499199443976977, -2.0, 0] \n",
        "\n",
        "A Jump at,  9003 to  {'A': 0} with prob [-2.0, -73.499199443976977, -2.0, 0] \n",
        "\n",
        "A Jump at,  9004 to  {'A': 0} with prob [-2.0, -73.499199443976977, -2.0, 0] \n",
        "\n",
        "A Jump at,  9006 to  {'A': 0} with prob [-2.0, -73.499199443976977, -2.0, 0] \n",
        "\n",
        "A Jump at,  9007 to  {'A': 0} with prob [-2.0, -73.499199443976977, -2.0, 0] \n",
        "\n",
        "A Jump at,  9011 to  {'A': 0} with prob [-2.0, -73.499199443976977, -2.0, 0] \n",
        "\n",
        "A Jump at, "
       ]
      },
      {
       "output_type": "stream",
       "stream": "stdout",
       "text": [
        " 9067 to  {'A': 0} with prob [-2.0, -73.499199443976977, -2.0, 0] \n",
        "\n",
        "A Jump at,  9076 to  {'A': 0} with prob [-2.0, -73.499199443976977, -2.0, 0] \n",
        "\n",
        "A Jump at,  9078 to  {'A': 0} with prob [-2.0, -73.499199443976977, -2.0, 0] \n",
        "\n",
        "A Jump at,  9085 to  {'A': 0} with prob [-2.0, -73.499199443976977, -2.0, 0] \n",
        "\n",
        "A Jump at,  9096 to  {'A': 0} with prob [-2.0, -73.499199443976977, -2.0, 0] \n",
        "\n",
        "A Jump at,  9100 to  {'A': 0} with prob [-2.0, -73.499199443976977, -2.0, 0] \n",
        "\n",
        "A Jump at,  9118 to  {'A': 0} with prob [-2.0, -73.499199443976977, -2.0, 0] \n",
        "\n",
        "A Jump at, "
       ]
      },
      {
       "output_type": "stream",
       "stream": "stdout",
       "text": [
        " 9155 to  {'A': 0} with prob [-2.0, -73.499199443976977, -2.0, 0] \n",
        "\n",
        "A Jump at,  9162 to  {'A': 0} with prob [-2.0, -73.499199443976977, -2.0, 0] \n",
        "\n",
        "A Jump at,  9166 to  {'A': 0} with prob [-2.0, -73.499199443976977, -2.0, 0] \n",
        "\n",
        "A Jump at,  9171 to  {'A': 0} with prob [-2.0, -73.499199443976977, -2.0, 0] \n",
        "\n",
        "A Jump at,  9173 to  {'A': 0} with prob [-2.0, -73.499199443976977, -2.0, 0] \n",
        "\n",
        "A Jump at,  9175 to  {'A': 0} with prob [-2.0, -73.499199443976977, -2.0, 0] \n",
        "\n",
        "A Jump at,  9191 to  {'A': 0} with prob [-2.0, -73.499199443976977, -2.0, 0] \n",
        "\n",
        "A Jump at,  9197 to  {'A': 0} with prob [-2.0, -73.499199443976977, -2.0, 0] \n",
        "\n",
        "A Jump at,  9203 to  {'A': 0} with prob [-2.0, -73.499199443976977, -2.0, 0] \n",
        "\n",
        "A Jump at,  9215 to  {'A': 0} with prob [-2.0, -73.499199443976977, -2.0, 0] \n",
        "\n",
        "A Jump at,  9218 to  {'A': 0} with prob [-2.0, -73.499199443976977, -2.0, 0] \n",
        "\n",
        "A Jump at, "
       ]
      },
      {
       "output_type": "stream",
       "stream": "stdout",
       "text": [
        " 9241 to  {'A': 0} with prob [-2.0, -73.499199443976977, -2.0, 0] \n",
        "\n",
        "A Jump at,  9251 to  {'A': 0} with prob [-2.0, -73.499199443976977, -2.0, 0] \n",
        "\n",
        "A Jump at,  9254 to  {'A': 0} with prob [-2.0, -73.499199443976977, -2.0, 0] \n",
        "\n",
        "A Jump at,  9259 to  {'A': 0} with prob [-2.0, -73.499199443976977, -2.0, 0] \n",
        "\n",
        "A Jump at,  9271 to  {'A': 0} with prob [-2.0, -73.499199443976977, -2.0, 0] \n",
        "\n",
        "A Jump at,  9284 to  {'A': 0} with prob [-2.0, -73.499199443976977, -2.0, 0] \n",
        "\n",
        "A Jump at,  9286 to  {'A': 0} with prob [-2.0, -73.499199443976977, -2.0, 0] \n",
        "\n",
        "A Jump at,  9293 to  {'A': 0} with prob [-2.0, -73.499199443976977, -2.0, 0] \n",
        "\n",
        "A Jump at,  9312 to  {'A': 0} with prob [-2.0, -73.499199443976977, -2.0, 0] \n",
        "\n",
        "A Jump at, "
       ]
      },
      {
       "output_type": "stream",
       "stream": "stdout",
       "text": [
        " 9328 to  {'A': 0} with prob [-2.0, -73.499199443976977, -2.0, 0] \n",
        "\n",
        "A Jump at,  9338 to  {'A': 0} with prob [-2.0, -73.499199443976977, -2.0, 0] \n",
        "\n",
        "A Jump at,  9360 to  {'A': 0} with prob [-2.0, -73.499199443976977, -2.0, 0] \n",
        "\n",
        "A Jump at,  9362 to  {'A': 0} with prob [-2.0, -73.499199443976977, -2.0, 0] \n",
        "\n",
        "A Jump at,  9367 to  {'A': 0} with prob [-2.0, -73.499199443976977, -2.0, 0] \n",
        "\n",
        "A Jump at,  9373 to  {'A': 0} with prob [-2.0, -73.499199443976977, -2.0, 0] \n",
        "\n",
        "A Jump at,  9377 to  {'A': 0} with prob [-2.0, -73.499199443976977, -2.0, 0] \n",
        "\n",
        "A Jump at,  9383 to  {'A': 0} with prob [-2.0, -73.499199443976977, -2.0, 0] \n",
        "\n",
        "A Jump at,  9395 to  {'A': 0} with prob [-2.0, -73.499199443976977, -2.0, 0] \n",
        "\n",
        "A Jump at,  9398 to  {'A': 0} with prob [-2.0, -73.499199443976977, -2.0, 0] \n",
        "\n",
        "A Jump at, "
       ]
      },
      {
       "output_type": "stream",
       "stream": "stdout",
       "text": [
        " 9432 to  {'A': 0} with prob [-2.0, -73.499199443976977, -2.0, 0] \n",
        "\n",
        "A Jump at,  9444 to  {'A': 0} with prob [-2.0, -73.499199443976977, -2.0, 0] \n",
        "\n",
        "A Jump at,  9462 to  {'A': 0} with prob [-2.0, -73.499199443976977, -2.0, 0] \n",
        "\n",
        "A Jump at,  9466 to  {'A': 0} with prob [-2.0, -73.499199443976977, -2.0, 0] \n",
        "\n",
        "A Jump at,  9472 to  {'A': 0} with prob [-2.0, -73.499199443976977, -2.0, 0] \n",
        "\n",
        "A Jump at,  9479 to  {'A': 0} with prob [-2.0, -73.499199443976977, -2.0, 0] \n",
        "\n",
        "A Jump at,  9487 to  {'A': 0} with prob [-2.0, -73.499199443976977, -2.0, 0] \n",
        "\n",
        "A Jump at,  9498 to  {'A': 0} with prob [-2.0, -73.499199443976977, -2.0, 0] \n",
        "\n",
        "A Jump at, "
       ]
      },
      {
       "output_type": "stream",
       "stream": "stdout",
       "text": [
        " 9528 to  {'A': 0} with prob [-2.0, -73.499199443976977, -2.0, 0] \n",
        "\n",
        "A Jump at,  9539 to  {'A': 0} with prob [-2.0, -73.499199443976977, -2.0, 0] \n",
        "\n",
        "A Jump at,  9563 to  {'A': 0} with prob [-2.0, -73.499199443976977, -2.0, 0] \n",
        "\n",
        "A Jump at,  9591 to  {'A': 0} with prob [-2.0, -73.499199443976977, -2.0, 0] \n",
        "\n",
        "A Jump at,  9595 to  {'A': 0} with prob [-2.0, -73.499199443976977, -2.0, 0] \n",
        "\n",
        "A Jump at,  9600 to  {'A': 0} with prob [-2.0, -73.499199443976977, -2.0, 0] \n",
        "\n",
        "A Jump at,  9608 to  {'A': 0} with prob [-2.0, -73.499199443976977, -2.0, 0] \n",
        "\n",
        "A Jump at,  9612 to  {'A': 0} with prob [-2.0, -73.499199443976977, -2.0, 0] \n",
        "\n",
        "A Jump at, "
       ]
      },
      {
       "output_type": "stream",
       "stream": "stdout",
       "text": [
        " 9628 to  {'A': 0} with prob [-2.0, -73.499199443976977, -2.0, 0] \n",
        "\n",
        "A Jump at,  9632 to  {'A': 0} with prob [-2.0, -73.499199443976977, -2.0, 0] \n",
        "\n",
        "A Jump at,  9636 to  {'A': 0} with prob [-2.0, -73.499199443976977, -2.0, 0] \n",
        "\n",
        "A Jump at,  9652 to  {'A': 0} with prob [-2.0, -73.499199443976977, -2.0, 0] \n",
        "\n",
        "A Jump at,  9654 to  {'A': 0} with prob [-2.0, -73.499199443976977, -2.0, 0] \n",
        "\n",
        "A Jump at,  9655 to  {'A': 0} with prob [-2.0, -73.499199443976977, -2.0, 0] \n",
        "\n",
        "A Jump at,  9676 to  {'A': 0} with prob [-2.0, -73.499199443976977, -2.0, 0] \n",
        "\n",
        "A Jump at,  9678 to  {'A': 0} with prob [-2.0, -73.499199443976977, -2.0, 0] \n",
        "\n",
        "A Jump at,  9679 to  {'A': 0} with prob [-2.0, -73.499199443976977, -2.0, 0] \n",
        "\n",
        "A Jump at,  9683 to  {'A': 0} with prob [-2.0, -73.499199443976977, -2.0, 0] \n",
        "\n",
        "A Jump at,  9684 to  {'A': 0} with prob [-2.0, -73.499199443976977, -2.0, 0] \n",
        "\n",
        "A Jump at,  9688 to  {'A': 0} with prob [-2.0, -73.499199443976977, -2.0, 0] \n",
        "\n",
        "A Jump at,  9690 to  {'A': 0} with prob [-2.0, -73.499199443976977, -2.0, 0] \n",
        "\n",
        "A Jump at,  9706 to  {'A': 0} with prob [-2.0, -73.499199443976977, -2.0, 0] \n",
        "\n",
        "A Jump at,  9707 to  {'A': 0} with prob [-2.0, -73.499199443976977, -2.0, 0] \n",
        "\n",
        "A Jump at,  9723 to  {'A': 0} with prob [-2.0, -73.499199443976977, -2.0, 0] \n",
        "\n",
        "A Jump at,  9724 to  {'A': 0} with prob [-2.0, -73.499199443976977, -2.0, 0] \n",
        "\n",
        "A Jump at,  9730 to  {'A': 0} with prob [-2.0, -73.499199443976977, -2.0, 0] \n",
        "\n",
        "A Jump at,  9739 to  {'A': 0} with prob [-2.0, -73.499199443976977, -2.0, 0] \n",
        "\n",
        "A Jump at, "
       ]
      },
      {
       "output_type": "stream",
       "stream": "stdout",
       "text": [
        " 9748 to  {'A': 0} with prob [-2.0, -73.499199443976977, -2.0, 0] \n",
        "\n",
        "A Jump at,  9759 to  {'A': 0} with prob [-2.0, -73.499199443976977, -2.0, 0] \n",
        "\n",
        "A Jump at,  9779 to  {'A': 0} with prob [-2.0, -73.499199443976977, -2.0, 0] \n",
        "\n",
        "A Jump at,  9794 to  {'A': 0} with prob [-2.0, -73.499199443976977, -2.0, 0] \n",
        "\n",
        "A Jump at,  9801 to  {'A': 0} with prob [-2.0, -73.499199443976977, -2.0, 0] \n",
        "\n",
        "A Jump at,  9803 to  {'A': 0} with prob [-2.0, -73.499199443976977, -2.0, 0] \n",
        "\n",
        "A Jump at,  9806 to  {'A': 0} with prob [-2.0, -73.499199443976977, -2.0, 0] \n",
        "\n",
        "A Jump at,  9817 to  {'A': 0} with prob [-2.0, -73.499199443976977, -2.0, 0] \n",
        "\n",
        "A Jump at,  9822 to  {'A': 0} with prob [-2.0, -73.499199443976977, -2.0, 0] \n",
        "\n",
        "A Jump at, "
       ]
      },
      {
       "output_type": "stream",
       "stream": "stdout",
       "text": [
        " 9859 to  {'A': 0} with prob [-2.0, -73.499199443976977, -2.0, 0] \n",
        "\n",
        "A Jump at,  9860 to  {'A': 0} with prob [-2.0, -73.499199443976977, -2.0, 0] \n",
        "\n",
        "A Jump at,  9885 to  {'A': 0} with prob [-2.0, -73.499199443976977, -2.0, 0] \n",
        "\n",
        "A Jump at,  9892 to  {'A': 0} with prob [-2.0, -73.499199443976977, -2.0, 0] \n",
        "\n",
        "A Jump at,  9895 to  {'A': 0} with prob [-2.0, -73.499199443976977, -2.0, 0] \n",
        "\n",
        "A Jump at,  9922 to  {'A': 0} with prob [-2.0, -73.499199443976977, -2.0, 0] \n",
        "\n",
        "A Jump at,  9932 to  {'A': 0} with prob [-2.0, -73.499199443976977, -2.0, 0] \n",
        "\n",
        "A Jump at,  9938 to  {'A': 0} with prob [-2.0, -73.499199443976977, -2.0, 0] \n",
        "\n",
        "A Jump at,  9939 to  {'A': 0} with prob [-2.0, -73.499199443976977, -2.0, 0] \n",
        "\n",
        "A Jump at, "
       ]
      },
      {
       "output_type": "stream",
       "stream": "stdout",
       "text": [
        " 9956 to  {'A': 0} with prob [-2.0, -73.499199443976977, -2.0, 0] \n",
        "\n",
        "A Jump at,  9962 to  {'A': 0} with prob [-2.0, -73.499199443976977, -2.0, 0] \n",
        "\n",
        "A Jump at,  9972 to  {'A': 0} with prob [-2.0, -73.499199443976977, -2.0, 0] \n",
        "\n",
        "A Jump at,  9974 to  {'A': 0} with prob [-2.0, -73.499199443976977, -2.0, 0] \n",
        "\n",
        "A Jump at,  9978 to  {'A': 0} with prob [-2.0, -73.499199443976977, -2.0, 0] \n",
        "\n",
        "A Jump at,  9979 to  {'A': 0} with prob [-2.0, -73.499199443976977, -2.0, 0] \n",
        "\n",
        "A Jump at,  9980 to  {'A': 0} with prob [-2.0, -73.499199443976977, -2.0, 0] \n",
        "\n"
       ]
      },
      {
       "metadata": {},
       "output_type": "pyout",
       "prompt_number": 9,
       "text": [
        "<results.Results at 0x4ff8d90>"
       ]
      }
     ],
     "prompt_number": 9
    },
    {
     "cell_type": "code",
     "collapsed": false,
     "input": [
      "for i in range(10):\n",
      "    plt.plot(mcmc_sconv1[i])"
     ],
     "language": "python",
     "metadata": {},
     "outputs": [
      {
       "metadata": {},
       "output_type": "display_data",
       "png": "[encoded data removed]",
       "text": [
        "<matplotlib.figure.Figure at 0x4eee650>"
       ]
      }
     ],
     "prompt_number": 8
    },
    {
     "cell_type": "code",
     "collapsed": false,
     "input": [
      "for i in range(10):\n",
      "    plt.plot(mcmc_sconv1[i][:1000])"
     ],
     "language": "python",
     "metadata": {},
     "outputs": [
      {
       "metadata": {},
       "output_type": "display_data",
       "png": "[encoded data removed]",
       "text": [
        "<matplotlib.figure.Figure at 0x4f1d3d0>"
       ]
      }
     ],
     "prompt_number": 13
    },
    {
     "cell_type": "markdown",
     "metadata": {},
     "source": [
      "This says that to evaluate a 4 dimensional integral, we only need about 300 samples!"
     ]
    },
    {
     "cell_type": "code",
     "collapsed": false,
     "input": [
      "plt.hist(mcmc_sval1)"
     ],
     "language": "python",
     "metadata": {},
     "outputs": [
      {
       "metadata": {},
       "output_type": "pyout",
       "prompt_number": 14,
       "text": [
        "(array([ 1.,  0.,  0.,  1.,  1.,  2.,  0.,  2.,  1.,  2.]),\n",
        " array([-51.38135238, -51.33369662, -51.28604086, -51.23838511,\n",
        "       -51.19072935, -51.14307359, -51.09541783, -51.04776207,\n",
        "       -51.00010631, -50.95245055, -50.90479479]),\n",
        " <a list of 10 Patch objects>)"
       ]
      },
      {
       "metadata": {},
       "output_type": "display_data",
       "png": "[encoded data removed]",
       "text": [
        "<matplotlib.figure.Figure at 0x4fce650>"
       ]
      }
     ],
     "prompt_number": 14
    },
    {
     "cell_type": "heading",
     "level": 1,
     "metadata": {},
     "source": [
      "MCMC over sequences-30 runs"
     ]
    },
    {
     "cell_type": "code",
     "collapsed": false,
     "input": [
      "from mcmc_over_dags import MCMC_sequence as MCMC_sequence_nop\n",
      "mcmc_sconv2 = []\n",
      "mcmc_sval2 = []\n",
      "for approx in range(30):\n",
      "    print approx\n",
      "    res = MCMC_sequence_nop(net, data, s0, 5000, 10000)\n",
      "    mcmc_sval2.append(res.calc_log_likelihood())\n",
      "    mcmc_sconv2.append(res.plot_convergence())"
     ],
     "language": "python",
     "metadata": {},
     "outputs": [
      {
       "output_type": "stream",
       "stream": "stdout",
       "text": [
        "0\n",
        "1"
       ]
      },
      {
       "output_type": "stream",
       "stream": "stdout",
       "text": [
        "\n",
        "2"
       ]
      },
      {
       "output_type": "stream",
       "stream": "stdout",
       "text": [
        "\n",
        "3"
       ]
      },
      {
       "output_type": "stream",
       "stream": "stdout",
       "text": [
        "\n",
        "4"
       ]
      },
      {
       "output_type": "stream",
       "stream": "stdout",
       "text": [
        "\n",
        "5"
       ]
      },
      {
       "output_type": "stream",
       "stream": "stdout",
       "text": [
        "\n",
        "6"
       ]
      },
      {
       "output_type": "stream",
       "stream": "stdout",
       "text": [
        "\n",
        "7"
       ]
      },
      {
       "output_type": "stream",
       "stream": "stdout",
       "text": [
        "\n",
        "8"
       ]
      },
      {
       "output_type": "stream",
       "stream": "stdout",
       "text": [
        "\n",
        "9"
       ]
      },
      {
       "output_type": "stream",
       "stream": "stdout",
       "text": [
        "\n",
        "10"
       ]
      },
      {
       "output_type": "stream",
       "stream": "stdout",
       "text": [
        "\n",
        "11"
       ]
      },
      {
       "output_type": "stream",
       "stream": "stdout",
       "text": [
        "\n",
        "12"
       ]
      },
      {
       "output_type": "stream",
       "stream": "stdout",
       "text": [
        "\n",
        "13"
       ]
      },
      {
       "output_type": "stream",
       "stream": "stdout",
       "text": [
        "\n",
        "14"
       ]
      },
      {
       "output_type": "stream",
       "stream": "stdout",
       "text": [
        "\n",
        "15"
       ]
      },
      {
       "output_type": "stream",
       "stream": "stdout",
       "text": [
        "\n",
        "16"
       ]
      },
      {
       "output_type": "stream",
       "stream": "stdout",
       "text": [
        "\n",
        "17"
       ]
      },
      {
       "output_type": "stream",
       "stream": "stdout",
       "text": [
        "\n",
        "18"
       ]
      },
      {
       "output_type": "stream",
       "stream": "stdout",
       "text": [
        "\n",
        "19"
       ]
      },
      {
       "output_type": "stream",
       "stream": "stdout",
       "text": [
        "\n",
        "20"
       ]
      },
      {
       "output_type": "stream",
       "stream": "stdout",
       "text": [
        "\n",
        "21"
       ]
      },
      {
       "output_type": "stream",
       "stream": "stdout",
       "text": [
        "\n",
        "22"
       ]
      },
      {
       "output_type": "stream",
       "stream": "stdout",
       "text": [
        "\n",
        "23"
       ]
      },
      {
       "output_type": "stream",
       "stream": "stdout",
       "text": [
        "\n",
        "24"
       ]
      },
      {
       "output_type": "stream",
       "stream": "stdout",
       "text": [
        "\n",
        "25"
       ]
      },
      {
       "output_type": "stream",
       "stream": "stdout",
       "text": [
        "\n",
        "26"
       ]
      },
      {
       "output_type": "stream",
       "stream": "stdout",
       "text": [
        "\n",
        "27"
       ]
      },
      {
       "output_type": "stream",
       "stream": "stdout",
       "text": [
        "\n",
        "28"
       ]
      },
      {
       "output_type": "stream",
       "stream": "stdout",
       "text": [
        "\n",
        "29"
       ]
      },
      {
       "output_type": "stream",
       "stream": "stdout",
       "text": [
        "\n"
       ]
      }
     ],
     "prompt_number": 15
    },
    {
     "cell_type": "code",
     "collapsed": false,
     "input": [
      "for i in range(10):\n",
      "    plt.plot(mcmc_sconv2[i])"
     ],
     "language": "python",
     "metadata": {},
     "outputs": [
      {
       "metadata": {},
       "output_type": "display_data",
       "png": "[encoded data removed]",
       "text": [
        "<matplotlib.figure.Figure at 0x4f21bd0>"
       ]
      }
     ],
     "prompt_number": 16
    },
    {
     "cell_type": "code",
     "collapsed": false,
     "input": [
      "plt.hist(mcmc_sval2)"
     ],
     "language": "python",
     "metadata": {},
     "outputs": [
      {
       "metadata": {},
       "output_type": "pyout",
       "prompt_number": 18,
       "text": [
        "(array([  1.,   1.,   1.,   4.,  10.,   3.,   5.,   2.,   1.,   2.]),\n",
        " array([-51.43522014, -51.37196357, -51.30870701, -51.24545044,\n",
        "       -51.18219387, -51.1189373 , -51.05568074, -50.99242417,\n",
        "       -50.9291676 , -50.86591103, -50.80265447]),\n",
        " <a list of 10 Patch objects>)"
       ]
      },
      {
       "metadata": {},
       "output_type": "display_data",
       "png": "[encoded data removed]",
       "text": [
        "<matplotlib.figure.Figure at 0x52fb490>"
       ]
      }
     ],
     "prompt_number": 18
    },
    {
     "cell_type": "code",
     "collapsed": false,
     "input": [
      "state=['infected' , 'normal', 'infected', 'normal']\n",
      "infected = [net.node_names[i] for i in range(len(net.nodes)) if state[i]=='infected']\n",
      "state_ix = net.cross_S.index(state)\n",
      "sum([[1,2,3],[4,5,6]])\n",
      "from itertools import chain\n",
      "at_risk = set(chain(*[net.node_dict[nd].sends_to for nd in infected])) - set(infected)\n",
      "##net.mal_trans_mats[state_ix]\n",
      "at_risk_ix = [net.node_names.index(nd) for nd in at_risk]\n",
      "np.sum(net.mal_trans_mats[state_ix][:,at_risk_ix], axis=0)\n",
      "a=set()\n",
      "np.random.choice("
     ],
     "language": "python",
     "metadata": {},
     "outputs": [
      {
       "metadata": {},
       "output_type": "pyout",
       "prompt_number": 55,
       "text": [
        "0"
       ]
      }
     ],
     "prompt_number": 55
    },
    {
     "cell_type": "heading",
     "level": 1,
     "metadata": {},
     "source": [
      "For the bigger net"
     ]
    },
    {
     "cell_type": "code",
     "collapsed": false,
     "input": [
      "from sft import *\n",
      "from sft_net import *\n",
      "from uniform_approx import *\n",
      "import numpy as np\n",
      "from roc import get_roc_coords, plot_our_roc, plot_anomaly_roc, handle_parallel_res\n",
      "from tools import gen_trans_frame\n",
      "import adsy\n",
      "from adsy.ipython import extended_styles\n",
      "import networkx as nx\n",
      "from mcmc_over_dags import MCMC_sequence"
     ],
     "language": "python",
     "metadata": {},
     "outputs": [],
     "prompt_number": 2
    },
    {
     "cell_type": "code",
     "collapsed": false,
     "input": [
      "A = SFT('A', ['normal' , 'infected'], ['B', 'F'], \n",
      "    {'B': np.array([[.5, 0], [.5,.01]]), 'F' : np.array([[.5, 0], [.5, .01]])},\n",
      "    ['clean', 'malicious'], 'external')\n",
      "# Node A sends messages to B and F\n",
      "\n",
      "B = SFT('B', ['normal' , 'infected'], ['A', 'D', 'F'], \n",
      "    {'A': np.array([[.5, 0], [.5,.01]]), 'D': np.array([[.5,0], [.5, .01]]), 'F' : np.array([[.5, 0], [.5, .01]])},\n",
      "    ['clean', 'malicious'], 'internal')\n",
      "# B sends messages to A, D and F\n",
      "C = SFT('C', ['normal' , 'infected'], ['A', 'B', 'F'],\n",
      "    {'A': np.array([[.5, 0], [.5,.01]]), 'B': np.array([[.5, 0], [.5, .01]]), 'F' : np.array([[.5, 0], [.5, .01]])},\n",
      "    ['clean', 'malicious'], 'internal')\n",
      "# C sends messages to A, B and F\n",
      "\n",
      "\n",
      "D = SFT('D', ['normal' , 'infected'], ['A', 'C', 'F'], \n",
      "    {'A': np.array([[.5, 0], [.5,.01]]), 'C': np.array([[.5,0], [.5, .01]]), 'F' : np.array([[.24, 0], [.24, .01]])},\n",
      "    ['clean', 'malicious'], 'internal')\n",
      "# D sends nodes to A, C and F\n",
      "\n",
      "E = SFT('E', ['normal' , 'infected'], ['A', 'B', 'C', 'F'], \n",
      "    {'A': np.array([[.5, 0], [.5,.01]]), 'B': np.array([[.5,0], [.5, .01]]), \n",
      "     'C': np.array([[.5,0], [.5, .01]]), 'F' : np.array([[.5, 0], [.5, .01]])},\n",
      "    ['clean', 'malicious'], 'internal')\n",
      "# E (slowly) sends nodes to A, B, C and F\n",
      "\n",
      "F = SFT('F', ['normal' , 'infected'], ['A', 'E'], \n",
      "    {'A': np.array([[.5, 0], [.5,.01]]), 'E' : np.array([[.5, 0], [.5, .01]])},\n",
      "    ['clean', 'malicious'], 'external')\n",
      "# F sends nodes to A and E\n",
      "\n",
      "\n",
      "\n",
      "\n",
      "nodes = [A,B,C,D,E,F]\n",
      "net = SFTNet(nodes)"
     ],
     "language": "python",
     "metadata": {},
     "outputs": [],
     "prompt_number": 3
    },
    {
     "cell_type": "code",
     "collapsed": false,
     "input": [
      "s0 = {'A': 'infected', 'B': 'normal', 'C': 'normal', 'D': 'normal', 'E': 'normal', 'F': 'infected'}"
     ],
     "language": "python",
     "metadata": {},
     "outputs": [],
     "prompt_number": 4
    },
    {
     "cell_type": "code",
     "collapsed": false,
     "input": [
      "newdta = gen_data(3000, net, s0)"
     ],
     "language": "python",
     "metadata": {},
     "outputs": [],
     "prompt_number": 5
    },
    {
     "cell_type": "code",
     "collapsed": false,
     "input": [
      "newdta[-1]"
     ],
     "language": "python",
     "metadata": {},
     "outputs": [
      {
       "metadata": {},
       "output_type": "pyout",
       "prompt_number": 6,
       "text": [
        "{'A': 0,\n",
        " 'B': 29.20467914363316,\n",
        " 'C': 196.58169284739145,\n",
        " 'D': 89.43374390820891,\n",
        " 'E': 54.943355837723495,\n",
        " 'F': 0}"
       ]
      }
     ],
     "prompt_number": 6
    },
    {
     "cell_type": "code",
     "collapsed": false,
     "input": [
      "mcmc_bconv1 = []\n",
      "mcmc_bval1 = []\n",
      "for approx in range(10):\n",
      "    print approx\n",
      "    res = MCMC_sequence(net, newdta, s0, 5000, 3000)\n",
      "    mcmc_bval1.append(res.calc_log_likelihood(burnin=2000))\n",
      "    mcmc_bconv1.append(res.plot_convergence(burnin=1000))"
     ],
     "language": "python",
     "metadata": {},
     "outputs": [
      {
       "output_type": "stream",
       "stream": "stdout",
       "text": [
        "0\n",
        "1"
       ]
      },
      {
       "output_type": "stream",
       "stream": "stdout",
       "text": [
        "\n",
        "2"
       ]
      },
      {
       "output_type": "stream",
       "stream": "stdout",
       "text": [
        "\n",
        "3"
       ]
      },
      {
       "output_type": "stream",
       "stream": "stdout",
       "text": [
        "\n",
        "4"
       ]
      },
      {
       "output_type": "stream",
       "stream": "stdout",
       "text": [
        "\n",
        "5"
       ]
      },
      {
       "output_type": "stream",
       "stream": "stdout",
       "text": [
        "\n",
        "6"
       ]
      },
      {
       "output_type": "stream",
       "stream": "stdout",
       "text": [
        "\n",
        "7"
       ]
      },
      {
       "output_type": "stream",
       "stream": "stdout",
       "text": [
        "\n",
        "8"
       ]
      },
      {
       "output_type": "stream",
       "stream": "stdout",
       "text": [
        "\n",
        "9"
       ]
      },
      {
       "output_type": "stream",
       "stream": "stdout",
       "text": [
        "\n"
       ]
      }
     ],
     "prompt_number": 11
    },
    {
     "cell_type": "code",
     "collapsed": false,
     "input": [
      "for i in range(10):\n",
      "    plt.plot(mcmc_bconv1[i])"
     ],
     "language": "python",
     "metadata": {},
     "outputs": [
      {
       "metadata": {},
       "output_type": "display_data",
       "png": "[encoded data removed]",
       "text": [
        "<matplotlib.figure.Figure at 0x5cac210>"
       ]
      }
     ],
     "prompt_number": 8
    },
    {
     "cell_type": "code",
     "collapsed": false,
     "input": [
      "mcmc_bval1"
     ],
     "language": "python",
     "metadata": {},
     "outputs": [
      {
       "metadata": {},
       "output_type": "pyout",
       "prompt_number": 9,
       "text": [
        "[-115.96754914735484,\n",
        " -115.58331634049857,\n",
        " -116.74039659306347,\n",
        " -113.90407677482557,\n",
        " -116.29372472302383,\n",
        " -114.35685280787567,\n",
        " -116.00645481542988,\n",
        " -120.38584039036199,\n",
        " -116.94658585980407,\n",
        " -111.14282743678623]"
       ]
      }
     ],
     "prompt_number": 9
    },
    {
     "cell_type": "code",
     "collapsed": false,
     "input": [
      "uni_bconv1 = []\n",
      "uni_bval1 = []\n",
      "for approx in range(10):\n",
      "    print approx\n",
      "    res = uniform_samp(net, s0, 1000, 3000, newdta)\n",
      "    uni_bval1.append(res[0])\n",
      "    uni_bconv1.append(plot_uniform_convergence(res))\n",
      "    "
     ],
     "language": "python",
     "metadata": {},
     "outputs": [
      {
       "output_type": "stream",
       "stream": "stdout",
       "text": [
        "0\n",
        "1"
       ]
      },
      {
       "output_type": "stream",
       "stream": "stdout",
       "text": [
        "\n",
        "2"
       ]
      },
      {
       "output_type": "stream",
       "stream": "stdout",
       "text": [
        "\n",
        "3"
       ]
      },
      {
       "output_type": "stream",
       "stream": "stdout",
       "text": [
        "\n",
        "4"
       ]
      },
      {
       "output_type": "stream",
       "stream": "stdout",
       "text": [
        "\n",
        "5"
       ]
      },
      {
       "output_type": "stream",
       "stream": "stdout",
       "text": [
        "\n",
        "6"
       ]
      },
      {
       "output_type": "stream",
       "stream": "stdout",
       "text": [
        "\n",
        "7"
       ]
      },
      {
       "output_type": "stream",
       "stream": "stdout",
       "text": [
        "\n",
        "8"
       ]
      },
      {
       "output_type": "stream",
       "stream": "stdout",
       "text": [
        "\n",
        "9"
       ]
      },
      {
       "output_type": "stream",
       "stream": "stdout",
       "text": [
        "\n"
       ]
      }
     ],
     "prompt_number": 13
    },
    {
     "cell_type": "code",
     "collapsed": false,
     "input": [
      "for i in range(10):\n",
      "    plt.plot(uni_bconv1[i])"
     ],
     "language": "python",
     "metadata": {},
     "outputs": [
      {
       "ename": "NameError",
       "evalue": "name 'uni_bconv1' is not defined",
       "output_type": "pyerr",
       "traceback": [
        "\u001b[1;31m---------------------------------------------------------------------------\u001b[0m\n\u001b[1;31mNameError\u001b[0m                                 Traceback (most recent call last)",
        "\u001b[1;32m<ipython-input-12-d8634d0cc312>\u001b[0m in \u001b[0;36m<module>\u001b[1;34m()\u001b[0m\n\u001b[0;32m      1\u001b[0m \u001b[1;32mfor\u001b[0m \u001b[0mi\u001b[0m \u001b[1;32min\u001b[0m \u001b[0mrange\u001b[0m\u001b[1;33m(\u001b[0m\u001b[1;36m10\u001b[0m\u001b[1;33m)\u001b[0m\u001b[1;33m:\u001b[0m\u001b[1;33m\u001b[0m\u001b[0m\n\u001b[1;32m----> 2\u001b[1;33m     \u001b[0mplt\u001b[0m\u001b[1;33m.\u001b[0m\u001b[0mplot\u001b[0m\u001b[1;33m(\u001b[0m\u001b[0muni_bconv1\u001b[0m\u001b[1;33m[\u001b[0m\u001b[0mi\u001b[0m\u001b[1;33m]\u001b[0m\u001b[1;33m)\u001b[0m\u001b[1;33m\u001b[0m\u001b[0m\n\u001b[0m",
        "\u001b[1;31mNameError\u001b[0m: name 'uni_bconv1' is not defined"
       ]
      }
     ],
     "prompt_number": 12
    },
    {
     "cell_type": "code",
     "collapsed": false,
     "input": [
      "from tools import prob_model_given_data, gen_logn_fact\n",
      "lnf=gen_logn_fact(data)"
     ],
     "language": "python",
     "metadata": {},
     "outputs": [],
     "prompt_number": 10
    },
    {
     "cell_type": "code",
     "collapsed": false,
     "input": [
      "prob_model_given_data(net, data, {'A': 0, 'B':2600, 'C':5000}, 10000, lnf)"
     ],
     "language": "python",
     "metadata": {},
     "outputs": [
      {
       "metadata": {},
       "output_type": "pyout",
       "prompt_number": 17,
       "text": [
        "[-1992.2719259646374,\n",
        " -71.773737445711959,\n",
        " -1501.3857947358288,\n",
        " -1.3857947358284561]"
       ]
      }
     ],
     "prompt_number": 17
    },
    {
     "cell_type": "code",
     "collapsed": false,
     "input": [
      "data[-1]"
     ],
     "language": "python",
     "metadata": {},
     "outputs": [
      {
       "metadata": {},
       "output_type": "pyout",
       "prompt_number": 56,
       "text": [
        "{'A': 0,\n",
        " 'B': 6774.112607540528,\n",
        " 'C': 6788.299166896274,\n",
        " 'D': 6778.217535446893}"
       ]
      }
     ],
     "prompt_number": 56
    },
    {
     "cell_type": "code",
     "collapsed": false,
     "input": [
      "from direct_sample import direct_sample"
     ],
     "language": "python",
     "metadata": {},
     "outputs": [],
     "prompt_number": 3
    },
    {
     "cell_type": "code",
     "collapsed": false,
     "input": [
      "ds_res = []\n",
      "ds_long = []\n",
      "for i in range(10):\n",
      "    print i\n",
      "    res= direct_sample(net, data, 8000, 10000,s0)\n",
      "    ds_res.append(res[0])\n",
      "    ds_long.append(res[1])"
     ],
     "language": "python",
     "metadata": {},
     "outputs": [
      {
       "output_type": "stream",
       "stream": "stdout",
       "text": [
        "0\n",
        "1"
       ]
      },
      {
       "output_type": "stream",
       "stream": "stdout",
       "text": [
        "\n",
        "2"
       ]
      },
      {
       "output_type": "stream",
       "stream": "stdout",
       "text": [
        "\n",
        "3"
       ]
      },
      {
       "output_type": "stream",
       "stream": "stdout",
       "text": [
        "\n",
        "4"
       ]
      },
      {
       "output_type": "stream",
       "stream": "stdout",
       "text": [
        "\n",
        "5"
       ]
      },
      {
       "output_type": "stream",
       "stream": "stdout",
       "text": [
        "\n",
        "6"
       ]
      },
      {
       "output_type": "stream",
       "stream": "stdout",
       "text": [
        "\n",
        "7"
       ]
      },
      {
       "output_type": "stream",
       "stream": "stdout",
       "text": [
        "\n",
        "8"
       ]
      },
      {
       "output_type": "stream",
       "stream": "stdout",
       "text": [
        "\n",
        "9"
       ]
      },
      {
       "output_type": "stream",
       "stream": "stdout",
       "text": [
        "\n"
       ]
      }
     ],
     "prompt_number": 13
    },
    {
     "cell_type": "code",
     "collapsed": false,
     "input": [
      "ds_res"
     ],
     "language": "python",
     "metadata": {},
     "outputs": [
      {
       "metadata": {},
       "output_type": "pyout",
       "prompt_number": 14,
       "text": [
        "[-52.565205436311686,\n",
        " -52.479669480896057,\n",
        " -52.644717089199638,\n",
        " -52.463832336516013,\n",
        " -52.678957605517851,\n",
        " -52.497809885468548,\n",
        " -52.575139904813838,\n",
        " -52.737645310135036,\n",
        " -52.506802656561618,\n",
        " -52.232028747341012]"
       ]
      }
     ],
     "prompt_number": 14
    },
    {
     "cell_type": "code",
     "collapsed": false,
     "input": [
      "from tools import gen_logn_fact\n",
      "lnf = gen_logn_fact(data)\n",
      "prob_model_given_data(net, data, {'A':0, 'B':2000, 'C': 1300, 'D':1800}, 10000, lnf)"
     ],
     "language": "python",
     "metadata": {},
     "outputs": [
      {
       "metadata": {},
       "output_type": "pyout",
       "prompt_number": 22,
       "text": [
        "[-120.36011865638645,\n",
        " -118.3051359735191,\n",
        " -0.69364705560159456,\n",
        " -0.69364705560159456]"
       ]
      }
     ],
     "prompt_number": 22
    },
    {
     "cell_type": "code",
     "collapsed": false,
     "input": [
      "ndta = gen_data(50000, net, s0)"
     ],
     "language": "python",
     "metadata": {},
     "outputs": [],
     "prompt_number": 25
    },
    {
     "cell_type": "code",
     "collapsed": false,
     "input": [
      "nlnf = gen_logn_fact(ndta)"
     ],
     "language": "python",
     "metadata": {},
     "outputs": [],
     "prompt_number": 26
    },
    {
     "cell_type": "code",
     "collapsed": false,
     "input": [
      "prob_model_given_data(net, ndta, {'A':0, 'B':2000, 'C': 1300, 'D':1800}, 50000, nlnf)"
     ],
     "language": "python",
     "metadata": {},
     "outputs": [
      {
       "metadata": {},
       "output_type": "pyout",
       "prompt_number": 27,
       "text": [
        "[-120.36011865638645,\n",
        " -52.83783379266788,\n",
        " -0.69364705560159456,\n",
        " -0.69364705560159456]"
       ]
      }
     ],
     "prompt_number": 27
    },
    {
     "cell_type": "code",
     "collapsed": false,
     "input": [
      "tms= [-1.38, -1.38, -8.29, -.693]"
     ],
     "language": "python",
     "metadata": {},
     "outputs": [],
     "prompt_number": 32
    },
    {
     "cell_type": "code",
     "collapsed": false,
     "input": [
      "np.sum(np.exp(tms))"
     ],
     "language": "python",
     "metadata": {},
     "outputs": [
      {
       "metadata": {},
       "output_type": "pyout",
       "prompt_number": 33,
       "text": [
        "1.0034817162780243"
       ]
      }
     ],
     "prompt_number": 33
    },
    {
     "cell_type": "code",
     "collapsed": false,
     "input": [
      "us = []\n",
      "ds = []\n",
      "times = []\n",
      "for i in range(10):\n",
      "    print i\n",
      "    ndta = gen_data(10000,net,s0)\n",
      "    ures = uniform_samp(net, s0, 16000, 10000, ndta)\n",
      "    us.append(ures)\n",
      "    dres = direct_sample(net, ndta, 4000, 10000, s0)\n",
      "    ds.append(dres)\n",
      "    times.append(ndta[-1])"
     ],
     "language": "python",
     "metadata": {},
     "outputs": [
      {
       "output_type": "stream",
       "stream": "stdout",
       "text": [
        "0\n",
        "1"
       ]
      },
      {
       "output_type": "stream",
       "stream": "stdout",
       "text": [
        "\n",
        "2"
       ]
      },
      {
       "output_type": "stream",
       "stream": "stdout",
       "text": [
        "\n",
        "3"
       ]
      },
      {
       "output_type": "stream",
       "stream": "stdout",
       "text": [
        "\n",
        "4"
       ]
      },
      {
       "output_type": "stream",
       "stream": "stdout",
       "text": [
        "\n",
        "5"
       ]
      },
      {
       "output_type": "stream",
       "stream": "stdout",
       "text": [
        "\n",
        "6"
       ]
      },
      {
       "output_type": "stream",
       "stream": "stdout",
       "text": [
        "\n",
        "7"
       ]
      },
      {
       "output_type": "stream",
       "stream": "stdout",
       "text": [
        "\n",
        "8"
       ]
      },
      {
       "output_type": "stream",
       "stream": "stdout",
       "text": [
        "\n",
        "9"
       ]
      },
      {
       "output_type": "stream",
       "stream": "stdout",
       "text": [
        "\n"
       ]
      }
     ],
     "prompt_number": 27
    },
    {
     "cell_type": "code",
     "collapsed": false,
     "input": [],
     "language": "python",
     "metadata": {},
     "outputs": [],
     "prompt_number": 39
    },
    {
     "cell_type": "code",
     "collapsed": false,
     "input": [
      "dresval = [r[0] for r in ds]"
     ],
     "language": "python",
     "metadata": {},
     "outputs": [],
     "prompt_number": 28
    },
    {
     "cell_type": "code",
     "collapsed": false,
     "input": [
      "uresval = [r[0] for r in us]"
     ],
     "language": "python",
     "metadata": {},
     "outputs": [],
     "prompt_number": 29
    },
    {
     "cell_type": "code",
     "collapsed": false,
     "input": [
      "plt.hist(np.asarray(dresval) - np.asarray(uresval))"
     ],
     "language": "python",
     "metadata": {},
     "outputs": [
      {
       "metadata": {},
       "output_type": "pyout",
       "prompt_number": 30,
       "text": [
        "(array([ 4.,  2.,  1.,  0.,  2.,  0.,  0.,  0.,  0.,  1.]),\n",
        " array([ -0.01801121,   1.37657472,   2.77116064,   4.16574656,\n",
        "         5.56033248,   6.95491841,   8.34950433,   9.74409025,\n",
        "        11.13867617,  12.53326209,  13.92784802]),\n",
        " <a list of 10 Patch objects>)"
       ]
      },
      {
       "metadata": {},
       "output_type": "display_data",
       "png": "[encoded data removed]",
       "text": [
        "<matplotlib.figure.Figure at 0x6728750>"
       ]
      }
     ],
     "prompt_number": 30
    },
    {
     "cell_type": "code",
     "collapsed": false,
     "input": [
      "times"
     ],
     "language": "python",
     "metadata": {},
     "outputs": [
      {
       "metadata": {},
       "output_type": "pyout",
       "prompt_number": 31,
       "text": [
        "[{'A': 0,\n",
        "  'B': 9593.071178145137,\n",
        "  'C': 9597.086320677256,\n",
        "  'D': 9597.763487302329},\n",
        " {'A': 0,\n",
        "  'B': 6472.509416931653,\n",
        "  'C': 6480.154256312325,\n",
        "  'D': 6481.323703116747},\n",
        " {'A': 0,\n",
        "  'B': 1302.110309071027,\n",
        "  'C': 1305.1897140833755,\n",
        "  'D': 1307.1038342590855},\n",
        " {'A': 0,\n",
        "  'B': 4726.238515317988,\n",
        "  'C': 4764.760516451275,\n",
        "  'D': 4726.8393187774},\n",
        " {'A': 0,\n",
        "  'B': 3022.109528092256,\n",
        "  'C': 762.987911913928,\n",
        "  'D': 767.5401839529185},\n",
        " {'A': 0, 'B': 10000, 'C': 10000, 'D': 10000},\n",
        " {'A': 0,\n",
        "  'B': 4026.9511793190154,\n",
        "  'C': 4038.9445401460953,\n",
        "  'D': 4030.1633128582575},\n",
        " {'A': 0,\n",
        "  'B': 2022.507072004639,\n",
        "  'C': 2025.4043112602194,\n",
        "  'D': 2028.1859830524338},\n",
        " {'A': 0, 'B': 10000, 'C': 2987.109918272343, 'D': 2988.31860105118},\n",
        " {'A': 0,\n",
        "  'B': 316.8837304740539,\n",
        "  'C': 328.33155100200395,\n",
        "  'D': 325.07220530235656}]"
       ]
      }
     ],
     "prompt_number": 31
    },
    {
     "cell_type": "code",
     "collapsed": false,
     "input": [
      "dresval[-1]"
     ],
     "language": "python",
     "metadata": {},
     "outputs": [
      {
       "metadata": {},
       "output_type": "pyout",
       "prompt_number": 33,
       "text": [
        "-42.53014977974869"
       ]
      }
     ],
     "prompt_number": 33
    },
    {
     "cell_type": "code",
     "collapsed": false,
     "input": [
      "uresval[-1]"
     ],
     "language": "python",
     "metadata": {},
     "outputs": [
      {
       "metadata": {},
       "output_type": "pyout",
       "prompt_number": 32,
       "text": [
        "-56.457997796753958"
       ]
      }
     ],
     "prompt_number": 32
    },
    {
     "cell_type": "code",
     "collapsed": false,
     "input": [],
     "language": "python",
     "metadata": {},
     "outputs": []
    }
   ],
   "metadata": {}
  }
 ]
}