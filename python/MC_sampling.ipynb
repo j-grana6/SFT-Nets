{
 "metadata": {
  "name": ""
 },
 "nbformat": 3,
 "nbformat_minor": 0,
 "worksheets": [
  {
   "cells": [
    {
     "cell_type": "code",
     "collapsed": false,
     "input": [
      "from sft import SFT\n",
      "from sft_net import SFTNet\n",
      "from direct_sample import Direct_Sample\n",
      "from tools import gen_data\n",
      "import numpy as np\n",
      "import networkx as nx\n",
      "from IPython.display import HTML\n",
      "from tools import gen_trans_frame\n",
      "from roc import get_roc_coords, handle_parallel_res, plot_anomaly_roc, plot_our_roc\n",
      "from adsy.display import extended_styles"
     ],
     "language": "python",
     "metadata": {},
     "outputs": [],
     "prompt_number": 2
    },
    {
     "cell_type": "code",
     "collapsed": false,
     "input": [
      "extended_styles()"
     ],
     "language": "python",
     "metadata": {},
     "outputs": [
      {
       "html": [
        "\n",
        "        <script type=\"text/javascript\">\n",
        "        var toggleInput;\n",
        "        (function() {\n",
        "            var inputInterval;\n",
        "            var intervalCount = 0;\n",
        "            var init = false;\n",
        "            var inputUp = false;\n",
        "            toggleInput = function() {\n",
        "                if(inputUp) {\n",
        "                    $('div.input').slideDown();\n",
        "                    $('div.code_cell').attr('style', '');\n",
        "                }\n",
        "                else {\n",
        "                    $('div.input').slideUp();\n",
        "                    $('div.code_cell').attr('style', 'padding: 0px; margin: 0px');\n",
        "                }\n",
        "                inputUp = !inputUp;\n",
        "                init = true;\n",
        "            }\n",
        "            function initExtendedStyles() {\n",
        "                if(intervalCount > 15) {\n",
        "                    clearInterval(inputInterval);\n",
        "                }\n",
        "                intervalCount += 1;\n",
        "                try {\n",
        "                    toggleInput();\n",
        "                    clearInterval(inputInterval);\n",
        "                } catch(e) {}\n",
        "            }\n",
        "            if (typeof jQuery == 'undefined') {\n",
        "                // if jQuery Library is not loaded\n",
        "                var script = document.createElement( 'script' );\n",
        "                script.type = 'text/javascript';\n",
        "                script.src = 'https://ajax.googleapis.com/ajax/libs/jquery/1.8.3/jquery.min.js';\n",
        "                document.body.appendChild(script);\n",
        "            }\n",
        "\n",
        "            setTimeout(initExtendedStyles, 200);\n",
        "            // jQuery is doing this interval trick\n",
        "            // I guess its the way to do it then.\n",
        "            inputInterval = setInterval(initExtendedStyles, 1000);\n",
        "        }());\n",
        "        </script>\n",
        "       <a href=\"javascript:toggleInput()\">Toggle Input</a>\n",
        "        "
       ],
       "metadata": {},
       "output_type": "pyout",
       "prompt_number": 3,
       "text": [
        "<IPython.core.display.HTML at 0x5fbcd90>"
       ]
      }
     ],
     "prompt_number": 3
    },
    {
     "cell_type": "code",
     "collapsed": false,
     "input": [
      "A = SFT('A', ['normal' , 'infected'], ['B', 'F'], \n",
      "    {'B': np.array([[.5, 0], [.5,.001]]), 'F' : np.array([[.5, 0], [.5, .001]])},\n",
      "    ['clean', 'malicious'], 'external')\n",
      "# Node A sends messages to B and F\n",
      "\n",
      "B = SFT('B', ['normal' , 'infected'], [ 'E'], \n",
      "    {'E' : np.array([[.5, 0], [.5, .01]])},\n",
      "    ['clean', 'malicious'], 'internal')\n",
      "# B sends messages to A, D and F\n",
      "C = SFT('C', ['normal' , 'infected'], ['E'],\n",
      "    {'E': np.array([[.5, 0], [.5,.01]])},\n",
      "    ['clean', 'malicious'], 'internal')\n",
      "# C sends messages to A, B and F\n",
      "\n",
      "\n",
      "D = SFT('D', ['normal' , 'infected'], ['E'], \n",
      "    {'E': np.array([[.5, 0], [.5,.01]])},\n",
      "    ['clean', 'malicious'], 'internal')\n",
      "# D sends nodes to A, C and F\n",
      "\n",
      "E = SFT('E', ['normal' , 'infected'], ['A', 'B', 'C', 'D', 'F'], \n",
      "    {'A': np.array([[.5, 0], [.5,.001]]), 'B': np.array([[.5,0], [.5, .001]]), \n",
      "     'C': np.array([[.5,0], [.5, .001]]), 'D' : np.array([[.5, 0], [.5, .001]]), 'F' : np.array([[.5, 0], [.5, .001]])},\n",
      "    ['clean', 'malicious'], 'internal')\n",
      "# E (slowly) sends nodes to A, B, C and F\n",
      "\n",
      "F = SFT('F', ['normal' , 'infected'], ['A', 'E'], \n",
      "    {'A': np.array([[.5, 0], [.5,.01]]), 'E' : np.array([[.5, 0], [.5, .01]])},\n",
      "    ['clean', 'malicious'], 'external')\n",
      "# F sends nodes to A and E\n",
      "\n",
      "nodes_1 = [A, B,C,D,E,F]\n",
      "net_1 = SFTNet(nodes_1)\n",
      "s0_1 = {'A': 'infected', 'B': 'normal', 'C': 'normal', 'D': 'normal', 'E': 'normal', 'F': 'normal'}"
     ],
     "language": "python",
     "metadata": {},
     "outputs": [],
     "prompt_number": 5
    },
    {
     "cell_type": "code",
     "collapsed": false,
     "input": [
      "def draw_graph_with_rates(net, s0_in):\n",
      "    G=nx.DiGraph()\n",
      "    G.add_nodes_from(s0_in.keys())\n",
      "    edges = []\n",
      "    for node in net.node_names:\n",
      "        for onode in net.node_dict[node].sends_to:\n",
      "            edges.append((node, onode))\n",
      "    G.add_edges_from(edges)\n",
      "    theta = np.arange(0, 720, len(s0_in.keys()))\n",
      "    pos = {}\n",
      "    for i in range(len(s0_in.keys())):\n",
      "        pos[s0_in.keys()[i]] = (np.cos(i), np.sin(i))\n",
      "    pos['E'] = (0,0)\n",
      "    try :\n",
      "        pos['E1'] = (2,0)\n",
      "    except KeyError:\n",
      "        pass\n",
      "    val_map = {}\n",
      "    for (key, val) in s0_in.iteritems():\n",
      "        if val=='infected':\n",
      "            val_map[key] ='r'\n",
      "        else: \n",
      "            val_map[key] = 'g'\n",
      "    values = [val_map.get(node, 0.25) for node in G.nodes()]\n",
      "    nx.draw(G, pos=pos, node_color = values)"
     ],
     "language": "python",
     "metadata": {},
     "outputs": [],
     "prompt_number": 6
    },
    {
     "cell_type": "code",
     "collapsed": false,
     "input": [
      "draw_graph_with_rates(net_1, s0_1)"
     ],
     "language": "python",
     "metadata": {},
     "outputs": [
      {
       "metadata": {},
       "output_type": "display_data",
       "png": "[encoded data removed]",
       "text": [
        "<matplotlib.figure.Figure at 0x5fbc990>"
       ]
      }
     ],
     "prompt_number": 7
    },
    {
     "cell_type": "code",
     "collapsed": false,
     "input": [
      "rates = gen_trans_frame(net_1)\n",
      "ix = rates['normal-clean rate'] >0\n",
      "HTML(rates[ix].to_html())"
     ],
     "language": "python",
     "metadata": {},
     "outputs": [
      {
       "html": [
        "<table border=\"1\" class=\"dataframe\">\n",
        "  <thead>\n",
        "    <tr style=\"text-align: right;\">\n",
        "      <th></th>\n",
        "      <th></th>\n",
        "      <th>normal-clean rate</th>\n",
        "      <th>infected-clean rate</th>\n",
        "      <th>infected-malicious rate</th>\n",
        "    </tr>\n",
        "    <tr>\n",
        "      <th>sender</th>\n",
        "      <th>receiver</th>\n",
        "      <th></th>\n",
        "      <th></th>\n",
        "      <th></th>\n",
        "    </tr>\n",
        "  </thead>\n",
        "  <tbody>\n",
        "    <tr>\n",
        "      <th rowspan=\"2\" valign=\"top\">A</th>\n",
        "      <th>B</th>\n",
        "      <td> 0.5</td>\n",
        "      <td> 0.5</td>\n",
        "      <td> 0.001</td>\n",
        "    </tr>\n",
        "    <tr>\n",
        "      <th>F</th>\n",
        "      <td> 0.5</td>\n",
        "      <td> 0.5</td>\n",
        "      <td> 0.001</td>\n",
        "    </tr>\n",
        "    <tr>\n",
        "      <th>B</th>\n",
        "      <th>E</th>\n",
        "      <td> 0.5</td>\n",
        "      <td> 0.5</td>\n",
        "      <td> 0.010</td>\n",
        "    </tr>\n",
        "    <tr>\n",
        "      <th>C</th>\n",
        "      <th>E</th>\n",
        "      <td> 0.5</td>\n",
        "      <td> 0.5</td>\n",
        "      <td> 0.010</td>\n",
        "    </tr>\n",
        "    <tr>\n",
        "      <th>D</th>\n",
        "      <th>E</th>\n",
        "      <td> 0.5</td>\n",
        "      <td> 0.5</td>\n",
        "      <td> 0.010</td>\n",
        "    </tr>\n",
        "    <tr>\n",
        "      <th rowspan=\"5\" valign=\"top\">E</th>\n",
        "      <th>A</th>\n",
        "      <td> 0.5</td>\n",
        "      <td> 0.5</td>\n",
        "      <td> 0.001</td>\n",
        "    </tr>\n",
        "    <tr>\n",
        "      <th>B</th>\n",
        "      <td> 0.5</td>\n",
        "      <td> 0.5</td>\n",
        "      <td> 0.001</td>\n",
        "    </tr>\n",
        "    <tr>\n",
        "      <th>C</th>\n",
        "      <td> 0.5</td>\n",
        "      <td> 0.5</td>\n",
        "      <td> 0.001</td>\n",
        "    </tr>\n",
        "    <tr>\n",
        "      <th>D</th>\n",
        "      <td> 0.5</td>\n",
        "      <td> 0.5</td>\n",
        "      <td> 0.001</td>\n",
        "    </tr>\n",
        "    <tr>\n",
        "      <th>F</th>\n",
        "      <td> 0.5</td>\n",
        "      <td> 0.5</td>\n",
        "      <td> 0.001</td>\n",
        "    </tr>\n",
        "    <tr>\n",
        "      <th rowspan=\"2\" valign=\"top\">F</th>\n",
        "      <th>A</th>\n",
        "      <td> 0.5</td>\n",
        "      <td> 0.5</td>\n",
        "      <td> 0.010</td>\n",
        "    </tr>\n",
        "    <tr>\n",
        "      <th>E</th>\n",
        "      <td> 0.5</td>\n",
        "      <td> 0.5</td>\n",
        "      <td> 0.010</td>\n",
        "    </tr>\n",
        "  </tbody>\n",
        "</table>"
       ],
       "metadata": {},
       "output_type": "pyout",
       "prompt_number": 8,
       "text": [
        "<IPython.core.display.HTML at 0x7fab77c3f9d0>"
       ]
      }
     ],
     "prompt_number": 8
    },
    {
     "cell_type": "heading",
     "level": 1,
     "metadata": {},
     "source": [
      "1 Dataset with T=1000"
     ]
    },
    {
     "cell_type": "markdown",
     "metadata": {},
     "source": [
      "Here I generate one dataset and look at the distribution of the estimator for different number of samples"
     ]
    },
    {
     "cell_type": "code",
     "collapsed": false,
     "input": [
      "data=gen_data(10000, net_1, s0_1)"
     ],
     "language": "python",
     "metadata": {},
     "outputs": [],
     "prompt_number": 9
    },
    {
     "cell_type": "code",
     "collapsed": false,
     "input": [
      "res_1 = []\n",
      "for i in range(1000):\n",
      "    res_1.append(Direct_Sample(net_1, data, 1000, 10000, s0_1))\n",
      "    print i, "
     ],
     "language": "python",
     "metadata": {},
     "outputs": [
      {
       "output_type": "stream",
       "stream": "stdout",
       "text": [
        "0 "
       ]
      },
      {
       "output_type": "stream",
       "stream": "stdout",
       "text": [
        "1 "
       ]
      },
      {
       "output_type": "stream",
       "stream": "stdout",
       "text": [
        "2 "
       ]
      },
      {
       "output_type": "stream",
       "stream": "stdout",
       "text": [
        "3 "
       ]
      },
      {
       "output_type": "stream",
       "stream": "stdout",
       "text": [
        "4 "
       ]
      },
      {
       "output_type": "stream",
       "stream": "stdout",
       "text": [
        "5 "
       ]
      },
      {
       "output_type": "stream",
       "stream": "stdout",
       "text": [
        "6 "
       ]
      },
      {
       "output_type": "stream",
       "stream": "stdout",
       "text": [
        "7 "
       ]
      },
      {
       "output_type": "stream",
       "stream": "stdout",
       "text": [
        "8 "
       ]
      },
      {
       "output_type": "stream",
       "stream": "stdout",
       "text": [
        "9 "
       ]
      },
      {
       "output_type": "stream",
       "stream": "stdout",
       "text": [
        "10 "
       ]
      },
      {
       "output_type": "stream",
       "stream": "stdout",
       "text": [
        "11 "
       ]
      },
      {
       "output_type": "stream",
       "stream": "stdout",
       "text": [
        "12 "
       ]
      },
      {
       "output_type": "stream",
       "stream": "stdout",
       "text": [
        "13 "
       ]
      },
      {
       "output_type": "stream",
       "stream": "stdout",
       "text": [
        "14 "
       ]
      },
      {
       "output_type": "stream",
       "stream": "stdout",
       "text": [
        "15 "
       ]
      },
      {
       "output_type": "stream",
       "stream": "stdout",
       "text": [
        "16 "
       ]
      },
      {
       "output_type": "stream",
       "stream": "stdout",
       "text": [
        "17 "
       ]
      },
      {
       "output_type": "stream",
       "stream": "stdout",
       "text": [
        "18 "
       ]
      },
      {
       "output_type": "stream",
       "stream": "stdout",
       "text": [
        "19 "
       ]
      },
      {
       "output_type": "stream",
       "stream": "stdout",
       "text": [
        "20 "
       ]
      },
      {
       "output_type": "stream",
       "stream": "stdout",
       "text": [
        "21 "
       ]
      },
      {
       "output_type": "stream",
       "stream": "stdout",
       "text": [
        "22 "
       ]
      },
      {
       "output_type": "stream",
       "stream": "stdout",
       "text": [
        "23 "
       ]
      },
      {
       "output_type": "stream",
       "stream": "stdout",
       "text": [
        "24 "
       ]
      },
      {
       "output_type": "stream",
       "stream": "stdout",
       "text": [
        "25 "
       ]
      },
      {
       "output_type": "stream",
       "stream": "stdout",
       "text": [
        "26 "
       ]
      },
      {
       "output_type": "stream",
       "stream": "stdout",
       "text": [
        "27 "
       ]
      },
      {
       "output_type": "stream",
       "stream": "stdout",
       "text": [
        "28 "
       ]
      },
      {
       "output_type": "stream",
       "stream": "stdout",
       "text": [
        "29 "
       ]
      },
      {
       "output_type": "stream",
       "stream": "stdout",
       "text": [
        "30 "
       ]
      },
      {
       "output_type": "stream",
       "stream": "stdout",
       "text": [
        "31 "
       ]
      },
      {
       "output_type": "stream",
       "stream": "stdout",
       "text": [
        "32 "
       ]
      },
      {
       "output_type": "stream",
       "stream": "stdout",
       "text": [
        "33 "
       ]
      },
      {
       "output_type": "stream",
       "stream": "stdout",
       "text": [
        "34 "
       ]
      },
      {
       "output_type": "stream",
       "stream": "stdout",
       "text": [
        "35 "
       ]
      },
      {
       "output_type": "stream",
       "stream": "stdout",
       "text": [
        "36 "
       ]
      },
      {
       "output_type": "stream",
       "stream": "stdout",
       "text": [
        "37 "
       ]
      },
      {
       "output_type": "stream",
       "stream": "stdout",
       "text": [
        "38 "
       ]
      },
      {
       "output_type": "stream",
       "stream": "stdout",
       "text": [
        "39 "
       ]
      },
      {
       "output_type": "stream",
       "stream": "stdout",
       "text": [
        "40 "
       ]
      },
      {
       "output_type": "stream",
       "stream": "stdout",
       "text": [
        "41 "
       ]
      },
      {
       "output_type": "stream",
       "stream": "stdout",
       "text": [
        "42 "
       ]
      },
      {
       "output_type": "stream",
       "stream": "stdout",
       "text": [
        "43 "
       ]
      },
      {
       "output_type": "stream",
       "stream": "stdout",
       "text": [
        "44 "
       ]
      },
      {
       "output_type": "stream",
       "stream": "stdout",
       "text": [
        "45 "
       ]
      },
      {
       "output_type": "stream",
       "stream": "stdout",
       "text": [
        "46 "
       ]
      },
      {
       "output_type": "stream",
       "stream": "stdout",
       "text": [
        "47 "
       ]
      },
      {
       "output_type": "stream",
       "stream": "stdout",
       "text": [
        "48 "
       ]
      },
      {
       "output_type": "stream",
       "stream": "stdout",
       "text": [
        "49 "
       ]
      },
      {
       "output_type": "stream",
       "stream": "stdout",
       "text": [
        "50 "
       ]
      },
      {
       "output_type": "stream",
       "stream": "stdout",
       "text": [
        "51 "
       ]
      },
      {
       "output_type": "stream",
       "stream": "stdout",
       "text": [
        "52 "
       ]
      },
      {
       "output_type": "stream",
       "stream": "stdout",
       "text": [
        "53 "
       ]
      },
      {
       "output_type": "stream",
       "stream": "stdout",
       "text": [
        "54 "
       ]
      },
      {
       "output_type": "stream",
       "stream": "stdout",
       "text": [
        "55 "
       ]
      },
      {
       "output_type": "stream",
       "stream": "stdout",
       "text": [
        "56 "
       ]
      },
      {
       "output_type": "stream",
       "stream": "stdout",
       "text": [
        "57 "
       ]
      },
      {
       "output_type": "stream",
       "stream": "stdout",
       "text": [
        "58 "
       ]
      },
      {
       "output_type": "stream",
       "stream": "stdout",
       "text": [
        "59 "
       ]
      },
      {
       "output_type": "stream",
       "stream": "stdout",
       "text": [
        "60 "
       ]
      },
      {
       "output_type": "stream",
       "stream": "stdout",
       "text": [
        "61 "
       ]
      },
      {
       "output_type": "stream",
       "stream": "stdout",
       "text": [
        "62 "
       ]
      },
      {
       "output_type": "stream",
       "stream": "stdout",
       "text": [
        "63 "
       ]
      },
      {
       "output_type": "stream",
       "stream": "stdout",
       "text": [
        "64 "
       ]
      },
      {
       "output_type": "stream",
       "stream": "stdout",
       "text": [
        "65 "
       ]
      },
      {
       "output_type": "stream",
       "stream": "stdout",
       "text": [
        "66 "
       ]
      },
      {
       "output_type": "stream",
       "stream": "stdout",
       "text": [
        "67 "
       ]
      },
      {
       "output_type": "stream",
       "stream": "stdout",
       "text": [
        "68 "
       ]
      },
      {
       "output_type": "stream",
       "stream": "stdout",
       "text": [
        "69 "
       ]
      },
      {
       "output_type": "stream",
       "stream": "stdout",
       "text": [
        "70 "
       ]
      },
      {
       "output_type": "stream",
       "stream": "stdout",
       "text": [
        "71 "
       ]
      },
      {
       "output_type": "stream",
       "stream": "stdout",
       "text": [
        "72 "
       ]
      },
      {
       "output_type": "stream",
       "stream": "stdout",
       "text": [
        "73 "
       ]
      },
      {
       "output_type": "stream",
       "stream": "stdout",
       "text": [
        "74 "
       ]
      },
      {
       "output_type": "stream",
       "stream": "stdout",
       "text": [
        "75 "
       ]
      },
      {
       "output_type": "stream",
       "stream": "stdout",
       "text": [
        "76 "
       ]
      },
      {
       "output_type": "stream",
       "stream": "stdout",
       "text": [
        "77 "
       ]
      },
      {
       "output_type": "stream",
       "stream": "stdout",
       "text": [
        "78 "
       ]
      },
      {
       "output_type": "stream",
       "stream": "stdout",
       "text": [
        "79 "
       ]
      },
      {
       "output_type": "stream",
       "stream": "stdout",
       "text": [
        "80 "
       ]
      },
      {
       "output_type": "stream",
       "stream": "stdout",
       "text": [
        "81 "
       ]
      },
      {
       "output_type": "stream",
       "stream": "stdout",
       "text": [
        "82 "
       ]
      },
      {
       "output_type": "stream",
       "stream": "stdout",
       "text": [
        "83 "
       ]
      },
      {
       "output_type": "stream",
       "stream": "stdout",
       "text": [
        "84 "
       ]
      },
      {
       "output_type": "stream",
       "stream": "stdout",
       "text": [
        "85 "
       ]
      },
      {
       "output_type": "stream",
       "stream": "stdout",
       "text": [
        "86 "
       ]
      },
      {
       "output_type": "stream",
       "stream": "stdout",
       "text": [
        "87 "
       ]
      },
      {
       "output_type": "stream",
       "stream": "stdout",
       "text": [
        "88 "
       ]
      },
      {
       "output_type": "stream",
       "stream": "stdout",
       "text": [
        "89 "
       ]
      },
      {
       "output_type": "stream",
       "stream": "stdout",
       "text": [
        "90 "
       ]
      },
      {
       "output_type": "stream",
       "stream": "stdout",
       "text": [
        "91 "
       ]
      },
      {
       "output_type": "stream",
       "stream": "stdout",
       "text": [
        "92 "
       ]
      },
      {
       "output_type": "stream",
       "stream": "stdout",
       "text": [
        "93 "
       ]
      },
      {
       "output_type": "stream",
       "stream": "stdout",
       "text": [
        "94 "
       ]
      },
      {
       "output_type": "stream",
       "stream": "stdout",
       "text": [
        "95 "
       ]
      },
      {
       "output_type": "stream",
       "stream": "stdout",
       "text": [
        "96 "
       ]
      },
      {
       "output_type": "stream",
       "stream": "stdout",
       "text": [
        "97 "
       ]
      },
      {
       "output_type": "stream",
       "stream": "stdout",
       "text": [
        "98 "
       ]
      },
      {
       "output_type": "stream",
       "stream": "stdout",
       "text": [
        "99 "
       ]
      },
      {
       "output_type": "stream",
       "stream": "stdout",
       "text": [
        "100 "
       ]
      },
      {
       "output_type": "stream",
       "stream": "stdout",
       "text": [
        "101 "
       ]
      },
      {
       "output_type": "stream",
       "stream": "stdout",
       "text": [
        "102 "
       ]
      },
      {
       "output_type": "stream",
       "stream": "stdout",
       "text": [
        "103 "
       ]
      },
      {
       "output_type": "stream",
       "stream": "stdout",
       "text": [
        "104 "
       ]
      },
      {
       "output_type": "stream",
       "stream": "stdout",
       "text": [
        "105 "
       ]
      },
      {
       "output_type": "stream",
       "stream": "stdout",
       "text": [
        "106 "
       ]
      },
      {
       "output_type": "stream",
       "stream": "stdout",
       "text": [
        "107 "
       ]
      },
      {
       "output_type": "stream",
       "stream": "stdout",
       "text": [
        "108 "
       ]
      },
      {
       "output_type": "stream",
       "stream": "stdout",
       "text": [
        "109 "
       ]
      },
      {
       "output_type": "stream",
       "stream": "stdout",
       "text": [
        "110 "
       ]
      },
      {
       "output_type": "stream",
       "stream": "stdout",
       "text": [
        "111 "
       ]
      },
      {
       "output_type": "stream",
       "stream": "stdout",
       "text": [
        "112 "
       ]
      },
      {
       "output_type": "stream",
       "stream": "stdout",
       "text": [
        "113 "
       ]
      },
      {
       "output_type": "stream",
       "stream": "stdout",
       "text": [
        "114 "
       ]
      },
      {
       "output_type": "stream",
       "stream": "stdout",
       "text": [
        "115 "
       ]
      },
      {
       "output_type": "stream",
       "stream": "stdout",
       "text": [
        "116 "
       ]
      },
      {
       "output_type": "stream",
       "stream": "stdout",
       "text": [
        "117 "
       ]
      },
      {
       "output_type": "stream",
       "stream": "stdout",
       "text": [
        "118 "
       ]
      },
      {
       "output_type": "stream",
       "stream": "stdout",
       "text": [
        "119 "
       ]
      },
      {
       "output_type": "stream",
       "stream": "stdout",
       "text": [
        "120 "
       ]
      },
      {
       "output_type": "stream",
       "stream": "stdout",
       "text": [
        "121 "
       ]
      },
      {
       "output_type": "stream",
       "stream": "stdout",
       "text": [
        "122 "
       ]
      },
      {
       "output_type": "stream",
       "stream": "stdout",
       "text": [
        "123 "
       ]
      },
      {
       "output_type": "stream",
       "stream": "stdout",
       "text": [
        "124 "
       ]
      },
      {
       "output_type": "stream",
       "stream": "stdout",
       "text": [
        "125 "
       ]
      },
      {
       "output_type": "stream",
       "stream": "stdout",
       "text": [
        "126 "
       ]
      },
      {
       "output_type": "stream",
       "stream": "stdout",
       "text": [
        "127 "
       ]
      },
      {
       "output_type": "stream",
       "stream": "stdout",
       "text": [
        "128 "
       ]
      },
      {
       "output_type": "stream",
       "stream": "stdout",
       "text": [
        "129 "
       ]
      },
      {
       "output_type": "stream",
       "stream": "stdout",
       "text": [
        "130 "
       ]
      },
      {
       "output_type": "stream",
       "stream": "stdout",
       "text": [
        "131 "
       ]
      },
      {
       "output_type": "stream",
       "stream": "stdout",
       "text": [
        "132 "
       ]
      },
      {
       "output_type": "stream",
       "stream": "stdout",
       "text": [
        "133 "
       ]
      },
      {
       "output_type": "stream",
       "stream": "stdout",
       "text": [
        "134 "
       ]
      },
      {
       "output_type": "stream",
       "stream": "stdout",
       "text": [
        "135 "
       ]
      },
      {
       "output_type": "stream",
       "stream": "stdout",
       "text": [
        "136 "
       ]
      },
      {
       "output_type": "stream",
       "stream": "stdout",
       "text": [
        "137 "
       ]
      },
      {
       "output_type": "stream",
       "stream": "stdout",
       "text": [
        "138 "
       ]
      },
      {
       "output_type": "stream",
       "stream": "stdout",
       "text": [
        "139 "
       ]
      },
      {
       "output_type": "stream",
       "stream": "stdout",
       "text": [
        "140 "
       ]
      },
      {
       "output_type": "stream",
       "stream": "stdout",
       "text": [
        "141 "
       ]
      },
      {
       "output_type": "stream",
       "stream": "stdout",
       "text": [
        "142 "
       ]
      },
      {
       "output_type": "stream",
       "stream": "stdout",
       "text": [
        "143 "
       ]
      },
      {
       "output_type": "stream",
       "stream": "stdout",
       "text": [
        "144 "
       ]
      },
      {
       "output_type": "stream",
       "stream": "stdout",
       "text": [
        "145 "
       ]
      },
      {
       "output_type": "stream",
       "stream": "stdout",
       "text": [
        "146 "
       ]
      },
      {
       "output_type": "stream",
       "stream": "stdout",
       "text": [
        "147 "
       ]
      },
      {
       "output_type": "stream",
       "stream": "stdout",
       "text": [
        "148 "
       ]
      },
      {
       "output_type": "stream",
       "stream": "stdout",
       "text": [
        "149 "
       ]
      },
      {
       "output_type": "stream",
       "stream": "stdout",
       "text": [
        "150 "
       ]
      },
      {
       "output_type": "stream",
       "stream": "stdout",
       "text": [
        "151 "
       ]
      },
      {
       "output_type": "stream",
       "stream": "stdout",
       "text": [
        "152 "
       ]
      },
      {
       "output_type": "stream",
       "stream": "stdout",
       "text": [
        "153 "
       ]
      },
      {
       "output_type": "stream",
       "stream": "stdout",
       "text": [
        "154 "
       ]
      },
      {
       "output_type": "stream",
       "stream": "stdout",
       "text": [
        "155 "
       ]
      },
      {
       "output_type": "stream",
       "stream": "stdout",
       "text": [
        "156 "
       ]
      },
      {
       "output_type": "stream",
       "stream": "stdout",
       "text": [
        "157 "
       ]
      },
      {
       "output_type": "stream",
       "stream": "stdout",
       "text": [
        "158 "
       ]
      },
      {
       "output_type": "stream",
       "stream": "stdout",
       "text": [
        "159 "
       ]
      },
      {
       "output_type": "stream",
       "stream": "stdout",
       "text": [
        "160 "
       ]
      },
      {
       "output_type": "stream",
       "stream": "stdout",
       "text": [
        "161 "
       ]
      },
      {
       "output_type": "stream",
       "stream": "stdout",
       "text": [
        "162 "
       ]
      },
      {
       "output_type": "stream",
       "stream": "stdout",
       "text": [
        "163 "
       ]
      },
      {
       "output_type": "stream",
       "stream": "stdout",
       "text": [
        "164 "
       ]
      },
      {
       "output_type": "stream",
       "stream": "stdout",
       "text": [
        "165 "
       ]
      },
      {
       "output_type": "stream",
       "stream": "stdout",
       "text": [
        "166 "
       ]
      },
      {
       "output_type": "stream",
       "stream": "stdout",
       "text": [
        "167 "
       ]
      },
      {
       "output_type": "stream",
       "stream": "stdout",
       "text": [
        "168 "
       ]
      },
      {
       "output_type": "stream",
       "stream": "stdout",
       "text": [
        "169 "
       ]
      },
      {
       "output_type": "stream",
       "stream": "stdout",
       "text": [
        "170 "
       ]
      },
      {
       "output_type": "stream",
       "stream": "stdout",
       "text": [
        "171 "
       ]
      },
      {
       "output_type": "stream",
       "stream": "stdout",
       "text": [
        "172 "
       ]
      },
      {
       "output_type": "stream",
       "stream": "stdout",
       "text": [
        "173 "
       ]
      },
      {
       "output_type": "stream",
       "stream": "stdout",
       "text": [
        "174 "
       ]
      },
      {
       "output_type": "stream",
       "stream": "stdout",
       "text": [
        "175 "
       ]
      },
      {
       "output_type": "stream",
       "stream": "stdout",
       "text": [
        "176 "
       ]
      },
      {
       "output_type": "stream",
       "stream": "stdout",
       "text": [
        "177 "
       ]
      },
      {
       "output_type": "stream",
       "stream": "stdout",
       "text": [
        "178 "
       ]
      },
      {
       "output_type": "stream",
       "stream": "stdout",
       "text": [
        "179 "
       ]
      },
      {
       "output_type": "stream",
       "stream": "stdout",
       "text": [
        "180 "
       ]
      },
      {
       "output_type": "stream",
       "stream": "stdout",
       "text": [
        "181 "
       ]
      },
      {
       "output_type": "stream",
       "stream": "stdout",
       "text": [
        "182 "
       ]
      },
      {
       "output_type": "stream",
       "stream": "stdout",
       "text": [
        "183 "
       ]
      },
      {
       "output_type": "stream",
       "stream": "stdout",
       "text": [
        "184 "
       ]
      },
      {
       "output_type": "stream",
       "stream": "stdout",
       "text": [
        "185 "
       ]
      },
      {
       "output_type": "stream",
       "stream": "stdout",
       "text": [
        "186 "
       ]
      },
      {
       "output_type": "stream",
       "stream": "stdout",
       "text": [
        "187 "
       ]
      },
      {
       "output_type": "stream",
       "stream": "stdout",
       "text": [
        "188 "
       ]
      },
      {
       "output_type": "stream",
       "stream": "stdout",
       "text": [
        "189 "
       ]
      },
      {
       "output_type": "stream",
       "stream": "stdout",
       "text": [
        "190 "
       ]
      },
      {
       "output_type": "stream",
       "stream": "stdout",
       "text": [
        "191 "
       ]
      },
      {
       "output_type": "stream",
       "stream": "stdout",
       "text": [
        "192 "
       ]
      },
      {
       "output_type": "stream",
       "stream": "stdout",
       "text": [
        "193 "
       ]
      },
      {
       "output_type": "stream",
       "stream": "stdout",
       "text": [
        "194 "
       ]
      },
      {
       "output_type": "stream",
       "stream": "stdout",
       "text": [
        "195 "
       ]
      },
      {
       "output_type": "stream",
       "stream": "stdout",
       "text": [
        "196 "
       ]
      },
      {
       "output_type": "stream",
       "stream": "stdout",
       "text": [
        "197 "
       ]
      },
      {
       "output_type": "stream",
       "stream": "stdout",
       "text": [
        "198 "
       ]
      },
      {
       "output_type": "stream",
       "stream": "stdout",
       "text": [
        "199 "
       ]
      },
      {
       "output_type": "stream",
       "stream": "stdout",
       "text": [
        "200 "
       ]
      },
      {
       "output_type": "stream",
       "stream": "stdout",
       "text": [
        "201 "
       ]
      },
      {
       "output_type": "stream",
       "stream": "stdout",
       "text": [
        "202 "
       ]
      },
      {
       "output_type": "stream",
       "stream": "stdout",
       "text": [
        "203 "
       ]
      },
      {
       "output_type": "stream",
       "stream": "stdout",
       "text": [
        "204 "
       ]
      },
      {
       "output_type": "stream",
       "stream": "stdout",
       "text": [
        "205 "
       ]
      },
      {
       "output_type": "stream",
       "stream": "stdout",
       "text": [
        "206 "
       ]
      },
      {
       "output_type": "stream",
       "stream": "stdout",
       "text": [
        "207 "
       ]
      },
      {
       "output_type": "stream",
       "stream": "stdout",
       "text": [
        "208 "
       ]
      },
      {
       "output_type": "stream",
       "stream": "stdout",
       "text": [
        "209 "
       ]
      },
      {
       "output_type": "stream",
       "stream": "stdout",
       "text": [
        "210 "
       ]
      },
      {
       "output_type": "stream",
       "stream": "stdout",
       "text": [
        "211 "
       ]
      },
      {
       "output_type": "stream",
       "stream": "stdout",
       "text": [
        "212 "
       ]
      },
      {
       "output_type": "stream",
       "stream": "stdout",
       "text": [
        "213 "
       ]
      },
      {
       "output_type": "stream",
       "stream": "stdout",
       "text": [
        "214 "
       ]
      },
      {
       "output_type": "stream",
       "stream": "stdout",
       "text": [
        "215 "
       ]
      },
      {
       "output_type": "stream",
       "stream": "stdout",
       "text": [
        "216 "
       ]
      },
      {
       "output_type": "stream",
       "stream": "stdout",
       "text": [
        "217 "
       ]
      },
      {
       "output_type": "stream",
       "stream": "stdout",
       "text": [
        "218 "
       ]
      },
      {
       "output_type": "stream",
       "stream": "stdout",
       "text": [
        "219 "
       ]
      },
      {
       "output_type": "stream",
       "stream": "stdout",
       "text": [
        "220 "
       ]
      },
      {
       "output_type": "stream",
       "stream": "stdout",
       "text": [
        "221 "
       ]
      },
      {
       "output_type": "stream",
       "stream": "stdout",
       "text": [
        "222 "
       ]
      },
      {
       "output_type": "stream",
       "stream": "stdout",
       "text": [
        "223 "
       ]
      },
      {
       "output_type": "stream",
       "stream": "stdout",
       "text": [
        "224 "
       ]
      },
      {
       "output_type": "stream",
       "stream": "stdout",
       "text": [
        "225 "
       ]
      },
      {
       "output_type": "stream",
       "stream": "stdout",
       "text": [
        "226 "
       ]
      },
      {
       "output_type": "stream",
       "stream": "stdout",
       "text": [
        "227 "
       ]
      },
      {
       "output_type": "stream",
       "stream": "stdout",
       "text": [
        "228 "
       ]
      },
      {
       "output_type": "stream",
       "stream": "stdout",
       "text": [
        "229 "
       ]
      },
      {
       "output_type": "stream",
       "stream": "stdout",
       "text": [
        "230 "
       ]
      },
      {
       "output_type": "stream",
       "stream": "stdout",
       "text": [
        "231 "
       ]
      },
      {
       "output_type": "stream",
       "stream": "stdout",
       "text": [
        "232 "
       ]
      },
      {
       "output_type": "stream",
       "stream": "stdout",
       "text": [
        "233 "
       ]
      },
      {
       "output_type": "stream",
       "stream": "stdout",
       "text": [
        "234 "
       ]
      },
      {
       "output_type": "stream",
       "stream": "stdout",
       "text": [
        "235 "
       ]
      },
      {
       "output_type": "stream",
       "stream": "stdout",
       "text": [
        "236 "
       ]
      },
      {
       "output_type": "stream",
       "stream": "stdout",
       "text": [
        "237 "
       ]
      },
      {
       "output_type": "stream",
       "stream": "stdout",
       "text": [
        "238 "
       ]
      },
      {
       "output_type": "stream",
       "stream": "stdout",
       "text": [
        "239 "
       ]
      },
      {
       "output_type": "stream",
       "stream": "stdout",
       "text": [
        "240 "
       ]
      },
      {
       "output_type": "stream",
       "stream": "stdout",
       "text": [
        "241 "
       ]
      },
      {
       "output_type": "stream",
       "stream": "stdout",
       "text": [
        "242 "
       ]
      },
      {
       "output_type": "stream",
       "stream": "stdout",
       "text": [
        "243 "
       ]
      },
      {
       "output_type": "stream",
       "stream": "stdout",
       "text": [
        "244 "
       ]
      },
      {
       "output_type": "stream",
       "stream": "stdout",
       "text": [
        "245 "
       ]
      },
      {
       "output_type": "stream",
       "stream": "stdout",
       "text": [
        "246 "
       ]
      },
      {
       "output_type": "stream",
       "stream": "stdout",
       "text": [
        "247 "
       ]
      },
      {
       "output_type": "stream",
       "stream": "stdout",
       "text": [
        "248 "
       ]
      },
      {
       "output_type": "stream",
       "stream": "stdout",
       "text": [
        "249 "
       ]
      },
      {
       "output_type": "stream",
       "stream": "stdout",
       "text": [
        "250 "
       ]
      },
      {
       "output_type": "stream",
       "stream": "stdout",
       "text": [
        "251 "
       ]
      },
      {
       "output_type": "stream",
       "stream": "stdout",
       "text": [
        "252 "
       ]
      },
      {
       "output_type": "stream",
       "stream": "stdout",
       "text": [
        "253 "
       ]
      },
      {
       "output_type": "stream",
       "stream": "stdout",
       "text": [
        "254 "
       ]
      },
      {
       "output_type": "stream",
       "stream": "stdout",
       "text": [
        "255 "
       ]
      },
      {
       "output_type": "stream",
       "stream": "stdout",
       "text": [
        "256 "
       ]
      },
      {
       "output_type": "stream",
       "stream": "stdout",
       "text": [
        "257 "
       ]
      },
      {
       "output_type": "stream",
       "stream": "stdout",
       "text": [
        "258 "
       ]
      },
      {
       "output_type": "stream",
       "stream": "stdout",
       "text": [
        "259 "
       ]
      },
      {
       "output_type": "stream",
       "stream": "stdout",
       "text": [
        "260 "
       ]
      },
      {
       "output_type": "stream",
       "stream": "stdout",
       "text": [
        "261 "
       ]
      },
      {
       "output_type": "stream",
       "stream": "stdout",
       "text": [
        "262 "
       ]
      },
      {
       "output_type": "stream",
       "stream": "stdout",
       "text": [
        "263 "
       ]
      },
      {
       "output_type": "stream",
       "stream": "stdout",
       "text": [
        "264 "
       ]
      },
      {
       "output_type": "stream",
       "stream": "stdout",
       "text": [
        "265 "
       ]
      },
      {
       "output_type": "stream",
       "stream": "stdout",
       "text": [
        "266 "
       ]
      },
      {
       "output_type": "stream",
       "stream": "stdout",
       "text": [
        "267 "
       ]
      },
      {
       "output_type": "stream",
       "stream": "stdout",
       "text": [
        "268 "
       ]
      },
      {
       "output_type": "stream",
       "stream": "stdout",
       "text": [
        "269 "
       ]
      },
      {
       "output_type": "stream",
       "stream": "stdout",
       "text": [
        "270 "
       ]
      },
      {
       "output_type": "stream",
       "stream": "stdout",
       "text": [
        "271 "
       ]
      },
      {
       "output_type": "stream",
       "stream": "stdout",
       "text": [
        "272 "
       ]
      },
      {
       "output_type": "stream",
       "stream": "stdout",
       "text": [
        "273 "
       ]
      },
      {
       "output_type": "stream",
       "stream": "stdout",
       "text": [
        "274 "
       ]
      },
      {
       "output_type": "stream",
       "stream": "stdout",
       "text": [
        "275 "
       ]
      },
      {
       "output_type": "stream",
       "stream": "stdout",
       "text": [
        "276 "
       ]
      },
      {
       "output_type": "stream",
       "stream": "stdout",
       "text": [
        "277 "
       ]
      },
      {
       "output_type": "stream",
       "stream": "stdout",
       "text": [
        "278 "
       ]
      },
      {
       "output_type": "stream",
       "stream": "stdout",
       "text": [
        "279 "
       ]
      },
      {
       "output_type": "stream",
       "stream": "stdout",
       "text": [
        "280 "
       ]
      },
      {
       "output_type": "stream",
       "stream": "stdout",
       "text": [
        "281 "
       ]
      },
      {
       "output_type": "stream",
       "stream": "stdout",
       "text": [
        "282 "
       ]
      },
      {
       "output_type": "stream",
       "stream": "stdout",
       "text": [
        "283 "
       ]
      },
      {
       "output_type": "stream",
       "stream": "stdout",
       "text": [
        "284 "
       ]
      },
      {
       "output_type": "stream",
       "stream": "stdout",
       "text": [
        "285 "
       ]
      },
      {
       "output_type": "stream",
       "stream": "stdout",
       "text": [
        "286 "
       ]
      },
      {
       "output_type": "stream",
       "stream": "stdout",
       "text": [
        "287 "
       ]
      },
      {
       "output_type": "stream",
       "stream": "stdout",
       "text": [
        "288 "
       ]
      },
      {
       "output_type": "stream",
       "stream": "stdout",
       "text": [
        "289 "
       ]
      },
      {
       "output_type": "stream",
       "stream": "stdout",
       "text": [
        "290 "
       ]
      },
      {
       "output_type": "stream",
       "stream": "stdout",
       "text": [
        "291 "
       ]
      },
      {
       "output_type": "stream",
       "stream": "stdout",
       "text": [
        "292 "
       ]
      },
      {
       "output_type": "stream",
       "stream": "stdout",
       "text": [
        "293 "
       ]
      },
      {
       "output_type": "stream",
       "stream": "stdout",
       "text": [
        "294 "
       ]
      },
      {
       "output_type": "stream",
       "stream": "stdout",
       "text": [
        "295 "
       ]
      },
      {
       "output_type": "stream",
       "stream": "stdout",
       "text": [
        "296 "
       ]
      },
      {
       "output_type": "stream",
       "stream": "stdout",
       "text": [
        "297 "
       ]
      },
      {
       "output_type": "stream",
       "stream": "stdout",
       "text": [
        "298 "
       ]
      },
      {
       "output_type": "stream",
       "stream": "stdout",
       "text": [
        "299 "
       ]
      },
      {
       "output_type": "stream",
       "stream": "stdout",
       "text": [
        "300 "
       ]
      },
      {
       "output_type": "stream",
       "stream": "stdout",
       "text": [
        "301 "
       ]
      },
      {
       "output_type": "stream",
       "stream": "stdout",
       "text": [
        "302 "
       ]
      },
      {
       "output_type": "stream",
       "stream": "stdout",
       "text": [
        "303 "
       ]
      },
      {
       "output_type": "stream",
       "stream": "stdout",
       "text": [
        "304 "
       ]
      },
      {
       "output_type": "stream",
       "stream": "stdout",
       "text": [
        "305 "
       ]
      },
      {
       "output_type": "stream",
       "stream": "stdout",
       "text": [
        "306 "
       ]
      },
      {
       "output_type": "stream",
       "stream": "stdout",
       "text": [
        "307 "
       ]
      },
      {
       "output_type": "stream",
       "stream": "stdout",
       "text": [
        "308 "
       ]
      },
      {
       "output_type": "stream",
       "stream": "stdout",
       "text": [
        "309 "
       ]
      },
      {
       "output_type": "stream",
       "stream": "stdout",
       "text": [
        "310 "
       ]
      },
      {
       "output_type": "stream",
       "stream": "stdout",
       "text": [
        "311 "
       ]
      },
      {
       "output_type": "stream",
       "stream": "stdout",
       "text": [
        "312 "
       ]
      },
      {
       "output_type": "stream",
       "stream": "stdout",
       "text": [
        "313 "
       ]
      },
      {
       "output_type": "stream",
       "stream": "stdout",
       "text": [
        "314 "
       ]
      },
      {
       "output_type": "stream",
       "stream": "stdout",
       "text": [
        "315 "
       ]
      },
      {
       "output_type": "stream",
       "stream": "stdout",
       "text": [
        "316 "
       ]
      },
      {
       "output_type": "stream",
       "stream": "stdout",
       "text": [
        "317 "
       ]
      },
      {
       "output_type": "stream",
       "stream": "stdout",
       "text": [
        "318 "
       ]
      },
      {
       "output_type": "stream",
       "stream": "stdout",
       "text": [
        "319 "
       ]
      },
      {
       "output_type": "stream",
       "stream": "stdout",
       "text": [
        "320 "
       ]
      },
      {
       "output_type": "stream",
       "stream": "stdout",
       "text": [
        "321 "
       ]
      },
      {
       "output_type": "stream",
       "stream": "stdout",
       "text": [
        "322 "
       ]
      },
      {
       "output_type": "stream",
       "stream": "stdout",
       "text": [
        "323 "
       ]
      },
      {
       "output_type": "stream",
       "stream": "stdout",
       "text": [
        "324 "
       ]
      },
      {
       "output_type": "stream",
       "stream": "stdout",
       "text": [
        "325 "
       ]
      },
      {
       "output_type": "stream",
       "stream": "stdout",
       "text": [
        "326 "
       ]
      },
      {
       "output_type": "stream",
       "stream": "stdout",
       "text": [
        "327 "
       ]
      },
      {
       "output_type": "stream",
       "stream": "stdout",
       "text": [
        "328 "
       ]
      },
      {
       "output_type": "stream",
       "stream": "stdout",
       "text": [
        "329 "
       ]
      },
      {
       "output_type": "stream",
       "stream": "stdout",
       "text": [
        "330 "
       ]
      },
      {
       "output_type": "stream",
       "stream": "stdout",
       "text": [
        "331 "
       ]
      },
      {
       "output_type": "stream",
       "stream": "stdout",
       "text": [
        "332 "
       ]
      },
      {
       "output_type": "stream",
       "stream": "stdout",
       "text": [
        "333 "
       ]
      },
      {
       "output_type": "stream",
       "stream": "stdout",
       "text": [
        "334 "
       ]
      },
      {
       "output_type": "stream",
       "stream": "stdout",
       "text": [
        "335 "
       ]
      },
      {
       "output_type": "stream",
       "stream": "stdout",
       "text": [
        "336 "
       ]
      },
      {
       "output_type": "stream",
       "stream": "stdout",
       "text": [
        "337 "
       ]
      },
      {
       "output_type": "stream",
       "stream": "stdout",
       "text": [
        "338 "
       ]
      },
      {
       "output_type": "stream",
       "stream": "stdout",
       "text": [
        "339 "
       ]
      },
      {
       "output_type": "stream",
       "stream": "stdout",
       "text": [
        "340 "
       ]
      },
      {
       "output_type": "stream",
       "stream": "stdout",
       "text": [
        "341 "
       ]
      },
      {
       "output_type": "stream",
       "stream": "stdout",
       "text": [
        "342 "
       ]
      },
      {
       "output_type": "stream",
       "stream": "stdout",
       "text": [
        "343 "
       ]
      },
      {
       "output_type": "stream",
       "stream": "stdout",
       "text": [
        "344 "
       ]
      },
      {
       "output_type": "stream",
       "stream": "stdout",
       "text": [
        "345 "
       ]
      },
      {
       "output_type": "stream",
       "stream": "stdout",
       "text": [
        "346 "
       ]
      },
      {
       "output_type": "stream",
       "stream": "stdout",
       "text": [
        "347 "
       ]
      },
      {
       "output_type": "stream",
       "stream": "stdout",
       "text": [
        "348 "
       ]
      },
      {
       "output_type": "stream",
       "stream": "stdout",
       "text": [
        "349 "
       ]
      },
      {
       "output_type": "stream",
       "stream": "stdout",
       "text": [
        "350 "
       ]
      },
      {
       "output_type": "stream",
       "stream": "stdout",
       "text": [
        "351 "
       ]
      },
      {
       "output_type": "stream",
       "stream": "stdout",
       "text": [
        "352 "
       ]
      },
      {
       "output_type": "stream",
       "stream": "stdout",
       "text": [
        "353 "
       ]
      },
      {
       "output_type": "stream",
       "stream": "stdout",
       "text": [
        "354 "
       ]
      },
      {
       "output_type": "stream",
       "stream": "stdout",
       "text": [
        "355 "
       ]
      },
      {
       "output_type": "stream",
       "stream": "stdout",
       "text": [
        "356 "
       ]
      },
      {
       "output_type": "stream",
       "stream": "stdout",
       "text": [
        "357 "
       ]
      },
      {
       "output_type": "stream",
       "stream": "stdout",
       "text": [
        "358 "
       ]
      },
      {
       "output_type": "stream",
       "stream": "stdout",
       "text": [
        "359 "
       ]
      },
      {
       "output_type": "stream",
       "stream": "stdout",
       "text": [
        "360 "
       ]
      },
      {
       "output_type": "stream",
       "stream": "stdout",
       "text": [
        "361 "
       ]
      },
      {
       "output_type": "stream",
       "stream": "stdout",
       "text": [
        "362 "
       ]
      },
      {
       "output_type": "stream",
       "stream": "stdout",
       "text": [
        "363 "
       ]
      },
      {
       "output_type": "stream",
       "stream": "stdout",
       "text": [
        "364 "
       ]
      },
      {
       "output_type": "stream",
       "stream": "stdout",
       "text": [
        "365 "
       ]
      },
      {
       "output_type": "stream",
       "stream": "stdout",
       "text": [
        "366 "
       ]
      },
      {
       "output_type": "stream",
       "stream": "stdout",
       "text": [
        "367 "
       ]
      },
      {
       "output_type": "stream",
       "stream": "stdout",
       "text": [
        "368 "
       ]
      },
      {
       "output_type": "stream",
       "stream": "stdout",
       "text": [
        "369 "
       ]
      },
      {
       "output_type": "stream",
       "stream": "stdout",
       "text": [
        "370 "
       ]
      },
      {
       "output_type": "stream",
       "stream": "stdout",
       "text": [
        "371 "
       ]
      },
      {
       "output_type": "stream",
       "stream": "stdout",
       "text": [
        "372 "
       ]
      },
      {
       "output_type": "stream",
       "stream": "stdout",
       "text": [
        "373 "
       ]
      },
      {
       "output_type": "stream",
       "stream": "stdout",
       "text": [
        "374 "
       ]
      },
      {
       "output_type": "stream",
       "stream": "stdout",
       "text": [
        "375 "
       ]
      },
      {
       "output_type": "stream",
       "stream": "stdout",
       "text": [
        "376 "
       ]
      },
      {
       "output_type": "stream",
       "stream": "stdout",
       "text": [
        "377 "
       ]
      },
      {
       "output_type": "stream",
       "stream": "stdout",
       "text": [
        "378 "
       ]
      },
      {
       "output_type": "stream",
       "stream": "stdout",
       "text": [
        "379 "
       ]
      },
      {
       "output_type": "stream",
       "stream": "stdout",
       "text": [
        "380 "
       ]
      },
      {
       "output_type": "stream",
       "stream": "stdout",
       "text": [
        "381 "
       ]
      },
      {
       "output_type": "stream",
       "stream": "stdout",
       "text": [
        "382 "
       ]
      },
      {
       "output_type": "stream",
       "stream": "stdout",
       "text": [
        "383 "
       ]
      },
      {
       "output_type": "stream",
       "stream": "stdout",
       "text": [
        "384 "
       ]
      },
      {
       "output_type": "stream",
       "stream": "stdout",
       "text": [
        "385 "
       ]
      },
      {
       "output_type": "stream",
       "stream": "stdout",
       "text": [
        "386 "
       ]
      },
      {
       "output_type": "stream",
       "stream": "stdout",
       "text": [
        "387 "
       ]
      },
      {
       "output_type": "stream",
       "stream": "stdout",
       "text": [
        "388 "
       ]
      },
      {
       "output_type": "stream",
       "stream": "stdout",
       "text": [
        "389 "
       ]
      },
      {
       "output_type": "stream",
       "stream": "stdout",
       "text": [
        "390 "
       ]
      },
      {
       "output_type": "stream",
       "stream": "stdout",
       "text": [
        "391 "
       ]
      },
      {
       "output_type": "stream",
       "stream": "stdout",
       "text": [
        "392 "
       ]
      },
      {
       "output_type": "stream",
       "stream": "stdout",
       "text": [
        "393 "
       ]
      },
      {
       "output_type": "stream",
       "stream": "stdout",
       "text": [
        "394 "
       ]
      },
      {
       "output_type": "stream",
       "stream": "stdout",
       "text": [
        "395 "
       ]
      },
      {
       "output_type": "stream",
       "stream": "stdout",
       "text": [
        "396 "
       ]
      },
      {
       "output_type": "stream",
       "stream": "stdout",
       "text": [
        "397 "
       ]
      },
      {
       "output_type": "stream",
       "stream": "stdout",
       "text": [
        "398 "
       ]
      },
      {
       "output_type": "stream",
       "stream": "stdout",
       "text": [
        "399 "
       ]
      },
      {
       "output_type": "stream",
       "stream": "stdout",
       "text": [
        "400 "
       ]
      },
      {
       "output_type": "stream",
       "stream": "stdout",
       "text": [
        "401 "
       ]
      },
      {
       "output_type": "stream",
       "stream": "stdout",
       "text": [
        "402 "
       ]
      },
      {
       "output_type": "stream",
       "stream": "stdout",
       "text": [
        "403 "
       ]
      },
      {
       "output_type": "stream",
       "stream": "stdout",
       "text": [
        "404 "
       ]
      },
      {
       "output_type": "stream",
       "stream": "stdout",
       "text": [
        "405 "
       ]
      },
      {
       "output_type": "stream",
       "stream": "stdout",
       "text": [
        "406 "
       ]
      },
      {
       "output_type": "stream",
       "stream": "stdout",
       "text": [
        "407 "
       ]
      },
      {
       "output_type": "stream",
       "stream": "stdout",
       "text": [
        "408 "
       ]
      },
      {
       "output_type": "stream",
       "stream": "stdout",
       "text": [
        "409 "
       ]
      },
      {
       "output_type": "stream",
       "stream": "stdout",
       "text": [
        "410 "
       ]
      },
      {
       "output_type": "stream",
       "stream": "stdout",
       "text": [
        "411 "
       ]
      },
      {
       "output_type": "stream",
       "stream": "stdout",
       "text": [
        "412 "
       ]
      },
      {
       "output_type": "stream",
       "stream": "stdout",
       "text": [
        "413 "
       ]
      },
      {
       "output_type": "stream",
       "stream": "stdout",
       "text": [
        "414 "
       ]
      },
      {
       "output_type": "stream",
       "stream": "stdout",
       "text": [
        "415 "
       ]
      },
      {
       "output_type": "stream",
       "stream": "stdout",
       "text": [
        "416 "
       ]
      },
      {
       "output_type": "stream",
       "stream": "stdout",
       "text": [
        "417 "
       ]
      },
      {
       "output_type": "stream",
       "stream": "stdout",
       "text": [
        "418 "
       ]
      },
      {
       "output_type": "stream",
       "stream": "stdout",
       "text": [
        "419 "
       ]
      },
      {
       "output_type": "stream",
       "stream": "stdout",
       "text": [
        "420 "
       ]
      },
      {
       "output_type": "stream",
       "stream": "stdout",
       "text": [
        "421 "
       ]
      },
      {
       "output_type": "stream",
       "stream": "stdout",
       "text": [
        "422 "
       ]
      },
      {
       "output_type": "stream",
       "stream": "stdout",
       "text": [
        "423 "
       ]
      },
      {
       "output_type": "stream",
       "stream": "stdout",
       "text": [
        "424 "
       ]
      },
      {
       "output_type": "stream",
       "stream": "stdout",
       "text": [
        "425 "
       ]
      },
      {
       "output_type": "stream",
       "stream": "stdout",
       "text": [
        "426 "
       ]
      },
      {
       "output_type": "stream",
       "stream": "stdout",
       "text": [
        "427 "
       ]
      },
      {
       "output_type": "stream",
       "stream": "stdout",
       "text": [
        "428 "
       ]
      },
      {
       "output_type": "stream",
       "stream": "stdout",
       "text": [
        "429 "
       ]
      },
      {
       "output_type": "stream",
       "stream": "stdout",
       "text": [
        "430 "
       ]
      },
      {
       "output_type": "stream",
       "stream": "stdout",
       "text": [
        "431 "
       ]
      },
      {
       "output_type": "stream",
       "stream": "stdout",
       "text": [
        "432 "
       ]
      },
      {
       "output_type": "stream",
       "stream": "stdout",
       "text": [
        "433 "
       ]
      },
      {
       "output_type": "stream",
       "stream": "stdout",
       "text": [
        "434 "
       ]
      },
      {
       "output_type": "stream",
       "stream": "stdout",
       "text": [
        "435 "
       ]
      },
      {
       "output_type": "stream",
       "stream": "stdout",
       "text": [
        "436 "
       ]
      },
      {
       "output_type": "stream",
       "stream": "stdout",
       "text": [
        "437 "
       ]
      },
      {
       "output_type": "stream",
       "stream": "stdout",
       "text": [
        "438 "
       ]
      },
      {
       "output_type": "stream",
       "stream": "stdout",
       "text": [
        "439 "
       ]
      },
      {
       "output_type": "stream",
       "stream": "stdout",
       "text": [
        "440 "
       ]
      },
      {
       "output_type": "stream",
       "stream": "stdout",
       "text": [
        "441 "
       ]
      },
      {
       "output_type": "stream",
       "stream": "stdout",
       "text": [
        "442 "
       ]
      },
      {
       "output_type": "stream",
       "stream": "stdout",
       "text": [
        "443 "
       ]
      },
      {
       "output_type": "stream",
       "stream": "stdout",
       "text": [
        "444 "
       ]
      },
      {
       "output_type": "stream",
       "stream": "stdout",
       "text": [
        "445 "
       ]
      },
      {
       "output_type": "stream",
       "stream": "stdout",
       "text": [
        "446 "
       ]
      },
      {
       "output_type": "stream",
       "stream": "stdout",
       "text": [
        "447 "
       ]
      },
      {
       "output_type": "stream",
       "stream": "stdout",
       "text": [
        "448 "
       ]
      },
      {
       "output_type": "stream",
       "stream": "stdout",
       "text": [
        "449 "
       ]
      },
      {
       "output_type": "stream",
       "stream": "stdout",
       "text": [
        "450 "
       ]
      },
      {
       "output_type": "stream",
       "stream": "stdout",
       "text": [
        "451 "
       ]
      },
      {
       "output_type": "stream",
       "stream": "stdout",
       "text": [
        "452 "
       ]
      },
      {
       "output_type": "stream",
       "stream": "stdout",
       "text": [
        "453 "
       ]
      },
      {
       "output_type": "stream",
       "stream": "stdout",
       "text": [
        "454 "
       ]
      },
      {
       "output_type": "stream",
       "stream": "stdout",
       "text": [
        "455 "
       ]
      },
      {
       "output_type": "stream",
       "stream": "stdout",
       "text": [
        "456 "
       ]
      },
      {
       "output_type": "stream",
       "stream": "stdout",
       "text": [
        "457 "
       ]
      },
      {
       "output_type": "stream",
       "stream": "stdout",
       "text": [
        "458 "
       ]
      },
      {
       "output_type": "stream",
       "stream": "stdout",
       "text": [
        "459 "
       ]
      },
      {
       "output_type": "stream",
       "stream": "stdout",
       "text": [
        "460 "
       ]
      },
      {
       "output_type": "stream",
       "stream": "stdout",
       "text": [
        "461 "
       ]
      },
      {
       "output_type": "stream",
       "stream": "stdout",
       "text": [
        "462 "
       ]
      },
      {
       "output_type": "stream",
       "stream": "stdout",
       "text": [
        "463 "
       ]
      },
      {
       "output_type": "stream",
       "stream": "stdout",
       "text": [
        "464 "
       ]
      },
      {
       "output_type": "stream",
       "stream": "stdout",
       "text": [
        "465 "
       ]
      },
      {
       "output_type": "stream",
       "stream": "stdout",
       "text": [
        "466 "
       ]
      },
      {
       "output_type": "stream",
       "stream": "stdout",
       "text": [
        "467 "
       ]
      },
      {
       "output_type": "stream",
       "stream": "stdout",
       "text": [
        "468 "
       ]
      },
      {
       "output_type": "stream",
       "stream": "stdout",
       "text": [
        "469 "
       ]
      },
      {
       "output_type": "stream",
       "stream": "stdout",
       "text": [
        "470 "
       ]
      },
      {
       "output_type": "stream",
       "stream": "stdout",
       "text": [
        "471 "
       ]
      },
      {
       "output_type": "stream",
       "stream": "stdout",
       "text": [
        "472 "
       ]
      },
      {
       "output_type": "stream",
       "stream": "stdout",
       "text": [
        "473 "
       ]
      },
      {
       "output_type": "stream",
       "stream": "stdout",
       "text": [
        "474 "
       ]
      },
      {
       "output_type": "stream",
       "stream": "stdout",
       "text": [
        "475 "
       ]
      },
      {
       "output_type": "stream",
       "stream": "stdout",
       "text": [
        "476 "
       ]
      },
      {
       "output_type": "stream",
       "stream": "stdout",
       "text": [
        "477 "
       ]
      },
      {
       "output_type": "stream",
       "stream": "stdout",
       "text": [
        "478 "
       ]
      },
      {
       "output_type": "stream",
       "stream": "stdout",
       "text": [
        "479 "
       ]
      },
      {
       "output_type": "stream",
       "stream": "stdout",
       "text": [
        "480 "
       ]
      },
      {
       "output_type": "stream",
       "stream": "stdout",
       "text": [
        "481 "
       ]
      },
      {
       "output_type": "stream",
       "stream": "stdout",
       "text": [
        "482 "
       ]
      },
      {
       "output_type": "stream",
       "stream": "stdout",
       "text": [
        "483 "
       ]
      },
      {
       "output_type": "stream",
       "stream": "stdout",
       "text": [
        "484 "
       ]
      },
      {
       "output_type": "stream",
       "stream": "stdout",
       "text": [
        "485 "
       ]
      },
      {
       "output_type": "stream",
       "stream": "stdout",
       "text": [
        "486 "
       ]
      },
      {
       "output_type": "stream",
       "stream": "stdout",
       "text": [
        "487 "
       ]
      },
      {
       "output_type": "stream",
       "stream": "stdout",
       "text": [
        "488 "
       ]
      },
      {
       "output_type": "stream",
       "stream": "stdout",
       "text": [
        "489 "
       ]
      },
      {
       "output_type": "stream",
       "stream": "stdout",
       "text": [
        "490 "
       ]
      },
      {
       "output_type": "stream",
       "stream": "stdout",
       "text": [
        "491 "
       ]
      },
      {
       "output_type": "stream",
       "stream": "stdout",
       "text": [
        "492 "
       ]
      },
      {
       "output_type": "stream",
       "stream": "stdout",
       "text": [
        "493 "
       ]
      },
      {
       "output_type": "stream",
       "stream": "stdout",
       "text": [
        "494 "
       ]
      },
      {
       "output_type": "stream",
       "stream": "stdout",
       "text": [
        "495 "
       ]
      },
      {
       "output_type": "stream",
       "stream": "stdout",
       "text": [
        "496 "
       ]
      },
      {
       "output_type": "stream",
       "stream": "stdout",
       "text": [
        "497 "
       ]
      },
      {
       "output_type": "stream",
       "stream": "stdout",
       "text": [
        "498 "
       ]
      },
      {
       "output_type": "stream",
       "stream": "stdout",
       "text": [
        "499 "
       ]
      },
      {
       "output_type": "stream",
       "stream": "stdout",
       "text": [
        "500 "
       ]
      },
      {
       "output_type": "stream",
       "stream": "stdout",
       "text": [
        "501 "
       ]
      },
      {
       "output_type": "stream",
       "stream": "stdout",
       "text": [
        "502 "
       ]
      },
      {
       "output_type": "stream",
       "stream": "stdout",
       "text": [
        "503 "
       ]
      },
      {
       "output_type": "stream",
       "stream": "stdout",
       "text": [
        "504 "
       ]
      },
      {
       "output_type": "stream",
       "stream": "stdout",
       "text": [
        "505 "
       ]
      },
      {
       "output_type": "stream",
       "stream": "stdout",
       "text": [
        "506 "
       ]
      },
      {
       "output_type": "stream",
       "stream": "stdout",
       "text": [
        "507 "
       ]
      },
      {
       "output_type": "stream",
       "stream": "stdout",
       "text": [
        "508 "
       ]
      },
      {
       "output_type": "stream",
       "stream": "stdout",
       "text": [
        "509 "
       ]
      },
      {
       "output_type": "stream",
       "stream": "stdout",
       "text": [
        "510 "
       ]
      },
      {
       "output_type": "stream",
       "stream": "stdout",
       "text": [
        "511 "
       ]
      },
      {
       "output_type": "stream",
       "stream": "stdout",
       "text": [
        "512 "
       ]
      },
      {
       "output_type": "stream",
       "stream": "stdout",
       "text": [
        "513 "
       ]
      },
      {
       "output_type": "stream",
       "stream": "stdout",
       "text": [
        "514 "
       ]
      },
      {
       "output_type": "stream",
       "stream": "stdout",
       "text": [
        "515 "
       ]
      },
      {
       "output_type": "stream",
       "stream": "stdout",
       "text": [
        "516 "
       ]
      },
      {
       "output_type": "stream",
       "stream": "stdout",
       "text": [
        "517 "
       ]
      },
      {
       "output_type": "stream",
       "stream": "stdout",
       "text": [
        "518 "
       ]
      },
      {
       "output_type": "stream",
       "stream": "stdout",
       "text": [
        "519 "
       ]
      },
      {
       "output_type": "stream",
       "stream": "stdout",
       "text": [
        "520 "
       ]
      },
      {
       "output_type": "stream",
       "stream": "stdout",
       "text": [
        "521 "
       ]
      },
      {
       "output_type": "stream",
       "stream": "stdout",
       "text": [
        "522 "
       ]
      },
      {
       "output_type": "stream",
       "stream": "stdout",
       "text": [
        "523 "
       ]
      },
      {
       "output_type": "stream",
       "stream": "stdout",
       "text": [
        "524 "
       ]
      },
      {
       "output_type": "stream",
       "stream": "stdout",
       "text": [
        "525 "
       ]
      },
      {
       "output_type": "stream",
       "stream": "stdout",
       "text": [
        "526 "
       ]
      },
      {
       "output_type": "stream",
       "stream": "stdout",
       "text": [
        "527 "
       ]
      },
      {
       "output_type": "stream",
       "stream": "stdout",
       "text": [
        "528 "
       ]
      },
      {
       "output_type": "stream",
       "stream": "stdout",
       "text": [
        "529 "
       ]
      },
      {
       "output_type": "stream",
       "stream": "stdout",
       "text": [
        "530 "
       ]
      },
      {
       "output_type": "stream",
       "stream": "stdout",
       "text": [
        "531 "
       ]
      },
      {
       "output_type": "stream",
       "stream": "stdout",
       "text": [
        "532 "
       ]
      },
      {
       "output_type": "stream",
       "stream": "stdout",
       "text": [
        "533 "
       ]
      },
      {
       "output_type": "stream",
       "stream": "stdout",
       "text": [
        "534 "
       ]
      },
      {
       "output_type": "stream",
       "stream": "stdout",
       "text": [
        "535 "
       ]
      },
      {
       "output_type": "stream",
       "stream": "stdout",
       "text": [
        "536 "
       ]
      },
      {
       "output_type": "stream",
       "stream": "stdout",
       "text": [
        "537 "
       ]
      },
      {
       "output_type": "stream",
       "stream": "stdout",
       "text": [
        "538 "
       ]
      },
      {
       "output_type": "stream",
       "stream": "stdout",
       "text": [
        "539 "
       ]
      },
      {
       "output_type": "stream",
       "stream": "stdout",
       "text": [
        "540 "
       ]
      },
      {
       "output_type": "stream",
       "stream": "stdout",
       "text": [
        "541 "
       ]
      },
      {
       "output_type": "stream",
       "stream": "stdout",
       "text": [
        "542 "
       ]
      },
      {
       "output_type": "stream",
       "stream": "stdout",
       "text": [
        "543 "
       ]
      },
      {
       "output_type": "stream",
       "stream": "stdout",
       "text": [
        "544 "
       ]
      },
      {
       "output_type": "stream",
       "stream": "stdout",
       "text": [
        "545 "
       ]
      },
      {
       "output_type": "stream",
       "stream": "stdout",
       "text": [
        "546 "
       ]
      },
      {
       "output_type": "stream",
       "stream": "stdout",
       "text": [
        "547 "
       ]
      },
      {
       "output_type": "stream",
       "stream": "stdout",
       "text": [
        "548 "
       ]
      },
      {
       "output_type": "stream",
       "stream": "stdout",
       "text": [
        "549 "
       ]
      },
      {
       "output_type": "stream",
       "stream": "stdout",
       "text": [
        "550 "
       ]
      },
      {
       "output_type": "stream",
       "stream": "stdout",
       "text": [
        "551 "
       ]
      },
      {
       "output_type": "stream",
       "stream": "stdout",
       "text": [
        "552 "
       ]
      },
      {
       "output_type": "stream",
       "stream": "stdout",
       "text": [
        "553 "
       ]
      },
      {
       "output_type": "stream",
       "stream": "stdout",
       "text": [
        "554 "
       ]
      },
      {
       "output_type": "stream",
       "stream": "stdout",
       "text": [
        "555 "
       ]
      },
      {
       "output_type": "stream",
       "stream": "stdout",
       "text": [
        "556 "
       ]
      },
      {
       "output_type": "stream",
       "stream": "stdout",
       "text": [
        "557 "
       ]
      },
      {
       "output_type": "stream",
       "stream": "stdout",
       "text": [
        "558 "
       ]
      },
      {
       "output_type": "stream",
       "stream": "stdout",
       "text": [
        "559 "
       ]
      },
      {
       "output_type": "stream",
       "stream": "stdout",
       "text": [
        "560 "
       ]
      },
      {
       "output_type": "stream",
       "stream": "stdout",
       "text": [
        "561 "
       ]
      },
      {
       "output_type": "stream",
       "stream": "stdout",
       "text": [
        "562 "
       ]
      },
      {
       "output_type": "stream",
       "stream": "stdout",
       "text": [
        "563 "
       ]
      },
      {
       "output_type": "stream",
       "stream": "stdout",
       "text": [
        "564 "
       ]
      },
      {
       "output_type": "stream",
       "stream": "stdout",
       "text": [
        "565 "
       ]
      },
      {
       "output_type": "stream",
       "stream": "stdout",
       "text": [
        "566 "
       ]
      },
      {
       "output_type": "stream",
       "stream": "stdout",
       "text": [
        "567 "
       ]
      },
      {
       "output_type": "stream",
       "stream": "stdout",
       "text": [
        "568 "
       ]
      },
      {
       "output_type": "stream",
       "stream": "stdout",
       "text": [
        "569 "
       ]
      },
      {
       "output_type": "stream",
       "stream": "stdout",
       "text": [
        "570 "
       ]
      },
      {
       "output_type": "stream",
       "stream": "stdout",
       "text": [
        "571 "
       ]
      },
      {
       "output_type": "stream",
       "stream": "stdout",
       "text": [
        "572 "
       ]
      },
      {
       "output_type": "stream",
       "stream": "stdout",
       "text": [
        "573 "
       ]
      },
      {
       "output_type": "stream",
       "stream": "stdout",
       "text": [
        "574 "
       ]
      },
      {
       "output_type": "stream",
       "stream": "stdout",
       "text": [
        "575 "
       ]
      },
      {
       "output_type": "stream",
       "stream": "stdout",
       "text": [
        "576 "
       ]
      },
      {
       "output_type": "stream",
       "stream": "stdout",
       "text": [
        "577 "
       ]
      },
      {
       "output_type": "stream",
       "stream": "stdout",
       "text": [
        "578 "
       ]
      },
      {
       "output_type": "stream",
       "stream": "stdout",
       "text": [
        "579 "
       ]
      },
      {
       "output_type": "stream",
       "stream": "stdout",
       "text": [
        "580 "
       ]
      },
      {
       "output_type": "stream",
       "stream": "stdout",
       "text": [
        "581 "
       ]
      },
      {
       "output_type": "stream",
       "stream": "stdout",
       "text": [
        "582 "
       ]
      },
      {
       "output_type": "stream",
       "stream": "stdout",
       "text": [
        "583 "
       ]
      },
      {
       "output_type": "stream",
       "stream": "stdout",
       "text": [
        "584 "
       ]
      },
      {
       "output_type": "stream",
       "stream": "stdout",
       "text": [
        "585 "
       ]
      },
      {
       "output_type": "stream",
       "stream": "stdout",
       "text": [
        "586 "
       ]
      },
      {
       "output_type": "stream",
       "stream": "stdout",
       "text": [
        "587 "
       ]
      },
      {
       "output_type": "stream",
       "stream": "stdout",
       "text": [
        "588 "
       ]
      },
      {
       "output_type": "stream",
       "stream": "stdout",
       "text": [
        "589 "
       ]
      },
      {
       "output_type": "stream",
       "stream": "stdout",
       "text": [
        "590 "
       ]
      },
      {
       "output_type": "stream",
       "stream": "stdout",
       "text": [
        "591 "
       ]
      },
      {
       "output_type": "stream",
       "stream": "stdout",
       "text": [
        "592 "
       ]
      },
      {
       "output_type": "stream",
       "stream": "stdout",
       "text": [
        "593 "
       ]
      },
      {
       "output_type": "stream",
       "stream": "stdout",
       "text": [
        "594 "
       ]
      },
      {
       "output_type": "stream",
       "stream": "stdout",
       "text": [
        "595 "
       ]
      },
      {
       "output_type": "stream",
       "stream": "stdout",
       "text": [
        "596 "
       ]
      },
      {
       "output_type": "stream",
       "stream": "stdout",
       "text": [
        "597 "
       ]
      },
      {
       "output_type": "stream",
       "stream": "stdout",
       "text": [
        "598 "
       ]
      },
      {
       "output_type": "stream",
       "stream": "stdout",
       "text": [
        "599 "
       ]
      },
      {
       "output_type": "stream",
       "stream": "stdout",
       "text": [
        "600 "
       ]
      },
      {
       "output_type": "stream",
       "stream": "stdout",
       "text": [
        "601 "
       ]
      },
      {
       "output_type": "stream",
       "stream": "stdout",
       "text": [
        "602 "
       ]
      },
      {
       "output_type": "stream",
       "stream": "stdout",
       "text": [
        "603 "
       ]
      },
      {
       "output_type": "stream",
       "stream": "stdout",
       "text": [
        "604 "
       ]
      },
      {
       "output_type": "stream",
       "stream": "stdout",
       "text": [
        "605 "
       ]
      },
      {
       "output_type": "stream",
       "stream": "stdout",
       "text": [
        "606 "
       ]
      },
      {
       "output_type": "stream",
       "stream": "stdout",
       "text": [
        "607 "
       ]
      },
      {
       "output_type": "stream",
       "stream": "stdout",
       "text": [
        "608 "
       ]
      },
      {
       "output_type": "stream",
       "stream": "stdout",
       "text": [
        "609 "
       ]
      },
      {
       "output_type": "stream",
       "stream": "stdout",
       "text": [
        "610 "
       ]
      },
      {
       "output_type": "stream",
       "stream": "stdout",
       "text": [
        "611 "
       ]
      },
      {
       "output_type": "stream",
       "stream": "stdout",
       "text": [
        "612 "
       ]
      },
      {
       "output_type": "stream",
       "stream": "stdout",
       "text": [
        "613 "
       ]
      },
      {
       "output_type": "stream",
       "stream": "stdout",
       "text": [
        "614 "
       ]
      },
      {
       "output_type": "stream",
       "stream": "stdout",
       "text": [
        "615 "
       ]
      },
      {
       "output_type": "stream",
       "stream": "stdout",
       "text": [
        "616 "
       ]
      },
      {
       "output_type": "stream",
       "stream": "stdout",
       "text": [
        "617 "
       ]
      },
      {
       "output_type": "stream",
       "stream": "stdout",
       "text": [
        "618 "
       ]
      },
      {
       "output_type": "stream",
       "stream": "stdout",
       "text": [
        "619 "
       ]
      },
      {
       "output_type": "stream",
       "stream": "stdout",
       "text": [
        "620 "
       ]
      },
      {
       "output_type": "stream",
       "stream": "stdout",
       "text": [
        "621 "
       ]
      },
      {
       "output_type": "stream",
       "stream": "stdout",
       "text": [
        "622 "
       ]
      },
      {
       "output_type": "stream",
       "stream": "stdout",
       "text": [
        "623 "
       ]
      },
      {
       "output_type": "stream",
       "stream": "stdout",
       "text": [
        "624 "
       ]
      },
      {
       "output_type": "stream",
       "stream": "stdout",
       "text": [
        "625 "
       ]
      },
      {
       "output_type": "stream",
       "stream": "stdout",
       "text": [
        "626 "
       ]
      },
      {
       "output_type": "stream",
       "stream": "stdout",
       "text": [
        "627 "
       ]
      },
      {
       "output_type": "stream",
       "stream": "stdout",
       "text": [
        "628 "
       ]
      },
      {
       "output_type": "stream",
       "stream": "stdout",
       "text": [
        "629 "
       ]
      },
      {
       "output_type": "stream",
       "stream": "stdout",
       "text": [
        "630 "
       ]
      },
      {
       "output_type": "stream",
       "stream": "stdout",
       "text": [
        "631 "
       ]
      },
      {
       "output_type": "stream",
       "stream": "stdout",
       "text": [
        "632 "
       ]
      },
      {
       "output_type": "stream",
       "stream": "stdout",
       "text": [
        "633 "
       ]
      },
      {
       "output_type": "stream",
       "stream": "stdout",
       "text": [
        "634 "
       ]
      },
      {
       "output_type": "stream",
       "stream": "stdout",
       "text": [
        "635 "
       ]
      },
      {
       "output_type": "stream",
       "stream": "stdout",
       "text": [
        "636 "
       ]
      },
      {
       "output_type": "stream",
       "stream": "stdout",
       "text": [
        "637 "
       ]
      },
      {
       "output_type": "stream",
       "stream": "stdout",
       "text": [
        "638 "
       ]
      },
      {
       "output_type": "stream",
       "stream": "stdout",
       "text": [
        "639 "
       ]
      },
      {
       "output_type": "stream",
       "stream": "stdout",
       "text": [
        "640 "
       ]
      },
      {
       "output_type": "stream",
       "stream": "stdout",
       "text": [
        "641 "
       ]
      },
      {
       "output_type": "stream",
       "stream": "stdout",
       "text": [
        "642 "
       ]
      },
      {
       "output_type": "stream",
       "stream": "stdout",
       "text": [
        "643 "
       ]
      },
      {
       "output_type": "stream",
       "stream": "stdout",
       "text": [
        "644 "
       ]
      },
      {
       "output_type": "stream",
       "stream": "stdout",
       "text": [
        "645 "
       ]
      },
      {
       "output_type": "stream",
       "stream": "stdout",
       "text": [
        "646 "
       ]
      },
      {
       "output_type": "stream",
       "stream": "stdout",
       "text": [
        "647 "
       ]
      },
      {
       "output_type": "stream",
       "stream": "stdout",
       "text": [
        "648 "
       ]
      },
      {
       "output_type": "stream",
       "stream": "stdout",
       "text": [
        "649 "
       ]
      },
      {
       "output_type": "stream",
       "stream": "stdout",
       "text": [
        "650 "
       ]
      },
      {
       "output_type": "stream",
       "stream": "stdout",
       "text": [
        "651 "
       ]
      },
      {
       "output_type": "stream",
       "stream": "stdout",
       "text": [
        "652 "
       ]
      },
      {
       "output_type": "stream",
       "stream": "stdout",
       "text": [
        "653 "
       ]
      },
      {
       "output_type": "stream",
       "stream": "stdout",
       "text": [
        "654 "
       ]
      },
      {
       "output_type": "stream",
       "stream": "stdout",
       "text": [
        "655 "
       ]
      },
      {
       "output_type": "stream",
       "stream": "stdout",
       "text": [
        "656 "
       ]
      },
      {
       "output_type": "stream",
       "stream": "stdout",
       "text": [
        "657 "
       ]
      },
      {
       "output_type": "stream",
       "stream": "stdout",
       "text": [
        "658 "
       ]
      },
      {
       "output_type": "stream",
       "stream": "stdout",
       "text": [
        "659 "
       ]
      },
      {
       "output_type": "stream",
       "stream": "stdout",
       "text": [
        "660 "
       ]
      },
      {
       "output_type": "stream",
       "stream": "stdout",
       "text": [
        "661 "
       ]
      },
      {
       "output_type": "stream",
       "stream": "stdout",
       "text": [
        "662 "
       ]
      },
      {
       "output_type": "stream",
       "stream": "stdout",
       "text": [
        "663 "
       ]
      },
      {
       "output_type": "stream",
       "stream": "stdout",
       "text": [
        "664 "
       ]
      },
      {
       "output_type": "stream",
       "stream": "stdout",
       "text": [
        "665 "
       ]
      },
      {
       "output_type": "stream",
       "stream": "stdout",
       "text": [
        "666 "
       ]
      },
      {
       "output_type": "stream",
       "stream": "stdout",
       "text": [
        "667 "
       ]
      },
      {
       "output_type": "stream",
       "stream": "stdout",
       "text": [
        "668 "
       ]
      },
      {
       "output_type": "stream",
       "stream": "stdout",
       "text": [
        "669 "
       ]
      },
      {
       "output_type": "stream",
       "stream": "stdout",
       "text": [
        "670 "
       ]
      },
      {
       "output_type": "stream",
       "stream": "stdout",
       "text": [
        "671 "
       ]
      },
      {
       "output_type": "stream",
       "stream": "stdout",
       "text": [
        "672 "
       ]
      },
      {
       "output_type": "stream",
       "stream": "stdout",
       "text": [
        "673 "
       ]
      },
      {
       "output_type": "stream",
       "stream": "stdout",
       "text": [
        "674 "
       ]
      },
      {
       "output_type": "stream",
       "stream": "stdout",
       "text": [
        "675 "
       ]
      },
      {
       "output_type": "stream",
       "stream": "stdout",
       "text": [
        "676 "
       ]
      },
      {
       "output_type": "stream",
       "stream": "stdout",
       "text": [
        "677 "
       ]
      },
      {
       "output_type": "stream",
       "stream": "stdout",
       "text": [
        "678 "
       ]
      },
      {
       "output_type": "stream",
       "stream": "stdout",
       "text": [
        "679 "
       ]
      },
      {
       "output_type": "stream",
       "stream": "stdout",
       "text": [
        "680 "
       ]
      },
      {
       "output_type": "stream",
       "stream": "stdout",
       "text": [
        "681 "
       ]
      },
      {
       "output_type": "stream",
       "stream": "stdout",
       "text": [
        "682 "
       ]
      },
      {
       "output_type": "stream",
       "stream": "stdout",
       "text": [
        "683 "
       ]
      },
      {
       "output_type": "stream",
       "stream": "stdout",
       "text": [
        "684 "
       ]
      },
      {
       "output_type": "stream",
       "stream": "stdout",
       "text": [
        "685 "
       ]
      },
      {
       "output_type": "stream",
       "stream": "stdout",
       "text": [
        "686 "
       ]
      },
      {
       "output_type": "stream",
       "stream": "stdout",
       "text": [
        "687 "
       ]
      },
      {
       "output_type": "stream",
       "stream": "stdout",
       "text": [
        "688 "
       ]
      },
      {
       "output_type": "stream",
       "stream": "stdout",
       "text": [
        "689 "
       ]
      },
      {
       "output_type": "stream",
       "stream": "stdout",
       "text": [
        "690 "
       ]
      },
      {
       "output_type": "stream",
       "stream": "stdout",
       "text": [
        "691 "
       ]
      },
      {
       "output_type": "stream",
       "stream": "stdout",
       "text": [
        "692 "
       ]
      },
      {
       "output_type": "stream",
       "stream": "stdout",
       "text": [
        "693 "
       ]
      },
      {
       "output_type": "stream",
       "stream": "stdout",
       "text": [
        "694 "
       ]
      },
      {
       "output_type": "stream",
       "stream": "stdout",
       "text": [
        "695 "
       ]
      },
      {
       "output_type": "stream",
       "stream": "stdout",
       "text": [
        "696 "
       ]
      },
      {
       "output_type": "stream",
       "stream": "stdout",
       "text": [
        "697 "
       ]
      },
      {
       "output_type": "stream",
       "stream": "stdout",
       "text": [
        "698 "
       ]
      },
      {
       "output_type": "stream",
       "stream": "stdout",
       "text": [
        "699 "
       ]
      },
      {
       "output_type": "stream",
       "stream": "stdout",
       "text": [
        "700 "
       ]
      },
      {
       "output_type": "stream",
       "stream": "stdout",
       "text": [
        "701 "
       ]
      },
      {
       "output_type": "stream",
       "stream": "stdout",
       "text": [
        "702 "
       ]
      },
      {
       "output_type": "stream",
       "stream": "stdout",
       "text": [
        "703 "
       ]
      },
      {
       "output_type": "stream",
       "stream": "stdout",
       "text": [
        "704 "
       ]
      },
      {
       "output_type": "stream",
       "stream": "stdout",
       "text": [
        "705 "
       ]
      },
      {
       "output_type": "stream",
       "stream": "stdout",
       "text": [
        "706 "
       ]
      },
      {
       "output_type": "stream",
       "stream": "stdout",
       "text": [
        "707 "
       ]
      },
      {
       "output_type": "stream",
       "stream": "stdout",
       "text": [
        "708 "
       ]
      },
      {
       "output_type": "stream",
       "stream": "stdout",
       "text": [
        "709 "
       ]
      },
      {
       "output_type": "stream",
       "stream": "stdout",
       "text": [
        "710 "
       ]
      },
      {
       "output_type": "stream",
       "stream": "stdout",
       "text": [
        "711 "
       ]
      },
      {
       "output_type": "stream",
       "stream": "stdout",
       "text": [
        "712 "
       ]
      },
      {
       "output_type": "stream",
       "stream": "stdout",
       "text": [
        "713 "
       ]
      },
      {
       "output_type": "stream",
       "stream": "stdout",
       "text": [
        "714 "
       ]
      },
      {
       "output_type": "stream",
       "stream": "stdout",
       "text": [
        "715 "
       ]
      },
      {
       "output_type": "stream",
       "stream": "stdout",
       "text": [
        "716 "
       ]
      },
      {
       "output_type": "stream",
       "stream": "stdout",
       "text": [
        "717 "
       ]
      },
      {
       "output_type": "stream",
       "stream": "stdout",
       "text": [
        "718 "
       ]
      },
      {
       "output_type": "stream",
       "stream": "stdout",
       "text": [
        "719 "
       ]
      },
      {
       "output_type": "stream",
       "stream": "stdout",
       "text": [
        "720 "
       ]
      },
      {
       "output_type": "stream",
       "stream": "stdout",
       "text": [
        "721 "
       ]
      },
      {
       "output_type": "stream",
       "stream": "stdout",
       "text": [
        "722 "
       ]
      },
      {
       "output_type": "stream",
       "stream": "stdout",
       "text": [
        "723 "
       ]
      },
      {
       "output_type": "stream",
       "stream": "stdout",
       "text": [
        "724 "
       ]
      },
      {
       "output_type": "stream",
       "stream": "stdout",
       "text": [
        "725 "
       ]
      },
      {
       "output_type": "stream",
       "stream": "stdout",
       "text": [
        "726 "
       ]
      },
      {
       "output_type": "stream",
       "stream": "stdout",
       "text": [
        "727 "
       ]
      },
      {
       "output_type": "stream",
       "stream": "stdout",
       "text": [
        "728 "
       ]
      },
      {
       "output_type": "stream",
       "stream": "stdout",
       "text": [
        "729 "
       ]
      },
      {
       "output_type": "stream",
       "stream": "stdout",
       "text": [
        "730 "
       ]
      },
      {
       "output_type": "stream",
       "stream": "stdout",
       "text": [
        "731 "
       ]
      },
      {
       "output_type": "stream",
       "stream": "stdout",
       "text": [
        "732 "
       ]
      },
      {
       "output_type": "stream",
       "stream": "stdout",
       "text": [
        "733 "
       ]
      },
      {
       "output_type": "stream",
       "stream": "stdout",
       "text": [
        "734 "
       ]
      },
      {
       "output_type": "stream",
       "stream": "stdout",
       "text": [
        "735 "
       ]
      },
      {
       "output_type": "stream",
       "stream": "stdout",
       "text": [
        "736 "
       ]
      },
      {
       "output_type": "stream",
       "stream": "stdout",
       "text": [
        "737 "
       ]
      },
      {
       "output_type": "stream",
       "stream": "stdout",
       "text": [
        "738 "
       ]
      },
      {
       "output_type": "stream",
       "stream": "stdout",
       "text": [
        "739 "
       ]
      },
      {
       "output_type": "stream",
       "stream": "stdout",
       "text": [
        "740 "
       ]
      },
      {
       "output_type": "stream",
       "stream": "stdout",
       "text": [
        "741 "
       ]
      },
      {
       "output_type": "stream",
       "stream": "stdout",
       "text": [
        "742 "
       ]
      },
      {
       "output_type": "stream",
       "stream": "stdout",
       "text": [
        "743 "
       ]
      },
      {
       "output_type": "stream",
       "stream": "stdout",
       "text": [
        "744 "
       ]
      },
      {
       "output_type": "stream",
       "stream": "stdout",
       "text": [
        "745 "
       ]
      },
      {
       "output_type": "stream",
       "stream": "stdout",
       "text": [
        "746 "
       ]
      },
      {
       "output_type": "stream",
       "stream": "stdout",
       "text": [
        "747 "
       ]
      },
      {
       "output_type": "stream",
       "stream": "stdout",
       "text": [
        "748 "
       ]
      },
      {
       "output_type": "stream",
       "stream": "stdout",
       "text": [
        "749 "
       ]
      },
      {
       "output_type": "stream",
       "stream": "stdout",
       "text": [
        "750 "
       ]
      },
      {
       "output_type": "stream",
       "stream": "stdout",
       "text": [
        "751 "
       ]
      },
      {
       "output_type": "stream",
       "stream": "stdout",
       "text": [
        "752 "
       ]
      },
      {
       "output_type": "stream",
       "stream": "stdout",
       "text": [
        "753 "
       ]
      },
      {
       "output_type": "stream",
       "stream": "stdout",
       "text": [
        "754 "
       ]
      },
      {
       "output_type": "stream",
       "stream": "stdout",
       "text": [
        "755 "
       ]
      },
      {
       "output_type": "stream",
       "stream": "stdout",
       "text": [
        "756 "
       ]
      },
      {
       "output_type": "stream",
       "stream": "stdout",
       "text": [
        "757 "
       ]
      },
      {
       "output_type": "stream",
       "stream": "stdout",
       "text": [
        "758 "
       ]
      },
      {
       "output_type": "stream",
       "stream": "stdout",
       "text": [
        "759 "
       ]
      },
      {
       "output_type": "stream",
       "stream": "stdout",
       "text": [
        "760 "
       ]
      },
      {
       "output_type": "stream",
       "stream": "stdout",
       "text": [
        "761 "
       ]
      },
      {
       "output_type": "stream",
       "stream": "stdout",
       "text": [
        "762 "
       ]
      },
      {
       "output_type": "stream",
       "stream": "stdout",
       "text": [
        "763 "
       ]
      },
      {
       "output_type": "stream",
       "stream": "stdout",
       "text": [
        "764 "
       ]
      },
      {
       "output_type": "stream",
       "stream": "stdout",
       "text": [
        "765 "
       ]
      },
      {
       "output_type": "stream",
       "stream": "stdout",
       "text": [
        "766 "
       ]
      },
      {
       "output_type": "stream",
       "stream": "stdout",
       "text": [
        "767 "
       ]
      },
      {
       "output_type": "stream",
       "stream": "stdout",
       "text": [
        "768 "
       ]
      },
      {
       "output_type": "stream",
       "stream": "stdout",
       "text": [
        "769 "
       ]
      },
      {
       "output_type": "stream",
       "stream": "stdout",
       "text": [
        "770 "
       ]
      },
      {
       "output_type": "stream",
       "stream": "stdout",
       "text": [
        "771 "
       ]
      },
      {
       "output_type": "stream",
       "stream": "stdout",
       "text": [
        "772 "
       ]
      },
      {
       "output_type": "stream",
       "stream": "stdout",
       "text": [
        "773 "
       ]
      },
      {
       "output_type": "stream",
       "stream": "stdout",
       "text": [
        "774 "
       ]
      },
      {
       "output_type": "stream",
       "stream": "stdout",
       "text": [
        "775 "
       ]
      },
      {
       "output_type": "stream",
       "stream": "stdout",
       "text": [
        "776 "
       ]
      },
      {
       "output_type": "stream",
       "stream": "stdout",
       "text": [
        "777 "
       ]
      },
      {
       "output_type": "stream",
       "stream": "stdout",
       "text": [
        "778 "
       ]
      },
      {
       "output_type": "stream",
       "stream": "stdout",
       "text": [
        "779 "
       ]
      },
      {
       "output_type": "stream",
       "stream": "stdout",
       "text": [
        "780 "
       ]
      },
      {
       "output_type": "stream",
       "stream": "stdout",
       "text": [
        "781 "
       ]
      },
      {
       "output_type": "stream",
       "stream": "stdout",
       "text": [
        "782 "
       ]
      },
      {
       "output_type": "stream",
       "stream": "stdout",
       "text": [
        "783 "
       ]
      },
      {
       "output_type": "stream",
       "stream": "stdout",
       "text": [
        "784 "
       ]
      },
      {
       "output_type": "stream",
       "stream": "stdout",
       "text": [
        "785 "
       ]
      },
      {
       "output_type": "stream",
       "stream": "stdout",
       "text": [
        "786 "
       ]
      },
      {
       "output_type": "stream",
       "stream": "stdout",
       "text": [
        "787 "
       ]
      },
      {
       "output_type": "stream",
       "stream": "stdout",
       "text": [
        "788 "
       ]
      },
      {
       "output_type": "stream",
       "stream": "stdout",
       "text": [
        "789 "
       ]
      },
      {
       "output_type": "stream",
       "stream": "stdout",
       "text": [
        "790 "
       ]
      },
      {
       "output_type": "stream",
       "stream": "stdout",
       "text": [
        "791 "
       ]
      },
      {
       "output_type": "stream",
       "stream": "stdout",
       "text": [
        "792 "
       ]
      },
      {
       "output_type": "stream",
       "stream": "stdout",
       "text": [
        "793 "
       ]
      },
      {
       "output_type": "stream",
       "stream": "stdout",
       "text": [
        "794 "
       ]
      },
      {
       "output_type": "stream",
       "stream": "stdout",
       "text": [
        "795 "
       ]
      },
      {
       "output_type": "stream",
       "stream": "stdout",
       "text": [
        "796 "
       ]
      },
      {
       "output_type": "stream",
       "stream": "stdout",
       "text": [
        "797 "
       ]
      },
      {
       "output_type": "stream",
       "stream": "stdout",
       "text": [
        "798 "
       ]
      },
      {
       "output_type": "stream",
       "stream": "stdout",
       "text": [
        "799 "
       ]
      },
      {
       "output_type": "stream",
       "stream": "stdout",
       "text": [
        "800 "
       ]
      },
      {
       "output_type": "stream",
       "stream": "stdout",
       "text": [
        "801 "
       ]
      },
      {
       "output_type": "stream",
       "stream": "stdout",
       "text": [
        "802 "
       ]
      },
      {
       "output_type": "stream",
       "stream": "stdout",
       "text": [
        "803 "
       ]
      },
      {
       "output_type": "stream",
       "stream": "stdout",
       "text": [
        "804 "
       ]
      },
      {
       "output_type": "stream",
       "stream": "stdout",
       "text": [
        "805 "
       ]
      },
      {
       "output_type": "stream",
       "stream": "stdout",
       "text": [
        "806 "
       ]
      },
      {
       "output_type": "stream",
       "stream": "stdout",
       "text": [
        "807 "
       ]
      },
      {
       "output_type": "stream",
       "stream": "stdout",
       "text": [
        "808 "
       ]
      },
      {
       "output_type": "stream",
       "stream": "stdout",
       "text": [
        "809 "
       ]
      },
      {
       "output_type": "stream",
       "stream": "stdout",
       "text": [
        "810 "
       ]
      },
      {
       "output_type": "stream",
       "stream": "stdout",
       "text": [
        "811 "
       ]
      },
      {
       "output_type": "stream",
       "stream": "stdout",
       "text": [
        "812 "
       ]
      },
      {
       "output_type": "stream",
       "stream": "stdout",
       "text": [
        "813 "
       ]
      },
      {
       "output_type": "stream",
       "stream": "stdout",
       "text": [
        "814 "
       ]
      },
      {
       "output_type": "stream",
       "stream": "stdout",
       "text": [
        "815 "
       ]
      },
      {
       "output_type": "stream",
       "stream": "stdout",
       "text": [
        "816 "
       ]
      },
      {
       "output_type": "stream",
       "stream": "stdout",
       "text": [
        "817 "
       ]
      },
      {
       "output_type": "stream",
       "stream": "stdout",
       "text": [
        "818 "
       ]
      },
      {
       "output_type": "stream",
       "stream": "stdout",
       "text": [
        "819 "
       ]
      },
      {
       "output_type": "stream",
       "stream": "stdout",
       "text": [
        "820 "
       ]
      },
      {
       "output_type": "stream",
       "stream": "stdout",
       "text": [
        "821 "
       ]
      },
      {
       "output_type": "stream",
       "stream": "stdout",
       "text": [
        "822 "
       ]
      },
      {
       "output_type": "stream",
       "stream": "stdout",
       "text": [
        "823 "
       ]
      },
      {
       "output_type": "stream",
       "stream": "stdout",
       "text": [
        "824 "
       ]
      },
      {
       "output_type": "stream",
       "stream": "stdout",
       "text": [
        "825 "
       ]
      },
      {
       "output_type": "stream",
       "stream": "stdout",
       "text": [
        "826 "
       ]
      },
      {
       "output_type": "stream",
       "stream": "stdout",
       "text": [
        "827 "
       ]
      },
      {
       "output_type": "stream",
       "stream": "stdout",
       "text": [
        "828 "
       ]
      },
      {
       "output_type": "stream",
       "stream": "stdout",
       "text": [
        "829 "
       ]
      },
      {
       "output_type": "stream",
       "stream": "stdout",
       "text": [
        "830 "
       ]
      },
      {
       "output_type": "stream",
       "stream": "stdout",
       "text": [
        "831 "
       ]
      },
      {
       "output_type": "stream",
       "stream": "stdout",
       "text": [
        "832 "
       ]
      },
      {
       "output_type": "stream",
       "stream": "stdout",
       "text": [
        "833 "
       ]
      },
      {
       "output_type": "stream",
       "stream": "stdout",
       "text": [
        "834 "
       ]
      },
      {
       "output_type": "stream",
       "stream": "stdout",
       "text": [
        "835 "
       ]
      },
      {
       "output_type": "stream",
       "stream": "stdout",
       "text": [
        "836 "
       ]
      },
      {
       "output_type": "stream",
       "stream": "stdout",
       "text": [
        "837 "
       ]
      },
      {
       "output_type": "stream",
       "stream": "stdout",
       "text": [
        "838 "
       ]
      },
      {
       "output_type": "stream",
       "stream": "stdout",
       "text": [
        "839 "
       ]
      },
      {
       "output_type": "stream",
       "stream": "stdout",
       "text": [
        "840 "
       ]
      },
      {
       "output_type": "stream",
       "stream": "stdout",
       "text": [
        "841 "
       ]
      },
      {
       "output_type": "stream",
       "stream": "stdout",
       "text": [
        "842 "
       ]
      },
      {
       "output_type": "stream",
       "stream": "stdout",
       "text": [
        "843 "
       ]
      },
      {
       "output_type": "stream",
       "stream": "stdout",
       "text": [
        "844 "
       ]
      },
      {
       "output_type": "stream",
       "stream": "stdout",
       "text": [
        "845 "
       ]
      },
      {
       "output_type": "stream",
       "stream": "stdout",
       "text": [
        "846 "
       ]
      },
      {
       "output_type": "stream",
       "stream": "stdout",
       "text": [
        "847 "
       ]
      },
      {
       "output_type": "stream",
       "stream": "stdout",
       "text": [
        "848 "
       ]
      },
      {
       "output_type": "stream",
       "stream": "stdout",
       "text": [
        "849 "
       ]
      },
      {
       "output_type": "stream",
       "stream": "stdout",
       "text": [
        "850 "
       ]
      },
      {
       "output_type": "stream",
       "stream": "stdout",
       "text": [
        "851 "
       ]
      },
      {
       "output_type": "stream",
       "stream": "stdout",
       "text": [
        "852 "
       ]
      },
      {
       "output_type": "stream",
       "stream": "stdout",
       "text": [
        "853 "
       ]
      },
      {
       "output_type": "stream",
       "stream": "stdout",
       "text": [
        "854 "
       ]
      },
      {
       "output_type": "stream",
       "stream": "stdout",
       "text": [
        "855 "
       ]
      },
      {
       "output_type": "stream",
       "stream": "stdout",
       "text": [
        "856 "
       ]
      },
      {
       "output_type": "stream",
       "stream": "stdout",
       "text": [
        "857 "
       ]
      },
      {
       "output_type": "stream",
       "stream": "stdout",
       "text": [
        "858 "
       ]
      },
      {
       "output_type": "stream",
       "stream": "stdout",
       "text": [
        "859 "
       ]
      },
      {
       "output_type": "stream",
       "stream": "stdout",
       "text": [
        "860 "
       ]
      },
      {
       "output_type": "stream",
       "stream": "stdout",
       "text": [
        "861 "
       ]
      },
      {
       "output_type": "stream",
       "stream": "stdout",
       "text": [
        "862 "
       ]
      },
      {
       "output_type": "stream",
       "stream": "stdout",
       "text": [
        "863 "
       ]
      },
      {
       "output_type": "stream",
       "stream": "stdout",
       "text": [
        "864 "
       ]
      },
      {
       "output_type": "stream",
       "stream": "stdout",
       "text": [
        "865 "
       ]
      },
      {
       "output_type": "stream",
       "stream": "stdout",
       "text": [
        "866 "
       ]
      },
      {
       "output_type": "stream",
       "stream": "stdout",
       "text": [
        "867 "
       ]
      },
      {
       "output_type": "stream",
       "stream": "stdout",
       "text": [
        "868 "
       ]
      },
      {
       "output_type": "stream",
       "stream": "stdout",
       "text": [
        "869 "
       ]
      },
      {
       "output_type": "stream",
       "stream": "stdout",
       "text": [
        "870 "
       ]
      },
      {
       "output_type": "stream",
       "stream": "stdout",
       "text": [
        "871 "
       ]
      },
      {
       "output_type": "stream",
       "stream": "stdout",
       "text": [
        "872 "
       ]
      },
      {
       "output_type": "stream",
       "stream": "stdout",
       "text": [
        "873 "
       ]
      },
      {
       "output_type": "stream",
       "stream": "stdout",
       "text": [
        "874 "
       ]
      },
      {
       "output_type": "stream",
       "stream": "stdout",
       "text": [
        "875 "
       ]
      },
      {
       "output_type": "stream",
       "stream": "stdout",
       "text": [
        "876 "
       ]
      },
      {
       "output_type": "stream",
       "stream": "stdout",
       "text": [
        "877 "
       ]
      },
      {
       "output_type": "stream",
       "stream": "stdout",
       "text": [
        "878 "
       ]
      },
      {
       "output_type": "stream",
       "stream": "stdout",
       "text": [
        "879 "
       ]
      },
      {
       "output_type": "stream",
       "stream": "stdout",
       "text": [
        "880 "
       ]
      },
      {
       "output_type": "stream",
       "stream": "stdout",
       "text": [
        "881 "
       ]
      },
      {
       "output_type": "stream",
       "stream": "stdout",
       "text": [
        "882 "
       ]
      },
      {
       "output_type": "stream",
       "stream": "stdout",
       "text": [
        "883 "
       ]
      },
      {
       "output_type": "stream",
       "stream": "stdout",
       "text": [
        "884 "
       ]
      },
      {
       "output_type": "stream",
       "stream": "stdout",
       "text": [
        "885 "
       ]
      },
      {
       "output_type": "stream",
       "stream": "stdout",
       "text": [
        "886 "
       ]
      },
      {
       "output_type": "stream",
       "stream": "stdout",
       "text": [
        "887 "
       ]
      },
      {
       "output_type": "stream",
       "stream": "stdout",
       "text": [
        "888 "
       ]
      },
      {
       "output_type": "stream",
       "stream": "stdout",
       "text": [
        "889 "
       ]
      },
      {
       "output_type": "stream",
       "stream": "stdout",
       "text": [
        "890 "
       ]
      },
      {
       "output_type": "stream",
       "stream": "stdout",
       "text": [
        "891 "
       ]
      },
      {
       "output_type": "stream",
       "stream": "stdout",
       "text": [
        "892 "
       ]
      },
      {
       "output_type": "stream",
       "stream": "stdout",
       "text": [
        "893 "
       ]
      },
      {
       "output_type": "stream",
       "stream": "stdout",
       "text": [
        "894 "
       ]
      },
      {
       "output_type": "stream",
       "stream": "stdout",
       "text": [
        "895 "
       ]
      },
      {
       "output_type": "stream",
       "stream": "stdout",
       "text": [
        "896 "
       ]
      },
      {
       "output_type": "stream",
       "stream": "stdout",
       "text": [
        "897 "
       ]
      },
      {
       "output_type": "stream",
       "stream": "stdout",
       "text": [
        "898 "
       ]
      },
      {
       "output_type": "stream",
       "stream": "stdout",
       "text": [
        "899 "
       ]
      },
      {
       "output_type": "stream",
       "stream": "stdout",
       "text": [
        "900 "
       ]
      },
      {
       "output_type": "stream",
       "stream": "stdout",
       "text": [
        "901 "
       ]
      },
      {
       "output_type": "stream",
       "stream": "stdout",
       "text": [
        "902 "
       ]
      },
      {
       "output_type": "stream",
       "stream": "stdout",
       "text": [
        "903 "
       ]
      },
      {
       "output_type": "stream",
       "stream": "stdout",
       "text": [
        "904 "
       ]
      },
      {
       "output_type": "stream",
       "stream": "stdout",
       "text": [
        "905 "
       ]
      },
      {
       "output_type": "stream",
       "stream": "stdout",
       "text": [
        "906 "
       ]
      },
      {
       "output_type": "stream",
       "stream": "stdout",
       "text": [
        "907 "
       ]
      },
      {
       "output_type": "stream",
       "stream": "stdout",
       "text": [
        "908 "
       ]
      },
      {
       "output_type": "stream",
       "stream": "stdout",
       "text": [
        "909 "
       ]
      },
      {
       "output_type": "stream",
       "stream": "stdout",
       "text": [
        "910 "
       ]
      },
      {
       "output_type": "stream",
       "stream": "stdout",
       "text": [
        "911 "
       ]
      },
      {
       "output_type": "stream",
       "stream": "stdout",
       "text": [
        "912 "
       ]
      },
      {
       "output_type": "stream",
       "stream": "stdout",
       "text": [
        "913 "
       ]
      },
      {
       "output_type": "stream",
       "stream": "stdout",
       "text": [
        "914 "
       ]
      },
      {
       "output_type": "stream",
       "stream": "stdout",
       "text": [
        "915 "
       ]
      },
      {
       "output_type": "stream",
       "stream": "stdout",
       "text": [
        "916 "
       ]
      },
      {
       "output_type": "stream",
       "stream": "stdout",
       "text": [
        "917 "
       ]
      },
      {
       "output_type": "stream",
       "stream": "stdout",
       "text": [
        "918 "
       ]
      },
      {
       "output_type": "stream",
       "stream": "stdout",
       "text": [
        "919 "
       ]
      },
      {
       "output_type": "stream",
       "stream": "stdout",
       "text": [
        "920 "
       ]
      },
      {
       "output_type": "stream",
       "stream": "stdout",
       "text": [
        "921 "
       ]
      },
      {
       "output_type": "stream",
       "stream": "stdout",
       "text": [
        "922 "
       ]
      },
      {
       "output_type": "stream",
       "stream": "stdout",
       "text": [
        "923 "
       ]
      },
      {
       "output_type": "stream",
       "stream": "stdout",
       "text": [
        "924 "
       ]
      },
      {
       "output_type": "stream",
       "stream": "stdout",
       "text": [
        "925 "
       ]
      },
      {
       "output_type": "stream",
       "stream": "stdout",
       "text": [
        "926 "
       ]
      },
      {
       "output_type": "stream",
       "stream": "stdout",
       "text": [
        "927 "
       ]
      },
      {
       "output_type": "stream",
       "stream": "stdout",
       "text": [
        "928 "
       ]
      },
      {
       "output_type": "stream",
       "stream": "stdout",
       "text": [
        "929 "
       ]
      },
      {
       "output_type": "stream",
       "stream": "stdout",
       "text": [
        "930 "
       ]
      },
      {
       "output_type": "stream",
       "stream": "stdout",
       "text": [
        "931 "
       ]
      },
      {
       "output_type": "stream",
       "stream": "stdout",
       "text": [
        "932 "
       ]
      },
      {
       "output_type": "stream",
       "stream": "stdout",
       "text": [
        "933 "
       ]
      },
      {
       "output_type": "stream",
       "stream": "stdout",
       "text": [
        "934 "
       ]
      },
      {
       "output_type": "stream",
       "stream": "stdout",
       "text": [
        "935 "
       ]
      },
      {
       "output_type": "stream",
       "stream": "stdout",
       "text": [
        "936 "
       ]
      },
      {
       "output_type": "stream",
       "stream": "stdout",
       "text": [
        "937 "
       ]
      },
      {
       "output_type": "stream",
       "stream": "stdout",
       "text": [
        "938 "
       ]
      },
      {
       "output_type": "stream",
       "stream": "stdout",
       "text": [
        "939 "
       ]
      },
      {
       "output_type": "stream",
       "stream": "stdout",
       "text": [
        "940 "
       ]
      },
      {
       "output_type": "stream",
       "stream": "stdout",
       "text": [
        "941 "
       ]
      },
      {
       "output_type": "stream",
       "stream": "stdout",
       "text": [
        "942 "
       ]
      },
      {
       "output_type": "stream",
       "stream": "stdout",
       "text": [
        "943 "
       ]
      },
      {
       "output_type": "stream",
       "stream": "stdout",
       "text": [
        "944 "
       ]
      },
      {
       "output_type": "stream",
       "stream": "stdout",
       "text": [
        "945 "
       ]
      },
      {
       "output_type": "stream",
       "stream": "stdout",
       "text": [
        "946 "
       ]
      },
      {
       "output_type": "stream",
       "stream": "stdout",
       "text": [
        "947 "
       ]
      },
      {
       "output_type": "stream",
       "stream": "stdout",
       "text": [
        "948 "
       ]
      },
      {
       "output_type": "stream",
       "stream": "stdout",
       "text": [
        "949 "
       ]
      },
      {
       "output_type": "stream",
       "stream": "stdout",
       "text": [
        "950 "
       ]
      },
      {
       "output_type": "stream",
       "stream": "stdout",
       "text": [
        "951 "
       ]
      },
      {
       "output_type": "stream",
       "stream": "stdout",
       "text": [
        "952 "
       ]
      },
      {
       "output_type": "stream",
       "stream": "stdout",
       "text": [
        "953 "
       ]
      },
      {
       "output_type": "stream",
       "stream": "stdout",
       "text": [
        "954 "
       ]
      },
      {
       "output_type": "stream",
       "stream": "stdout",
       "text": [
        "955 "
       ]
      },
      {
       "output_type": "stream",
       "stream": "stdout",
       "text": [
        "956 "
       ]
      },
      {
       "output_type": "stream",
       "stream": "stdout",
       "text": [
        "957 "
       ]
      },
      {
       "output_type": "stream",
       "stream": "stdout",
       "text": [
        "958 "
       ]
      },
      {
       "output_type": "stream",
       "stream": "stdout",
       "text": [
        "959 "
       ]
      },
      {
       "output_type": "stream",
       "stream": "stdout",
       "text": [
        "960 "
       ]
      },
      {
       "output_type": "stream",
       "stream": "stdout",
       "text": [
        "961 "
       ]
      },
      {
       "output_type": "stream",
       "stream": "stdout",
       "text": [
        "962 "
       ]
      },
      {
       "output_type": "stream",
       "stream": "stdout",
       "text": [
        "963 "
       ]
      },
      {
       "output_type": "stream",
       "stream": "stdout",
       "text": [
        "964 "
       ]
      },
      {
       "output_type": "stream",
       "stream": "stdout",
       "text": [
        "965 "
       ]
      },
      {
       "output_type": "stream",
       "stream": "stdout",
       "text": [
        "966 "
       ]
      },
      {
       "output_type": "stream",
       "stream": "stdout",
       "text": [
        "967 "
       ]
      },
      {
       "output_type": "stream",
       "stream": "stdout",
       "text": [
        "968 "
       ]
      },
      {
       "output_type": "stream",
       "stream": "stdout",
       "text": [
        "969 "
       ]
      },
      {
       "output_type": "stream",
       "stream": "stdout",
       "text": [
        "970 "
       ]
      },
      {
       "output_type": "stream",
       "stream": "stdout",
       "text": [
        "971 "
       ]
      },
      {
       "output_type": "stream",
       "stream": "stdout",
       "text": [
        "972 "
       ]
      },
      {
       "output_type": "stream",
       "stream": "stdout",
       "text": [
        "973 "
       ]
      },
      {
       "output_type": "stream",
       "stream": "stdout",
       "text": [
        "974 "
       ]
      },
      {
       "output_type": "stream",
       "stream": "stdout",
       "text": [
        "975 "
       ]
      },
      {
       "output_type": "stream",
       "stream": "stdout",
       "text": [
        "976 "
       ]
      },
      {
       "output_type": "stream",
       "stream": "stdout",
       "text": [
        "977 "
       ]
      },
      {
       "output_type": "stream",
       "stream": "stdout",
       "text": [
        "978 "
       ]
      },
      {
       "output_type": "stream",
       "stream": "stdout",
       "text": [
        "979 "
       ]
      },
      {
       "output_type": "stream",
       "stream": "stdout",
       "text": [
        "980 "
       ]
      },
      {
       "output_type": "stream",
       "stream": "stdout",
       "text": [
        "981 "
       ]
      },
      {
       "output_type": "stream",
       "stream": "stdout",
       "text": [
        "982 "
       ]
      },
      {
       "output_type": "stream",
       "stream": "stdout",
       "text": [
        "983 "
       ]
      },
      {
       "output_type": "stream",
       "stream": "stdout",
       "text": [
        "984 "
       ]
      },
      {
       "output_type": "stream",
       "stream": "stdout",
       "text": [
        "985 "
       ]
      },
      {
       "output_type": "stream",
       "stream": "stdout",
       "text": [
        "986 "
       ]
      },
      {
       "output_type": "stream",
       "stream": "stdout",
       "text": [
        "987 "
       ]
      },
      {
       "output_type": "stream",
       "stream": "stdout",
       "text": [
        "988 "
       ]
      },
      {
       "output_type": "stream",
       "stream": "stdout",
       "text": [
        "989 "
       ]
      },
      {
       "output_type": "stream",
       "stream": "stdout",
       "text": [
        "990 "
       ]
      },
      {
       "output_type": "stream",
       "stream": "stdout",
       "text": [
        "991 "
       ]
      },
      {
       "output_type": "stream",
       "stream": "stdout",
       "text": [
        "992 "
       ]
      },
      {
       "output_type": "stream",
       "stream": "stdout",
       "text": [
        "993 "
       ]
      },
      {
       "output_type": "stream",
       "stream": "stdout",
       "text": [
        "994 "
       ]
      },
      {
       "output_type": "stream",
       "stream": "stdout",
       "text": [
        "995 "
       ]
      },
      {
       "output_type": "stream",
       "stream": "stdout",
       "text": [
        "996 "
       ]
      },
      {
       "output_type": "stream",
       "stream": "stdout",
       "text": [
        "997 "
       ]
      },
      {
       "output_type": "stream",
       "stream": "stdout",
       "text": [
        "998 "
       ]
      },
      {
       "output_type": "stream",
       "stream": "stdout",
       "text": [
        "999\n"
       ]
      }
     ],
     "prompt_number": 10
    },
    {
     "cell_type": "code",
     "collapsed": false,
     "input": [
      "plt.hist([res[0] for res in res_1])\n",
      "plt.title('Distribution of the Log Likelihood with 1000 samples')\n",
      "plt.show()\n",
      "print 'In Tanmoy\\'s notation, this is the distribution of log(X_j)'"
     ],
     "language": "python",
     "metadata": {},
     "outputs": [
      {
       "metadata": {},
       "output_type": "display_data",
       "png": "[encoded data removed]",
       "text": [
        "<matplotlib.figure.Figure at 0x4cb1610>"
       ]
      },
      {
       "output_type": "stream",
       "stream": "stdout",
       "text": [
        "In Tanmoy's notation, this is the distribution of log(X_j)\n"
       ]
      }
     ],
     "prompt_number": 38
    },
    {
     "cell_type": "code",
     "collapsed": false,
     "input": [
      "llhood_vars_1= [np.std(np.log(res[1])) for res in res_1]"
     ],
     "language": "python",
     "metadata": {},
     "outputs": [],
     "prompt_number": 39
    },
    {
     "cell_type": "code",
     "collapsed": false,
     "input": [
      "plt.hist(llhood_vars_1)\n",
      "#plt.title('The distribution of the standard deviation of the log likelihood')\n",
      "plt.show()\n",
      "print 'In Tanmoy\\'s notation, this is the distribution of the standard deviation of log(x_i,j)'"
     ],
     "language": "python",
     "metadata": {},
     "outputs": [
      {
       "metadata": {},
       "output_type": "display_data",
       "png": "[encoded data removed]",
       "text": [
        "<matplotlib.figure.Figure at 0x4cb3110>"
       ]
      },
      {
       "output_type": "stream",
       "stream": "stdout",
       "text": [
        "In Tanmoy's notation, this is the distribution of the standard deviation of log(x_i,j)\n"
       ]
      }
     ],
     "prompt_number": 40
    },
    {
     "cell_type": "code",
     "collapsed": false,
     "input": [
      "print 'In Tanmoy\\'s notation,  the standard deviation of log(X_j), = ', np.std([res[0] for res in res_1])"
     ],
     "language": "python",
     "metadata": {},
     "outputs": [
      {
       "output_type": "stream",
       "stream": "stdout",
       "text": [
        "In Tanmoy's notation,  the standard deviation of log(X_j), =  2.40529735962\n"
       ]
      }
     ],
     "prompt_number": 41
    },
    {
     "cell_type": "markdown",
     "metadata": {},
     "source": [
      "We might also be interested in the standard deviation of the likelihood (not log likelihood)"
     ]
    },
    {
     "cell_type": "code",
     "collapsed": false,
     "input": [
      "print 'The standard deviation of the likelihood is, Sigma =', np.std([res[1].mean() for res in res_1])"
     ],
     "language": "python",
     "metadata": {},
     "outputs": [
      {
       "output_type": "stream",
       "stream": "stdout",
       "text": [
        "The standard deviation of the likelihood is, Sigma = 2.57986105004e-40\n"
       ]
      }
     ],
     "prompt_number": 42
    },
    {
     "cell_type": "heading",
     "level": 2,
     "metadata": {},
     "source": [
      "Let's raise the number of monte carlo samples to 10000"
     ]
    },
    {
     "cell_type": "code",
     "collapsed": false,
     "input": [
      "def f(x):\n",
      "    np.random.seed(x)\n",
      "    in_res = []\n",
      "    for i in range(130):\n",
      "        in_res.append(Direct_Sample(net_1, data, 10000, 10000, s0_1))\n",
      "        print i\n",
      "    return in_res\n",
      "\n",
      "#from multiprocessing import Pool\n",
      "#p=Pool()\n",
      "#a=p.map(f, np.random.randint(0,10000,8))"
     ],
     "language": "python",
     "metadata": {},
     "outputs": [],
     "prompt_number": 73
    },
    {
     "cell_type": "code",
     "collapsed": false,
     "input": [
      "res_from_parallel = []"
     ],
     "language": "python",
     "metadata": {},
     "outputs": [],
     "prompt_number": 74
    },
    {
     "cell_type": "code",
     "collapsed": false,
     "input": [
      "for i in range(8):\n",
      "    res_from_parallel.extend(a[i])"
     ],
     "language": "python",
     "metadata": {},
     "outputs": [],
     "prompt_number": 75
    },
    {
     "cell_type": "code",
     "collapsed": false,
     "input": [
      "lhood_10k = [res[0] for res in res_from_parallel]"
     ],
     "language": "python",
     "metadata": {},
     "outputs": [],
     "prompt_number": 76
    },
    {
     "cell_type": "code",
     "collapsed": false,
     "input": [
      "plt.hist(lhood_10k)\n",
      "print 'This is Tanmoy\\'s distribution of log(X_j) when the number of samples is 10K'\n",
      "plt.show()"
     ],
     "language": "python",
     "metadata": {},
     "outputs": [
      {
       "output_type": "stream",
       "stream": "stdout",
       "text": [
        "This is Tanmoy's distribution of log(X_j) when the number of samples is 10K\n"
       ]
      },
      {
       "metadata": {},
       "output_type": "display_data",
       "png": "[encoded data removed]",
       "text": [
        "<matplotlib.figure.Figure at 0x4daed10>"
       ]
      }
     ],
     "prompt_number": 80
    },
    {
     "cell_type": "code",
     "collapsed": false,
     "input": [
      "llhood_vars_2= [np.std(np.log(res[1])) for res in res_from_parallel]"
     ],
     "language": "python",
     "metadata": {},
     "outputs": [],
     "prompt_number": 81
    },
    {
     "cell_type": "code",
     "collapsed": false,
     "input": [
      "plt.hist(llhood_vars_2)\n",
      "print 'This is the distribution of the standard deviation of log(x_{i, j}) when the number of samples is 10K'\n",
      "plt.show()"
     ],
     "language": "python",
     "metadata": {},
     "outputs": [
      {
       "output_type": "stream",
       "stream": "stdout",
       "text": [
        "This is the distribution of the standard deviation of log(x_{i, j}) when the number of samples is 10K\n"
       ]
      },
      {
       "metadata": {},
       "output_type": "display_data",
       "png": "[encoded data removed]",
       "text": [
        "<matplotlib.figure.Figure at 0x51170d0>"
       ]
      }
     ],
     "prompt_number": 82
    },
    {
     "cell_type": "code",
     "collapsed": false,
     "input": [
      "print 'In Tanmoy\\'s notation, the standard deviation of log(X_j) = ', np.std([res[0] for res in res_from_parallel]), 'when we sample 10k times.'"
     ],
     "language": "python",
     "metadata": {},
     "outputs": [
      {
       "output_type": "stream",
       "stream": "stdout",
       "text": [
        "In Tanmoy's notation, the standard deviation of log(X_j) =  1.43588995736 when we sample 10k times.\n"
       ]
      }
     ],
     "prompt_number": 50
    },
    {
     "cell_type": "code",
     "collapsed": false,
     "input": [
      "print 'The standard deviation of the likelihood, Sigma,  is', np.std([res[1].mean() for res in res_from_parallel])"
     ],
     "language": "python",
     "metadata": {},
     "outputs": [
      {
       "output_type": "stream",
       "stream": "stdout",
       "text": [
        "The standard deviation of the likelihood, Sigma,  is 7.43176839642e-41\n"
       ]
      }
     ],
     "prompt_number": 51
    },
    {
     "cell_type": "markdown",
     "metadata": {},
     "source": [
      "We see that the standard deviation of $log(X_j)$ decreases slower than $\\sqrt{N}$ but the standard deviation of $X_j$ decreases much faster than $\\sqrt{N}$"
     ]
    },
    {
     "cell_type": "heading",
     "level": 1,
     "metadata": {},
     "source": [
      "Same experiement but now T =50000"
     ]
    },
    {
     "cell_type": "code",
     "collapsed": false,
     "input": [
      "data_big=gen_data(50000, net_1, s0_1)"
     ],
     "language": "python",
     "metadata": {},
     "outputs": [],
     "prompt_number": 52
    },
    {
     "cell_type": "code",
     "collapsed": false,
     "input": [
      "res_1_big = []\n",
      "for i in range(1000):\n",
      "    res_1_big.append(Direct_Sample(net_1, data_big, 1000, 50000, s0_1))\n",
      "    print i, "
     ],
     "language": "python",
     "metadata": {},
     "outputs": [],
     "prompt_number": 102
    },
    {
     "cell_type": "code",
     "collapsed": false,
     "input": [
      "plt.hist([res[0] for res in res_1_big])\n",
      "plt.title('Distribution of the Log Likelihood with 1000 samples')\n",
      "plt.show()\n",
      "print 'In Tanmoy\\'s notation, this is the distribution of log(X_j)'"
     ],
     "language": "python",
     "metadata": {},
     "outputs": [
      {
       "metadata": {},
       "output_type": "display_data",
       "png": "[encoded data removed]",
       "text": [
        "<matplotlib.figure.Figure at 0x5120b50>"
       ]
      },
      {
       "output_type": "stream",
       "stream": "stdout",
       "text": [
        "In Tanmoy's notation, this is the distribution of log(X_j)\n"
       ]
      }
     ],
     "prompt_number": 54
    },
    {
     "cell_type": "code",
     "collapsed": false,
     "input": [
      "llhood_vars_1_big= [np.std(np.log(res[1])) for res in res_1_big]"
     ],
     "language": "python",
     "metadata": {},
     "outputs": [],
     "prompt_number": 55
    },
    {
     "cell_type": "code",
     "collapsed": false,
     "input": [
      "plt.hist(llhood_vars_1_big)\n",
      "plt.title('The distribution of the variance of the log likelihood')\n",
      "plt.show()\n",
      "print 'In Tanmoy\\'s notation, this is the distribution of the standard deviation of log(x_{i,j})'"
     ],
     "language": "python",
     "metadata": {},
     "outputs": [
      {
       "metadata": {},
       "output_type": "display_data",
       "png": "[encoded data removed]",
       "text": [
        "<matplotlib.figure.Figure at 0x4ca8dd0>"
       ]
      },
      {
       "output_type": "stream",
       "stream": "stdout",
       "text": [
        "In Tanmoy's notation, this is the distribution of the standard deviation of log(x_{i,j})\n"
       ]
      }
     ],
     "prompt_number": 56
    },
    {
     "cell_type": "code",
     "collapsed": false,
     "input": [
      "print 'The standard deviation of log(X_j), = ', np.std([res[0] for res in res_1_big])"
     ],
     "language": "python",
     "metadata": {},
     "outputs": [
      {
       "output_type": "stream",
       "stream": "stdout",
       "text": [
        "The standard deviation of log(X_j), =  2.15136435172\n"
       ]
      }
     ],
     "prompt_number": 57
    },
    {
     "cell_type": "code",
     "collapsed": false,
     "input": [
      "lhood_vars_1_big= [np.std(res[1]) for res in res_1_big]"
     ],
     "language": "python",
     "metadata": {},
     "outputs": [],
     "prompt_number": 58
    },
    {
     "cell_type": "code",
     "collapsed": false,
     "input": [
      "print 'The standard deviation of X_j, Tanmoy\\'s Sigma,  (not log (X_j)), = ', np.std([np.mean(res[1]) for res in res_1_big])"
     ],
     "language": "python",
     "metadata": {},
     "outputs": [
      {
       "output_type": "stream",
       "stream": "stdout",
       "text": [
        "The standard deviation of X_j, Tanmoy's Sigma,  (not log (X_j)), =  1.25318116111e-44\n"
       ]
      }
     ],
     "prompt_number": 59
    },
    {
     "cell_type": "markdown",
     "metadata": {},
     "source": [
      "Now with the number of MC samples to 10000"
     ]
    },
    {
     "cell_type": "code",
     "collapsed": false,
     "input": [
      "def f(x):\n",
      "    np.random.seed(x)\n",
      "    in_res = []\n",
      "    for i in range(130):\n",
      "        in_res.append(Direct_Sample(net_1, data_big, 10000, 50000, s0_1))\n",
      "        print i, \n",
      "    return in_res\n",
      "\n",
      "#from multiprocessing import Pool\n",
      "#p=Pool()\n",
      "#a=p.map(f, np.random.randint(0,10000,8))"
     ],
     "language": "python",
     "metadata": {},
     "outputs": [],
     "prompt_number": 97
    },
    {
     "cell_type": "code",
     "collapsed": false,
     "input": [
      "#res_from_parallel_big = []\n",
      "#for i in range(8):\n",
      "#    res_from_parallel_big.extend(a[i])"
     ],
     "language": "python",
     "metadata": {},
     "outputs": [],
     "prompt_number": 98
    },
    {
     "cell_type": "code",
     "collapsed": false,
     "input": [
      "#lhood_10k_big = [res[0] for res in res_from_parallel_big]"
     ],
     "language": "python",
     "metadata": {},
     "outputs": [],
     "prompt_number": 99
    },
    {
     "cell_type": "code",
     "collapsed": false,
     "input": [
      "plt.hist(lhood_10k_big)\n",
      "print 'This is Tanmoy\\'s distribution of log(X_j) when the number of samples is 10K'\n",
      "plt.show()"
     ],
     "language": "python",
     "metadata": {},
     "outputs": [
      {
       "output_type": "stream",
       "stream": "stdout",
       "text": [
        "This is Tanmoy's distribution of log(X_j) when the number of samples is 10K\n"
       ]
      },
      {
       "metadata": {},
       "output_type": "display_data",
       "png": "[encoded data removed]",
       "text": [
        "<matplotlib.figure.Figure at 0x4d99350>"
       ]
      }
     ],
     "prompt_number": 101
    },
    {
     "cell_type": "code",
     "collapsed": false,
     "input": [
      "llhood_vars_2= [np.std(np.log(res[1])) for res in res_from_parallel_big]"
     ],
     "language": "python",
     "metadata": {},
     "outputs": [],
     "prompt_number": 64
    },
    {
     "cell_type": "code",
     "collapsed": false,
     "input": [
      "plt.hist(llhood_vars_2)\n",
      "print 'This is the distribution of the standard deviation of log(x_{i,j}) when the number of samples is 10K'\n",
      "plt.show()"
     ],
     "language": "python",
     "metadata": {},
     "outputs": [
      {
       "output_type": "stream",
       "stream": "stdout",
       "text": [
        "This is the distribution of the standard deviation of log(x_{i,j}) when the number of samples is 10K\n"
       ]
      },
      {
       "metadata": {},
       "output_type": "display_data",
       "png": "[encoded data removed]",
       "text": [
        "<matplotlib.figure.Figure at 0x5120890>"
       ]
      }
     ],
     "prompt_number": 65
    },
    {
     "cell_type": "code",
     "collapsed": false,
     "input": [
      "print '  the standard deviation of log(X_j), = ', np.std([res[0] for res in res_from_parallel_big])"
     ],
     "language": "python",
     "metadata": {},
     "outputs": [
      {
       "output_type": "stream",
       "stream": "stdout",
       "text": [
        "  the standard deviation of log(X_j), =  2.20029404813\n"
       ]
      }
     ],
     "prompt_number": 66
    },
    {
     "cell_type": "code",
     "collapsed": false,
     "input": [
      "print 'The standard deviation of X_j, not log(X_j) =', np.std([np.mean(res[1]) for res in res_from_parallel_big])"
     ],
     "language": "python",
     "metadata": {},
     "outputs": [
      {
       "output_type": "stream",
       "stream": "stdout",
       "text": [
        "The standard deviation of X_j, not log(X_j) = 4.6418064554e-44\n"
       ]
      }
     ],
     "prompt_number": 67
    },
    {
     "cell_type": "markdown",
     "metadata": {},
     "source": [
      "Here the varaince of the likelihood decreases at $\\sqrt{N}$ for the actual likelihood.  However, the variance of the log likelihood remained roughly the same."
     ]
    },
    {
     "cell_type": "heading",
     "level": 1,
     "metadata": {},
     "source": [
      "N wayyyy up"
     ]
    },
    {
     "cell_type": "markdown",
     "metadata": {},
     "source": [
      "Let's do one more with $T=10000$ and $N=100000$."
     ]
    },
    {
     "cell_type": "code",
     "collapsed": false,
     "input": [
      "def f(x):\n",
      "    np.random.seed(x)\n",
      "    in_res = []\n",
      "    for i in range(130):\n",
      "        in_res.append(Direct_Sample(net_1, data, 100000, 10000, s0_1))\n",
      "        print i,\n",
      "    return in_res\n",
      "\n",
      "from multiprocessing import Pool\n",
      "p=Pool()\n",
      "a_huge=p.map(f, np.random.randint(0,10000,8))"
     ],
     "language": "python",
     "metadata": {},
     "outputs": [],
     "prompt_number": 83
    },
    {
     "cell_type": "code",
     "collapsed": false,
     "input": [
      "#res_from_parallel_huge = []\n",
      "#for i in range(8):\n",
      "#    res_from_parallel_huge.extend(a_huge[i])\n",
      "#lhood_10k_huge = [res[0] for res in res_from_parallel_huge]\n",
      "plt.hist(lhood_10k_huge)\n",
      "print 'This is Tanmoy\\'s distribution of log(X_j) when the number of samples is 100K'\n",
      "plt.show()"
     ],
     "language": "python",
     "metadata": {},
     "outputs": [
      {
       "output_type": "stream",
       "stream": "stdout",
       "text": [
        "This is Tanmoy's distribution of log(X_j) when the number of samples is 100K\n"
       ]
      },
      {
       "metadata": {},
       "output_type": "display_data",
       "png": "[encoded data removed]",
       "text": [
        "<matplotlib.figure.Figure at 0x4daec10>"
       ]
      }
     ],
     "prompt_number": 86
    },
    {
     "cell_type": "code",
     "collapsed": false,
     "input": [
      "#llhood_vars_2_huge= [np.std(np.log(res[1])) for res in res_from_parallel_huge]\n",
      "plt.hist(llhood_vars_2_huge)\n",
      "print 'This is the distribution of the standard deviation of log(x_{i,j}) the number of samples is 100K'\n",
      "plt.show()"
     ],
     "language": "python",
     "metadata": {},
     "outputs": [
      {
       "output_type": "stream",
       "stream": "stdout",
       "text": [
        "This is the distribution of the standard deviation of log(x_{i,j}) the number of samples is 100K\n"
       ]
      },
      {
       "metadata": {},
       "output_type": "display_data",
       "png": "[encoded data removed]",
       "text": [
        "<matplotlib.figure.Figure at 0x64e8cd0>"
       ]
      }
     ],
     "prompt_number": 87
    },
    {
     "cell_type": "code",
     "collapsed": false,
     "input": [
      "print 'In Tanmoy\\'s notation, the standard deviation of log(X_j), = ', np.std(lhood_10k_huge)"
     ],
     "language": "python",
     "metadata": {},
     "outputs": [
      {
       "output_type": "stream",
       "stream": "stdout",
       "text": [
        "In Tanmoy's notation, the standard deviation of log(X_j), =  0.825553059199\n"
       ]
      }
     ],
     "prompt_number": 71
    },
    {
     "cell_type": "code",
     "collapsed": false,
     "input": [
      "print 'And Sigma, the standard deviation of X_j=', np.std([ np.mean(res[1]) for res in res_from_parallel_huge])"
     ],
     "language": "python",
     "metadata": {},
     "outputs": [
      {
       "output_type": "stream",
       "stream": "stdout",
       "text": [
        "And Sigma, the standard deviation of X_j= "
       ]
      },
      {
       "output_type": "stream",
       "stream": "stdout",
       "text": [
        "2.16638962445e-40\n"
       ]
      }
     ],
     "prompt_number": 72
    },
    {
     "cell_type": "markdown",
     "metadata": {},
     "source": [
      "we see a reduction in the standard deviation of $log(X_j)$ less than $\\sqrt{N}$ but the standard deviation of X_j actually increased."
     ]
    },
    {
     "cell_type": "heading",
     "level": 1,
     "metadata": {},
     "source": [
      "Conclusion"
     ]
    },
    {
     "cell_type": "markdown",
     "metadata": {},
     "source": [
      "| T | N | Standard deviation of log($X_J$) | Standard deviation of $X_k$ |\n",
      "| - | - |:---------------------------:| -------------------------------- |\n",
      "|1000| 1000 |2.47| $2.57*10^{-40}$|\n",
      "|1000| 10000 |1.43| $7.43*10^{-41}$|\n",
      "|1000| 100000 | .82 | $2.16*10^{-40}$|\n",
      "|50000| 1000 |2.15| $1.25*10^{-44}$|\n",
      "|50000 | 10000 |2.20| $4.64 *10^{-44}$ |"
     ]
    },
    {
     "cell_type": "heading",
     "level": 1,
     "metadata": {},
     "source": [
      "Sanity check :  What about when the net is simple,and T=30"
     ]
    },
    {
     "cell_type": "code",
     "collapsed": false,
     "input": [
      "A = SFT('A', ['normal' , 'infected'], ['B', 'C'], \n",
      "    {'B': np.array([[1, 0], [1,.1]]), 'C' : np.array([[1, 0], [1, .1]])},\n",
      "    ['clean', 'malicious'], 'external')\n",
      "# Node A sends messages to B and F\n",
      "\n",
      "B = SFT('B', ['normal' , 'infected'], [ 'C'], \n",
      "    {'C' : np.array([[1, 0], [1, .5]])},\n",
      "    ['clean', 'malicious'], 'internal')\n",
      "# B sends messages to A, D and F\n",
      "C = SFT('C', ['normal' , 'infected'], [],\n",
      "    {},\n",
      "    ['clean', 'malicious'], 'internal')\n",
      "\n",
      "nodes = [A, B, C]\n",
      "net = SFTNet(nodes)\n",
      "s0 = {'A': 'infected', 'B': 'normal', 'C': 'normal'}\n",
      "draw_graph_with_rates(net, s0)"
     ],
     "language": "python",
     "metadata": {},
     "outputs": [
      {
       "metadata": {},
       "output_type": "display_data",
       "png": "[encoded data removed]",
       "text": [
        "<matplotlib.figure.Figure at 0x5513750>"
       ]
      }
     ],
     "prompt_number": 88
    },
    {
     "cell_type": "code",
     "collapsed": false,
     "input": [
      "gen_trans_frame(net)"
     ],
     "language": "python",
     "metadata": {},
     "outputs": [
      {
       "html": [
        "<div style=\"max-height:1000px;max-width:1500px;overflow:auto;\">\n",
        "<table border=\"1\" class=\"dataframe\">\n",
        "  <thead>\n",
        "    <tr style=\"text-align: right;\">\n",
        "      <th></th>\n",
        "      <th></th>\n",
        "      <th>normal-clean rate</th>\n",
        "      <th>infected-clean rate</th>\n",
        "      <th>infected-malicious rate</th>\n",
        "    </tr>\n",
        "    <tr>\n",
        "      <th>sender</th>\n",
        "      <th>receiver</th>\n",
        "      <th></th>\n",
        "      <th></th>\n",
        "      <th></th>\n",
        "    </tr>\n",
        "  </thead>\n",
        "  <tbody>\n",
        "    <tr>\n",
        "      <th rowspan=\"3\" valign=\"top\">A</th>\n",
        "      <th>A</th>\n",
        "      <td> 0</td>\n",
        "      <td> 0</td>\n",
        "      <td> 0.0</td>\n",
        "    </tr>\n",
        "    <tr>\n",
        "      <th>B</th>\n",
        "      <td> 1</td>\n",
        "      <td> 1</td>\n",
        "      <td> 0.1</td>\n",
        "    </tr>\n",
        "    <tr>\n",
        "      <th>C</th>\n",
        "      <td> 1</td>\n",
        "      <td> 1</td>\n",
        "      <td> 0.1</td>\n",
        "    </tr>\n",
        "    <tr>\n",
        "      <th rowspan=\"3\" valign=\"top\">B</th>\n",
        "      <th>A</th>\n",
        "      <td> 0</td>\n",
        "      <td> 0</td>\n",
        "      <td> 0.0</td>\n",
        "    </tr>\n",
        "    <tr>\n",
        "      <th>B</th>\n",
        "      <td> 0</td>\n",
        "      <td> 0</td>\n",
        "      <td> 0.0</td>\n",
        "    </tr>\n",
        "    <tr>\n",
        "      <th>C</th>\n",
        "      <td> 1</td>\n",
        "      <td> 1</td>\n",
        "      <td> 0.5</td>\n",
        "    </tr>\n",
        "    <tr>\n",
        "      <th rowspan=\"3\" valign=\"top\">C</th>\n",
        "      <th>A</th>\n",
        "      <td> 0</td>\n",
        "      <td> 0</td>\n",
        "      <td> 0.0</td>\n",
        "    </tr>\n",
        "    <tr>\n",
        "      <th>B</th>\n",
        "      <td> 0</td>\n",
        "      <td> 0</td>\n",
        "      <td> 0.0</td>\n",
        "    </tr>\n",
        "    <tr>\n",
        "      <th>C</th>\n",
        "      <td> 0</td>\n",
        "      <td> 0</td>\n",
        "      <td> 0.0</td>\n",
        "    </tr>\n",
        "  </tbody>\n",
        "</table>\n",
        "<p>9 rows \u00d7 3 columns</p>\n",
        "</div>"
       ],
       "metadata": {},
       "output_type": "pyout",
       "prompt_number": 104,
       "text": [
        "                 normal-clean rate  infected-clean rate  \\\n",
        "sender receiver                                           \n",
        "A      A                         0                    0   \n",
        "       B                         1                    1   \n",
        "       C                         1                    1   \n",
        "B      A                         0                    0   \n",
        "       B                         0                    0   \n",
        "       C                         1                    1   \n",
        "C      A                         0                    0   \n",
        "       B                         0                    0   \n",
        "       C                         0                    0   \n",
        "\n",
        "                 infected-malicious rate  \n",
        "sender receiver                           \n",
        "A      A                             0.0  \n",
        "       B                             0.1  \n",
        "       C                             0.1  \n",
        "B      A                             0.0  \n",
        "       B                             0.0  \n",
        "       C                             0.5  \n",
        "C      A                             0.0  \n",
        "       B                             0.0  \n",
        "       C                             0.0  \n",
        "\n",
        "[9 rows x 3 columns]"
       ]
      }
     ],
     "prompt_number": 104
    },
    {
     "cell_type": "code",
     "collapsed": false,
     "input": [
      "res_list = []\n",
      "for i in range(100):\n",
      "    res_list.append(Direct_Sample(net, data, 100, 30, s0))"
     ],
     "language": "python",
     "metadata": {},
     "outputs": [],
     "prompt_number": 18
    },
    {
     "cell_type": "code",
     "collapsed": false,
     "input": [
      "plt.hist([res[0] for res in res_list])\n",
      "plt.title('DIstribution of log(X_j) when T= 100')\n",
      "plt.show()"
     ],
     "language": "python",
     "metadata": {},
     "outputs": [
      {
       "metadata": {},
       "output_type": "display_data",
       "png": "[encoded data removed]",
       "text": [
        "<matplotlib.figure.Figure at 0x64f9650>"
       ]
      }
     ],
     "prompt_number": 89
    },
    {
     "cell_type": "code",
     "collapsed": false,
     "input": [
      "print 'Standard deviation of log(X_j) when N = 100 is ', np.std([res[0] for res in res_list])"
     ],
     "language": "python",
     "metadata": {},
     "outputs": [
      {
       "output_type": "stream",
       "stream": "stdout",
       "text": [
        "Standard deviation of log(X_j) when N = 100 is  0.168735666351\n"
       ]
      }
     ],
     "prompt_number": 95
    },
    {
     "cell_type": "code",
     "collapsed": false,
     "input": [
      "#res_list_2 = []\n",
      "#for i in range(100):\n",
      "#    res_list_2.append(Direct_Sample(net, data, 1000, 30, s0))\n",
      "#    print i, "
     ],
     "language": "python",
     "metadata": {},
     "outputs": [],
     "prompt_number": 92
    },
    {
     "cell_type": "code",
     "collapsed": false,
     "input": [
      "plt.hist([res[0] for res in res_list_2])\n",
      "plt.title('DIstribution of log(X_j) when T= 100')\n",
      "plt.show()"
     ],
     "language": "python",
     "metadata": {},
     "outputs": [
      {
       "metadata": {},
       "output_type": "display_data",
       "png": "[encoded data removed]",
       "text": [
        "<matplotlib.figure.Figure at 0x6676250>"
       ]
      }
     ],
     "prompt_number": 93
    },
    {
     "cell_type": "code",
     "collapsed": false,
     "input": [
      "print 'Standard deviation of log(X_j) when N = 1000 is ',np.std([res[0] for res in res_list_2])"
     ],
     "language": "python",
     "metadata": {},
     "outputs": [
      {
       "output_type": "stream",
       "stream": "stdout",
       "text": [
        "Standard deviation of log(X_j) when N = 1000 is  0.0495566535432\n"
       ]
      }
     ],
     "prompt_number": 96
    },
    {
     "cell_type": "markdown",
     "metadata": {},
     "source": [
      "We see an almost exact reduction of the variance on the order of $\\sqrt{N}$"
     ]
    },
    {
     "cell_type": "code",
     "collapsed": false,
     "input": [
      "A = SFT('A', ['normal' , 'infected'], ['B', 'F'], \n",
      "    {'B': np.array([[.5, 0], [.5,.01]]) * 2, 'F' : 2* np.array([[.5, 0], [.5, .01]])},\n",
      "    ['clean', 'malicious'], 'external')\n",
      "\n",
      "\n",
      "B = SFT('B', ['normal' , 'infected'], [ 'E'], \n",
      "    {'E' : 2* np.array([[.25, 0], [.25, .01]])},\n",
      "    ['clean', 'malicious'], 'internal')\n",
      "\n",
      "C = SFT('C', ['normal' , 'infected'], ['E'],\n",
      "    {'E': 2 * np.array([[.1, 0], [.1,.01]])},\n",
      "    ['clean', 'malicious'], 'internal')\n",
      "# C sends messages to A, B and F\n",
      "\n",
      "\n",
      "D = SFT('D', ['normal' , 'infected'], ['E'], \n",
      "    {'E': 2* np.array([[2, 0], [2,.01]])},\n",
      "    ['clean', 'malicious'], 'internal')\n",
      "# D sends nodes to A, C and F\n",
      "\n",
      "E = SFT('E', ['normal' , 'infected'], ['A', 'B', 'C', 'D', 'F', 'E1'], \n",
      "    {'A': 2 * np.array([[.5, 0], [.5,.001]]), 'B': 2 * np.array([[.5,0], [.5, .001]]), \n",
      "     'C': 2 * np.array([[.5,0], [.5, .001]]), 'D' : 2 * np.array([[.5, 0], [.5, .001]]), \n",
      "     'F' : 2 * np.array([[.5, 0], [.5, .001]]),\n",
      "      'E1': 2 * np.array([[.01,0],[.01, .001]])},\n",
      "    ['clean', 'malicious'], 'internal')\n",
      "# E (slowly) sends nodes to A, B, C and F\n",
      "\n",
      "F = SFT('F', ['normal' , 'infected'], ['A1', 'E'], \n",
      "    {'A1': 2 * np.array([[.01, 0], [.01,.01]]), 'E' : 2 * np.array([[.25, 0], [.25, .01]])},\n",
      "    ['clean', 'malicious'], 'external')\n",
      "# F sends nodes to A and E\n",
      "\n",
      "A1 = SFT('A1', ['normal' , 'infected'], ['B1', 'F1'], \n",
      "    {'B1': 2 * np.array([[.5, 0], [.5,.01]]), 'F1' : 2 * np.array([[.5, 0], [.5, .01]])},\n",
      "    ['clean', 'malicious'], 'external')\n",
      "# Node A sends messages to B and F\n",
      "\n",
      "B1 = SFT('B1', ['normal' , 'infected'], [ 'E1'], \n",
      "    {'E1' : 2 * np.array([[.5, 0], [.5, .01]])},\n",
      "    ['clean', 'malicious'], 'internal')\n",
      "# B sends messages to A, D and F\n",
      "C1 = SFT('C1', ['normal' , 'infected'], ['D1', 'E1'],\n",
      "    {'D1': 2 * np.array([[.2, 0], [.2,.04]]),\n",
      "     'E1': 2 * np.array([[.8, 0], [.8,.02]])},\n",
      "    ['clean', 'malicious'], 'internal')\n",
      "# C sends messages to A, B and F\n",
      "\n",
      "\n",
      "D1 = SFT('D1', ['normal' , 'infected'], ['F'], \n",
      "    {'F': 2 * np.array([[.5, 0], [.5,.01]])},\n",
      "    ['clean', 'malicious'], 'internal')\n",
      "# D sends nodes to A, C and F\n",
      "\n",
      "E1 = SFT('E1', ['normal' , 'infected'], ['A1', 'B1', 'C1', 'D1', 'F1'], \n",
      "    {'A1': 2 * np.array([[.5, 0], [.5,.001]]), 'B1': 2 * np.array([[.5,0], [.5, .001]]), \n",
      "     'C1': 2 * np.array([[.5,0], [.5, .001]]), 'D1' : 2 * np.array([[.5, 0], [.5, .001]]), 'F1' : 2 * np.array([[.5, 0], [.5, .001]])},\n",
      "    ['clean', 'malicious'], 'internal')\n",
      "# E (slowly) sends nodes to A, B, C and F\n",
      "\n",
      "F1 = SFT('F1', ['normal' , 'infected'], ['C', 'E1'], \n",
      "    {'C': 2 * np.array([[1, 0], [1,.001]]), 'E1' : 2 * np.array([[1, 0], [1, .001]])},\n",
      "    ['clean', 'malicious'], 'external')\n",
      "# F sends nodes to A and E\n",
      "\n",
      "nodes = [A, B,C,D,E,F, A1, B1,C1,D1,E1,F1]\n",
      "net = SFTNet(nodes)\n",
      "s0 = {'A': 'infected', 'B': 'normal', 'C': 'normal', 'D': 'normal', 'E': 'normal', 'F': 'normal', \n",
      "      'A1': 'normal', 'B1': 'normal', 'C1': 'normal', 'D1': 'normal', 'E1': 'normal', 'F1': 'normal'}"
     ],
     "language": "python",
     "metadata": {},
     "outputs": [],
     "prompt_number": 124
    },
    {
     "cell_type": "code",
     "collapsed": false,
     "input": [
      "bad_data = gen_data(500, net, s0) "
     ],
     "language": "python",
     "metadata": {},
     "outputs": [],
     "prompt_number": 126
    },
    {
     "cell_type": "code",
     "collapsed": false,
     "input": [
      "bdr2 = []\n",
      "for i in range(100):\n",
      "    bdr2.append(Direct_Sample(net, bad_data, 20000, 500, s0))\n",
      "    print i,"
     ],
     "language": "python",
     "metadata": {},
     "outputs": [
      {
       "output_type": "stream",
       "stream": "stdout",
       "text": [
        "0 "
       ]
      },
      {
       "output_type": "stream",
       "stream": "stdout",
       "text": [
        "1 "
       ]
      },
      {
       "output_type": "stream",
       "stream": "stdout",
       "text": [
        "2 "
       ]
      },
      {
       "output_type": "stream",
       "stream": "stdout",
       "text": [
        "3 "
       ]
      },
      {
       "output_type": "stream",
       "stream": "stdout",
       "text": [
        "4 "
       ]
      },
      {
       "output_type": "stream",
       "stream": "stdout",
       "text": [
        "5 "
       ]
      },
      {
       "output_type": "stream",
       "stream": "stdout",
       "text": [
        "6 "
       ]
      },
      {
       "output_type": "stream",
       "stream": "stdout",
       "text": [
        "7 "
       ]
      },
      {
       "output_type": "stream",
       "stream": "stdout",
       "text": [
        "8 "
       ]
      },
      {
       "output_type": "stream",
       "stream": "stdout",
       "text": [
        "9 "
       ]
      },
      {
       "output_type": "stream",
       "stream": "stdout",
       "text": [
        "10 "
       ]
      },
      {
       "output_type": "stream",
       "stream": "stdout",
       "text": [
        "11 "
       ]
      },
      {
       "output_type": "stream",
       "stream": "stdout",
       "text": [
        "12 "
       ]
      },
      {
       "output_type": "stream",
       "stream": "stdout",
       "text": [
        "13 "
       ]
      },
      {
       "output_type": "stream",
       "stream": "stdout",
       "text": [
        "14 "
       ]
      },
      {
       "output_type": "stream",
       "stream": "stdout",
       "text": [
        "15 "
       ]
      },
      {
       "output_type": "stream",
       "stream": "stdout",
       "text": [
        "16 "
       ]
      },
      {
       "output_type": "stream",
       "stream": "stdout",
       "text": [
        "17 "
       ]
      },
      {
       "output_type": "stream",
       "stream": "stdout",
       "text": [
        "18 "
       ]
      },
      {
       "output_type": "stream",
       "stream": "stdout",
       "text": [
        "19 "
       ]
      },
      {
       "output_type": "stream",
       "stream": "stdout",
       "text": [
        "20 "
       ]
      },
      {
       "output_type": "stream",
       "stream": "stdout",
       "text": [
        "21 "
       ]
      },
      {
       "output_type": "stream",
       "stream": "stdout",
       "text": [
        "22 "
       ]
      },
      {
       "output_type": "stream",
       "stream": "stdout",
       "text": [
        "23 "
       ]
      },
      {
       "output_type": "stream",
       "stream": "stdout",
       "text": [
        "24 "
       ]
      },
      {
       "output_type": "stream",
       "stream": "stdout",
       "text": [
        "25 "
       ]
      },
      {
       "output_type": "stream",
       "stream": "stdout",
       "text": [
        "26 "
       ]
      },
      {
       "output_type": "stream",
       "stream": "stdout",
       "text": [
        "27 "
       ]
      },
      {
       "output_type": "stream",
       "stream": "stdout",
       "text": [
        "28 "
       ]
      },
      {
       "output_type": "stream",
       "stream": "stdout",
       "text": [
        "29 "
       ]
      },
      {
       "output_type": "stream",
       "stream": "stdout",
       "text": [
        "30 "
       ]
      },
      {
       "output_type": "stream",
       "stream": "stdout",
       "text": [
        "31 "
       ]
      },
      {
       "output_type": "stream",
       "stream": "stdout",
       "text": [
        "32 "
       ]
      },
      {
       "output_type": "stream",
       "stream": "stdout",
       "text": [
        "33 "
       ]
      },
      {
       "output_type": "stream",
       "stream": "stdout",
       "text": [
        "34 "
       ]
      },
      {
       "output_type": "stream",
       "stream": "stdout",
       "text": [
        "35 "
       ]
      },
      {
       "output_type": "stream",
       "stream": "stdout",
       "text": [
        "36 "
       ]
      },
      {
       "output_type": "stream",
       "stream": "stdout",
       "text": [
        "37 "
       ]
      },
      {
       "output_type": "stream",
       "stream": "stdout",
       "text": [
        "38 "
       ]
      },
      {
       "output_type": "stream",
       "stream": "stdout",
       "text": [
        "39 "
       ]
      },
      {
       "output_type": "stream",
       "stream": "stdout",
       "text": [
        "40 "
       ]
      },
      {
       "output_type": "stream",
       "stream": "stdout",
       "text": [
        "41 "
       ]
      },
      {
       "output_type": "stream",
       "stream": "stdout",
       "text": [
        "42 "
       ]
      },
      {
       "output_type": "stream",
       "stream": "stdout",
       "text": [
        "43 "
       ]
      },
      {
       "output_type": "stream",
       "stream": "stdout",
       "text": [
        "44 "
       ]
      },
      {
       "output_type": "stream",
       "stream": "stdout",
       "text": [
        "45 "
       ]
      },
      {
       "output_type": "stream",
       "stream": "stdout",
       "text": [
        "46 "
       ]
      },
      {
       "output_type": "stream",
       "stream": "stdout",
       "text": [
        "47 "
       ]
      },
      {
       "output_type": "stream",
       "stream": "stdout",
       "text": [
        "48 "
       ]
      },
      {
       "output_type": "stream",
       "stream": "stdout",
       "text": [
        "49 "
       ]
      },
      {
       "output_type": "stream",
       "stream": "stdout",
       "text": [
        "50 "
       ]
      },
      {
       "output_type": "stream",
       "stream": "stdout",
       "text": [
        "51 "
       ]
      },
      {
       "output_type": "stream",
       "stream": "stdout",
       "text": [
        "52 "
       ]
      },
      {
       "output_type": "stream",
       "stream": "stdout",
       "text": [
        "53 "
       ]
      },
      {
       "output_type": "stream",
       "stream": "stdout",
       "text": [
        "54 "
       ]
      },
      {
       "output_type": "stream",
       "stream": "stdout",
       "text": [
        "55 "
       ]
      },
      {
       "output_type": "stream",
       "stream": "stdout",
       "text": [
        "56 "
       ]
      },
      {
       "output_type": "stream",
       "stream": "stdout",
       "text": [
        "57 "
       ]
      },
      {
       "output_type": "stream",
       "stream": "stdout",
       "text": [
        "58 "
       ]
      },
      {
       "output_type": "stream",
       "stream": "stdout",
       "text": [
        "59 "
       ]
      },
      {
       "output_type": "stream",
       "stream": "stdout",
       "text": [
        "60 "
       ]
      },
      {
       "output_type": "stream",
       "stream": "stdout",
       "text": [
        "61 "
       ]
      },
      {
       "output_type": "stream",
       "stream": "stdout",
       "text": [
        "62 "
       ]
      },
      {
       "output_type": "stream",
       "stream": "stdout",
       "text": [
        "63 "
       ]
      },
      {
       "output_type": "stream",
       "stream": "stdout",
       "text": [
        "64 "
       ]
      },
      {
       "output_type": "stream",
       "stream": "stdout",
       "text": [
        "65 "
       ]
      },
      {
       "output_type": "stream",
       "stream": "stdout",
       "text": [
        "66 "
       ]
      },
      {
       "output_type": "stream",
       "stream": "stdout",
       "text": [
        "67 "
       ]
      },
      {
       "output_type": "stream",
       "stream": "stdout",
       "text": [
        "68 "
       ]
      },
      {
       "output_type": "stream",
       "stream": "stdout",
       "text": [
        "69 "
       ]
      },
      {
       "output_type": "stream",
       "stream": "stdout",
       "text": [
        "70 "
       ]
      },
      {
       "output_type": "stream",
       "stream": "stdout",
       "text": [
        "71 "
       ]
      },
      {
       "output_type": "stream",
       "stream": "stdout",
       "text": [
        "72 "
       ]
      },
      {
       "output_type": "stream",
       "stream": "stdout",
       "text": [
        "73 "
       ]
      },
      {
       "output_type": "stream",
       "stream": "stdout",
       "text": [
        "74 "
       ]
      },
      {
       "output_type": "stream",
       "stream": "stdout",
       "text": [
        "75 "
       ]
      },
      {
       "output_type": "stream",
       "stream": "stdout",
       "text": [
        "76 "
       ]
      },
      {
       "output_type": "stream",
       "stream": "stdout",
       "text": [
        "77 "
       ]
      },
      {
       "output_type": "stream",
       "stream": "stdout",
       "text": [
        "78 "
       ]
      },
      {
       "output_type": "stream",
       "stream": "stdout",
       "text": [
        "79 "
       ]
      },
      {
       "output_type": "stream",
       "stream": "stdout",
       "text": [
        "80 "
       ]
      },
      {
       "output_type": "stream",
       "stream": "stdout",
       "text": [
        "81 "
       ]
      },
      {
       "output_type": "stream",
       "stream": "stdout",
       "text": [
        "82 "
       ]
      },
      {
       "output_type": "stream",
       "stream": "stdout",
       "text": [
        "83 "
       ]
      },
      {
       "output_type": "stream",
       "stream": "stdout",
       "text": [
        "84 "
       ]
      },
      {
       "output_type": "stream",
       "stream": "stdout",
       "text": [
        "85 "
       ]
      },
      {
       "output_type": "stream",
       "stream": "stdout",
       "text": [
        "86 "
       ]
      },
      {
       "output_type": "stream",
       "stream": "stdout",
       "text": [
        "87 "
       ]
      },
      {
       "output_type": "stream",
       "stream": "stdout",
       "text": [
        "88 "
       ]
      },
      {
       "output_type": "stream",
       "stream": "stdout",
       "text": [
        "89 "
       ]
      },
      {
       "output_type": "stream",
       "stream": "stdout",
       "text": [
        "90 "
       ]
      },
      {
       "output_type": "stream",
       "stream": "stdout",
       "text": [
        "91 "
       ]
      },
      {
       "output_type": "stream",
       "stream": "stdout",
       "text": [
        "92 "
       ]
      },
      {
       "output_type": "stream",
       "stream": "stdout",
       "text": [
        "93 "
       ]
      },
      {
       "output_type": "stream",
       "stream": "stdout",
       "text": [
        "94 "
       ]
      },
      {
       "output_type": "stream",
       "stream": "stdout",
       "text": [
        "95 "
       ]
      },
      {
       "output_type": "stream",
       "stream": "stdout",
       "text": [
        "96 "
       ]
      },
      {
       "output_type": "stream",
       "stream": "stdout",
       "text": [
        "97 "
       ]
      },
      {
       "output_type": "stream",
       "stream": "stdout",
       "text": [
        "98 "
       ]
      },
      {
       "output_type": "stream",
       "stream": "stdout",
       "text": [
        "99\n"
       ]
      }
     ],
     "prompt_number": 130
    },
    {
     "cell_type": "code",
     "collapsed": false,
     "input": [
      "plt.hist([res[0] for res in bdr])"
     ],
     "language": "python",
     "metadata": {},
     "outputs": [
      {
       "metadata": {},
       "output_type": "pyout",
       "prompt_number": 129,
       "text": [
        "(array([  3.,   8.,  14.,  16.,   8.,  14.,  12.,  17.,   5.,   3.]),\n",
        " array([-159.57693739, -157.35462895, -155.1323205 , -152.91001206,\n",
        "       -150.68770362, -148.46539518, -146.24308674, -144.0207783 ,\n",
        "       -141.79846985, -139.57616141, -137.35385297]),\n",
        " <a list of 10 Patch objects>)"
       ]
      },
      {
       "metadata": {},
       "output_type": "display_data",
       "png": "[encoded data removed]",
       "text": [
        "<matplotlib.figure.Figure at 0x4cb7590>"
       ]
      }
     ],
     "prompt_number": 129
    },
    {
     "cell_type": "code",
     "collapsed": false,
     "input": [
      "plt.hist([res[0] for res in bdr2])"
     ],
     "language": "python",
     "metadata": {},
     "outputs": [
      {
       "metadata": {},
       "output_type": "pyout",
       "prompt_number": 131,
       "text": [
        "(array([  6.,   5.,  11.,  20.,  19.,  14.,  10.,   9.,   4.,   2.]),\n",
        " array([-149.77474591, -148.29090937, -146.80707284, -145.32323631,\n",
        "       -143.83939977, -142.35556324, -140.8717267 , -139.38789017,\n",
        "       -137.90405363, -136.4202171 , -134.93638057]),\n",
        " <a list of 10 Patch objects>)"
       ]
      },
      {
       "metadata": {},
       "output_type": "display_data",
       "png": "[encoded data removed]",
       "text": [
        "<matplotlib.figure.Figure at 0x4d09910>"
       ]
      }
     ],
     "prompt_number": 131
    },
    {
     "cell_type": "markdown",
     "metadata": {},
     "source": [
      "STD from 5.2 to approx 3"
     ]
    },
    {
     "cell_type": "markdown",
     "metadata": {},
     "source": [
      "After pushing the number of samples to 20000, the reduction is close to $\\sqrt{N}$"
     ]
    },
    {
     "cell_type": "code",
     "collapsed": false,
     "input": [
      "bdr3 = []\n",
      "for i in range(100):\n",
      "    bdr2.append(Direct_Sample(net, bad_data, 100000, 500, s0))\n",
      "    print i,"
     ],
     "language": "python",
     "metadata": {},
     "outputs": [
      {
       "output_type": "stream",
       "stream": "stdout",
       "text": [
        "0 "
       ]
      },
      {
       "output_type": "stream",
       "stream": "stdout",
       "text": [
        "1 "
       ]
      },
      {
       "output_type": "stream",
       "stream": "stdout",
       "text": [
        "2 "
       ]
      },
      {
       "output_type": "stream",
       "stream": "stdout",
       "text": [
        "3 "
       ]
      },
      {
       "output_type": "stream",
       "stream": "stdout",
       "text": [
        "4 "
       ]
      },
      {
       "output_type": "stream",
       "stream": "stdout",
       "text": [
        "5 "
       ]
      },
      {
       "output_type": "stream",
       "stream": "stdout",
       "text": [
        "6 "
       ]
      },
      {
       "output_type": "stream",
       "stream": "stdout",
       "text": [
        "7 "
       ]
      },
      {
       "output_type": "stream",
       "stream": "stdout",
       "text": [
        "8 "
       ]
      },
      {
       "output_type": "stream",
       "stream": "stdout",
       "text": [
        "9 "
       ]
      },
      {
       "output_type": "stream",
       "stream": "stdout",
       "text": [
        "10 "
       ]
      },
      {
       "output_type": "stream",
       "stream": "stdout",
       "text": [
        "11 "
       ]
      },
      {
       "output_type": "stream",
       "stream": "stdout",
       "text": [
        "12 "
       ]
      },
      {
       "output_type": "stream",
       "stream": "stdout",
       "text": [
        "13 "
       ]
      },
      {
       "output_type": "stream",
       "stream": "stdout",
       "text": [
        "14 "
       ]
      },
      {
       "output_type": "stream",
       "stream": "stdout",
       "text": [
        "15 "
       ]
      },
      {
       "output_type": "stream",
       "stream": "stdout",
       "text": [
        "16 "
       ]
      },
      {
       "output_type": "stream",
       "stream": "stdout",
       "text": [
        "17 "
       ]
      },
      {
       "output_type": "stream",
       "stream": "stdout",
       "text": [
        "18 "
       ]
      },
      {
       "output_type": "stream",
       "stream": "stdout",
       "text": [
        "19 "
       ]
      },
      {
       "output_type": "stream",
       "stream": "stdout",
       "text": [
        "20 "
       ]
      },
      {
       "output_type": "stream",
       "stream": "stdout",
       "text": [
        "21 "
       ]
      },
      {
       "output_type": "stream",
       "stream": "stdout",
       "text": [
        "22 "
       ]
      },
      {
       "output_type": "stream",
       "stream": "stdout",
       "text": [
        "23 "
       ]
      },
      {
       "output_type": "stream",
       "stream": "stdout",
       "text": [
        "24 "
       ]
      },
      {
       "output_type": "stream",
       "stream": "stdout",
       "text": [
        "25 "
       ]
      },
      {
       "output_type": "stream",
       "stream": "stdout",
       "text": [
        "26 "
       ]
      },
      {
       "output_type": "stream",
       "stream": "stdout",
       "text": [
        "27 "
       ]
      },
      {
       "output_type": "stream",
       "stream": "stdout",
       "text": [
        "28 "
       ]
      },
      {
       "output_type": "stream",
       "stream": "stdout",
       "text": [
        "29 "
       ]
      },
      {
       "output_type": "stream",
       "stream": "stdout",
       "text": [
        "30 "
       ]
      },
      {
       "output_type": "stream",
       "stream": "stdout",
       "text": [
        "31 "
       ]
      },
      {
       "output_type": "stream",
       "stream": "stdout",
       "text": [
        "32 "
       ]
      },
      {
       "output_type": "stream",
       "stream": "stdout",
       "text": [
        "33 "
       ]
      },
      {
       "output_type": "stream",
       "stream": "stdout",
       "text": [
        "34 "
       ]
      },
      {
       "output_type": "stream",
       "stream": "stdout",
       "text": [
        "35 "
       ]
      },
      {
       "output_type": "stream",
       "stream": "stdout",
       "text": [
        "36 "
       ]
      },
      {
       "output_type": "stream",
       "stream": "stdout",
       "text": [
        "37 "
       ]
      },
      {
       "output_type": "stream",
       "stream": "stdout",
       "text": [
        "38 "
       ]
      },
      {
       "output_type": "stream",
       "stream": "stdout",
       "text": [
        "39 "
       ]
      },
      {
       "output_type": "stream",
       "stream": "stdout",
       "text": [
        "40 "
       ]
      },
      {
       "output_type": "stream",
       "stream": "stdout",
       "text": [
        "41 "
       ]
      },
      {
       "output_type": "stream",
       "stream": "stdout",
       "text": [
        "42 "
       ]
      },
      {
       "output_type": "stream",
       "stream": "stdout",
       "text": [
        "43 "
       ]
      },
      {
       "output_type": "stream",
       "stream": "stdout",
       "text": [
        "44 "
       ]
      },
      {
       "output_type": "stream",
       "stream": "stdout",
       "text": [
        "45 "
       ]
      },
      {
       "output_type": "stream",
       "stream": "stdout",
       "text": [
        "46 "
       ]
      },
      {
       "output_type": "stream",
       "stream": "stdout",
       "text": [
        "47 "
       ]
      },
      {
       "output_type": "stream",
       "stream": "stdout",
       "text": [
        "48 "
       ]
      },
      {
       "output_type": "stream",
       "stream": "stdout",
       "text": [
        "49 "
       ]
      },
      {
       "output_type": "stream",
       "stream": "stdout",
       "text": [
        "50 "
       ]
      },
      {
       "output_type": "stream",
       "stream": "stdout",
       "text": [
        "51 "
       ]
      },
      {
       "output_type": "stream",
       "stream": "stdout",
       "text": [
        "52 "
       ]
      },
      {
       "output_type": "stream",
       "stream": "stdout",
       "text": [
        "53 "
       ]
      },
      {
       "output_type": "stream",
       "stream": "stdout",
       "text": [
        "54 "
       ]
      },
      {
       "output_type": "stream",
       "stream": "stdout",
       "text": [
        "55 "
       ]
      },
      {
       "output_type": "stream",
       "stream": "stdout",
       "text": [
        "56 "
       ]
      },
      {
       "output_type": "stream",
       "stream": "stdout",
       "text": [
        "57 "
       ]
      },
      {
       "output_type": "stream",
       "stream": "stdout",
       "text": [
        "58 "
       ]
      },
      {
       "output_type": "stream",
       "stream": "stdout",
       "text": [
        "59 "
       ]
      },
      {
       "output_type": "stream",
       "stream": "stdout",
       "text": [
        "60 "
       ]
      },
      {
       "output_type": "stream",
       "stream": "stdout",
       "text": [
        "61 "
       ]
      },
      {
       "output_type": "stream",
       "stream": "stdout",
       "text": [
        "62 "
       ]
      },
      {
       "output_type": "stream",
       "stream": "stdout",
       "text": [
        "63 "
       ]
      },
      {
       "output_type": "stream",
       "stream": "stdout",
       "text": [
        "64 "
       ]
      },
      {
       "output_type": "stream",
       "stream": "stdout",
       "text": [
        "65 "
       ]
      },
      {
       "output_type": "stream",
       "stream": "stdout",
       "text": [
        "66 "
       ]
      },
      {
       "output_type": "stream",
       "stream": "stdout",
       "text": [
        "67 "
       ]
      },
      {
       "output_type": "stream",
       "stream": "stdout",
       "text": [
        "68 "
       ]
      },
      {
       "output_type": "stream",
       "stream": "stdout",
       "text": [
        "69 "
       ]
      },
      {
       "output_type": "stream",
       "stream": "stdout",
       "text": [
        "70 "
       ]
      },
      {
       "output_type": "stream",
       "stream": "stdout",
       "text": [
        "71 "
       ]
      },
      {
       "output_type": "stream",
       "stream": "stdout",
       "text": [
        "72 "
       ]
      },
      {
       "output_type": "stream",
       "stream": "stdout",
       "text": [
        "73 "
       ]
      },
      {
       "output_type": "stream",
       "stream": "stdout",
       "text": [
        "74 "
       ]
      },
      {
       "output_type": "stream",
       "stream": "stdout",
       "text": [
        "75 "
       ]
      },
      {
       "output_type": "stream",
       "stream": "stdout",
       "text": [
        "76 "
       ]
      },
      {
       "output_type": "stream",
       "stream": "stdout",
       "text": [
        "77 "
       ]
      },
      {
       "output_type": "stream",
       "stream": "stdout",
       "text": [
        "78 "
       ]
      },
      {
       "output_type": "stream",
       "stream": "stdout",
       "text": [
        "79 "
       ]
      },
      {
       "output_type": "stream",
       "stream": "stdout",
       "text": [
        "80 "
       ]
      },
      {
       "output_type": "stream",
       "stream": "stdout",
       "text": [
        "81 "
       ]
      },
      {
       "output_type": "stream",
       "stream": "stdout",
       "text": [
        "82 "
       ]
      },
      {
       "output_type": "stream",
       "stream": "stdout",
       "text": [
        "83 "
       ]
      },
      {
       "output_type": "stream",
       "stream": "stdout",
       "text": [
        "84 "
       ]
      },
      {
       "output_type": "stream",
       "stream": "stdout",
       "text": [
        "85 "
       ]
      },
      {
       "output_type": "stream",
       "stream": "stdout",
       "text": [
        "86 "
       ]
      },
      {
       "output_type": "stream",
       "stream": "stdout",
       "text": [
        "87 "
       ]
      },
      {
       "output_type": "stream",
       "stream": "stdout",
       "text": [
        "88 "
       ]
      },
      {
       "output_type": "stream",
       "stream": "stdout",
       "text": [
        "89 "
       ]
      },
      {
       "output_type": "stream",
       "stream": "stdout",
       "text": [
        "90 "
       ]
      },
      {
       "output_type": "stream",
       "stream": "stdout",
       "text": [
        "91 "
       ]
      },
      {
       "output_type": "stream",
       "stream": "stdout",
       "text": [
        "92 "
       ]
      },
      {
       "output_type": "stream",
       "stream": "stdout",
       "text": [
        "93 "
       ]
      },
      {
       "output_type": "stream",
       "stream": "stdout",
       "text": [
        "94 "
       ]
      },
      {
       "output_type": "stream",
       "stream": "stdout",
       "text": [
        "95 "
       ]
      },
      {
       "output_type": "stream",
       "stream": "stdout",
       "text": [
        "96 "
       ]
      },
      {
       "output_type": "stream",
       "stream": "stdout",
       "text": [
        "97 "
       ]
      },
      {
       "output_type": "stream",
       "stream": "stdout",
       "text": [
        "98 "
       ]
      },
      {
       "output_type": "stream",
       "stream": "stdout",
       "text": [
        "99\n"
       ]
      }
     ],
     "prompt_number": 421
    },
    {
     "cell_type": "markdown",
     "metadata": {},
     "source": []
    },
    {
     "cell_type": "code",
     "collapsed": false,
     "input": [
      "bdr3=bdr2[100:]"
     ],
     "language": "python",
     "metadata": {},
     "outputs": [],
     "prompt_number": 426
    },
    {
     "cell_type": "code",
     "collapsed": false,
     "input": [
      "plt.hist([res[0] for res in bdr3])"
     ],
     "language": "python",
     "metadata": {},
     "outputs": [
      {
       "metadata": {},
       "output_type": "pyout",
       "prompt_number": 427,
       "text": [
        "(array([ 14.,  42.,  18.,  17.,   7.,   1.,   0.,   0.,   0.,   1.]),\n",
        " array([-145.8234288 , -143.46751403, -141.11159926, -138.75568449,\n",
        "       -136.39976972, -134.04385495, -131.68794018, -129.33202541,\n",
        "       -126.97611064, -124.62019587, -122.2642811 ]),\n",
        " <a list of 10 Patch objects>)"
       ]
      },
      {
       "metadata": {},
       "output_type": "display_data",
       "png": "[encoded data removed]",
       "text": [
        "<matplotlib.figure.Figure at 0xd0b4550>"
       ]
      }
     ],
     "prompt_number": 427
    },
    {
     "cell_type": "code",
     "collapsed": false,
     "input": [
      "np.std([res[0] for res in bdr3])"
     ],
     "language": "python",
     "metadata": {},
     "outputs": [
      {
       "metadata": {},
       "output_type": "pyout",
       "prompt_number": 429,
       "text": [
        "3.2821992822385004"
       ]
      }
     ],
     "prompt_number": 429
    },
    {
     "cell_type": "code",
     "collapsed": false,
     "input": [
      "bdr2cp = copy.deepcopy(bdr2)"
     ],
     "language": "python",
     "metadata": {},
     "outputs": [],
     "prompt_number": 430
    },
    {
     "cell_type": "code",
     "collapsed": false,
     "input": [
      "np.std([res[0] for res in bdr2[:100]])"
     ],
     "language": "python",
     "metadata": {},
     "outputs": [
      {
       "metadata": {},
       "output_type": "pyout",
       "prompt_number": 434,
       "text": [
        "3.2043585762550668"
       ]
      }
     ],
     "prompt_number": 434
    },
    {
     "cell_type": "code",
     "collapsed": false,
     "input": [
      "np.std([res[0] for res in bdr2[100:]])"
     ],
     "language": "python",
     "metadata": {},
     "outputs": [
      {
       "metadata": {},
       "output_type": "pyout",
       "prompt_number": 435,
       "text": [
        "3.2821992822385004"
       ]
      }
     ],
     "prompt_number": 435
    },
    {
     "cell_type": "code",
     "collapsed": false,
     "input": [
      "argmax([res[0] for res in bdr2[100:]])"
     ],
     "language": "python",
     "metadata": {},
     "outputs": [
      {
       "metadata": {},
       "output_type": "pyout",
       "prompt_number": 436,
       "text": [
        "78"
       ]
      }
     ],
     "prompt_number": 436
    },
    {
     "cell_type": "code",
     "collapsed": false,
     "input": [
      "nooutl = [res[0] for res in bdr2[100:] if res[0]< -130]"
     ],
     "language": "python",
     "metadata": {},
     "outputs": [],
     "prompt_number": 438
    },
    {
     "cell_type": "code",
     "collapsed": false,
     "input": [
      "np.std(nooutl)"
     ],
     "language": "python",
     "metadata": {},
     "outputs": [
      {
       "metadata": {},
       "output_type": "pyout",
       "prompt_number": 439,
       "text": [
        "2.726646351947501"
       ]
      }
     ],
     "prompt_number": 439
    },
    {
     "cell_type": "code",
     "collapsed": false,
     "input": [
      "bdr4 = []\n",
      "for i in range(500):\n",
      "    bdr4.append(Direct_Sample(net, bad_data, 10000, 500, s0))\n",
      "    print i,"
     ],
     "language": "python",
     "metadata": {},
     "outputs": [
      {
       "output_type": "stream",
       "stream": "stdout",
       "text": [
        " 0 "
       ]
      },
      {
       "output_type": "stream",
       "stream": "stdout",
       "text": [
        "1 "
       ]
      },
      {
       "output_type": "stream",
       "stream": "stdout",
       "text": [
        "2 "
       ]
      },
      {
       "output_type": "stream",
       "stream": "stdout",
       "text": [
        "3 "
       ]
      },
      {
       "output_type": "stream",
       "stream": "stdout",
       "text": [
        "4 "
       ]
      },
      {
       "output_type": "stream",
       "stream": "stdout",
       "text": [
        "5 "
       ]
      },
      {
       "output_type": "stream",
       "stream": "stdout",
       "text": [
        "6 "
       ]
      },
      {
       "output_type": "stream",
       "stream": "stdout",
       "text": [
        "7 "
       ]
      },
      {
       "output_type": "stream",
       "stream": "stdout",
       "text": [
        "8 "
       ]
      },
      {
       "output_type": "stream",
       "stream": "stdout",
       "text": [
        "9 "
       ]
      },
      {
       "output_type": "stream",
       "stream": "stdout",
       "text": [
        "10 "
       ]
      },
      {
       "output_type": "stream",
       "stream": "stdout",
       "text": [
        "11 "
       ]
      },
      {
       "output_type": "stream",
       "stream": "stdout",
       "text": [
        "12 "
       ]
      },
      {
       "output_type": "stream",
       "stream": "stdout",
       "text": [
        "13 "
       ]
      },
      {
       "output_type": "stream",
       "stream": "stdout",
       "text": [
        "14 "
       ]
      },
      {
       "output_type": "stream",
       "stream": "stdout",
       "text": [
        "15 "
       ]
      },
      {
       "output_type": "stream",
       "stream": "stdout",
       "text": [
        "16 "
       ]
      },
      {
       "output_type": "stream",
       "stream": "stdout",
       "text": [
        "17 "
       ]
      },
      {
       "output_type": "stream",
       "stream": "stdout",
       "text": [
        "18 "
       ]
      },
      {
       "output_type": "stream",
       "stream": "stdout",
       "text": [
        "19 "
       ]
      },
      {
       "output_type": "stream",
       "stream": "stdout",
       "text": [
        "20 "
       ]
      },
      {
       "output_type": "stream",
       "stream": "stdout",
       "text": [
        "21 "
       ]
      },
      {
       "output_type": "stream",
       "stream": "stdout",
       "text": [
        "22 "
       ]
      },
      {
       "output_type": "stream",
       "stream": "stdout",
       "text": [
        "23 "
       ]
      },
      {
       "output_type": "stream",
       "stream": "stdout",
       "text": [
        "24 "
       ]
      },
      {
       "output_type": "stream",
       "stream": "stdout",
       "text": [
        "25 "
       ]
      },
      {
       "output_type": "stream",
       "stream": "stdout",
       "text": [
        "26 "
       ]
      },
      {
       "output_type": "stream",
       "stream": "stdout",
       "text": [
        "27 "
       ]
      },
      {
       "output_type": "stream",
       "stream": "stdout",
       "text": [
        "28 "
       ]
      },
      {
       "output_type": "stream",
       "stream": "stdout",
       "text": [
        "29 "
       ]
      },
      {
       "output_type": "stream",
       "stream": "stdout",
       "text": [
        "30 "
       ]
      },
      {
       "output_type": "stream",
       "stream": "stdout",
       "text": [
        "31 "
       ]
      },
      {
       "output_type": "stream",
       "stream": "stdout",
       "text": [
        "32 "
       ]
      },
      {
       "output_type": "stream",
       "stream": "stdout",
       "text": [
        "33 "
       ]
      },
      {
       "output_type": "stream",
       "stream": "stdout",
       "text": [
        "34 "
       ]
      },
      {
       "output_type": "stream",
       "stream": "stdout",
       "text": [
        "35 "
       ]
      },
      {
       "output_type": "stream",
       "stream": "stdout",
       "text": [
        "36 "
       ]
      },
      {
       "output_type": "stream",
       "stream": "stdout",
       "text": [
        "37 "
       ]
      },
      {
       "output_type": "stream",
       "stream": "stdout",
       "text": [
        "38 "
       ]
      },
      {
       "output_type": "stream",
       "stream": "stdout",
       "text": [
        "39 "
       ]
      },
      {
       "output_type": "stream",
       "stream": "stdout",
       "text": [
        "40 "
       ]
      },
      {
       "output_type": "stream",
       "stream": "stdout",
       "text": [
        "41 "
       ]
      },
      {
       "output_type": "stream",
       "stream": "stdout",
       "text": [
        "42 "
       ]
      },
      {
       "output_type": "stream",
       "stream": "stdout",
       "text": [
        "43 "
       ]
      },
      {
       "output_type": "stream",
       "stream": "stdout",
       "text": [
        "44 "
       ]
      },
      {
       "output_type": "stream",
       "stream": "stdout",
       "text": [
        "45 "
       ]
      },
      {
       "output_type": "stream",
       "stream": "stdout",
       "text": [
        "46 "
       ]
      },
      {
       "output_type": "stream",
       "stream": "stdout",
       "text": [
        "47 "
       ]
      },
      {
       "output_type": "stream",
       "stream": "stdout",
       "text": [
        "48 "
       ]
      },
      {
       "output_type": "stream",
       "stream": "stdout",
       "text": [
        "49 "
       ]
      },
      {
       "output_type": "stream",
       "stream": "stdout",
       "text": [
        "50 "
       ]
      },
      {
       "output_type": "stream",
       "stream": "stdout",
       "text": [
        "51 "
       ]
      },
      {
       "output_type": "stream",
       "stream": "stdout",
       "text": [
        "52 "
       ]
      },
      {
       "output_type": "stream",
       "stream": "stdout",
       "text": [
        "53 "
       ]
      },
      {
       "output_type": "stream",
       "stream": "stdout",
       "text": [
        "54 "
       ]
      },
      {
       "output_type": "stream",
       "stream": "stdout",
       "text": [
        "55 "
       ]
      },
      {
       "output_type": "stream",
       "stream": "stdout",
       "text": [
        "56 "
       ]
      },
      {
       "output_type": "stream",
       "stream": "stdout",
       "text": [
        "57 "
       ]
      },
      {
       "output_type": "stream",
       "stream": "stdout",
       "text": [
        "58 "
       ]
      },
      {
       "output_type": "stream",
       "stream": "stdout",
       "text": [
        "59 "
       ]
      },
      {
       "output_type": "stream",
       "stream": "stdout",
       "text": [
        "60 "
       ]
      },
      {
       "output_type": "stream",
       "stream": "stdout",
       "text": [
        "61 "
       ]
      },
      {
       "output_type": "stream",
       "stream": "stdout",
       "text": [
        "62 "
       ]
      },
      {
       "output_type": "stream",
       "stream": "stdout",
       "text": [
        "63 "
       ]
      },
      {
       "output_type": "stream",
       "stream": "stdout",
       "text": [
        "64 "
       ]
      },
      {
       "output_type": "stream",
       "stream": "stdout",
       "text": [
        "65 "
       ]
      },
      {
       "output_type": "stream",
       "stream": "stdout",
       "text": [
        "66 "
       ]
      },
      {
       "output_type": "stream",
       "stream": "stdout",
       "text": [
        "67 "
       ]
      },
      {
       "output_type": "stream",
       "stream": "stdout",
       "text": [
        "68 "
       ]
      },
      {
       "output_type": "stream",
       "stream": "stdout",
       "text": [
        "69 "
       ]
      },
      {
       "output_type": "stream",
       "stream": "stdout",
       "text": [
        "70 "
       ]
      },
      {
       "output_type": "stream",
       "stream": "stdout",
       "text": [
        "71 "
       ]
      },
      {
       "output_type": "stream",
       "stream": "stdout",
       "text": [
        "72 "
       ]
      },
      {
       "output_type": "stream",
       "stream": "stdout",
       "text": [
        "73 "
       ]
      },
      {
       "output_type": "stream",
       "stream": "stdout",
       "text": [
        "74 "
       ]
      },
      {
       "output_type": "stream",
       "stream": "stdout",
       "text": [
        "75 "
       ]
      },
      {
       "output_type": "stream",
       "stream": "stdout",
       "text": [
        "76 "
       ]
      },
      {
       "output_type": "stream",
       "stream": "stdout",
       "text": [
        "77 "
       ]
      },
      {
       "output_type": "stream",
       "stream": "stdout",
       "text": [
        "78 "
       ]
      },
      {
       "output_type": "stream",
       "stream": "stdout",
       "text": [
        "79 "
       ]
      },
      {
       "output_type": "stream",
       "stream": "stdout",
       "text": [
        "80 "
       ]
      },
      {
       "output_type": "stream",
       "stream": "stdout",
       "text": [
        "81 "
       ]
      },
      {
       "output_type": "stream",
       "stream": "stdout",
       "text": [
        "82 "
       ]
      },
      {
       "output_type": "stream",
       "stream": "stdout",
       "text": [
        "83 "
       ]
      },
      {
       "output_type": "stream",
       "stream": "stdout",
       "text": [
        "84 "
       ]
      },
      {
       "output_type": "stream",
       "stream": "stdout",
       "text": [
        "85 "
       ]
      },
      {
       "output_type": "stream",
       "stream": "stdout",
       "text": [
        "86 "
       ]
      },
      {
       "output_type": "stream",
       "stream": "stdout",
       "text": [
        "87 "
       ]
      },
      {
       "output_type": "stream",
       "stream": "stdout",
       "text": [
        "88 "
       ]
      },
      {
       "output_type": "stream",
       "stream": "stdout",
       "text": [
        "89 "
       ]
      },
      {
       "output_type": "stream",
       "stream": "stdout",
       "text": [
        "90 "
       ]
      },
      {
       "output_type": "stream",
       "stream": "stdout",
       "text": [
        "91 "
       ]
      },
      {
       "output_type": "stream",
       "stream": "stdout",
       "text": [
        "92 "
       ]
      },
      {
       "output_type": "stream",
       "stream": "stdout",
       "text": [
        "93 "
       ]
      },
      {
       "output_type": "stream",
       "stream": "stdout",
       "text": [
        "94 "
       ]
      },
      {
       "output_type": "stream",
       "stream": "stdout",
       "text": [
        "95 "
       ]
      },
      {
       "output_type": "stream",
       "stream": "stdout",
       "text": [
        "96 "
       ]
      },
      {
       "output_type": "stream",
       "stream": "stdout",
       "text": [
        "97 "
       ]
      },
      {
       "output_type": "stream",
       "stream": "stdout",
       "text": [
        "98 "
       ]
      },
      {
       "output_type": "stream",
       "stream": "stdout",
       "text": [
        "99 "
       ]
      },
      {
       "output_type": "stream",
       "stream": "stdout",
       "text": [
        "100 "
       ]
      },
      {
       "output_type": "stream",
       "stream": "stdout",
       "text": [
        "101 "
       ]
      },
      {
       "output_type": "stream",
       "stream": "stdout",
       "text": [
        "102 "
       ]
      },
      {
       "output_type": "stream",
       "stream": "stdout",
       "text": [
        "103 "
       ]
      },
      {
       "output_type": "stream",
       "stream": "stdout",
       "text": [
        "104 "
       ]
      },
      {
       "output_type": "stream",
       "stream": "stdout",
       "text": [
        "105 "
       ]
      },
      {
       "output_type": "stream",
       "stream": "stdout",
       "text": [
        "106 "
       ]
      },
      {
       "output_type": "stream",
       "stream": "stdout",
       "text": [
        "107 "
       ]
      },
      {
       "output_type": "stream",
       "stream": "stdout",
       "text": [
        "108 "
       ]
      },
      {
       "output_type": "stream",
       "stream": "stdout",
       "text": [
        "109 "
       ]
      },
      {
       "output_type": "stream",
       "stream": "stdout",
       "text": [
        "110 "
       ]
      },
      {
       "output_type": "stream",
       "stream": "stdout",
       "text": [
        "111 "
       ]
      },
      {
       "output_type": "stream",
       "stream": "stdout",
       "text": [
        "112 "
       ]
      },
      {
       "output_type": "stream",
       "stream": "stdout",
       "text": [
        "113 "
       ]
      },
      {
       "output_type": "stream",
       "stream": "stdout",
       "text": [
        "114 "
       ]
      },
      {
       "output_type": "stream",
       "stream": "stdout",
       "text": [
        "115 "
       ]
      },
      {
       "output_type": "stream",
       "stream": "stdout",
       "text": [
        "116 "
       ]
      },
      {
       "output_type": "stream",
       "stream": "stdout",
       "text": [
        "117 "
       ]
      },
      {
       "output_type": "stream",
       "stream": "stdout",
       "text": [
        "118 "
       ]
      },
      {
       "output_type": "stream",
       "stream": "stdout",
       "text": [
        "119 "
       ]
      },
      {
       "output_type": "stream",
       "stream": "stdout",
       "text": [
        "120 "
       ]
      },
      {
       "output_type": "stream",
       "stream": "stdout",
       "text": [
        "121 "
       ]
      },
      {
       "output_type": "stream",
       "stream": "stdout",
       "text": [
        "122 "
       ]
      },
      {
       "output_type": "stream",
       "stream": "stdout",
       "text": [
        "123 "
       ]
      },
      {
       "output_type": "stream",
       "stream": "stdout",
       "text": [
        "124 "
       ]
      },
      {
       "output_type": "stream",
       "stream": "stdout",
       "text": [
        "125 "
       ]
      },
      {
       "output_type": "stream",
       "stream": "stdout",
       "text": [
        "126 "
       ]
      },
      {
       "output_type": "stream",
       "stream": "stdout",
       "text": [
        "127 "
       ]
      },
      {
       "output_type": "stream",
       "stream": "stdout",
       "text": [
        "128 "
       ]
      },
      {
       "output_type": "stream",
       "stream": "stdout",
       "text": [
        "129 "
       ]
      },
      {
       "output_type": "stream",
       "stream": "stdout",
       "text": [
        "130 "
       ]
      },
      {
       "output_type": "stream",
       "stream": "stdout",
       "text": [
        "131 "
       ]
      },
      {
       "output_type": "stream",
       "stream": "stdout",
       "text": [
        "132 "
       ]
      },
      {
       "output_type": "stream",
       "stream": "stdout",
       "text": [
        "133 "
       ]
      },
      {
       "output_type": "stream",
       "stream": "stdout",
       "text": [
        "134 "
       ]
      },
      {
       "output_type": "stream",
       "stream": "stdout",
       "text": [
        "135 "
       ]
      },
      {
       "output_type": "stream",
       "stream": "stdout",
       "text": [
        "136 "
       ]
      },
      {
       "output_type": "stream",
       "stream": "stdout",
       "text": [
        "137 "
       ]
      },
      {
       "output_type": "stream",
       "stream": "stdout",
       "text": [
        "138 "
       ]
      },
      {
       "output_type": "stream",
       "stream": "stdout",
       "text": [
        "139 "
       ]
      },
      {
       "output_type": "stream",
       "stream": "stdout",
       "text": [
        "140 "
       ]
      },
      {
       "output_type": "stream",
       "stream": "stdout",
       "text": [
        "141 "
       ]
      },
      {
       "output_type": "stream",
       "stream": "stdout",
       "text": [
        "142 "
       ]
      },
      {
       "output_type": "stream",
       "stream": "stdout",
       "text": [
        "143 "
       ]
      },
      {
       "output_type": "stream",
       "stream": "stdout",
       "text": [
        "144 "
       ]
      },
      {
       "output_type": "stream",
       "stream": "stdout",
       "text": [
        "145 "
       ]
      },
      {
       "output_type": "stream",
       "stream": "stdout",
       "text": [
        "146 "
       ]
      },
      {
       "output_type": "stream",
       "stream": "stdout",
       "text": [
        "147 "
       ]
      },
      {
       "output_type": "stream",
       "stream": "stdout",
       "text": [
        "148 "
       ]
      },
      {
       "output_type": "stream",
       "stream": "stdout",
       "text": [
        "149 "
       ]
      },
      {
       "output_type": "stream",
       "stream": "stdout",
       "text": [
        "150 "
       ]
      },
      {
       "output_type": "stream",
       "stream": "stdout",
       "text": [
        "151 "
       ]
      },
      {
       "output_type": "stream",
       "stream": "stdout",
       "text": [
        "152 "
       ]
      },
      {
       "output_type": "stream",
       "stream": "stdout",
       "text": [
        "153 "
       ]
      },
      {
       "output_type": "stream",
       "stream": "stdout",
       "text": [
        "154 "
       ]
      },
      {
       "output_type": "stream",
       "stream": "stdout",
       "text": [
        "155 "
       ]
      },
      {
       "output_type": "stream",
       "stream": "stdout",
       "text": [
        "156 "
       ]
      },
      {
       "output_type": "stream",
       "stream": "stdout",
       "text": [
        "157 "
       ]
      },
      {
       "output_type": "stream",
       "stream": "stdout",
       "text": [
        "158 "
       ]
      },
      {
       "output_type": "stream",
       "stream": "stdout",
       "text": [
        "159 "
       ]
      },
      {
       "output_type": "stream",
       "stream": "stdout",
       "text": [
        "160 "
       ]
      },
      {
       "output_type": "stream",
       "stream": "stdout",
       "text": [
        "161 "
       ]
      },
      {
       "output_type": "stream",
       "stream": "stdout",
       "text": [
        "162 "
       ]
      },
      {
       "output_type": "stream",
       "stream": "stdout",
       "text": [
        "163 "
       ]
      },
      {
       "output_type": "stream",
       "stream": "stdout",
       "text": [
        "164 "
       ]
      },
      {
       "output_type": "stream",
       "stream": "stdout",
       "text": [
        "165 "
       ]
      },
      {
       "output_type": "stream",
       "stream": "stdout",
       "text": [
        "166 "
       ]
      },
      {
       "output_type": "stream",
       "stream": "stdout",
       "text": [
        "167 "
       ]
      },
      {
       "output_type": "stream",
       "stream": "stdout",
       "text": [
        "168 "
       ]
      },
      {
       "output_type": "stream",
       "stream": "stdout",
       "text": [
        "169 "
       ]
      },
      {
       "output_type": "stream",
       "stream": "stdout",
       "text": [
        "170 "
       ]
      },
      {
       "output_type": "stream",
       "stream": "stdout",
       "text": [
        "171 "
       ]
      },
      {
       "output_type": "stream",
       "stream": "stdout",
       "text": [
        "172 "
       ]
      },
      {
       "output_type": "stream",
       "stream": "stdout",
       "text": [
        "173 "
       ]
      },
      {
       "output_type": "stream",
       "stream": "stdout",
       "text": [
        "174 "
       ]
      },
      {
       "output_type": "stream",
       "stream": "stdout",
       "text": [
        "175 "
       ]
      },
      {
       "output_type": "stream",
       "stream": "stdout",
       "text": [
        "176 "
       ]
      },
      {
       "output_type": "stream",
       "stream": "stdout",
       "text": [
        "177 "
       ]
      },
      {
       "output_type": "stream",
       "stream": "stdout",
       "text": [
        "178 "
       ]
      },
      {
       "output_type": "stream",
       "stream": "stdout",
       "text": [
        "179 "
       ]
      },
      {
       "output_type": "stream",
       "stream": "stdout",
       "text": [
        "180 "
       ]
      },
      {
       "output_type": "stream",
       "stream": "stdout",
       "text": [
        "181 "
       ]
      },
      {
       "output_type": "stream",
       "stream": "stdout",
       "text": [
        "182 "
       ]
      },
      {
       "output_type": "stream",
       "stream": "stdout",
       "text": [
        "183 "
       ]
      },
      {
       "output_type": "stream",
       "stream": "stdout",
       "text": [
        "184 "
       ]
      },
      {
       "output_type": "stream",
       "stream": "stdout",
       "text": [
        "185 "
       ]
      },
      {
       "output_type": "stream",
       "stream": "stdout",
       "text": [
        "186 "
       ]
      },
      {
       "output_type": "stream",
       "stream": "stdout",
       "text": [
        "187 "
       ]
      },
      {
       "output_type": "stream",
       "stream": "stdout",
       "text": [
        "188 "
       ]
      },
      {
       "output_type": "stream",
       "stream": "stdout",
       "text": [
        "189 "
       ]
      },
      {
       "output_type": "stream",
       "stream": "stdout",
       "text": [
        "190 "
       ]
      },
      {
       "output_type": "stream",
       "stream": "stdout",
       "text": [
        "191 "
       ]
      },
      {
       "output_type": "stream",
       "stream": "stdout",
       "text": [
        "192 "
       ]
      },
      {
       "output_type": "stream",
       "stream": "stdout",
       "text": [
        "193 "
       ]
      },
      {
       "output_type": "stream",
       "stream": "stdout",
       "text": [
        "194 "
       ]
      },
      {
       "output_type": "stream",
       "stream": "stdout",
       "text": [
        "195 "
       ]
      },
      {
       "output_type": "stream",
       "stream": "stdout",
       "text": [
        "196 "
       ]
      },
      {
       "output_type": "stream",
       "stream": "stdout",
       "text": [
        "197 "
       ]
      },
      {
       "output_type": "stream",
       "stream": "stdout",
       "text": [
        "198 "
       ]
      },
      {
       "output_type": "stream",
       "stream": "stdout",
       "text": [
        "199 "
       ]
      },
      {
       "output_type": "stream",
       "stream": "stdout",
       "text": [
        "200 "
       ]
      },
      {
       "output_type": "stream",
       "stream": "stdout",
       "text": [
        "201 "
       ]
      },
      {
       "output_type": "stream",
       "stream": "stdout",
       "text": [
        "202 "
       ]
      },
      {
       "output_type": "stream",
       "stream": "stdout",
       "text": [
        "203 "
       ]
      },
      {
       "output_type": "stream",
       "stream": "stdout",
       "text": [
        "204 "
       ]
      },
      {
       "output_type": "stream",
       "stream": "stdout",
       "text": [
        "205 "
       ]
      },
      {
       "output_type": "stream",
       "stream": "stdout",
       "text": [
        "206 "
       ]
      },
      {
       "output_type": "stream",
       "stream": "stdout",
       "text": [
        "207 "
       ]
      },
      {
       "output_type": "stream",
       "stream": "stdout",
       "text": [
        "208 "
       ]
      },
      {
       "output_type": "stream",
       "stream": "stdout",
       "text": [
        "209 "
       ]
      },
      {
       "output_type": "stream",
       "stream": "stdout",
       "text": [
        "210 "
       ]
      },
      {
       "output_type": "stream",
       "stream": "stdout",
       "text": [
        "211 "
       ]
      },
      {
       "output_type": "stream",
       "stream": "stdout",
       "text": [
        "212 "
       ]
      },
      {
       "output_type": "stream",
       "stream": "stdout",
       "text": [
        "213 "
       ]
      },
      {
       "output_type": "stream",
       "stream": "stdout",
       "text": [
        "214 "
       ]
      },
      {
       "output_type": "stream",
       "stream": "stdout",
       "text": [
        "215 "
       ]
      },
      {
       "output_type": "stream",
       "stream": "stdout",
       "text": [
        "216 "
       ]
      },
      {
       "output_type": "stream",
       "stream": "stdout",
       "text": [
        "217 "
       ]
      },
      {
       "output_type": "stream",
       "stream": "stdout",
       "text": [
        "218 "
       ]
      },
      {
       "output_type": "stream",
       "stream": "stdout",
       "text": [
        "219 "
       ]
      },
      {
       "output_type": "stream",
       "stream": "stdout",
       "text": [
        "220 "
       ]
      },
      {
       "output_type": "stream",
       "stream": "stdout",
       "text": [
        "221 "
       ]
      },
      {
       "output_type": "stream",
       "stream": "stdout",
       "text": [
        "222 "
       ]
      },
      {
       "output_type": "stream",
       "stream": "stdout",
       "text": [
        "223 "
       ]
      },
      {
       "output_type": "stream",
       "stream": "stdout",
       "text": [
        "224 "
       ]
      },
      {
       "output_type": "stream",
       "stream": "stdout",
       "text": [
        "225 "
       ]
      },
      {
       "output_type": "stream",
       "stream": "stdout",
       "text": [
        "226 "
       ]
      },
      {
       "output_type": "stream",
       "stream": "stdout",
       "text": [
        "227 "
       ]
      },
      {
       "output_type": "stream",
       "stream": "stdout",
       "text": [
        "228 "
       ]
      },
      {
       "output_type": "stream",
       "stream": "stdout",
       "text": [
        "229 "
       ]
      },
      {
       "output_type": "stream",
       "stream": "stdout",
       "text": [
        "230 "
       ]
      },
      {
       "output_type": "stream",
       "stream": "stdout",
       "text": [
        "231 "
       ]
      },
      {
       "output_type": "stream",
       "stream": "stdout",
       "text": [
        "232 "
       ]
      },
      {
       "output_type": "stream",
       "stream": "stdout",
       "text": [
        "233 "
       ]
      },
      {
       "output_type": "stream",
       "stream": "stdout",
       "text": [
        "234 "
       ]
      },
      {
       "output_type": "stream",
       "stream": "stdout",
       "text": [
        "235 "
       ]
      },
      {
       "output_type": "stream",
       "stream": "stdout",
       "text": [
        "236 "
       ]
      },
      {
       "output_type": "stream",
       "stream": "stdout",
       "text": [
        "237 "
       ]
      },
      {
       "output_type": "stream",
       "stream": "stdout",
       "text": [
        "238 "
       ]
      },
      {
       "output_type": "stream",
       "stream": "stdout",
       "text": [
        "239 "
       ]
      },
      {
       "output_type": "stream",
       "stream": "stdout",
       "text": [
        "240 "
       ]
      },
      {
       "output_type": "stream",
       "stream": "stdout",
       "text": [
        "241 "
       ]
      },
      {
       "output_type": "stream",
       "stream": "stdout",
       "text": [
        "242 "
       ]
      },
      {
       "output_type": "stream",
       "stream": "stdout",
       "text": [
        "243 "
       ]
      },
      {
       "output_type": "stream",
       "stream": "stdout",
       "text": [
        "244 "
       ]
      },
      {
       "output_type": "stream",
       "stream": "stdout",
       "text": [
        "245 "
       ]
      },
      {
       "output_type": "stream",
       "stream": "stdout",
       "text": [
        "246 "
       ]
      },
      {
       "output_type": "stream",
       "stream": "stdout",
       "text": [
        "247 "
       ]
      },
      {
       "output_type": "stream",
       "stream": "stdout",
       "text": [
        "248 "
       ]
      },
      {
       "output_type": "stream",
       "stream": "stdout",
       "text": [
        "249 "
       ]
      },
      {
       "output_type": "stream",
       "stream": "stdout",
       "text": [
        "250 "
       ]
      },
      {
       "output_type": "stream",
       "stream": "stdout",
       "text": [
        "251 "
       ]
      },
      {
       "output_type": "stream",
       "stream": "stdout",
       "text": [
        "252 "
       ]
      },
      {
       "output_type": "stream",
       "stream": "stdout",
       "text": [
        "253 "
       ]
      },
      {
       "output_type": "stream",
       "stream": "stdout",
       "text": [
        "254 "
       ]
      },
      {
       "output_type": "stream",
       "stream": "stdout",
       "text": [
        "255 "
       ]
      },
      {
       "output_type": "stream",
       "stream": "stdout",
       "text": [
        "256 "
       ]
      },
      {
       "output_type": "stream",
       "stream": "stdout",
       "text": [
        "257 "
       ]
      },
      {
       "output_type": "stream",
       "stream": "stdout",
       "text": [
        "258 "
       ]
      },
      {
       "output_type": "stream",
       "stream": "stdout",
       "text": [
        "259 "
       ]
      },
      {
       "output_type": "stream",
       "stream": "stdout",
       "text": [
        "260 "
       ]
      },
      {
       "output_type": "stream",
       "stream": "stdout",
       "text": [
        "261 "
       ]
      },
      {
       "output_type": "stream",
       "stream": "stdout",
       "text": [
        "262 "
       ]
      },
      {
       "output_type": "stream",
       "stream": "stdout",
       "text": [
        "263 "
       ]
      },
      {
       "output_type": "stream",
       "stream": "stdout",
       "text": [
        "264 "
       ]
      },
      {
       "output_type": "stream",
       "stream": "stdout",
       "text": [
        "265 "
       ]
      },
      {
       "output_type": "stream",
       "stream": "stdout",
       "text": [
        "266 "
       ]
      },
      {
       "output_type": "stream",
       "stream": "stdout",
       "text": [
        "267 "
       ]
      },
      {
       "output_type": "stream",
       "stream": "stdout",
       "text": [
        "268 "
       ]
      },
      {
       "output_type": "stream",
       "stream": "stdout",
       "text": [
        "269 "
       ]
      },
      {
       "output_type": "stream",
       "stream": "stdout",
       "text": [
        "270 "
       ]
      },
      {
       "output_type": "stream",
       "stream": "stdout",
       "text": [
        "271 "
       ]
      },
      {
       "output_type": "stream",
       "stream": "stdout",
       "text": [
        "272 "
       ]
      },
      {
       "output_type": "stream",
       "stream": "stdout",
       "text": [
        "273 "
       ]
      },
      {
       "output_type": "stream",
       "stream": "stdout",
       "text": [
        "274 "
       ]
      },
      {
       "output_type": "stream",
       "stream": "stdout",
       "text": [
        "275 "
       ]
      },
      {
       "output_type": "stream",
       "stream": "stdout",
       "text": [
        "276 "
       ]
      },
      {
       "output_type": "stream",
       "stream": "stdout",
       "text": [
        "277 "
       ]
      },
      {
       "output_type": "stream",
       "stream": "stdout",
       "text": [
        "278 "
       ]
      },
      {
       "output_type": "stream",
       "stream": "stdout",
       "text": [
        "279 "
       ]
      },
      {
       "output_type": "stream",
       "stream": "stdout",
       "text": [
        "280 "
       ]
      },
      {
       "output_type": "stream",
       "stream": "stdout",
       "text": [
        "281 "
       ]
      },
      {
       "output_type": "stream",
       "stream": "stdout",
       "text": [
        "282 "
       ]
      },
      {
       "output_type": "stream",
       "stream": "stdout",
       "text": [
        "283 "
       ]
      },
      {
       "output_type": "stream",
       "stream": "stdout",
       "text": [
        "284 "
       ]
      },
      {
       "output_type": "stream",
       "stream": "stdout",
       "text": [
        "285 "
       ]
      },
      {
       "output_type": "stream",
       "stream": "stdout",
       "text": [
        "286 "
       ]
      },
      {
       "output_type": "stream",
       "stream": "stdout",
       "text": [
        "287 "
       ]
      },
      {
       "output_type": "stream",
       "stream": "stdout",
       "text": [
        "288 "
       ]
      },
      {
       "output_type": "stream",
       "stream": "stdout",
       "text": [
        "289 "
       ]
      },
      {
       "output_type": "stream",
       "stream": "stdout",
       "text": [
        "290 "
       ]
      },
      {
       "output_type": "stream",
       "stream": "stdout",
       "text": [
        "291 "
       ]
      },
      {
       "output_type": "stream",
       "stream": "stdout",
       "text": [
        "292 "
       ]
      },
      {
       "output_type": "stream",
       "stream": "stdout",
       "text": [
        "293 "
       ]
      },
      {
       "output_type": "stream",
       "stream": "stdout",
       "text": [
        "294 "
       ]
      },
      {
       "output_type": "stream",
       "stream": "stdout",
       "text": [
        "295 "
       ]
      },
      {
       "output_type": "stream",
       "stream": "stdout",
       "text": [
        "296 "
       ]
      },
      {
       "output_type": "stream",
       "stream": "stdout",
       "text": [
        "297 "
       ]
      },
      {
       "output_type": "stream",
       "stream": "stdout",
       "text": [
        "298 "
       ]
      },
      {
       "output_type": "stream",
       "stream": "stdout",
       "text": [
        "299 "
       ]
      },
      {
       "output_type": "stream",
       "stream": "stdout",
       "text": [
        "300 "
       ]
      },
      {
       "output_type": "stream",
       "stream": "stdout",
       "text": [
        "301 "
       ]
      },
      {
       "output_type": "stream",
       "stream": "stdout",
       "text": [
        "302 "
       ]
      },
      {
       "output_type": "stream",
       "stream": "stdout",
       "text": [
        "303 "
       ]
      },
      {
       "output_type": "stream",
       "stream": "stdout",
       "text": [
        "304 "
       ]
      },
      {
       "output_type": "stream",
       "stream": "stdout",
       "text": [
        "305 "
       ]
      },
      {
       "output_type": "stream",
       "stream": "stdout",
       "text": [
        "306 "
       ]
      },
      {
       "output_type": "stream",
       "stream": "stdout",
       "text": [
        "307 "
       ]
      },
      {
       "output_type": "stream",
       "stream": "stdout",
       "text": [
        "308 "
       ]
      },
      {
       "output_type": "stream",
       "stream": "stdout",
       "text": [
        "309 "
       ]
      },
      {
       "output_type": "stream",
       "stream": "stdout",
       "text": [
        "310 "
       ]
      },
      {
       "output_type": "stream",
       "stream": "stdout",
       "text": [
        "311 "
       ]
      },
      {
       "output_type": "stream",
       "stream": "stdout",
       "text": [
        "312 "
       ]
      },
      {
       "output_type": "stream",
       "stream": "stdout",
       "text": [
        "313 "
       ]
      },
      {
       "output_type": "stream",
       "stream": "stdout",
       "text": [
        "314 "
       ]
      },
      {
       "output_type": "stream",
       "stream": "stdout",
       "text": [
        "315 "
       ]
      },
      {
       "output_type": "stream",
       "stream": "stdout",
       "text": [
        "316 "
       ]
      },
      {
       "output_type": "stream",
       "stream": "stdout",
       "text": [
        "317 "
       ]
      },
      {
       "output_type": "stream",
       "stream": "stdout",
       "text": [
        "318 "
       ]
      },
      {
       "output_type": "stream",
       "stream": "stdout",
       "text": [
        "319 "
       ]
      },
      {
       "output_type": "stream",
       "stream": "stdout",
       "text": [
        "320 "
       ]
      },
      {
       "output_type": "stream",
       "stream": "stdout",
       "text": [
        "321 "
       ]
      },
      {
       "output_type": "stream",
       "stream": "stdout",
       "text": [
        "322 "
       ]
      },
      {
       "output_type": "stream",
       "stream": "stdout",
       "text": [
        "323 "
       ]
      },
      {
       "output_type": "stream",
       "stream": "stdout",
       "text": [
        "324 "
       ]
      },
      {
       "output_type": "stream",
       "stream": "stdout",
       "text": [
        "325 "
       ]
      },
      {
       "output_type": "stream",
       "stream": "stdout",
       "text": [
        "326 "
       ]
      },
      {
       "output_type": "stream",
       "stream": "stdout",
       "text": [
        "327 "
       ]
      },
      {
       "output_type": "stream",
       "stream": "stdout",
       "text": [
        "328 "
       ]
      },
      {
       "output_type": "stream",
       "stream": "stdout",
       "text": [
        "329 "
       ]
      },
      {
       "output_type": "stream",
       "stream": "stdout",
       "text": [
        "330 "
       ]
      },
      {
       "output_type": "stream",
       "stream": "stdout",
       "text": [
        "331 "
       ]
      },
      {
       "output_type": "stream",
       "stream": "stdout",
       "text": [
        "332 "
       ]
      },
      {
       "output_type": "stream",
       "stream": "stdout",
       "text": [
        "333 "
       ]
      },
      {
       "output_type": "stream",
       "stream": "stdout",
       "text": [
        "334 "
       ]
      },
      {
       "output_type": "stream",
       "stream": "stdout",
       "text": [
        "335 "
       ]
      },
      {
       "output_type": "stream",
       "stream": "stdout",
       "text": [
        "336 "
       ]
      },
      {
       "output_type": "stream",
       "stream": "stdout",
       "text": [
        "337 "
       ]
      },
      {
       "output_type": "stream",
       "stream": "stdout",
       "text": [
        "338 "
       ]
      },
      {
       "output_type": "stream",
       "stream": "stdout",
       "text": [
        "339 "
       ]
      },
      {
       "output_type": "stream",
       "stream": "stdout",
       "text": [
        "340 "
       ]
      },
      {
       "output_type": "stream",
       "stream": "stdout",
       "text": [
        "341 "
       ]
      },
      {
       "output_type": "stream",
       "stream": "stdout",
       "text": [
        "342 "
       ]
      },
      {
       "output_type": "stream",
       "stream": "stdout",
       "text": [
        "343 "
       ]
      },
      {
       "output_type": "stream",
       "stream": "stdout",
       "text": [
        "344 "
       ]
      },
      {
       "output_type": "stream",
       "stream": "stdout",
       "text": [
        "345 "
       ]
      },
      {
       "output_type": "stream",
       "stream": "stdout",
       "text": [
        "346 "
       ]
      },
      {
       "output_type": "stream",
       "stream": "stdout",
       "text": [
        "347 "
       ]
      },
      {
       "output_type": "stream",
       "stream": "stdout",
       "text": [
        "348 "
       ]
      },
      {
       "output_type": "stream",
       "stream": "stdout",
       "text": [
        "349 "
       ]
      },
      {
       "output_type": "stream",
       "stream": "stdout",
       "text": [
        "350 "
       ]
      },
      {
       "output_type": "stream",
       "stream": "stdout",
       "text": [
        "351 "
       ]
      },
      {
       "output_type": "stream",
       "stream": "stdout",
       "text": [
        "352 "
       ]
      },
      {
       "output_type": "stream",
       "stream": "stdout",
       "text": [
        "353 "
       ]
      },
      {
       "output_type": "stream",
       "stream": "stdout",
       "text": [
        "354 "
       ]
      },
      {
       "output_type": "stream",
       "stream": "stdout",
       "text": [
        "355 "
       ]
      },
      {
       "output_type": "stream",
       "stream": "stdout",
       "text": [
        "356 "
       ]
      },
      {
       "output_type": "stream",
       "stream": "stdout",
       "text": [
        "357 "
       ]
      },
      {
       "output_type": "stream",
       "stream": "stdout",
       "text": [
        "358 "
       ]
      },
      {
       "output_type": "stream",
       "stream": "stdout",
       "text": [
        "359 "
       ]
      },
      {
       "output_type": "stream",
       "stream": "stdout",
       "text": [
        "360 "
       ]
      },
      {
       "output_type": "stream",
       "stream": "stdout",
       "text": [
        "361 "
       ]
      },
      {
       "output_type": "stream",
       "stream": "stdout",
       "text": [
        "362 "
       ]
      },
      {
       "output_type": "stream",
       "stream": "stdout",
       "text": [
        "363 "
       ]
      },
      {
       "output_type": "stream",
       "stream": "stdout",
       "text": [
        "364 "
       ]
      },
      {
       "output_type": "stream",
       "stream": "stdout",
       "text": [
        "365 "
       ]
      },
      {
       "output_type": "stream",
       "stream": "stdout",
       "text": [
        "366 "
       ]
      },
      {
       "output_type": "stream",
       "stream": "stdout",
       "text": [
        "367 "
       ]
      },
      {
       "output_type": "stream",
       "stream": "stdout",
       "text": [
        "368 "
       ]
      },
      {
       "output_type": "stream",
       "stream": "stdout",
       "text": [
        "369 "
       ]
      },
      {
       "output_type": "stream",
       "stream": "stdout",
       "text": [
        "370 "
       ]
      },
      {
       "output_type": "stream",
       "stream": "stdout",
       "text": [
        "371 "
       ]
      },
      {
       "output_type": "stream",
       "stream": "stdout",
       "text": [
        "372 "
       ]
      },
      {
       "output_type": "stream",
       "stream": "stdout",
       "text": [
        "373 "
       ]
      },
      {
       "output_type": "stream",
       "stream": "stdout",
       "text": [
        "374 "
       ]
      },
      {
       "output_type": "stream",
       "stream": "stdout",
       "text": [
        "375 "
       ]
      },
      {
       "output_type": "stream",
       "stream": "stdout",
       "text": [
        "376 "
       ]
      },
      {
       "output_type": "stream",
       "stream": "stdout",
       "text": [
        "377 "
       ]
      },
      {
       "output_type": "stream",
       "stream": "stdout",
       "text": [
        "378 "
       ]
      },
      {
       "output_type": "stream",
       "stream": "stdout",
       "text": [
        "379 "
       ]
      },
      {
       "output_type": "stream",
       "stream": "stdout",
       "text": [
        "380 "
       ]
      },
      {
       "output_type": "stream",
       "stream": "stdout",
       "text": [
        "381 "
       ]
      },
      {
       "output_type": "stream",
       "stream": "stdout",
       "text": [
        "382 "
       ]
      },
      {
       "output_type": "stream",
       "stream": "stdout",
       "text": [
        "383 "
       ]
      },
      {
       "output_type": "stream",
       "stream": "stdout",
       "text": [
        "384 "
       ]
      },
      {
       "output_type": "stream",
       "stream": "stdout",
       "text": [
        "385 "
       ]
      },
      {
       "output_type": "stream",
       "stream": "stdout",
       "text": [
        "386 "
       ]
      },
      {
       "output_type": "stream",
       "stream": "stdout",
       "text": [
        "387 "
       ]
      },
      {
       "output_type": "stream",
       "stream": "stdout",
       "text": [
        "388 "
       ]
      },
      {
       "output_type": "stream",
       "stream": "stdout",
       "text": [
        "389 "
       ]
      },
      {
       "output_type": "stream",
       "stream": "stdout",
       "text": [
        "390 "
       ]
      },
      {
       "output_type": "stream",
       "stream": "stdout",
       "text": [
        "391 "
       ]
      },
      {
       "output_type": "stream",
       "stream": "stdout",
       "text": [
        "392 "
       ]
      },
      {
       "output_type": "stream",
       "stream": "stdout",
       "text": [
        "393 "
       ]
      },
      {
       "output_type": "stream",
       "stream": "stdout",
       "text": [
        "394 "
       ]
      },
      {
       "output_type": "stream",
       "stream": "stdout",
       "text": [
        "395 "
       ]
      },
      {
       "output_type": "stream",
       "stream": "stdout",
       "text": [
        "396 "
       ]
      },
      {
       "output_type": "stream",
       "stream": "stdout",
       "text": [
        "397 "
       ]
      },
      {
       "output_type": "stream",
       "stream": "stdout",
       "text": [
        "398 "
       ]
      },
      {
       "output_type": "stream",
       "stream": "stdout",
       "text": [
        "399 "
       ]
      },
      {
       "output_type": "stream",
       "stream": "stdout",
       "text": [
        "400 "
       ]
      },
      {
       "output_type": "stream",
       "stream": "stdout",
       "text": [
        "401 "
       ]
      },
      {
       "output_type": "stream",
       "stream": "stdout",
       "text": [
        "402 "
       ]
      },
      {
       "output_type": "stream",
       "stream": "stdout",
       "text": [
        "403 "
       ]
      },
      {
       "output_type": "stream",
       "stream": "stdout",
       "text": [
        "404 "
       ]
      },
      {
       "output_type": "stream",
       "stream": "stdout",
       "text": [
        "405 "
       ]
      },
      {
       "output_type": "stream",
       "stream": "stdout",
       "text": [
        "406 "
       ]
      },
      {
       "output_type": "stream",
       "stream": "stdout",
       "text": [
        "407 "
       ]
      },
      {
       "output_type": "stream",
       "stream": "stdout",
       "text": [
        "408 "
       ]
      },
      {
       "output_type": "stream",
       "stream": "stdout",
       "text": [
        "409 "
       ]
      },
      {
       "output_type": "stream",
       "stream": "stdout",
       "text": [
        "410 "
       ]
      },
      {
       "output_type": "stream",
       "stream": "stdout",
       "text": [
        "411 "
       ]
      },
      {
       "output_type": "stream",
       "stream": "stdout",
       "text": [
        "412 "
       ]
      },
      {
       "output_type": "stream",
       "stream": "stdout",
       "text": [
        "413 "
       ]
      },
      {
       "output_type": "stream",
       "stream": "stdout",
       "text": [
        "414 "
       ]
      },
      {
       "output_type": "stream",
       "stream": "stdout",
       "text": [
        "415 "
       ]
      },
      {
       "output_type": "stream",
       "stream": "stdout",
       "text": [
        "416 "
       ]
      },
      {
       "output_type": "stream",
       "stream": "stdout",
       "text": [
        "417 "
       ]
      },
      {
       "output_type": "stream",
       "stream": "stdout",
       "text": [
        "418 "
       ]
      },
      {
       "output_type": "stream",
       "stream": "stdout",
       "text": [
        "419 "
       ]
      },
      {
       "output_type": "stream",
       "stream": "stdout",
       "text": [
        "420 "
       ]
      },
      {
       "output_type": "stream",
       "stream": "stdout",
       "text": [
        "421 "
       ]
      },
      {
       "output_type": "stream",
       "stream": "stdout",
       "text": [
        "422 "
       ]
      },
      {
       "output_type": "stream",
       "stream": "stdout",
       "text": [
        "423 "
       ]
      },
      {
       "output_type": "stream",
       "stream": "stdout",
       "text": [
        "424 "
       ]
      },
      {
       "output_type": "stream",
       "stream": "stdout",
       "text": [
        "425 "
       ]
      },
      {
       "output_type": "stream",
       "stream": "stdout",
       "text": [
        "426 "
       ]
      },
      {
       "output_type": "stream",
       "stream": "stdout",
       "text": [
        "427 "
       ]
      },
      {
       "output_type": "stream",
       "stream": "stdout",
       "text": [
        "428 "
       ]
      },
      {
       "output_type": "stream",
       "stream": "stdout",
       "text": [
        "429 "
       ]
      },
      {
       "output_type": "stream",
       "stream": "stdout",
       "text": [
        "430 "
       ]
      },
      {
       "output_type": "stream",
       "stream": "stdout",
       "text": [
        "431 "
       ]
      },
      {
       "output_type": "stream",
       "stream": "stdout",
       "text": [
        "432 "
       ]
      },
      {
       "output_type": "stream",
       "stream": "stdout",
       "text": [
        "433 "
       ]
      },
      {
       "output_type": "stream",
       "stream": "stdout",
       "text": [
        "434 "
       ]
      },
      {
       "output_type": "stream",
       "stream": "stdout",
       "text": [
        "435 "
       ]
      },
      {
       "output_type": "stream",
       "stream": "stdout",
       "text": [
        "436 "
       ]
      },
      {
       "output_type": "stream",
       "stream": "stdout",
       "text": [
        "437 "
       ]
      },
      {
       "output_type": "stream",
       "stream": "stdout",
       "text": [
        "438 "
       ]
      },
      {
       "output_type": "stream",
       "stream": "stdout",
       "text": [
        "439 "
       ]
      },
      {
       "output_type": "stream",
       "stream": "stdout",
       "text": [
        "440 "
       ]
      },
      {
       "output_type": "stream",
       "stream": "stdout",
       "text": [
        "441 "
       ]
      },
      {
       "output_type": "stream",
       "stream": "stdout",
       "text": [
        "442 "
       ]
      },
      {
       "output_type": "stream",
       "stream": "stdout",
       "text": [
        "443 "
       ]
      },
      {
       "output_type": "stream",
       "stream": "stdout",
       "text": [
        "444 "
       ]
      },
      {
       "output_type": "stream",
       "stream": "stdout",
       "text": [
        "445 "
       ]
      },
      {
       "output_type": "stream",
       "stream": "stdout",
       "text": [
        "446 "
       ]
      },
      {
       "output_type": "stream",
       "stream": "stdout",
       "text": [
        "447 "
       ]
      },
      {
       "output_type": "stream",
       "stream": "stdout",
       "text": [
        "448 "
       ]
      },
      {
       "output_type": "stream",
       "stream": "stdout",
       "text": [
        "449 "
       ]
      },
      {
       "output_type": "stream",
       "stream": "stdout",
       "text": [
        "450 "
       ]
      },
      {
       "output_type": "stream",
       "stream": "stdout",
       "text": [
        "451 "
       ]
      },
      {
       "output_type": "stream",
       "stream": "stdout",
       "text": [
        "452 "
       ]
      },
      {
       "output_type": "stream",
       "stream": "stdout",
       "text": [
        "453 "
       ]
      },
      {
       "output_type": "stream",
       "stream": "stdout",
       "text": [
        "454 "
       ]
      },
      {
       "output_type": "stream",
       "stream": "stdout",
       "text": [
        "455 "
       ]
      },
      {
       "output_type": "stream",
       "stream": "stdout",
       "text": [
        "456 "
       ]
      },
      {
       "output_type": "stream",
       "stream": "stdout",
       "text": [
        "457 "
       ]
      },
      {
       "output_type": "stream",
       "stream": "stdout",
       "text": [
        "458 "
       ]
      },
      {
       "output_type": "stream",
       "stream": "stdout",
       "text": [
        "459 "
       ]
      },
      {
       "output_type": "stream",
       "stream": "stdout",
       "text": [
        "460 "
       ]
      },
      {
       "output_type": "stream",
       "stream": "stdout",
       "text": [
        "461 "
       ]
      },
      {
       "output_type": "stream",
       "stream": "stdout",
       "text": [
        "462 "
       ]
      },
      {
       "output_type": "stream",
       "stream": "stdout",
       "text": [
        "463 "
       ]
      },
      {
       "output_type": "stream",
       "stream": "stdout",
       "text": [
        "464 "
       ]
      },
      {
       "output_type": "stream",
       "stream": "stdout",
       "text": [
        "465 "
       ]
      },
      {
       "output_type": "stream",
       "stream": "stdout",
       "text": [
        "466 "
       ]
      },
      {
       "output_type": "stream",
       "stream": "stdout",
       "text": [
        "467 "
       ]
      },
      {
       "output_type": "stream",
       "stream": "stdout",
       "text": [
        "468 "
       ]
      },
      {
       "output_type": "stream",
       "stream": "stdout",
       "text": [
        "469 "
       ]
      },
      {
       "output_type": "stream",
       "stream": "stdout",
       "text": [
        "470 "
       ]
      },
      {
       "output_type": "stream",
       "stream": "stdout",
       "text": [
        "471 "
       ]
      },
      {
       "output_type": "stream",
       "stream": "stdout",
       "text": [
        "472 "
       ]
      },
      {
       "output_type": "stream",
       "stream": "stdout",
       "text": [
        "473 "
       ]
      },
      {
       "output_type": "stream",
       "stream": "stdout",
       "text": [
        "474 "
       ]
      },
      {
       "output_type": "stream",
       "stream": "stdout",
       "text": [
        "475 "
       ]
      },
      {
       "output_type": "stream",
       "stream": "stdout",
       "text": [
        "476 "
       ]
      },
      {
       "output_type": "stream",
       "stream": "stdout",
       "text": [
        "477 "
       ]
      },
      {
       "output_type": "stream",
       "stream": "stdout",
       "text": [
        "478 "
       ]
      },
      {
       "output_type": "stream",
       "stream": "stdout",
       "text": [
        "479 "
       ]
      },
      {
       "output_type": "stream",
       "stream": "stdout",
       "text": [
        "480 "
       ]
      },
      {
       "output_type": "stream",
       "stream": "stdout",
       "text": [
        "481 "
       ]
      },
      {
       "output_type": "stream",
       "stream": "stdout",
       "text": [
        "482 "
       ]
      },
      {
       "output_type": "stream",
       "stream": "stdout",
       "text": [
        "483 "
       ]
      },
      {
       "output_type": "stream",
       "stream": "stdout",
       "text": [
        "484 "
       ]
      },
      {
       "output_type": "stream",
       "stream": "stdout",
       "text": [
        "485 "
       ]
      },
      {
       "output_type": "stream",
       "stream": "stdout",
       "text": [
        "486 "
       ]
      },
      {
       "output_type": "stream",
       "stream": "stdout",
       "text": [
        "487 "
       ]
      },
      {
       "output_type": "stream",
       "stream": "stdout",
       "text": [
        "488 "
       ]
      },
      {
       "output_type": "stream",
       "stream": "stdout",
       "text": [
        "489 "
       ]
      },
      {
       "output_type": "stream",
       "stream": "stdout",
       "text": [
        "490 "
       ]
      },
      {
       "output_type": "stream",
       "stream": "stdout",
       "text": [
        "491 "
       ]
      },
      {
       "output_type": "stream",
       "stream": "stdout",
       "text": [
        "492 "
       ]
      },
      {
       "output_type": "stream",
       "stream": "stdout",
       "text": [
        "493 "
       ]
      },
      {
       "output_type": "stream",
       "stream": "stdout",
       "text": [
        "494 "
       ]
      },
      {
       "output_type": "stream",
       "stream": "stdout",
       "text": [
        "495 "
       ]
      },
      {
       "output_type": "stream",
       "stream": "stdout",
       "text": [
        "496 "
       ]
      },
      {
       "output_type": "stream",
       "stream": "stdout",
       "text": [
        "497 "
       ]
      },
      {
       "output_type": "stream",
       "stream": "stdout",
       "text": [
        "498 "
       ]
      },
      {
       "output_type": "stream",
       "stream": "stdout",
       "text": [
        "499\n"
       ]
      }
     ],
     "prompt_number": 441
    },
    {
     "cell_type": "code",
     "collapsed": false,
     "input": [
      "np.std([res[0] for res in bdr4])"
     ],
     "language": "python",
     "metadata": {},
     "outputs": [
      {
       "metadata": {},
       "output_type": "pyout",
       "prompt_number": 442,
       "text": [
        "4.5962749296664214"
       ]
      }
     ],
     "prompt_number": 442
    },
    {
     "cell_type": "code",
     "collapsed": false,
     "input": [
      "plt.hist([res[0] for res in bdr4])"
     ],
     "language": "python",
     "metadata": {},
     "outputs": [
      {
       "metadata": {},
       "output_type": "pyout",
       "prompt_number": 443,
       "text": [
        "(array([  17.,   65.,  141.,  167.,   84.,   16.,    5.,    4.,    0.,    1.]),\n",
        " array([-157.21219239, -153.49601128, -149.77983017, -146.06364905,\n",
        "       -142.34746794, -138.63128683, -134.91510572, -131.1989246 ,\n",
        "       -127.48274349, -123.76656238, -120.05038126]),\n",
        " <a list of 10 Patch objects>)"
       ]
      },
      {
       "metadata": {},
       "output_type": "display_data",
       "png": "[encoded data removed]",
       "text": [
        "<matplotlib.figure.Figure at 0xbd91690>"
       ]
      }
     ],
     "prompt_number": 443
    },
    {
     "cell_type": "code",
     "collapsed": false,
     "input": [],
     "language": "python",
     "metadata": {},
     "outputs": []
    }
   ],
   "metadata": {}
  }
 ]
}