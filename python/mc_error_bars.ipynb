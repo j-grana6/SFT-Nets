{
 "metadata": {
  "name": ""
 },
 "nbformat": 3,
 "nbformat_minor": 0,
 "worksheets": [
  {
   "cells": [
    {
     "cell_type": "code",
     "collapsed": false,
     "input": [
      "import numpy as np\n",
      "from direct_sample import Direct_Sample\n",
      "from sft import SFT\n",
      "from sft_net import SFTNet\n",
      "import networkx as nx\n",
      "from IPython.display import HTML\n",
      "from tools import gen_trans_frame, gen_data, prob_model_no_attacker\n",
      "from roc import get_roc_coords, handle_parallel_res, plot_anomaly_roc, plot_our_roc\n",
      "from adsy.display import extended_styles"
     ],
     "language": "python",
     "metadata": {},
     "outputs": [],
     "prompt_number": 14
    },
    {
     "cell_type": "code",
     "collapsed": false,
     "input": [
      "extended_styles()"
     ],
     "language": "python",
     "metadata": {},
     "outputs": [
      {
       "html": [
        "\n",
        "        <script type=\"text/javascript\">\n",
        "        var toggleInput;\n",
        "        (function() {\n",
        "            var inputInterval;\n",
        "            var intervalCount = 0;\n",
        "            var init = false;\n",
        "            var inputUp = false;\n",
        "            toggleInput = function() {\n",
        "                if(inputUp) {\n",
        "                    $('div.input').slideDown();\n",
        "                    $('div.code_cell').attr('style', '');\n",
        "                }\n",
        "                else {\n",
        "                    $('div.input').slideUp();\n",
        "                    $('div.code_cell').attr('style', 'padding: 0px; margin: 0px');\n",
        "                }\n",
        "                inputUp = !inputUp;\n",
        "                init = true;\n",
        "            }\n",
        "            function initExtendedStyles() {\n",
        "                if(intervalCount > 15) {\n",
        "                    clearInterval(inputInterval);\n",
        "                }\n",
        "                intervalCount += 1;\n",
        "                try {\n",
        "                    toggleInput();\n",
        "                    clearInterval(inputInterval);\n",
        "                } catch(e) {}\n",
        "            }\n",
        "            if (typeof jQuery == 'undefined') {\n",
        "                // if jQuery Library is not loaded\n",
        "                var script = document.createElement( 'script' );\n",
        "                script.type = 'text/javascript';\n",
        "                script.src = 'https://ajax.googleapis.com/ajax/libs/jquery/1.8.3/jquery.min.js';\n",
        "                document.body.appendChild(script);\n",
        "            }\n",
        "\n",
        "            setTimeout(initExtendedStyles, 200);\n",
        "            // jQuery is doing this interval trick\n",
        "            // I guess its the way to do it then.\n",
        "            inputInterval = setInterval(initExtendedStyles, 1000);\n",
        "        }());\n",
        "        </script>\n",
        "       <a href=\"javascript:toggleInput()\">Toggle Input</a>\n",
        "        "
       ],
       "metadata": {},
       "output_type": "pyout",
       "prompt_number": 147,
       "text": [
        "<IPython.core.display.HTML at 0x381e0e50>"
       ]
      }
     ],
     "prompt_number": 147
    },
    {
     "cell_type": "code",
     "collapsed": false,
     "input": [
      "A = SFT('A', ['normal' , 'infected'], ['B', 'F'], \n",
      "    {'B': np.array([[.5, 0], [.5,.01]]), 'F' : np.array([[.5, 0], [.5, .01]])},\n",
      "    ['clean', 'malicious'], 'external')\n",
      "\n",
      "\n",
      "B = SFT('B', ['normal' , 'infected'], [ 'E'], \n",
      "    {'E' : np.array([[.25, 0], [.25, .01]])},\n",
      "    ['clean', 'malicious'], 'internal')\n",
      "\n",
      "C = SFT('C', ['normal' , 'infected'], ['E'],\n",
      "    {'E': np.array([[.1, 0], [.1,.01]])},\n",
      "    ['clean', 'malicious'], 'internal')\n",
      "# C sends messages to A, B and F\n",
      "\n",
      "\n",
      "D = SFT('D', ['normal' , 'infected'], ['E'], \n",
      "    {'E': np.array([[2, 0], [2,.01]])},\n",
      "    ['clean', 'malicious'], 'internal')\n",
      "# D sends nodes to A, C and F\n",
      "\n",
      "E = SFT('E', ['normal' , 'infected'], ['A', 'B', 'C', 'D', 'F', 'E1'], \n",
      "    {'A': np.array([[.5, 0], [.5,.001]]), 'B': np.array([[.5,0], [.5, .001]]), \n",
      "     'C': np.array([[.5,0], [.5, .001]]), 'D' : np.array([[.5, 0], [.5, .001]]), \n",
      "     'F' : np.array([[.5, 0], [.5, .001]]),\n",
      "      'E1': np.array([[.01,0],[.01, .001]])},\n",
      "    ['clean', 'malicious'], 'internal')\n",
      "# E (slowly) sends nodes to A, B, C and F\n",
      "\n",
      "F = SFT('F', ['normal' , 'infected'], ['A1', 'E'], \n",
      "    {'A1': np.array([[.01, 0], [.01,.01]]), 'E' : np.array([[.25, 0], [.25, .01]])},\n",
      "    ['clean', 'malicious'], 'external')\n",
      "# F sends nodes to A and E\n",
      "\n",
      "A1 = SFT('A1', ['normal' , 'infected'], ['B1', 'F1'], \n",
      "    {'B1': np.array([[.5, 0], [.5,.01]]), 'F1' : np.array([[.5, 0], [.5, .01]])},\n",
      "    ['clean', 'malicious'], 'external')\n",
      "# Node A sends messages to B and F\n",
      "\n",
      "B1 = SFT('B1', ['normal' , 'infected'], [ 'E1'], \n",
      "    {'E1' : np.array([[.5, 0], [.5, .01]])},\n",
      "    ['clean', 'malicious'], 'internal')\n",
      "# B sends messages to A, D and F\n",
      "C1 = SFT('C1', ['normal' , 'infected'], ['D1', 'E1'],\n",
      "    {'D1': np.array([[.2, 0], [.2,.04]]),\n",
      "     'E1': np.array([[.8, 0], [.8,.02]])},\n",
      "    ['clean', 'malicious'], 'internal')\n",
      "# C sends messages to A, B and F\n",
      "\n",
      "\n",
      "D1 = SFT('D1', ['normal' , 'infected'], ['F'], \n",
      "    {'F': np.array([[.5, 0], [.5,.01]])},\n",
      "    ['clean', 'malicious'], 'internal')\n",
      "# D sends nodes to A, C and F\n",
      "\n",
      "E1 = SFT('E1', ['normal' , 'infected'], ['A1', 'B1', 'C1', 'D1', 'F1'], \n",
      "    {'A1': np.array([[.5, 0], [.5,.001]]), 'B1': np.array([[.5,0], [.5, .001]]), \n",
      "     'C1': np.array([[.5,0], [.5, .001]]), 'D1' : np.array([[.5, 0], [.5, .001]]), 'F1' : np.array([[.5, 0], [.5, .001]])},\n",
      "    ['clean', 'malicious'], 'internal')\n",
      "# E (slowly) sends nodes to A, B, C and F\n",
      "\n",
      "F1 = SFT('F1', ['normal' , 'infected'], ['C', 'E1'], \n",
      "    {'C': np.array([[1, 0], [1,.001]]), 'E1' : np.array([[1, 0], [1, .001]])},\n",
      "    ['clean', 'malicious'], 'external')\n",
      "# F sends nodes to A and E\n",
      "\n",
      "nodes = [A, B,C,D,E,F, A1, B1,C1,D1,E1,F1]\n",
      "net = SFTNet(nodes)\n",
      "s0 = {'A': 'infected', 'B': 'normal', 'C': 'normal', 'D': 'normal', 'E': 'normal', 'F': 'normal', \n",
      "      'A1': 'normal', 'B1': 'normal', 'C1': 'normal', 'D1': 'normal', 'E1': 'normal', 'F1': 'normal'}"
     ],
     "language": "python",
     "metadata": {},
     "outputs": [],
     "prompt_number": 2
    },
    {
     "cell_type": "code",
     "collapsed": false,
     "input": [
      "rates = gen_trans_frame(net)\n",
      "ix = rates['normal-clean rate'] >0\n",
      "HTML(rates[ix].to_html())"
     ],
     "language": "python",
     "metadata": {},
     "outputs": [
      {
       "html": [
        "<table border=\"1\" class=\"dataframe\">\n",
        "  <thead>\n",
        "    <tr style=\"text-align: right;\">\n",
        "      <th></th>\n",
        "      <th></th>\n",
        "      <th>normal-clean rate</th>\n",
        "      <th>infected-clean rate</th>\n",
        "      <th>infected-malicious rate</th>\n",
        "    </tr>\n",
        "    <tr>\n",
        "      <th>sender</th>\n",
        "      <th>receiver</th>\n",
        "      <th></th>\n",
        "      <th></th>\n",
        "      <th></th>\n",
        "    </tr>\n",
        "  </thead>\n",
        "  <tbody>\n",
        "    <tr>\n",
        "      <th rowspan=\"2\" valign=\"top\">A</th>\n",
        "      <th>B</th>\n",
        "      <td> 0.50</td>\n",
        "      <td> 0.50</td>\n",
        "      <td> 0.010</td>\n",
        "    </tr>\n",
        "    <tr>\n",
        "      <th>F</th>\n",
        "      <td> 0.50</td>\n",
        "      <td> 0.50</td>\n",
        "      <td> 0.010</td>\n",
        "    </tr>\n",
        "    <tr>\n",
        "      <th>B</th>\n",
        "      <th>E</th>\n",
        "      <td> 0.25</td>\n",
        "      <td> 0.25</td>\n",
        "      <td> 0.010</td>\n",
        "    </tr>\n",
        "    <tr>\n",
        "      <th>C</th>\n",
        "      <th>E</th>\n",
        "      <td> 0.10</td>\n",
        "      <td> 0.10</td>\n",
        "      <td> 0.010</td>\n",
        "    </tr>\n",
        "    <tr>\n",
        "      <th>D</th>\n",
        "      <th>E</th>\n",
        "      <td> 2.00</td>\n",
        "      <td> 2.00</td>\n",
        "      <td> 0.010</td>\n",
        "    </tr>\n",
        "    <tr>\n",
        "      <th rowspan=\"6\" valign=\"top\">E</th>\n",
        "      <th>A</th>\n",
        "      <td> 0.50</td>\n",
        "      <td> 0.50</td>\n",
        "      <td> 0.001</td>\n",
        "    </tr>\n",
        "    <tr>\n",
        "      <th>B</th>\n",
        "      <td> 0.50</td>\n",
        "      <td> 0.50</td>\n",
        "      <td> 0.001</td>\n",
        "    </tr>\n",
        "    <tr>\n",
        "      <th>C</th>\n",
        "      <td> 0.50</td>\n",
        "      <td> 0.50</td>\n",
        "      <td> 0.001</td>\n",
        "    </tr>\n",
        "    <tr>\n",
        "      <th>D</th>\n",
        "      <td> 0.50</td>\n",
        "      <td> 0.50</td>\n",
        "      <td> 0.001</td>\n",
        "    </tr>\n",
        "    <tr>\n",
        "      <th>F</th>\n",
        "      <td> 0.50</td>\n",
        "      <td> 0.50</td>\n",
        "      <td> 0.001</td>\n",
        "    </tr>\n",
        "    <tr>\n",
        "      <th>E1</th>\n",
        "      <td> 0.01</td>\n",
        "      <td> 0.01</td>\n",
        "      <td> 0.001</td>\n",
        "    </tr>\n",
        "    <tr>\n",
        "      <th rowspan=\"2\" valign=\"top\">F</th>\n",
        "      <th>E</th>\n",
        "      <td> 0.25</td>\n",
        "      <td> 0.25</td>\n",
        "      <td> 0.010</td>\n",
        "    </tr>\n",
        "    <tr>\n",
        "      <th>A1</th>\n",
        "      <td> 0.01</td>\n",
        "      <td> 0.01</td>\n",
        "      <td> 0.010</td>\n",
        "    </tr>\n",
        "    <tr>\n",
        "      <th rowspan=\"2\" valign=\"top\">A1</th>\n",
        "      <th>B1</th>\n",
        "      <td> 0.50</td>\n",
        "      <td> 0.50</td>\n",
        "      <td> 0.010</td>\n",
        "    </tr>\n",
        "    <tr>\n",
        "      <th>F1</th>\n",
        "      <td> 0.50</td>\n",
        "      <td> 0.50</td>\n",
        "      <td> 0.010</td>\n",
        "    </tr>\n",
        "    <tr>\n",
        "      <th>B1</th>\n",
        "      <th>E1</th>\n",
        "      <td> 0.50</td>\n",
        "      <td> 0.50</td>\n",
        "      <td> 0.010</td>\n",
        "    </tr>\n",
        "    <tr>\n",
        "      <th rowspan=\"2\" valign=\"top\">C1</th>\n",
        "      <th>D1</th>\n",
        "      <td> 0.20</td>\n",
        "      <td> 0.20</td>\n",
        "      <td> 0.040</td>\n",
        "    </tr>\n",
        "    <tr>\n",
        "      <th>E1</th>\n",
        "      <td> 0.80</td>\n",
        "      <td> 0.80</td>\n",
        "      <td> 0.020</td>\n",
        "    </tr>\n",
        "    <tr>\n",
        "      <th>D1</th>\n",
        "      <th>F</th>\n",
        "      <td> 0.50</td>\n",
        "      <td> 0.50</td>\n",
        "      <td> 0.010</td>\n",
        "    </tr>\n",
        "    <tr>\n",
        "      <th rowspan=\"5\" valign=\"top\">E1</th>\n",
        "      <th>A1</th>\n",
        "      <td> 0.50</td>\n",
        "      <td> 0.50</td>\n",
        "      <td> 0.001</td>\n",
        "    </tr>\n",
        "    <tr>\n",
        "      <th>B1</th>\n",
        "      <td> 0.50</td>\n",
        "      <td> 0.50</td>\n",
        "      <td> 0.001</td>\n",
        "    </tr>\n",
        "    <tr>\n",
        "      <th>C1</th>\n",
        "      <td> 0.50</td>\n",
        "      <td> 0.50</td>\n",
        "      <td> 0.001</td>\n",
        "    </tr>\n",
        "    <tr>\n",
        "      <th>D1</th>\n",
        "      <td> 0.50</td>\n",
        "      <td> 0.50</td>\n",
        "      <td> 0.001</td>\n",
        "    </tr>\n",
        "    <tr>\n",
        "      <th>F1</th>\n",
        "      <td> 0.50</td>\n",
        "      <td> 0.50</td>\n",
        "      <td> 0.001</td>\n",
        "    </tr>\n",
        "    <tr>\n",
        "      <th rowspan=\"2\" valign=\"top\">F1</th>\n",
        "      <th>C</th>\n",
        "      <td> 1.00</td>\n",
        "      <td> 1.00</td>\n",
        "      <td> 0.001</td>\n",
        "    </tr>\n",
        "    <tr>\n",
        "      <th>E1</th>\n",
        "      <td> 1.00</td>\n",
        "      <td> 1.00</td>\n",
        "      <td> 0.001</td>\n",
        "    </tr>\n",
        "  </tbody>\n",
        "</table>"
       ],
       "metadata": {},
       "output_type": "pyout",
       "prompt_number": 3,
       "text": [
        "<IPython.core.display.HTML at 0x4119c10>"
       ]
      }
     ],
     "prompt_number": 3
    },
    {
     "cell_type": "code",
     "collapsed": false,
     "input": [
      "def draw_graph_with_rates(net, s0_in):\n",
      "    G=nx.DiGraph()\n",
      "    G.add_nodes_from(s0_in.keys())\n",
      "    edges = []\n",
      "    for node in net.node_names:\n",
      "        for onode in net.node_dict[node].sends_to:\n",
      "            edges.append((node, onode))\n",
      "    G.add_edges_from(edges)\n",
      "    theta = np.arange(0, 720, len(s0_in.keys()))\n",
      "    pos = {}\n",
      "    for i in range(len(s0_in.keys())):\n",
      "        pos[s0_in.keys()[i]] = (np.cos(i), np.sin(i))\n",
      "    pos['E'] = (0,0)\n",
      "    pos['A'] = (0,-1)\n",
      "    pos['B'] = (1, 0)\n",
      "    pos['C'] = (0, 1)\n",
      "    pos['D'] = (-1,0)\n",
      "    pos['F'] = (1,-1)\n",
      "    \n",
      "    try :\n",
      "        pos['E1'] = (4, -1)\n",
      "        pos['A1'] = (4, -2)\n",
      "        pos['B1'] = (5, -1)\n",
      "        pos['C1'] = (4, 0 )\n",
      "        pos['D1'] = (3, -1)\n",
      "        pos['F1'] = (2, -2)\n",
      "    except KeyError:\n",
      "        pass\n",
      "    val_map = {}\n",
      "    for (key, val) in s0_in.iteritems():\n",
      "        if val=='infected':\n",
      "            val_map[key] ='r'\n",
      "        else: \n",
      "            val_map[key] = '.85'\n",
      "    values = [val_map.get(node, .25) for node in G.nodes()]\n",
      "    a= nx.draw(G, pos=pos, node_color = values, arrows=True)\n",
      "    return a"
     ],
     "language": "python",
     "metadata": {},
     "outputs": [],
     "prompt_number": 4
    },
    {
     "cell_type": "code",
     "collapsed": false,
     "input": [
      "n= draw_graph_with_rates(net, s0)"
     ],
     "language": "python",
     "metadata": {},
     "outputs": [
      {
       "metadata": {},
       "output_type": "display_data",
       "png": "[encoded data removed]",
       "text": [
        "<matplotlib.figure.Figure at 0x2ec30d0>"
       ]
      }
     ],
     "prompt_number": 5
    },
    {
     "cell_type": "code",
     "collapsed": false,
     "input": [
      "attacker_sets = []\n",
      "for i in range(800):\n",
      "    print i, \n",
      "    data_with = gen_data(1000, net, s0)\n",
      "    attacker_sets.append(data_with)"
     ],
     "language": "python",
     "metadata": {},
     "outputs": [
      {
       "output_type": "stream",
       "stream": "stdout",
       "text": [
        "0 "
       ]
      },
      {
       "output_type": "stream",
       "stream": "stdout",
       "text": [
        "1 "
       ]
      },
      {
       "output_type": "stream",
       "stream": "stdout",
       "text": [
        "2 "
       ]
      },
      {
       "output_type": "stream",
       "stream": "stdout",
       "text": [
        "3 "
       ]
      },
      {
       "output_type": "stream",
       "stream": "stdout",
       "text": [
        "4 "
       ]
      },
      {
       "output_type": "stream",
       "stream": "stdout",
       "text": [
        "5 "
       ]
      },
      {
       "output_type": "stream",
       "stream": "stdout",
       "text": [
        "6 "
       ]
      },
      {
       "output_type": "stream",
       "stream": "stdout",
       "text": [
        "7 "
       ]
      },
      {
       "output_type": "stream",
       "stream": "stdout",
       "text": [
        "8 "
       ]
      },
      {
       "output_type": "stream",
       "stream": "stdout",
       "text": [
        "9 "
       ]
      },
      {
       "output_type": "stream",
       "stream": "stdout",
       "text": [
        "10 "
       ]
      },
      {
       "output_type": "stream",
       "stream": "stdout",
       "text": [
        "11 "
       ]
      },
      {
       "output_type": "stream",
       "stream": "stdout",
       "text": [
        "12 "
       ]
      },
      {
       "output_type": "stream",
       "stream": "stdout",
       "text": [
        "13 "
       ]
      },
      {
       "output_type": "stream",
       "stream": "stdout",
       "text": [
        "14 "
       ]
      },
      {
       "output_type": "stream",
       "stream": "stdout",
       "text": [
        "15 "
       ]
      },
      {
       "output_type": "stream",
       "stream": "stdout",
       "text": [
        "16 "
       ]
      },
      {
       "output_type": "stream",
       "stream": "stdout",
       "text": [
        "17 "
       ]
      },
      {
       "output_type": "stream",
       "stream": "stdout",
       "text": [
        "18 "
       ]
      },
      {
       "output_type": "stream",
       "stream": "stdout",
       "text": [
        "19 "
       ]
      },
      {
       "output_type": "stream",
       "stream": "stdout",
       "text": [
        "20 "
       ]
      },
      {
       "output_type": "stream",
       "stream": "stdout",
       "text": [
        "21 "
       ]
      },
      {
       "output_type": "stream",
       "stream": "stdout",
       "text": [
        "22 "
       ]
      },
      {
       "output_type": "stream",
       "stream": "stdout",
       "text": [
        "23 "
       ]
      },
      {
       "output_type": "stream",
       "stream": "stdout",
       "text": [
        "24 "
       ]
      },
      {
       "output_type": "stream",
       "stream": "stdout",
       "text": [
        "25 "
       ]
      },
      {
       "output_type": "stream",
       "stream": "stdout",
       "text": [
        "26 "
       ]
      },
      {
       "output_type": "stream",
       "stream": "stdout",
       "text": [
        "27 "
       ]
      },
      {
       "output_type": "stream",
       "stream": "stdout",
       "text": [
        "28 "
       ]
      },
      {
       "output_type": "stream",
       "stream": "stdout",
       "text": [
        "29 "
       ]
      },
      {
       "output_type": "stream",
       "stream": "stdout",
       "text": [
        "30 "
       ]
      },
      {
       "output_type": "stream",
       "stream": "stdout",
       "text": [
        "31 "
       ]
      },
      {
       "output_type": "stream",
       "stream": "stdout",
       "text": [
        "32 "
       ]
      },
      {
       "output_type": "stream",
       "stream": "stdout",
       "text": [
        "33 "
       ]
      },
      {
       "output_type": "stream",
       "stream": "stdout",
       "text": [
        "34 "
       ]
      },
      {
       "output_type": "stream",
       "stream": "stdout",
       "text": [
        "35 "
       ]
      },
      {
       "output_type": "stream",
       "stream": "stdout",
       "text": [
        "36 "
       ]
      },
      {
       "output_type": "stream",
       "stream": "stdout",
       "text": [
        "37 "
       ]
      },
      {
       "output_type": "stream",
       "stream": "stdout",
       "text": [
        "38 "
       ]
      },
      {
       "output_type": "stream",
       "stream": "stdout",
       "text": [
        "39 "
       ]
      },
      {
       "output_type": "stream",
       "stream": "stdout",
       "text": [
        "40 "
       ]
      },
      {
       "output_type": "stream",
       "stream": "stdout",
       "text": [
        "41 "
       ]
      },
      {
       "output_type": "stream",
       "stream": "stdout",
       "text": [
        "42 "
       ]
      },
      {
       "output_type": "stream",
       "stream": "stdout",
       "text": [
        "43 "
       ]
      },
      {
       "output_type": "stream",
       "stream": "stdout",
       "text": [
        "44 "
       ]
      },
      {
       "output_type": "stream",
       "stream": "stdout",
       "text": [
        "45 "
       ]
      },
      {
       "output_type": "stream",
       "stream": "stdout",
       "text": [
        "46 "
       ]
      },
      {
       "output_type": "stream",
       "stream": "stdout",
       "text": [
        "47 "
       ]
      },
      {
       "output_type": "stream",
       "stream": "stdout",
       "text": [
        "48 "
       ]
      },
      {
       "output_type": "stream",
       "stream": "stdout",
       "text": [
        "49 "
       ]
      },
      {
       "output_type": "stream",
       "stream": "stdout",
       "text": [
        "50 "
       ]
      },
      {
       "output_type": "stream",
       "stream": "stdout",
       "text": [
        "51 "
       ]
      },
      {
       "output_type": "stream",
       "stream": "stdout",
       "text": [
        "52 "
       ]
      },
      {
       "output_type": "stream",
       "stream": "stdout",
       "text": [
        "53 "
       ]
      },
      {
       "output_type": "stream",
       "stream": "stdout",
       "text": [
        "54 "
       ]
      },
      {
       "output_type": "stream",
       "stream": "stdout",
       "text": [
        "55 "
       ]
      },
      {
       "output_type": "stream",
       "stream": "stdout",
       "text": [
        "56 "
       ]
      },
      {
       "output_type": "stream",
       "stream": "stdout",
       "text": [
        "57 "
       ]
      },
      {
       "output_type": "stream",
       "stream": "stdout",
       "text": [
        "58 "
       ]
      },
      {
       "output_type": "stream",
       "stream": "stdout",
       "text": [
        "59 "
       ]
      },
      {
       "output_type": "stream",
       "stream": "stdout",
       "text": [
        "60 "
       ]
      },
      {
       "output_type": "stream",
       "stream": "stdout",
       "text": [
        "61 "
       ]
      },
      {
       "output_type": "stream",
       "stream": "stdout",
       "text": [
        "62 "
       ]
      },
      {
       "output_type": "stream",
       "stream": "stdout",
       "text": [
        "63 "
       ]
      },
      {
       "output_type": "stream",
       "stream": "stdout",
       "text": [
        "64 "
       ]
      },
      {
       "output_type": "stream",
       "stream": "stdout",
       "text": [
        "65 "
       ]
      },
      {
       "output_type": "stream",
       "stream": "stdout",
       "text": [
        "66 "
       ]
      },
      {
       "output_type": "stream",
       "stream": "stdout",
       "text": [
        "67 "
       ]
      },
      {
       "output_type": "stream",
       "stream": "stdout",
       "text": [
        "68 "
       ]
      },
      {
       "output_type": "stream",
       "stream": "stdout",
       "text": [
        "69 "
       ]
      },
      {
       "output_type": "stream",
       "stream": "stdout",
       "text": [
        "70 "
       ]
      },
      {
       "output_type": "stream",
       "stream": "stdout",
       "text": [
        "71 "
       ]
      },
      {
       "output_type": "stream",
       "stream": "stdout",
       "text": [
        "72 "
       ]
      },
      {
       "output_type": "stream",
       "stream": "stdout",
       "text": [
        "73 "
       ]
      },
      {
       "output_type": "stream",
       "stream": "stdout",
       "text": [
        "74 "
       ]
      },
      {
       "output_type": "stream",
       "stream": "stdout",
       "text": [
        "75 "
       ]
      },
      {
       "output_type": "stream",
       "stream": "stdout",
       "text": [
        "76 "
       ]
      },
      {
       "output_type": "stream",
       "stream": "stdout",
       "text": [
        "77 "
       ]
      },
      {
       "output_type": "stream",
       "stream": "stdout",
       "text": [
        "78 "
       ]
      },
      {
       "output_type": "stream",
       "stream": "stdout",
       "text": [
        "79 "
       ]
      },
      {
       "output_type": "stream",
       "stream": "stdout",
       "text": [
        "80 "
       ]
      },
      {
       "output_type": "stream",
       "stream": "stdout",
       "text": [
        "81 "
       ]
      },
      {
       "output_type": "stream",
       "stream": "stdout",
       "text": [
        "82 "
       ]
      },
      {
       "output_type": "stream",
       "stream": "stdout",
       "text": [
        "83 "
       ]
      },
      {
       "output_type": "stream",
       "stream": "stdout",
       "text": [
        "84 "
       ]
      },
      {
       "output_type": "stream",
       "stream": "stdout",
       "text": [
        "85 "
       ]
      },
      {
       "output_type": "stream",
       "stream": "stdout",
       "text": [
        "86 "
       ]
      },
      {
       "output_type": "stream",
       "stream": "stdout",
       "text": [
        "87 "
       ]
      },
      {
       "output_type": "stream",
       "stream": "stdout",
       "text": [
        "88 "
       ]
      },
      {
       "output_type": "stream",
       "stream": "stdout",
       "text": [
        "89 "
       ]
      },
      {
       "output_type": "stream",
       "stream": "stdout",
       "text": [
        "90 "
       ]
      },
      {
       "output_type": "stream",
       "stream": "stdout",
       "text": [
        "91 "
       ]
      },
      {
       "output_type": "stream",
       "stream": "stdout",
       "text": [
        "92 "
       ]
      },
      {
       "output_type": "stream",
       "stream": "stdout",
       "text": [
        "93 "
       ]
      },
      {
       "output_type": "stream",
       "stream": "stdout",
       "text": [
        "94 "
       ]
      },
      {
       "output_type": "stream",
       "stream": "stdout",
       "text": [
        "95 "
       ]
      },
      {
       "output_type": "stream",
       "stream": "stdout",
       "text": [
        "96 "
       ]
      },
      {
       "output_type": "stream",
       "stream": "stdout",
       "text": [
        "97 "
       ]
      },
      {
       "output_type": "stream",
       "stream": "stdout",
       "text": [
        "98 "
       ]
      },
      {
       "output_type": "stream",
       "stream": "stdout",
       "text": [
        "99 "
       ]
      },
      {
       "output_type": "stream",
       "stream": "stdout",
       "text": [
        "100 "
       ]
      },
      {
       "output_type": "stream",
       "stream": "stdout",
       "text": [
        "101 "
       ]
      },
      {
       "output_type": "stream",
       "stream": "stdout",
       "text": [
        "102 "
       ]
      },
      {
       "output_type": "stream",
       "stream": "stdout",
       "text": [
        "103 "
       ]
      },
      {
       "output_type": "stream",
       "stream": "stdout",
       "text": [
        "104 "
       ]
      },
      {
       "output_type": "stream",
       "stream": "stdout",
       "text": [
        "105 "
       ]
      },
      {
       "output_type": "stream",
       "stream": "stdout",
       "text": [
        "106 "
       ]
      },
      {
       "output_type": "stream",
       "stream": "stdout",
       "text": [
        "107 "
       ]
      },
      {
       "output_type": "stream",
       "stream": "stdout",
       "text": [
        "108 "
       ]
      },
      {
       "output_type": "stream",
       "stream": "stdout",
       "text": [
        "109 "
       ]
      },
      {
       "output_type": "stream",
       "stream": "stdout",
       "text": [
        "110 "
       ]
      },
      {
       "output_type": "stream",
       "stream": "stdout",
       "text": [
        "111 "
       ]
      },
      {
       "output_type": "stream",
       "stream": "stdout",
       "text": [
        "112 "
       ]
      },
      {
       "output_type": "stream",
       "stream": "stdout",
       "text": [
        "113 "
       ]
      },
      {
       "output_type": "stream",
       "stream": "stdout",
       "text": [
        "114 "
       ]
      },
      {
       "output_type": "stream",
       "stream": "stdout",
       "text": [
        "115 "
       ]
      },
      {
       "output_type": "stream",
       "stream": "stdout",
       "text": [
        "116 "
       ]
      },
      {
       "output_type": "stream",
       "stream": "stdout",
       "text": [
        "117 "
       ]
      },
      {
       "output_type": "stream",
       "stream": "stdout",
       "text": [
        "118 "
       ]
      },
      {
       "output_type": "stream",
       "stream": "stdout",
       "text": [
        "119 "
       ]
      },
      {
       "output_type": "stream",
       "stream": "stdout",
       "text": [
        "120 "
       ]
      },
      {
       "output_type": "stream",
       "stream": "stdout",
       "text": [
        "121 "
       ]
      },
      {
       "output_type": "stream",
       "stream": "stdout",
       "text": [
        "122 "
       ]
      },
      {
       "output_type": "stream",
       "stream": "stdout",
       "text": [
        "123 "
       ]
      },
      {
       "output_type": "stream",
       "stream": "stdout",
       "text": [
        "124 "
       ]
      },
      {
       "output_type": "stream",
       "stream": "stdout",
       "text": [
        "125 "
       ]
      },
      {
       "output_type": "stream",
       "stream": "stdout",
       "text": [
        "126 "
       ]
      },
      {
       "output_type": "stream",
       "stream": "stdout",
       "text": [
        "127 "
       ]
      },
      {
       "output_type": "stream",
       "stream": "stdout",
       "text": [
        "128 "
       ]
      },
      {
       "output_type": "stream",
       "stream": "stdout",
       "text": [
        "129 "
       ]
      },
      {
       "output_type": "stream",
       "stream": "stdout",
       "text": [
        "130 "
       ]
      },
      {
       "output_type": "stream",
       "stream": "stdout",
       "text": [
        "131 "
       ]
      },
      {
       "output_type": "stream",
       "stream": "stdout",
       "text": [
        "132 "
       ]
      },
      {
       "output_type": "stream",
       "stream": "stdout",
       "text": [
        "133 "
       ]
      },
      {
       "output_type": "stream",
       "stream": "stdout",
       "text": [
        "134 "
       ]
      },
      {
       "output_type": "stream",
       "stream": "stdout",
       "text": [
        "135 "
       ]
      },
      {
       "output_type": "stream",
       "stream": "stdout",
       "text": [
        "136 "
       ]
      },
      {
       "output_type": "stream",
       "stream": "stdout",
       "text": [
        "137 "
       ]
      },
      {
       "output_type": "stream",
       "stream": "stdout",
       "text": [
        "138 "
       ]
      },
      {
       "output_type": "stream",
       "stream": "stdout",
       "text": [
        "139 "
       ]
      },
      {
       "output_type": "stream",
       "stream": "stdout",
       "text": [
        "140 "
       ]
      },
      {
       "output_type": "stream",
       "stream": "stdout",
       "text": [
        "141 "
       ]
      },
      {
       "output_type": "stream",
       "stream": "stdout",
       "text": [
        "142 "
       ]
      },
      {
       "output_type": "stream",
       "stream": "stdout",
       "text": [
        "143 "
       ]
      },
      {
       "output_type": "stream",
       "stream": "stdout",
       "text": [
        "144 "
       ]
      },
      {
       "output_type": "stream",
       "stream": "stdout",
       "text": [
        "145 "
       ]
      },
      {
       "output_type": "stream",
       "stream": "stdout",
       "text": [
        "146 "
       ]
      },
      {
       "output_type": "stream",
       "stream": "stdout",
       "text": [
        "147 "
       ]
      },
      {
       "output_type": "stream",
       "stream": "stdout",
       "text": [
        "148 "
       ]
      },
      {
       "output_type": "stream",
       "stream": "stdout",
       "text": [
        "149 "
       ]
      },
      {
       "output_type": "stream",
       "stream": "stdout",
       "text": [
        "150 "
       ]
      },
      {
       "output_type": "stream",
       "stream": "stdout",
       "text": [
        "151 "
       ]
      },
      {
       "output_type": "stream",
       "stream": "stdout",
       "text": [
        "152 "
       ]
      },
      {
       "output_type": "stream",
       "stream": "stdout",
       "text": [
        "153 "
       ]
      },
      {
       "output_type": "stream",
       "stream": "stdout",
       "text": [
        "154 "
       ]
      },
      {
       "output_type": "stream",
       "stream": "stdout",
       "text": [
        "155 "
       ]
      },
      {
       "output_type": "stream",
       "stream": "stdout",
       "text": [
        "156 "
       ]
      },
      {
       "output_type": "stream",
       "stream": "stdout",
       "text": [
        "157 "
       ]
      },
      {
       "output_type": "stream",
       "stream": "stdout",
       "text": [
        "158 "
       ]
      },
      {
       "output_type": "stream",
       "stream": "stdout",
       "text": [
        "159 "
       ]
      },
      {
       "output_type": "stream",
       "stream": "stdout",
       "text": [
        "160 "
       ]
      },
      {
       "output_type": "stream",
       "stream": "stdout",
       "text": [
        "161 "
       ]
      },
      {
       "output_type": "stream",
       "stream": "stdout",
       "text": [
        "162 "
       ]
      },
      {
       "output_type": "stream",
       "stream": "stdout",
       "text": [
        "163 "
       ]
      },
      {
       "output_type": "stream",
       "stream": "stdout",
       "text": [
        "164 "
       ]
      },
      {
       "output_type": "stream",
       "stream": "stdout",
       "text": [
        "165 "
       ]
      },
      {
       "output_type": "stream",
       "stream": "stdout",
       "text": [
        "166 "
       ]
      },
      {
       "output_type": "stream",
       "stream": "stdout",
       "text": [
        "167 "
       ]
      },
      {
       "output_type": "stream",
       "stream": "stdout",
       "text": [
        "168 "
       ]
      },
      {
       "output_type": "stream",
       "stream": "stdout",
       "text": [
        "169 "
       ]
      },
      {
       "output_type": "stream",
       "stream": "stdout",
       "text": [
        "170 "
       ]
      },
      {
       "output_type": "stream",
       "stream": "stdout",
       "text": [
        "171 "
       ]
      },
      {
       "output_type": "stream",
       "stream": "stdout",
       "text": [
        "172 "
       ]
      },
      {
       "output_type": "stream",
       "stream": "stdout",
       "text": [
        "173 "
       ]
      },
      {
       "output_type": "stream",
       "stream": "stdout",
       "text": [
        "174 "
       ]
      },
      {
       "output_type": "stream",
       "stream": "stdout",
       "text": [
        "175 "
       ]
      },
      {
       "output_type": "stream",
       "stream": "stdout",
       "text": [
        "176 "
       ]
      },
      {
       "output_type": "stream",
       "stream": "stdout",
       "text": [
        "177 "
       ]
      },
      {
       "output_type": "stream",
       "stream": "stdout",
       "text": [
        "178 "
       ]
      },
      {
       "output_type": "stream",
       "stream": "stdout",
       "text": [
        "179 "
       ]
      },
      {
       "output_type": "stream",
       "stream": "stdout",
       "text": [
        "180 "
       ]
      },
      {
       "output_type": "stream",
       "stream": "stdout",
       "text": [
        "181 "
       ]
      },
      {
       "output_type": "stream",
       "stream": "stdout",
       "text": [
        "182 "
       ]
      },
      {
       "output_type": "stream",
       "stream": "stdout",
       "text": [
        "183 "
       ]
      },
      {
       "output_type": "stream",
       "stream": "stdout",
       "text": [
        "184 "
       ]
      },
      {
       "output_type": "stream",
       "stream": "stdout",
       "text": [
        "185 "
       ]
      },
      {
       "output_type": "stream",
       "stream": "stdout",
       "text": [
        "186 "
       ]
      },
      {
       "output_type": "stream",
       "stream": "stdout",
       "text": [
        "187 "
       ]
      },
      {
       "output_type": "stream",
       "stream": "stdout",
       "text": [
        "188 "
       ]
      },
      {
       "output_type": "stream",
       "stream": "stdout",
       "text": [
        "189 "
       ]
      },
      {
       "output_type": "stream",
       "stream": "stdout",
       "text": [
        "190 "
       ]
      },
      {
       "output_type": "stream",
       "stream": "stdout",
       "text": [
        "191 "
       ]
      },
      {
       "output_type": "stream",
       "stream": "stdout",
       "text": [
        "192 "
       ]
      },
      {
       "output_type": "stream",
       "stream": "stdout",
       "text": [
        "193 "
       ]
      },
      {
       "output_type": "stream",
       "stream": "stdout",
       "text": [
        "194 "
       ]
      },
      {
       "output_type": "stream",
       "stream": "stdout",
       "text": [
        "195 "
       ]
      },
      {
       "output_type": "stream",
       "stream": "stdout",
       "text": [
        "196 "
       ]
      },
      {
       "output_type": "stream",
       "stream": "stdout",
       "text": [
        "197 "
       ]
      },
      {
       "output_type": "stream",
       "stream": "stdout",
       "text": [
        "198 "
       ]
      },
      {
       "output_type": "stream",
       "stream": "stdout",
       "text": [
        "199 "
       ]
      },
      {
       "output_type": "stream",
       "stream": "stdout",
       "text": [
        "200 "
       ]
      },
      {
       "output_type": "stream",
       "stream": "stdout",
       "text": [
        "201 "
       ]
      },
      {
       "output_type": "stream",
       "stream": "stdout",
       "text": [
        "202 "
       ]
      },
      {
       "output_type": "stream",
       "stream": "stdout",
       "text": [
        "203 "
       ]
      },
      {
       "output_type": "stream",
       "stream": "stdout",
       "text": [
        "204 "
       ]
      },
      {
       "output_type": "stream",
       "stream": "stdout",
       "text": [
        "205 "
       ]
      },
      {
       "output_type": "stream",
       "stream": "stdout",
       "text": [
        "206 "
       ]
      },
      {
       "output_type": "stream",
       "stream": "stdout",
       "text": [
        "207 "
       ]
      },
      {
       "output_type": "stream",
       "stream": "stdout",
       "text": [
        "208 "
       ]
      },
      {
       "output_type": "stream",
       "stream": "stdout",
       "text": [
        "209 "
       ]
      },
      {
       "output_type": "stream",
       "stream": "stdout",
       "text": [
        "210 "
       ]
      },
      {
       "output_type": "stream",
       "stream": "stdout",
       "text": [
        "211 "
       ]
      },
      {
       "output_type": "stream",
       "stream": "stdout",
       "text": [
        "212 "
       ]
      },
      {
       "output_type": "stream",
       "stream": "stdout",
       "text": [
        "213 "
       ]
      },
      {
       "output_type": "stream",
       "stream": "stdout",
       "text": [
        "214 "
       ]
      },
      {
       "output_type": "stream",
       "stream": "stdout",
       "text": [
        "215 "
       ]
      },
      {
       "output_type": "stream",
       "stream": "stdout",
       "text": [
        "216 "
       ]
      },
      {
       "output_type": "stream",
       "stream": "stdout",
       "text": [
        "217 "
       ]
      },
      {
       "output_type": "stream",
       "stream": "stdout",
       "text": [
        "218 "
       ]
      },
      {
       "output_type": "stream",
       "stream": "stdout",
       "text": [
        "219 "
       ]
      },
      {
       "output_type": "stream",
       "stream": "stdout",
       "text": [
        "220 "
       ]
      },
      {
       "output_type": "stream",
       "stream": "stdout",
       "text": [
        "221 "
       ]
      },
      {
       "output_type": "stream",
       "stream": "stdout",
       "text": [
        "222 "
       ]
      },
      {
       "output_type": "stream",
       "stream": "stdout",
       "text": [
        "223 "
       ]
      },
      {
       "output_type": "stream",
       "stream": "stdout",
       "text": [
        "224 "
       ]
      },
      {
       "output_type": "stream",
       "stream": "stdout",
       "text": [
        "225 "
       ]
      },
      {
       "output_type": "stream",
       "stream": "stdout",
       "text": [
        "226 "
       ]
      },
      {
       "output_type": "stream",
       "stream": "stdout",
       "text": [
        "227 "
       ]
      },
      {
       "output_type": "stream",
       "stream": "stdout",
       "text": [
        "228 "
       ]
      },
      {
       "output_type": "stream",
       "stream": "stdout",
       "text": [
        "229 "
       ]
      },
      {
       "output_type": "stream",
       "stream": "stdout",
       "text": [
        "230 "
       ]
      },
      {
       "output_type": "stream",
       "stream": "stdout",
       "text": [
        "231 "
       ]
      },
      {
       "output_type": "stream",
       "stream": "stdout",
       "text": [
        "232 "
       ]
      },
      {
       "output_type": "stream",
       "stream": "stdout",
       "text": [
        "233 "
       ]
      },
      {
       "output_type": "stream",
       "stream": "stdout",
       "text": [
        "234 "
       ]
      },
      {
       "output_type": "stream",
       "stream": "stdout",
       "text": [
        "235 "
       ]
      },
      {
       "output_type": "stream",
       "stream": "stdout",
       "text": [
        "236 "
       ]
      },
      {
       "output_type": "stream",
       "stream": "stdout",
       "text": [
        "237 "
       ]
      },
      {
       "output_type": "stream",
       "stream": "stdout",
       "text": [
        "238 "
       ]
      },
      {
       "output_type": "stream",
       "stream": "stdout",
       "text": [
        "239 "
       ]
      },
      {
       "output_type": "stream",
       "stream": "stdout",
       "text": [
        "240 "
       ]
      },
      {
       "output_type": "stream",
       "stream": "stdout",
       "text": [
        "241 "
       ]
      },
      {
       "output_type": "stream",
       "stream": "stdout",
       "text": [
        "242 "
       ]
      },
      {
       "output_type": "stream",
       "stream": "stdout",
       "text": [
        "243 "
       ]
      },
      {
       "output_type": "stream",
       "stream": "stdout",
       "text": [
        "244 "
       ]
      },
      {
       "output_type": "stream",
       "stream": "stdout",
       "text": [
        "245 "
       ]
      },
      {
       "output_type": "stream",
       "stream": "stdout",
       "text": [
        "246 "
       ]
      },
      {
       "output_type": "stream",
       "stream": "stdout",
       "text": [
        "247 "
       ]
      },
      {
       "output_type": "stream",
       "stream": "stdout",
       "text": [
        "248 "
       ]
      },
      {
       "output_type": "stream",
       "stream": "stdout",
       "text": [
        "249 "
       ]
      },
      {
       "output_type": "stream",
       "stream": "stdout",
       "text": [
        "250 "
       ]
      },
      {
       "output_type": "stream",
       "stream": "stdout",
       "text": [
        "251 "
       ]
      },
      {
       "output_type": "stream",
       "stream": "stdout",
       "text": [
        "252 "
       ]
      },
      {
       "output_type": "stream",
       "stream": "stdout",
       "text": [
        "253 "
       ]
      },
      {
       "output_type": "stream",
       "stream": "stdout",
       "text": [
        "254 "
       ]
      },
      {
       "output_type": "stream",
       "stream": "stdout",
       "text": [
        "255 "
       ]
      },
      {
       "output_type": "stream",
       "stream": "stdout",
       "text": [
        "256 "
       ]
      },
      {
       "output_type": "stream",
       "stream": "stdout",
       "text": [
        "257 "
       ]
      },
      {
       "output_type": "stream",
       "stream": "stdout",
       "text": [
        "258 "
       ]
      },
      {
       "output_type": "stream",
       "stream": "stdout",
       "text": [
        "259 "
       ]
      },
      {
       "output_type": "stream",
       "stream": "stdout",
       "text": [
        "260 "
       ]
      },
      {
       "output_type": "stream",
       "stream": "stdout",
       "text": [
        "261 "
       ]
      },
      {
       "output_type": "stream",
       "stream": "stdout",
       "text": [
        "262 "
       ]
      },
      {
       "output_type": "stream",
       "stream": "stdout",
       "text": [
        "263 "
       ]
      },
      {
       "output_type": "stream",
       "stream": "stdout",
       "text": [
        "264 "
       ]
      },
      {
       "output_type": "stream",
       "stream": "stdout",
       "text": [
        "265 "
       ]
      },
      {
       "output_type": "stream",
       "stream": "stdout",
       "text": [
        "266 "
       ]
      },
      {
       "output_type": "stream",
       "stream": "stdout",
       "text": [
        "267 "
       ]
      },
      {
       "output_type": "stream",
       "stream": "stdout",
       "text": [
        "268 "
       ]
      },
      {
       "output_type": "stream",
       "stream": "stdout",
       "text": [
        "269 "
       ]
      },
      {
       "output_type": "stream",
       "stream": "stdout",
       "text": [
        "270 "
       ]
      },
      {
       "output_type": "stream",
       "stream": "stdout",
       "text": [
        "271 "
       ]
      },
      {
       "output_type": "stream",
       "stream": "stdout",
       "text": [
        "272 "
       ]
      },
      {
       "output_type": "stream",
       "stream": "stdout",
       "text": [
        "273 "
       ]
      },
      {
       "output_type": "stream",
       "stream": "stdout",
       "text": [
        "274 "
       ]
      },
      {
       "output_type": "stream",
       "stream": "stdout",
       "text": [
        "275 "
       ]
      },
      {
       "output_type": "stream",
       "stream": "stdout",
       "text": [
        "276 "
       ]
      },
      {
       "output_type": "stream",
       "stream": "stdout",
       "text": [
        "277 "
       ]
      },
      {
       "output_type": "stream",
       "stream": "stdout",
       "text": [
        "278 "
       ]
      },
      {
       "output_type": "stream",
       "stream": "stdout",
       "text": [
        "279 "
       ]
      },
      {
       "output_type": "stream",
       "stream": "stdout",
       "text": [
        "280 "
       ]
      },
      {
       "output_type": "stream",
       "stream": "stdout",
       "text": [
        "281 "
       ]
      },
      {
       "output_type": "stream",
       "stream": "stdout",
       "text": [
        "282 "
       ]
      },
      {
       "output_type": "stream",
       "stream": "stdout",
       "text": [
        "283 "
       ]
      },
      {
       "output_type": "stream",
       "stream": "stdout",
       "text": [
        "284 "
       ]
      },
      {
       "output_type": "stream",
       "stream": "stdout",
       "text": [
        "285 "
       ]
      },
      {
       "output_type": "stream",
       "stream": "stdout",
       "text": [
        "286 "
       ]
      },
      {
       "output_type": "stream",
       "stream": "stdout",
       "text": [
        "287 "
       ]
      },
      {
       "output_type": "stream",
       "stream": "stdout",
       "text": [
        "288 "
       ]
      },
      {
       "output_type": "stream",
       "stream": "stdout",
       "text": [
        "289 "
       ]
      },
      {
       "output_type": "stream",
       "stream": "stdout",
       "text": [
        "290 "
       ]
      },
      {
       "output_type": "stream",
       "stream": "stdout",
       "text": [
        "291 "
       ]
      },
      {
       "output_type": "stream",
       "stream": "stdout",
       "text": [
        "292 "
       ]
      },
      {
       "output_type": "stream",
       "stream": "stdout",
       "text": [
        "293 "
       ]
      },
      {
       "output_type": "stream",
       "stream": "stdout",
       "text": [
        "294 "
       ]
      },
      {
       "output_type": "stream",
       "stream": "stdout",
       "text": [
        "295 "
       ]
      },
      {
       "output_type": "stream",
       "stream": "stdout",
       "text": [
        "296 "
       ]
      },
      {
       "output_type": "stream",
       "stream": "stdout",
       "text": [
        "297 "
       ]
      },
      {
       "output_type": "stream",
       "stream": "stdout",
       "text": [
        "298 "
       ]
      },
      {
       "output_type": "stream",
       "stream": "stdout",
       "text": [
        "299 "
       ]
      },
      {
       "output_type": "stream",
       "stream": "stdout",
       "text": [
        "300 "
       ]
      },
      {
       "output_type": "stream",
       "stream": "stdout",
       "text": [
        "301 "
       ]
      },
      {
       "output_type": "stream",
       "stream": "stdout",
       "text": [
        "302 "
       ]
      },
      {
       "output_type": "stream",
       "stream": "stdout",
       "text": [
        "303 "
       ]
      },
      {
       "output_type": "stream",
       "stream": "stdout",
       "text": [
        "304 "
       ]
      },
      {
       "output_type": "stream",
       "stream": "stdout",
       "text": [
        "305 "
       ]
      },
      {
       "output_type": "stream",
       "stream": "stdout",
       "text": [
        "306 "
       ]
      },
      {
       "output_type": "stream",
       "stream": "stdout",
       "text": [
        "307 "
       ]
      },
      {
       "output_type": "stream",
       "stream": "stdout",
       "text": [
        "308 "
       ]
      },
      {
       "output_type": "stream",
       "stream": "stdout",
       "text": [
        "309 "
       ]
      },
      {
       "output_type": "stream",
       "stream": "stdout",
       "text": [
        "310 "
       ]
      },
      {
       "output_type": "stream",
       "stream": "stdout",
       "text": [
        "311 "
       ]
      },
      {
       "output_type": "stream",
       "stream": "stdout",
       "text": [
        "312 "
       ]
      },
      {
       "output_type": "stream",
       "stream": "stdout",
       "text": [
        "313 "
       ]
      },
      {
       "output_type": "stream",
       "stream": "stdout",
       "text": [
        "314 "
       ]
      },
      {
       "output_type": "stream",
       "stream": "stdout",
       "text": [
        "315 "
       ]
      },
      {
       "output_type": "stream",
       "stream": "stdout",
       "text": [
        "316 "
       ]
      },
      {
       "output_type": "stream",
       "stream": "stdout",
       "text": [
        "317 "
       ]
      },
      {
       "output_type": "stream",
       "stream": "stdout",
       "text": [
        "318 "
       ]
      },
      {
       "output_type": "stream",
       "stream": "stdout",
       "text": [
        "319 "
       ]
      },
      {
       "output_type": "stream",
       "stream": "stdout",
       "text": [
        "320 "
       ]
      },
      {
       "output_type": "stream",
       "stream": "stdout",
       "text": [
        "321 "
       ]
      },
      {
       "output_type": "stream",
       "stream": "stdout",
       "text": [
        "322 "
       ]
      },
      {
       "output_type": "stream",
       "stream": "stdout",
       "text": [
        "323 "
       ]
      },
      {
       "output_type": "stream",
       "stream": "stdout",
       "text": [
        "324 "
       ]
      },
      {
       "output_type": "stream",
       "stream": "stdout",
       "text": [
        "325 "
       ]
      },
      {
       "output_type": "stream",
       "stream": "stdout",
       "text": [
        "326 "
       ]
      },
      {
       "output_type": "stream",
       "stream": "stdout",
       "text": [
        "327 "
       ]
      },
      {
       "output_type": "stream",
       "stream": "stdout",
       "text": [
        "328 "
       ]
      },
      {
       "output_type": "stream",
       "stream": "stdout",
       "text": [
        "329 "
       ]
      },
      {
       "output_type": "stream",
       "stream": "stdout",
       "text": [
        "330 "
       ]
      },
      {
       "output_type": "stream",
       "stream": "stdout",
       "text": [
        "331 "
       ]
      },
      {
       "output_type": "stream",
       "stream": "stdout",
       "text": [
        "332 "
       ]
      },
      {
       "output_type": "stream",
       "stream": "stdout",
       "text": [
        "333 "
       ]
      },
      {
       "output_type": "stream",
       "stream": "stdout",
       "text": [
        "334 "
       ]
      },
      {
       "output_type": "stream",
       "stream": "stdout",
       "text": [
        "335 "
       ]
      },
      {
       "output_type": "stream",
       "stream": "stdout",
       "text": [
        "336 "
       ]
      },
      {
       "output_type": "stream",
       "stream": "stdout",
       "text": [
        "337 "
       ]
      },
      {
       "output_type": "stream",
       "stream": "stdout",
       "text": [
        "338 "
       ]
      },
      {
       "output_type": "stream",
       "stream": "stdout",
       "text": [
        "339 "
       ]
      },
      {
       "output_type": "stream",
       "stream": "stdout",
       "text": [
        "340 "
       ]
      },
      {
       "output_type": "stream",
       "stream": "stdout",
       "text": [
        "341 "
       ]
      },
      {
       "output_type": "stream",
       "stream": "stdout",
       "text": [
        "342 "
       ]
      },
      {
       "output_type": "stream",
       "stream": "stdout",
       "text": [
        "343 "
       ]
      },
      {
       "output_type": "stream",
       "stream": "stdout",
       "text": [
        "344 "
       ]
      },
      {
       "output_type": "stream",
       "stream": "stdout",
       "text": [
        "345 "
       ]
      },
      {
       "output_type": "stream",
       "stream": "stdout",
       "text": [
        "346 "
       ]
      },
      {
       "output_type": "stream",
       "stream": "stdout",
       "text": [
        "347 "
       ]
      },
      {
       "output_type": "stream",
       "stream": "stdout",
       "text": [
        "348 "
       ]
      },
      {
       "output_type": "stream",
       "stream": "stdout",
       "text": [
        "349 "
       ]
      },
      {
       "output_type": "stream",
       "stream": "stdout",
       "text": [
        "350 "
       ]
      },
      {
       "output_type": "stream",
       "stream": "stdout",
       "text": [
        "351 "
       ]
      },
      {
       "output_type": "stream",
       "stream": "stdout",
       "text": [
        "352 "
       ]
      },
      {
       "output_type": "stream",
       "stream": "stdout",
       "text": [
        "353 "
       ]
      },
      {
       "output_type": "stream",
       "stream": "stdout",
       "text": [
        "354 "
       ]
      },
      {
       "output_type": "stream",
       "stream": "stdout",
       "text": [
        "355 "
       ]
      },
      {
       "output_type": "stream",
       "stream": "stdout",
       "text": [
        "356 "
       ]
      },
      {
       "output_type": "stream",
       "stream": "stdout",
       "text": [
        "357 "
       ]
      },
      {
       "output_type": "stream",
       "stream": "stdout",
       "text": [
        "358 "
       ]
      },
      {
       "output_type": "stream",
       "stream": "stdout",
       "text": [
        "359 "
       ]
      },
      {
       "output_type": "stream",
       "stream": "stdout",
       "text": [
        "360 "
       ]
      },
      {
       "output_type": "stream",
       "stream": "stdout",
       "text": [
        "361 "
       ]
      },
      {
       "output_type": "stream",
       "stream": "stdout",
       "text": [
        "362 "
       ]
      },
      {
       "output_type": "stream",
       "stream": "stdout",
       "text": [
        "363 "
       ]
      },
      {
       "output_type": "stream",
       "stream": "stdout",
       "text": [
        "364 "
       ]
      },
      {
       "output_type": "stream",
       "stream": "stdout",
       "text": [
        "365 "
       ]
      },
      {
       "output_type": "stream",
       "stream": "stdout",
       "text": [
        "366 "
       ]
      },
      {
       "output_type": "stream",
       "stream": "stdout",
       "text": [
        "367 "
       ]
      },
      {
       "output_type": "stream",
       "stream": "stdout",
       "text": [
        "368 "
       ]
      },
      {
       "output_type": "stream",
       "stream": "stdout",
       "text": [
        "369 "
       ]
      },
      {
       "output_type": "stream",
       "stream": "stdout",
       "text": [
        "370 "
       ]
      },
      {
       "output_type": "stream",
       "stream": "stdout",
       "text": [
        "371 "
       ]
      },
      {
       "output_type": "stream",
       "stream": "stdout",
       "text": [
        "372 "
       ]
      },
      {
       "output_type": "stream",
       "stream": "stdout",
       "text": [
        "373 "
       ]
      },
      {
       "output_type": "stream",
       "stream": "stdout",
       "text": [
        "374 "
       ]
      },
      {
       "output_type": "stream",
       "stream": "stdout",
       "text": [
        "375 "
       ]
      },
      {
       "output_type": "stream",
       "stream": "stdout",
       "text": [
        "376 "
       ]
      },
      {
       "output_type": "stream",
       "stream": "stdout",
       "text": [
        "377 "
       ]
      },
      {
       "output_type": "stream",
       "stream": "stdout",
       "text": [
        "378 "
       ]
      },
      {
       "output_type": "stream",
       "stream": "stdout",
       "text": [
        "379 "
       ]
      },
      {
       "output_type": "stream",
       "stream": "stdout",
       "text": [
        "380 "
       ]
      },
      {
       "output_type": "stream",
       "stream": "stdout",
       "text": [
        "381 "
       ]
      },
      {
       "output_type": "stream",
       "stream": "stdout",
       "text": [
        "382 "
       ]
      },
      {
       "output_type": "stream",
       "stream": "stdout",
       "text": [
        "383 "
       ]
      },
      {
       "output_type": "stream",
       "stream": "stdout",
       "text": [
        "384 "
       ]
      },
      {
       "output_type": "stream",
       "stream": "stdout",
       "text": [
        "385 "
       ]
      },
      {
       "output_type": "stream",
       "stream": "stdout",
       "text": [
        "386 "
       ]
      },
      {
       "output_type": "stream",
       "stream": "stdout",
       "text": [
        "387 "
       ]
      },
      {
       "output_type": "stream",
       "stream": "stdout",
       "text": [
        "388 "
       ]
      },
      {
       "output_type": "stream",
       "stream": "stdout",
       "text": [
        "389 "
       ]
      },
      {
       "output_type": "stream",
       "stream": "stdout",
       "text": [
        "390 "
       ]
      },
      {
       "output_type": "stream",
       "stream": "stdout",
       "text": [
        "391 "
       ]
      },
      {
       "output_type": "stream",
       "stream": "stdout",
       "text": [
        "392 "
       ]
      },
      {
       "output_type": "stream",
       "stream": "stdout",
       "text": [
        "393 "
       ]
      },
      {
       "output_type": "stream",
       "stream": "stdout",
       "text": [
        "394 "
       ]
      },
      {
       "output_type": "stream",
       "stream": "stdout",
       "text": [
        "395 "
       ]
      },
      {
       "output_type": "stream",
       "stream": "stdout",
       "text": [
        "396 "
       ]
      },
      {
       "output_type": "stream",
       "stream": "stdout",
       "text": [
        "397 "
       ]
      },
      {
       "output_type": "stream",
       "stream": "stdout",
       "text": [
        "398 "
       ]
      },
      {
       "output_type": "stream",
       "stream": "stdout",
       "text": [
        "399 "
       ]
      },
      {
       "output_type": "stream",
       "stream": "stdout",
       "text": [
        "400 "
       ]
      },
      {
       "output_type": "stream",
       "stream": "stdout",
       "text": [
        "401 "
       ]
      },
      {
       "output_type": "stream",
       "stream": "stdout",
       "text": [
        "402 "
       ]
      },
      {
       "output_type": "stream",
       "stream": "stdout",
       "text": [
        "403 "
       ]
      },
      {
       "output_type": "stream",
       "stream": "stdout",
       "text": [
        "404 "
       ]
      },
      {
       "output_type": "stream",
       "stream": "stdout",
       "text": [
        "405 "
       ]
      },
      {
       "output_type": "stream",
       "stream": "stdout",
       "text": [
        "406 "
       ]
      },
      {
       "output_type": "stream",
       "stream": "stdout",
       "text": [
        "407 "
       ]
      },
      {
       "output_type": "stream",
       "stream": "stdout",
       "text": [
        "408 "
       ]
      },
      {
       "output_type": "stream",
       "stream": "stdout",
       "text": [
        "409 "
       ]
      },
      {
       "output_type": "stream",
       "stream": "stdout",
       "text": [
        "410 "
       ]
      },
      {
       "output_type": "stream",
       "stream": "stdout",
       "text": [
        "411 "
       ]
      },
      {
       "output_type": "stream",
       "stream": "stdout",
       "text": [
        "412 "
       ]
      },
      {
       "output_type": "stream",
       "stream": "stdout",
       "text": [
        "413 "
       ]
      },
      {
       "output_type": "stream",
       "stream": "stdout",
       "text": [
        "414 "
       ]
      },
      {
       "output_type": "stream",
       "stream": "stdout",
       "text": [
        "415 "
       ]
      },
      {
       "output_type": "stream",
       "stream": "stdout",
       "text": [
        "416 "
       ]
      },
      {
       "output_type": "stream",
       "stream": "stdout",
       "text": [
        "417 "
       ]
      },
      {
       "output_type": "stream",
       "stream": "stdout",
       "text": [
        "418 "
       ]
      },
      {
       "output_type": "stream",
       "stream": "stdout",
       "text": [
        "419 "
       ]
      },
      {
       "output_type": "stream",
       "stream": "stdout",
       "text": [
        "420 "
       ]
      },
      {
       "output_type": "stream",
       "stream": "stdout",
       "text": [
        "421 "
       ]
      },
      {
       "output_type": "stream",
       "stream": "stdout",
       "text": [
        "422 "
       ]
      },
      {
       "output_type": "stream",
       "stream": "stdout",
       "text": [
        "423 "
       ]
      },
      {
       "output_type": "stream",
       "stream": "stdout",
       "text": [
        "424 "
       ]
      },
      {
       "output_type": "stream",
       "stream": "stdout",
       "text": [
        "425 "
       ]
      },
      {
       "output_type": "stream",
       "stream": "stdout",
       "text": [
        "426 "
       ]
      },
      {
       "output_type": "stream",
       "stream": "stdout",
       "text": [
        "427 "
       ]
      },
      {
       "output_type": "stream",
       "stream": "stdout",
       "text": [
        "428 "
       ]
      },
      {
       "output_type": "stream",
       "stream": "stdout",
       "text": [
        "429 "
       ]
      },
      {
       "output_type": "stream",
       "stream": "stdout",
       "text": [
        "430 "
       ]
      },
      {
       "output_type": "stream",
       "stream": "stdout",
       "text": [
        "431 "
       ]
      },
      {
       "output_type": "stream",
       "stream": "stdout",
       "text": [
        "432 "
       ]
      },
      {
       "output_type": "stream",
       "stream": "stdout",
       "text": [
        "433 "
       ]
      },
      {
       "output_type": "stream",
       "stream": "stdout",
       "text": [
        "434 "
       ]
      },
      {
       "output_type": "stream",
       "stream": "stdout",
       "text": [
        "435 "
       ]
      },
      {
       "output_type": "stream",
       "stream": "stdout",
       "text": [
        "436 "
       ]
      },
      {
       "output_type": "stream",
       "stream": "stdout",
       "text": [
        "437 "
       ]
      },
      {
       "output_type": "stream",
       "stream": "stdout",
       "text": [
        "438 "
       ]
      },
      {
       "output_type": "stream",
       "stream": "stdout",
       "text": [
        "439 "
       ]
      },
      {
       "output_type": "stream",
       "stream": "stdout",
       "text": [
        "440 "
       ]
      },
      {
       "output_type": "stream",
       "stream": "stdout",
       "text": [
        "441 "
       ]
      },
      {
       "output_type": "stream",
       "stream": "stdout",
       "text": [
        "442 "
       ]
      },
      {
       "output_type": "stream",
       "stream": "stdout",
       "text": [
        "443 "
       ]
      },
      {
       "output_type": "stream",
       "stream": "stdout",
       "text": [
        "444 "
       ]
      },
      {
       "output_type": "stream",
       "stream": "stdout",
       "text": [
        "445 "
       ]
      },
      {
       "output_type": "stream",
       "stream": "stdout",
       "text": [
        "446 "
       ]
      },
      {
       "output_type": "stream",
       "stream": "stdout",
       "text": [
        "447 "
       ]
      },
      {
       "output_type": "stream",
       "stream": "stdout",
       "text": [
        "448 "
       ]
      },
      {
       "output_type": "stream",
       "stream": "stdout",
       "text": [
        "449 "
       ]
      },
      {
       "output_type": "stream",
       "stream": "stdout",
       "text": [
        "450 "
       ]
      },
      {
       "output_type": "stream",
       "stream": "stdout",
       "text": [
        "451 "
       ]
      },
      {
       "output_type": "stream",
       "stream": "stdout",
       "text": [
        "452 "
       ]
      },
      {
       "output_type": "stream",
       "stream": "stdout",
       "text": [
        "453 "
       ]
      },
      {
       "output_type": "stream",
       "stream": "stdout",
       "text": [
        "454 "
       ]
      },
      {
       "output_type": "stream",
       "stream": "stdout",
       "text": [
        "455 "
       ]
      },
      {
       "output_type": "stream",
       "stream": "stdout",
       "text": [
        "456 "
       ]
      },
      {
       "output_type": "stream",
       "stream": "stdout",
       "text": [
        "457 "
       ]
      },
      {
       "output_type": "stream",
       "stream": "stdout",
       "text": [
        "458 "
       ]
      },
      {
       "output_type": "stream",
       "stream": "stdout",
       "text": [
        "459 "
       ]
      },
      {
       "output_type": "stream",
       "stream": "stdout",
       "text": [
        "460 "
       ]
      },
      {
       "output_type": "stream",
       "stream": "stdout",
       "text": [
        "461 "
       ]
      },
      {
       "output_type": "stream",
       "stream": "stdout",
       "text": [
        "462 "
       ]
      },
      {
       "output_type": "stream",
       "stream": "stdout",
       "text": [
        "463 "
       ]
      },
      {
       "output_type": "stream",
       "stream": "stdout",
       "text": [
        "464 "
       ]
      },
      {
       "output_type": "stream",
       "stream": "stdout",
       "text": [
        "465 "
       ]
      },
      {
       "output_type": "stream",
       "stream": "stdout",
       "text": [
        "466 "
       ]
      },
      {
       "output_type": "stream",
       "stream": "stdout",
       "text": [
        "467 "
       ]
      },
      {
       "output_type": "stream",
       "stream": "stdout",
       "text": [
        "468 "
       ]
      },
      {
       "output_type": "stream",
       "stream": "stdout",
       "text": [
        "469 "
       ]
      },
      {
       "output_type": "stream",
       "stream": "stdout",
       "text": [
        "470 "
       ]
      },
      {
       "output_type": "stream",
       "stream": "stdout",
       "text": [
        "471 "
       ]
      },
      {
       "output_type": "stream",
       "stream": "stdout",
       "text": [
        "472 "
       ]
      },
      {
       "output_type": "stream",
       "stream": "stdout",
       "text": [
        "473 "
       ]
      },
      {
       "output_type": "stream",
       "stream": "stdout",
       "text": [
        "474 "
       ]
      },
      {
       "output_type": "stream",
       "stream": "stdout",
       "text": [
        "475 "
       ]
      },
      {
       "output_type": "stream",
       "stream": "stdout",
       "text": [
        "476 "
       ]
      },
      {
       "output_type": "stream",
       "stream": "stdout",
       "text": [
        "477 "
       ]
      },
      {
       "output_type": "stream",
       "stream": "stdout",
       "text": [
        "478 "
       ]
      },
      {
       "output_type": "stream",
       "stream": "stdout",
       "text": [
        "479 "
       ]
      },
      {
       "output_type": "stream",
       "stream": "stdout",
       "text": [
        "480 "
       ]
      },
      {
       "output_type": "stream",
       "stream": "stdout",
       "text": [
        "481 "
       ]
      },
      {
       "output_type": "stream",
       "stream": "stdout",
       "text": [
        "482 "
       ]
      },
      {
       "output_type": "stream",
       "stream": "stdout",
       "text": [
        "483 "
       ]
      },
      {
       "output_type": "stream",
       "stream": "stdout",
       "text": [
        "484 "
       ]
      },
      {
       "output_type": "stream",
       "stream": "stdout",
       "text": [
        "485 "
       ]
      },
      {
       "output_type": "stream",
       "stream": "stdout",
       "text": [
        "486 "
       ]
      },
      {
       "output_type": "stream",
       "stream": "stdout",
       "text": [
        "487 "
       ]
      },
      {
       "output_type": "stream",
       "stream": "stdout",
       "text": [
        "488 "
       ]
      },
      {
       "output_type": "stream",
       "stream": "stdout",
       "text": [
        "489 "
       ]
      },
      {
       "output_type": "stream",
       "stream": "stdout",
       "text": [
        "490 "
       ]
      },
      {
       "output_type": "stream",
       "stream": "stdout",
       "text": [
        "491 "
       ]
      },
      {
       "output_type": "stream",
       "stream": "stdout",
       "text": [
        "492 "
       ]
      },
      {
       "output_type": "stream",
       "stream": "stdout",
       "text": [
        "493 "
       ]
      },
      {
       "output_type": "stream",
       "stream": "stdout",
       "text": [
        "494 "
       ]
      },
      {
       "output_type": "stream",
       "stream": "stdout",
       "text": [
        "495 "
       ]
      },
      {
       "output_type": "stream",
       "stream": "stdout",
       "text": [
        "496 "
       ]
      },
      {
       "output_type": "stream",
       "stream": "stdout",
       "text": [
        "497 "
       ]
      },
      {
       "output_type": "stream",
       "stream": "stdout",
       "text": [
        "498 "
       ]
      },
      {
       "output_type": "stream",
       "stream": "stdout",
       "text": [
        "499 "
       ]
      },
      {
       "output_type": "stream",
       "stream": "stdout",
       "text": [
        "500 "
       ]
      },
      {
       "output_type": "stream",
       "stream": "stdout",
       "text": [
        "501 "
       ]
      },
      {
       "output_type": "stream",
       "stream": "stdout",
       "text": [
        "502 "
       ]
      },
      {
       "output_type": "stream",
       "stream": "stdout",
       "text": [
        "503 "
       ]
      },
      {
       "output_type": "stream",
       "stream": "stdout",
       "text": [
        "504 "
       ]
      },
      {
       "output_type": "stream",
       "stream": "stdout",
       "text": [
        "505 "
       ]
      },
      {
       "output_type": "stream",
       "stream": "stdout",
       "text": [
        "506 "
       ]
      },
      {
       "output_type": "stream",
       "stream": "stdout",
       "text": [
        "507 "
       ]
      },
      {
       "output_type": "stream",
       "stream": "stdout",
       "text": [
        "508 "
       ]
      },
      {
       "output_type": "stream",
       "stream": "stdout",
       "text": [
        "509 "
       ]
      },
      {
       "output_type": "stream",
       "stream": "stdout",
       "text": [
        "510 "
       ]
      },
      {
       "output_type": "stream",
       "stream": "stdout",
       "text": [
        "511 "
       ]
      },
      {
       "output_type": "stream",
       "stream": "stdout",
       "text": [
        "512 "
       ]
      },
      {
       "output_type": "stream",
       "stream": "stdout",
       "text": [
        "513 "
       ]
      },
      {
       "output_type": "stream",
       "stream": "stdout",
       "text": [
        "514 "
       ]
      },
      {
       "output_type": "stream",
       "stream": "stdout",
       "text": [
        "515 "
       ]
      },
      {
       "output_type": "stream",
       "stream": "stdout",
       "text": [
        "516 "
       ]
      },
      {
       "output_type": "stream",
       "stream": "stdout",
       "text": [
        "517 "
       ]
      },
      {
       "output_type": "stream",
       "stream": "stdout",
       "text": [
        "518 "
       ]
      },
      {
       "output_type": "stream",
       "stream": "stdout",
       "text": [
        "519 "
       ]
      },
      {
       "output_type": "stream",
       "stream": "stdout",
       "text": [
        "520 "
       ]
      },
      {
       "output_type": "stream",
       "stream": "stdout",
       "text": [
        "521 "
       ]
      },
      {
       "output_type": "stream",
       "stream": "stdout",
       "text": [
        "522 "
       ]
      },
      {
       "output_type": "stream",
       "stream": "stdout",
       "text": [
        "523 "
       ]
      },
      {
       "output_type": "stream",
       "stream": "stdout",
       "text": [
        "524 "
       ]
      },
      {
       "output_type": "stream",
       "stream": "stdout",
       "text": [
        "525 "
       ]
      },
      {
       "output_type": "stream",
       "stream": "stdout",
       "text": [
        "526 "
       ]
      },
      {
       "output_type": "stream",
       "stream": "stdout",
       "text": [
        "527 "
       ]
      },
      {
       "output_type": "stream",
       "stream": "stdout",
       "text": [
        "528 "
       ]
      },
      {
       "output_type": "stream",
       "stream": "stdout",
       "text": [
        "529 "
       ]
      },
      {
       "output_type": "stream",
       "stream": "stdout",
       "text": [
        "530 "
       ]
      },
      {
       "output_type": "stream",
       "stream": "stdout",
       "text": [
        "531 "
       ]
      },
      {
       "output_type": "stream",
       "stream": "stdout",
       "text": [
        "532 "
       ]
      },
      {
       "output_type": "stream",
       "stream": "stdout",
       "text": [
        "533 "
       ]
      },
      {
       "output_type": "stream",
       "stream": "stdout",
       "text": [
        "534 "
       ]
      },
      {
       "output_type": "stream",
       "stream": "stdout",
       "text": [
        "535 "
       ]
      },
      {
       "output_type": "stream",
       "stream": "stdout",
       "text": [
        "536 "
       ]
      },
      {
       "output_type": "stream",
       "stream": "stdout",
       "text": [
        "537 "
       ]
      },
      {
       "output_type": "stream",
       "stream": "stdout",
       "text": [
        "538 "
       ]
      },
      {
       "output_type": "stream",
       "stream": "stdout",
       "text": [
        "539 "
       ]
      },
      {
       "output_type": "stream",
       "stream": "stdout",
       "text": [
        "540 "
       ]
      },
      {
       "output_type": "stream",
       "stream": "stdout",
       "text": [
        "541 "
       ]
      },
      {
       "output_type": "stream",
       "stream": "stdout",
       "text": [
        "542 "
       ]
      },
      {
       "output_type": "stream",
       "stream": "stdout",
       "text": [
        "543 "
       ]
      },
      {
       "output_type": "stream",
       "stream": "stdout",
       "text": [
        "544 "
       ]
      },
      {
       "output_type": "stream",
       "stream": "stdout",
       "text": [
        "545 "
       ]
      },
      {
       "output_type": "stream",
       "stream": "stdout",
       "text": [
        "546 "
       ]
      },
      {
       "output_type": "stream",
       "stream": "stdout",
       "text": [
        "547 "
       ]
      },
      {
       "output_type": "stream",
       "stream": "stdout",
       "text": [
        "548 "
       ]
      },
      {
       "output_type": "stream",
       "stream": "stdout",
       "text": [
        "549 "
       ]
      },
      {
       "output_type": "stream",
       "stream": "stdout",
       "text": [
        "550 "
       ]
      },
      {
       "output_type": "stream",
       "stream": "stdout",
       "text": [
        "551 "
       ]
      },
      {
       "output_type": "stream",
       "stream": "stdout",
       "text": [
        "552 "
       ]
      },
      {
       "output_type": "stream",
       "stream": "stdout",
       "text": [
        "553 "
       ]
      },
      {
       "output_type": "stream",
       "stream": "stdout",
       "text": [
        "554 "
       ]
      },
      {
       "output_type": "stream",
       "stream": "stdout",
       "text": [
        "555 "
       ]
      },
      {
       "output_type": "stream",
       "stream": "stdout",
       "text": [
        "556 "
       ]
      },
      {
       "output_type": "stream",
       "stream": "stdout",
       "text": [
        "557 "
       ]
      },
      {
       "output_type": "stream",
       "stream": "stdout",
       "text": [
        "558 "
       ]
      },
      {
       "output_type": "stream",
       "stream": "stdout",
       "text": [
        "559 "
       ]
      },
      {
       "output_type": "stream",
       "stream": "stdout",
       "text": [
        "560 "
       ]
      },
      {
       "output_type": "stream",
       "stream": "stdout",
       "text": [
        "561 "
       ]
      },
      {
       "output_type": "stream",
       "stream": "stdout",
       "text": [
        "562 "
       ]
      },
      {
       "output_type": "stream",
       "stream": "stdout",
       "text": [
        "563 "
       ]
      },
      {
       "output_type": "stream",
       "stream": "stdout",
       "text": [
        "564 "
       ]
      },
      {
       "output_type": "stream",
       "stream": "stdout",
       "text": [
        "565 "
       ]
      },
      {
       "output_type": "stream",
       "stream": "stdout",
       "text": [
        "566 "
       ]
      },
      {
       "output_type": "stream",
       "stream": "stdout",
       "text": [
        "567 "
       ]
      },
      {
       "output_type": "stream",
       "stream": "stdout",
       "text": [
        "568 "
       ]
      },
      {
       "output_type": "stream",
       "stream": "stdout",
       "text": [
        "569 "
       ]
      },
      {
       "output_type": "stream",
       "stream": "stdout",
       "text": [
        "570 "
       ]
      },
      {
       "output_type": "stream",
       "stream": "stdout",
       "text": [
        "571 "
       ]
      },
      {
       "output_type": "stream",
       "stream": "stdout",
       "text": [
        "572 "
       ]
      },
      {
       "output_type": "stream",
       "stream": "stdout",
       "text": [
        "573 "
       ]
      },
      {
       "output_type": "stream",
       "stream": "stdout",
       "text": [
        "574 "
       ]
      },
      {
       "output_type": "stream",
       "stream": "stdout",
       "text": [
        "575 "
       ]
      },
      {
       "output_type": "stream",
       "stream": "stdout",
       "text": [
        "576 "
       ]
      },
      {
       "output_type": "stream",
       "stream": "stdout",
       "text": [
        "577 "
       ]
      },
      {
       "output_type": "stream",
       "stream": "stdout",
       "text": [
        "578 "
       ]
      },
      {
       "output_type": "stream",
       "stream": "stdout",
       "text": [
        "579 "
       ]
      },
      {
       "output_type": "stream",
       "stream": "stdout",
       "text": [
        "580 "
       ]
      },
      {
       "output_type": "stream",
       "stream": "stdout",
       "text": [
        "581 "
       ]
      },
      {
       "output_type": "stream",
       "stream": "stdout",
       "text": [
        "582 "
       ]
      },
      {
       "output_type": "stream",
       "stream": "stdout",
       "text": [
        "583 "
       ]
      },
      {
       "output_type": "stream",
       "stream": "stdout",
       "text": [
        "584 "
       ]
      },
      {
       "output_type": "stream",
       "stream": "stdout",
       "text": [
        "585 "
       ]
      },
      {
       "output_type": "stream",
       "stream": "stdout",
       "text": [
        "586 "
       ]
      },
      {
       "output_type": "stream",
       "stream": "stdout",
       "text": [
        "587 "
       ]
      },
      {
       "output_type": "stream",
       "stream": "stdout",
       "text": [
        "588 "
       ]
      },
      {
       "output_type": "stream",
       "stream": "stdout",
       "text": [
        "589 "
       ]
      },
      {
       "output_type": "stream",
       "stream": "stdout",
       "text": [
        "590 "
       ]
      },
      {
       "output_type": "stream",
       "stream": "stdout",
       "text": [
        "591 "
       ]
      },
      {
       "output_type": "stream",
       "stream": "stdout",
       "text": [
        "592 "
       ]
      },
      {
       "output_type": "stream",
       "stream": "stdout",
       "text": [
        "593 "
       ]
      },
      {
       "output_type": "stream",
       "stream": "stdout",
       "text": [
        "594 "
       ]
      },
      {
       "output_type": "stream",
       "stream": "stdout",
       "text": [
        "595 "
       ]
      },
      {
       "output_type": "stream",
       "stream": "stdout",
       "text": [
        "596 "
       ]
      },
      {
       "output_type": "stream",
       "stream": "stdout",
       "text": [
        "597 "
       ]
      },
      {
       "output_type": "stream",
       "stream": "stdout",
       "text": [
        "598 "
       ]
      },
      {
       "output_type": "stream",
       "stream": "stdout",
       "text": [
        "599 "
       ]
      },
      {
       "output_type": "stream",
       "stream": "stdout",
       "text": [
        "600 "
       ]
      },
      {
       "output_type": "stream",
       "stream": "stdout",
       "text": [
        "601 "
       ]
      },
      {
       "output_type": "stream",
       "stream": "stdout",
       "text": [
        "602 "
       ]
      },
      {
       "output_type": "stream",
       "stream": "stdout",
       "text": [
        "603 "
       ]
      },
      {
       "output_type": "stream",
       "stream": "stdout",
       "text": [
        "604 "
       ]
      },
      {
       "output_type": "stream",
       "stream": "stdout",
       "text": [
        "605 "
       ]
      },
      {
       "output_type": "stream",
       "stream": "stdout",
       "text": [
        "606 "
       ]
      },
      {
       "output_type": "stream",
       "stream": "stdout",
       "text": [
        "607 "
       ]
      },
      {
       "output_type": "stream",
       "stream": "stdout",
       "text": [
        "608 "
       ]
      },
      {
       "output_type": "stream",
       "stream": "stdout",
       "text": [
        "609 "
       ]
      },
      {
       "output_type": "stream",
       "stream": "stdout",
       "text": [
        "610 "
       ]
      },
      {
       "output_type": "stream",
       "stream": "stdout",
       "text": [
        "611 "
       ]
      },
      {
       "output_type": "stream",
       "stream": "stdout",
       "text": [
        "612 "
       ]
      },
      {
       "output_type": "stream",
       "stream": "stdout",
       "text": [
        "613 "
       ]
      },
      {
       "output_type": "stream",
       "stream": "stdout",
       "text": [
        "614 "
       ]
      },
      {
       "output_type": "stream",
       "stream": "stdout",
       "text": [
        "615 "
       ]
      },
      {
       "output_type": "stream",
       "stream": "stdout",
       "text": [
        "616 "
       ]
      },
      {
       "output_type": "stream",
       "stream": "stdout",
       "text": [
        "617 "
       ]
      },
      {
       "output_type": "stream",
       "stream": "stdout",
       "text": [
        "618 "
       ]
      },
      {
       "output_type": "stream",
       "stream": "stdout",
       "text": [
        "619 "
       ]
      },
      {
       "output_type": "stream",
       "stream": "stdout",
       "text": [
        "620 "
       ]
      },
      {
       "output_type": "stream",
       "stream": "stdout",
       "text": [
        "621 "
       ]
      },
      {
       "output_type": "stream",
       "stream": "stdout",
       "text": [
        "622 "
       ]
      },
      {
       "output_type": "stream",
       "stream": "stdout",
       "text": [
        "623 "
       ]
      },
      {
       "output_type": "stream",
       "stream": "stdout",
       "text": [
        "624 "
       ]
      },
      {
       "output_type": "stream",
       "stream": "stdout",
       "text": [
        "625 "
       ]
      },
      {
       "output_type": "stream",
       "stream": "stdout",
       "text": [
        "626 "
       ]
      },
      {
       "output_type": "stream",
       "stream": "stdout",
       "text": [
        "627 "
       ]
      },
      {
       "output_type": "stream",
       "stream": "stdout",
       "text": [
        "628 "
       ]
      },
      {
       "output_type": "stream",
       "stream": "stdout",
       "text": [
        "629 "
       ]
      },
      {
       "output_type": "stream",
       "stream": "stdout",
       "text": [
        "630 "
       ]
      },
      {
       "output_type": "stream",
       "stream": "stdout",
       "text": [
        "631 "
       ]
      },
      {
       "output_type": "stream",
       "stream": "stdout",
       "text": [
        "632 "
       ]
      },
      {
       "output_type": "stream",
       "stream": "stdout",
       "text": [
        "633 "
       ]
      },
      {
       "output_type": "stream",
       "stream": "stdout",
       "text": [
        "634 "
       ]
      },
      {
       "output_type": "stream",
       "stream": "stdout",
       "text": [
        "635 "
       ]
      },
      {
       "output_type": "stream",
       "stream": "stdout",
       "text": [
        "636 "
       ]
      },
      {
       "output_type": "stream",
       "stream": "stdout",
       "text": [
        "637 "
       ]
      },
      {
       "output_type": "stream",
       "stream": "stdout",
       "text": [
        "638 "
       ]
      },
      {
       "output_type": "stream",
       "stream": "stdout",
       "text": [
        "639 "
       ]
      },
      {
       "output_type": "stream",
       "stream": "stdout",
       "text": [
        "640 "
       ]
      },
      {
       "output_type": "stream",
       "stream": "stdout",
       "text": [
        "641 "
       ]
      },
      {
       "output_type": "stream",
       "stream": "stdout",
       "text": [
        "642 "
       ]
      },
      {
       "output_type": "stream",
       "stream": "stdout",
       "text": [
        "643 "
       ]
      },
      {
       "output_type": "stream",
       "stream": "stdout",
       "text": [
        "644 "
       ]
      },
      {
       "output_type": "stream",
       "stream": "stdout",
       "text": [
        "645 "
       ]
      },
      {
       "output_type": "stream",
       "stream": "stdout",
       "text": [
        "646 "
       ]
      },
      {
       "output_type": "stream",
       "stream": "stdout",
       "text": [
        "647 "
       ]
      },
      {
       "output_type": "stream",
       "stream": "stdout",
       "text": [
        "648 "
       ]
      },
      {
       "output_type": "stream",
       "stream": "stdout",
       "text": [
        "649 "
       ]
      },
      {
       "output_type": "stream",
       "stream": "stdout",
       "text": [
        "650 "
       ]
      },
      {
       "output_type": "stream",
       "stream": "stdout",
       "text": [
        "651 "
       ]
      },
      {
       "output_type": "stream",
       "stream": "stdout",
       "text": [
        "652 "
       ]
      },
      {
       "output_type": "stream",
       "stream": "stdout",
       "text": [
        "653 "
       ]
      },
      {
       "output_type": "stream",
       "stream": "stdout",
       "text": [
        "654 "
       ]
      },
      {
       "output_type": "stream",
       "stream": "stdout",
       "text": [
        "655 "
       ]
      },
      {
       "output_type": "stream",
       "stream": "stdout",
       "text": [
        "656 "
       ]
      },
      {
       "output_type": "stream",
       "stream": "stdout",
       "text": [
        "657 "
       ]
      },
      {
       "output_type": "stream",
       "stream": "stdout",
       "text": [
        "658 "
       ]
      },
      {
       "output_type": "stream",
       "stream": "stdout",
       "text": [
        "659 "
       ]
      },
      {
       "output_type": "stream",
       "stream": "stdout",
       "text": [
        "660 "
       ]
      },
      {
       "output_type": "stream",
       "stream": "stdout",
       "text": [
        "661 "
       ]
      },
      {
       "output_type": "stream",
       "stream": "stdout",
       "text": [
        "662 "
       ]
      },
      {
       "output_type": "stream",
       "stream": "stdout",
       "text": [
        "663 "
       ]
      },
      {
       "output_type": "stream",
       "stream": "stdout",
       "text": [
        "664 "
       ]
      },
      {
       "output_type": "stream",
       "stream": "stdout",
       "text": [
        "665 "
       ]
      },
      {
       "output_type": "stream",
       "stream": "stdout",
       "text": [
        "666 "
       ]
      },
      {
       "output_type": "stream",
       "stream": "stdout",
       "text": [
        "667 "
       ]
      },
      {
       "output_type": "stream",
       "stream": "stdout",
       "text": [
        "668 "
       ]
      },
      {
       "output_type": "stream",
       "stream": "stdout",
       "text": [
        "669 "
       ]
      },
      {
       "output_type": "stream",
       "stream": "stdout",
       "text": [
        "670 "
       ]
      },
      {
       "output_type": "stream",
       "stream": "stdout",
       "text": [
        "671 "
       ]
      },
      {
       "output_type": "stream",
       "stream": "stdout",
       "text": [
        "672 "
       ]
      },
      {
       "output_type": "stream",
       "stream": "stdout",
       "text": [
        "673 "
       ]
      },
      {
       "output_type": "stream",
       "stream": "stdout",
       "text": [
        "674 "
       ]
      },
      {
       "output_type": "stream",
       "stream": "stdout",
       "text": [
        "675 "
       ]
      },
      {
       "output_type": "stream",
       "stream": "stdout",
       "text": [
        "676 "
       ]
      },
      {
       "output_type": "stream",
       "stream": "stdout",
       "text": [
        "677 "
       ]
      },
      {
       "output_type": "stream",
       "stream": "stdout",
       "text": [
        "678 "
       ]
      },
      {
       "output_type": "stream",
       "stream": "stdout",
       "text": [
        "679 "
       ]
      },
      {
       "output_type": "stream",
       "stream": "stdout",
       "text": [
        "680 "
       ]
      },
      {
       "output_type": "stream",
       "stream": "stdout",
       "text": [
        "681 "
       ]
      },
      {
       "output_type": "stream",
       "stream": "stdout",
       "text": [
        "682 "
       ]
      },
      {
       "output_type": "stream",
       "stream": "stdout",
       "text": [
        "683 "
       ]
      },
      {
       "output_type": "stream",
       "stream": "stdout",
       "text": [
        "684 "
       ]
      },
      {
       "output_type": "stream",
       "stream": "stdout",
       "text": [
        "685 "
       ]
      },
      {
       "output_type": "stream",
       "stream": "stdout",
       "text": [
        "686 "
       ]
      },
      {
       "output_type": "stream",
       "stream": "stdout",
       "text": [
        "687 "
       ]
      },
      {
       "output_type": "stream",
       "stream": "stdout",
       "text": [
        "688 "
       ]
      },
      {
       "output_type": "stream",
       "stream": "stdout",
       "text": [
        "689 "
       ]
      },
      {
       "output_type": "stream",
       "stream": "stdout",
       "text": [
        "690 "
       ]
      },
      {
       "output_type": "stream",
       "stream": "stdout",
       "text": [
        "691 "
       ]
      },
      {
       "output_type": "stream",
       "stream": "stdout",
       "text": [
        "692 "
       ]
      },
      {
       "output_type": "stream",
       "stream": "stdout",
       "text": [
        "693 "
       ]
      },
      {
       "output_type": "stream",
       "stream": "stdout",
       "text": [
        "694 "
       ]
      },
      {
       "output_type": "stream",
       "stream": "stdout",
       "text": [
        "695 "
       ]
      },
      {
       "output_type": "stream",
       "stream": "stdout",
       "text": [
        "696 "
       ]
      },
      {
       "output_type": "stream",
       "stream": "stdout",
       "text": [
        "697 "
       ]
      },
      {
       "output_type": "stream",
       "stream": "stdout",
       "text": [
        "698 "
       ]
      },
      {
       "output_type": "stream",
       "stream": "stdout",
       "text": [
        "699 "
       ]
      },
      {
       "output_type": "stream",
       "stream": "stdout",
       "text": [
        "700 "
       ]
      },
      {
       "output_type": "stream",
       "stream": "stdout",
       "text": [
        "701 "
       ]
      },
      {
       "output_type": "stream",
       "stream": "stdout",
       "text": [
        "702 "
       ]
      },
      {
       "output_type": "stream",
       "stream": "stdout",
       "text": [
        "703 "
       ]
      },
      {
       "output_type": "stream",
       "stream": "stdout",
       "text": [
        "704 "
       ]
      },
      {
       "output_type": "stream",
       "stream": "stdout",
       "text": [
        "705 "
       ]
      },
      {
       "output_type": "stream",
       "stream": "stdout",
       "text": [
        "706 "
       ]
      },
      {
       "output_type": "stream",
       "stream": "stdout",
       "text": [
        "707 "
       ]
      },
      {
       "output_type": "stream",
       "stream": "stdout",
       "text": [
        "708 "
       ]
      },
      {
       "output_type": "stream",
       "stream": "stdout",
       "text": [
        "709 "
       ]
      },
      {
       "output_type": "stream",
       "stream": "stdout",
       "text": [
        "710 "
       ]
      },
      {
       "output_type": "stream",
       "stream": "stdout",
       "text": [
        "711 "
       ]
      },
      {
       "output_type": "stream",
       "stream": "stdout",
       "text": [
        "712 "
       ]
      },
      {
       "output_type": "stream",
       "stream": "stdout",
       "text": [
        "713 "
       ]
      },
      {
       "output_type": "stream",
       "stream": "stdout",
       "text": [
        "714 "
       ]
      },
      {
       "output_type": "stream",
       "stream": "stdout",
       "text": [
        "715 "
       ]
      },
      {
       "output_type": "stream",
       "stream": "stdout",
       "text": [
        "716 "
       ]
      },
      {
       "output_type": "stream",
       "stream": "stdout",
       "text": [
        "717 "
       ]
      },
      {
       "output_type": "stream",
       "stream": "stdout",
       "text": [
        "718 "
       ]
      },
      {
       "output_type": "stream",
       "stream": "stdout",
       "text": [
        "719 "
       ]
      },
      {
       "output_type": "stream",
       "stream": "stdout",
       "text": [
        "720 "
       ]
      },
      {
       "output_type": "stream",
       "stream": "stdout",
       "text": [
        "721 "
       ]
      },
      {
       "output_type": "stream",
       "stream": "stdout",
       "text": [
        "722 "
       ]
      },
      {
       "output_type": "stream",
       "stream": "stdout",
       "text": [
        "723 "
       ]
      },
      {
       "output_type": "stream",
       "stream": "stdout",
       "text": [
        "724 "
       ]
      },
      {
       "output_type": "stream",
       "stream": "stdout",
       "text": [
        "725 "
       ]
      },
      {
       "output_type": "stream",
       "stream": "stdout",
       "text": [
        "726 "
       ]
      },
      {
       "output_type": "stream",
       "stream": "stdout",
       "text": [
        "727 "
       ]
      },
      {
       "output_type": "stream",
       "stream": "stdout",
       "text": [
        "728 "
       ]
      },
      {
       "output_type": "stream",
       "stream": "stdout",
       "text": [
        "729 "
       ]
      },
      {
       "output_type": "stream",
       "stream": "stdout",
       "text": [
        "730 "
       ]
      },
      {
       "output_type": "stream",
       "stream": "stdout",
       "text": [
        "731 "
       ]
      },
      {
       "output_type": "stream",
       "stream": "stdout",
       "text": [
        "732 "
       ]
      },
      {
       "output_type": "stream",
       "stream": "stdout",
       "text": [
        "733 "
       ]
      },
      {
       "output_type": "stream",
       "stream": "stdout",
       "text": [
        "734 "
       ]
      },
      {
       "output_type": "stream",
       "stream": "stdout",
       "text": [
        "735 "
       ]
      },
      {
       "output_type": "stream",
       "stream": "stdout",
       "text": [
        "736 "
       ]
      },
      {
       "output_type": "stream",
       "stream": "stdout",
       "text": [
        "737 "
       ]
      },
      {
       "output_type": "stream",
       "stream": "stdout",
       "text": [
        "738 "
       ]
      },
      {
       "output_type": "stream",
       "stream": "stdout",
       "text": [
        "739 "
       ]
      },
      {
       "output_type": "stream",
       "stream": "stdout",
       "text": [
        "740 "
       ]
      },
      {
       "output_type": "stream",
       "stream": "stdout",
       "text": [
        "741 "
       ]
      },
      {
       "output_type": "stream",
       "stream": "stdout",
       "text": [
        "742 "
       ]
      },
      {
       "output_type": "stream",
       "stream": "stdout",
       "text": [
        "743 "
       ]
      },
      {
       "output_type": "stream",
       "stream": "stdout",
       "text": [
        "744 "
       ]
      },
      {
       "output_type": "stream",
       "stream": "stdout",
       "text": [
        "745 "
       ]
      },
      {
       "output_type": "stream",
       "stream": "stdout",
       "text": [
        "746 "
       ]
      },
      {
       "output_type": "stream",
       "stream": "stdout",
       "text": [
        "747 "
       ]
      },
      {
       "output_type": "stream",
       "stream": "stdout",
       "text": [
        "748 "
       ]
      },
      {
       "output_type": "stream",
       "stream": "stdout",
       "text": [
        "749 "
       ]
      },
      {
       "output_type": "stream",
       "stream": "stdout",
       "text": [
        "750 "
       ]
      },
      {
       "output_type": "stream",
       "stream": "stdout",
       "text": [
        "751 "
       ]
      },
      {
       "output_type": "stream",
       "stream": "stdout",
       "text": [
        "752 "
       ]
      },
      {
       "output_type": "stream",
       "stream": "stdout",
       "text": [
        "753 "
       ]
      },
      {
       "output_type": "stream",
       "stream": "stdout",
       "text": [
        "754 "
       ]
      },
      {
       "output_type": "stream",
       "stream": "stdout",
       "text": [
        "755 "
       ]
      },
      {
       "output_type": "stream",
       "stream": "stdout",
       "text": [
        "756 "
       ]
      },
      {
       "output_type": "stream",
       "stream": "stdout",
       "text": [
        "757 "
       ]
      },
      {
       "output_type": "stream",
       "stream": "stdout",
       "text": [
        "758 "
       ]
      },
      {
       "output_type": "stream",
       "stream": "stdout",
       "text": [
        "759 "
       ]
      },
      {
       "output_type": "stream",
       "stream": "stdout",
       "text": [
        "760 "
       ]
      },
      {
       "output_type": "stream",
       "stream": "stdout",
       "text": [
        "761 "
       ]
      },
      {
       "output_type": "stream",
       "stream": "stdout",
       "text": [
        "762 "
       ]
      },
      {
       "output_type": "stream",
       "stream": "stdout",
       "text": [
        "763 "
       ]
      },
      {
       "output_type": "stream",
       "stream": "stdout",
       "text": [
        "764 "
       ]
      },
      {
       "output_type": "stream",
       "stream": "stdout",
       "text": [
        "765 "
       ]
      },
      {
       "output_type": "stream",
       "stream": "stdout",
       "text": [
        "766 "
       ]
      },
      {
       "output_type": "stream",
       "stream": "stdout",
       "text": [
        "767 "
       ]
      },
      {
       "output_type": "stream",
       "stream": "stdout",
       "text": [
        "768 "
       ]
      },
      {
       "output_type": "stream",
       "stream": "stdout",
       "text": [
        "769 "
       ]
      },
      {
       "output_type": "stream",
       "stream": "stdout",
       "text": [
        "770 "
       ]
      },
      {
       "output_type": "stream",
       "stream": "stdout",
       "text": [
        "771 "
       ]
      },
      {
       "output_type": "stream",
       "stream": "stdout",
       "text": [
        "772 "
       ]
      },
      {
       "output_type": "stream",
       "stream": "stdout",
       "text": [
        "773 "
       ]
      },
      {
       "output_type": "stream",
       "stream": "stdout",
       "text": [
        "774 "
       ]
      },
      {
       "output_type": "stream",
       "stream": "stdout",
       "text": [
        "775 "
       ]
      },
      {
       "output_type": "stream",
       "stream": "stdout",
       "text": [
        "776 "
       ]
      },
      {
       "output_type": "stream",
       "stream": "stdout",
       "text": [
        "777 "
       ]
      },
      {
       "output_type": "stream",
       "stream": "stdout",
       "text": [
        "778 "
       ]
      },
      {
       "output_type": "stream",
       "stream": "stdout",
       "text": [
        "779 "
       ]
      },
      {
       "output_type": "stream",
       "stream": "stdout",
       "text": [
        "780 "
       ]
      },
      {
       "output_type": "stream",
       "stream": "stdout",
       "text": [
        "781 "
       ]
      },
      {
       "output_type": "stream",
       "stream": "stdout",
       "text": [
        "782 "
       ]
      },
      {
       "output_type": "stream",
       "stream": "stdout",
       "text": [
        "783 "
       ]
      },
      {
       "output_type": "stream",
       "stream": "stdout",
       "text": [
        "784 "
       ]
      },
      {
       "output_type": "stream",
       "stream": "stdout",
       "text": [
        "785 "
       ]
      },
      {
       "output_type": "stream",
       "stream": "stdout",
       "text": [
        "786 "
       ]
      },
      {
       "output_type": "stream",
       "stream": "stdout",
       "text": [
        "787 "
       ]
      },
      {
       "output_type": "stream",
       "stream": "stdout",
       "text": [
        "788 "
       ]
      },
      {
       "output_type": "stream",
       "stream": "stdout",
       "text": [
        "789 "
       ]
      },
      {
       "output_type": "stream",
       "stream": "stdout",
       "text": [
        "790 "
       ]
      },
      {
       "output_type": "stream",
       "stream": "stdout",
       "text": [
        "791 "
       ]
      },
      {
       "output_type": "stream",
       "stream": "stdout",
       "text": [
        "792 "
       ]
      },
      {
       "output_type": "stream",
       "stream": "stdout",
       "text": [
        "793 "
       ]
      },
      {
       "output_type": "stream",
       "stream": "stdout",
       "text": [
        "794 "
       ]
      },
      {
       "output_type": "stream",
       "stream": "stdout",
       "text": [
        "795 "
       ]
      },
      {
       "output_type": "stream",
       "stream": "stdout",
       "text": [
        "796 "
       ]
      },
      {
       "output_type": "stream",
       "stream": "stdout",
       "text": [
        "797 "
       ]
      },
      {
       "output_type": "stream",
       "stream": "stdout",
       "text": [
        "798 "
       ]
      },
      {
       "output_type": "stream",
       "stream": "stdout",
       "text": [
        "799\n"
       ]
      }
     ],
     "prompt_number": 6
    },
    {
     "cell_type": "code",
     "collapsed": false,
     "input": [
      "clean_sets= []\n",
      "for i in range(800):\n",
      "    print i,\n",
      "    clean_sets.append(gen_data(1000, net, dict(zip(net.node_names, ['normal'] * len(net.nodes)))))"
     ],
     "language": "python",
     "metadata": {},
     "outputs": [
      {
       "output_type": "stream",
       "stream": "stdout",
       "text": [
        "0 "
       ]
      },
      {
       "output_type": "stream",
       "stream": "stdout",
       "text": [
        "1 "
       ]
      },
      {
       "output_type": "stream",
       "stream": "stdout",
       "text": [
        "2 "
       ]
      },
      {
       "output_type": "stream",
       "stream": "stdout",
       "text": [
        "3 "
       ]
      },
      {
       "output_type": "stream",
       "stream": "stdout",
       "text": [
        "4 "
       ]
      },
      {
       "output_type": "stream",
       "stream": "stdout",
       "text": [
        "5 "
       ]
      },
      {
       "output_type": "stream",
       "stream": "stdout",
       "text": [
        "6 "
       ]
      },
      {
       "output_type": "stream",
       "stream": "stdout",
       "text": [
        "7 "
       ]
      },
      {
       "output_type": "stream",
       "stream": "stdout",
       "text": [
        "8 "
       ]
      },
      {
       "output_type": "stream",
       "stream": "stdout",
       "text": [
        "9 "
       ]
      },
      {
       "output_type": "stream",
       "stream": "stdout",
       "text": [
        "10 "
       ]
      },
      {
       "output_type": "stream",
       "stream": "stdout",
       "text": [
        "11 "
       ]
      },
      {
       "output_type": "stream",
       "stream": "stdout",
       "text": [
        "12 "
       ]
      },
      {
       "output_type": "stream",
       "stream": "stdout",
       "text": [
        "13 "
       ]
      },
      {
       "output_type": "stream",
       "stream": "stdout",
       "text": [
        "14 "
       ]
      },
      {
       "output_type": "stream",
       "stream": "stdout",
       "text": [
        "15 "
       ]
      },
      {
       "output_type": "stream",
       "stream": "stdout",
       "text": [
        "16 "
       ]
      },
      {
       "output_type": "stream",
       "stream": "stdout",
       "text": [
        "17 "
       ]
      },
      {
       "output_type": "stream",
       "stream": "stdout",
       "text": [
        "18 "
       ]
      },
      {
       "output_type": "stream",
       "stream": "stdout",
       "text": [
        "19 "
       ]
      },
      {
       "output_type": "stream",
       "stream": "stdout",
       "text": [
        "20 "
       ]
      },
      {
       "output_type": "stream",
       "stream": "stdout",
       "text": [
        "21 "
       ]
      },
      {
       "output_type": "stream",
       "stream": "stdout",
       "text": [
        "22 "
       ]
      },
      {
       "output_type": "stream",
       "stream": "stdout",
       "text": [
        "23 "
       ]
      },
      {
       "output_type": "stream",
       "stream": "stdout",
       "text": [
        "24 "
       ]
      },
      {
       "output_type": "stream",
       "stream": "stdout",
       "text": [
        "25 "
       ]
      },
      {
       "output_type": "stream",
       "stream": "stdout",
       "text": [
        "26 "
       ]
      },
      {
       "output_type": "stream",
       "stream": "stdout",
       "text": [
        "27 "
       ]
      },
      {
       "output_type": "stream",
       "stream": "stdout",
       "text": [
        "28 "
       ]
      },
      {
       "output_type": "stream",
       "stream": "stdout",
       "text": [
        "29 "
       ]
      },
      {
       "output_type": "stream",
       "stream": "stdout",
       "text": [
        "30 "
       ]
      },
      {
       "output_type": "stream",
       "stream": "stdout",
       "text": [
        "31 "
       ]
      },
      {
       "output_type": "stream",
       "stream": "stdout",
       "text": [
        "32 "
       ]
      },
      {
       "output_type": "stream",
       "stream": "stdout",
       "text": [
        "33 "
       ]
      },
      {
       "output_type": "stream",
       "stream": "stdout",
       "text": [
        "34 "
       ]
      },
      {
       "output_type": "stream",
       "stream": "stdout",
       "text": [
        "35 "
       ]
      },
      {
       "output_type": "stream",
       "stream": "stdout",
       "text": [
        "36 "
       ]
      },
      {
       "output_type": "stream",
       "stream": "stdout",
       "text": [
        "37 "
       ]
      },
      {
       "output_type": "stream",
       "stream": "stdout",
       "text": [
        "38 "
       ]
      },
      {
       "output_type": "stream",
       "stream": "stdout",
       "text": [
        "39 "
       ]
      },
      {
       "output_type": "stream",
       "stream": "stdout",
       "text": [
        "40 "
       ]
      },
      {
       "output_type": "stream",
       "stream": "stdout",
       "text": [
        "41 "
       ]
      },
      {
       "output_type": "stream",
       "stream": "stdout",
       "text": [
        "42 "
       ]
      },
      {
       "output_type": "stream",
       "stream": "stdout",
       "text": [
        "43 "
       ]
      },
      {
       "output_type": "stream",
       "stream": "stdout",
       "text": [
        "44 "
       ]
      },
      {
       "output_type": "stream",
       "stream": "stdout",
       "text": [
        "45 "
       ]
      },
      {
       "output_type": "stream",
       "stream": "stdout",
       "text": [
        "46 "
       ]
      },
      {
       "output_type": "stream",
       "stream": "stdout",
       "text": [
        "47 "
       ]
      },
      {
       "output_type": "stream",
       "stream": "stdout",
       "text": [
        "48 "
       ]
      },
      {
       "output_type": "stream",
       "stream": "stdout",
       "text": [
        "49 "
       ]
      },
      {
       "output_type": "stream",
       "stream": "stdout",
       "text": [
        "50 "
       ]
      },
      {
       "output_type": "stream",
       "stream": "stdout",
       "text": [
        "51 "
       ]
      },
      {
       "output_type": "stream",
       "stream": "stdout",
       "text": [
        "52 "
       ]
      },
      {
       "output_type": "stream",
       "stream": "stdout",
       "text": [
        "53 "
       ]
      },
      {
       "output_type": "stream",
       "stream": "stdout",
       "text": [
        "54 "
       ]
      },
      {
       "output_type": "stream",
       "stream": "stdout",
       "text": [
        "55 "
       ]
      },
      {
       "output_type": "stream",
       "stream": "stdout",
       "text": [
        "56 "
       ]
      },
      {
       "output_type": "stream",
       "stream": "stdout",
       "text": [
        "57 "
       ]
      },
      {
       "output_type": "stream",
       "stream": "stdout",
       "text": [
        "58 "
       ]
      },
      {
       "output_type": "stream",
       "stream": "stdout",
       "text": [
        "59 "
       ]
      },
      {
       "output_type": "stream",
       "stream": "stdout",
       "text": [
        "60 "
       ]
      },
      {
       "output_type": "stream",
       "stream": "stdout",
       "text": [
        "61 "
       ]
      },
      {
       "output_type": "stream",
       "stream": "stdout",
       "text": [
        "62 "
       ]
      },
      {
       "output_type": "stream",
       "stream": "stdout",
       "text": [
        "63 "
       ]
      },
      {
       "output_type": "stream",
       "stream": "stdout",
       "text": [
        "64 "
       ]
      },
      {
       "output_type": "stream",
       "stream": "stdout",
       "text": [
        "65 "
       ]
      },
      {
       "output_type": "stream",
       "stream": "stdout",
       "text": [
        "66 "
       ]
      },
      {
       "output_type": "stream",
       "stream": "stdout",
       "text": [
        "67 "
       ]
      },
      {
       "output_type": "stream",
       "stream": "stdout",
       "text": [
        "68 "
       ]
      },
      {
       "output_type": "stream",
       "stream": "stdout",
       "text": [
        "69 "
       ]
      },
      {
       "output_type": "stream",
       "stream": "stdout",
       "text": [
        "70 "
       ]
      },
      {
       "output_type": "stream",
       "stream": "stdout",
       "text": [
        "71 "
       ]
      },
      {
       "output_type": "stream",
       "stream": "stdout",
       "text": [
        "72 "
       ]
      },
      {
       "output_type": "stream",
       "stream": "stdout",
       "text": [
        "73 "
       ]
      },
      {
       "output_type": "stream",
       "stream": "stdout",
       "text": [
        "74 "
       ]
      },
      {
       "output_type": "stream",
       "stream": "stdout",
       "text": [
        "75 "
       ]
      },
      {
       "output_type": "stream",
       "stream": "stdout",
       "text": [
        "76 "
       ]
      },
      {
       "output_type": "stream",
       "stream": "stdout",
       "text": [
        "77 "
       ]
      },
      {
       "output_type": "stream",
       "stream": "stdout",
       "text": [
        "78 "
       ]
      },
      {
       "output_type": "stream",
       "stream": "stdout",
       "text": [
        "79 "
       ]
      },
      {
       "output_type": "stream",
       "stream": "stdout",
       "text": [
        "80 "
       ]
      },
      {
       "output_type": "stream",
       "stream": "stdout",
       "text": [
        "81 "
       ]
      },
      {
       "output_type": "stream",
       "stream": "stdout",
       "text": [
        "82 "
       ]
      },
      {
       "output_type": "stream",
       "stream": "stdout",
       "text": [
        "83 "
       ]
      },
      {
       "output_type": "stream",
       "stream": "stdout",
       "text": [
        "84 "
       ]
      },
      {
       "output_type": "stream",
       "stream": "stdout",
       "text": [
        "85 "
       ]
      },
      {
       "output_type": "stream",
       "stream": "stdout",
       "text": [
        "86 "
       ]
      },
      {
       "output_type": "stream",
       "stream": "stdout",
       "text": [
        "87 "
       ]
      },
      {
       "output_type": "stream",
       "stream": "stdout",
       "text": [
        "88 "
       ]
      },
      {
       "output_type": "stream",
       "stream": "stdout",
       "text": [
        "89 "
       ]
      },
      {
       "output_type": "stream",
       "stream": "stdout",
       "text": [
        "90 "
       ]
      },
      {
       "output_type": "stream",
       "stream": "stdout",
       "text": [
        "91 "
       ]
      },
      {
       "output_type": "stream",
       "stream": "stdout",
       "text": [
        "92 "
       ]
      },
      {
       "output_type": "stream",
       "stream": "stdout",
       "text": [
        "93 "
       ]
      },
      {
       "output_type": "stream",
       "stream": "stdout",
       "text": [
        "94 "
       ]
      },
      {
       "output_type": "stream",
       "stream": "stdout",
       "text": [
        "95 "
       ]
      },
      {
       "output_type": "stream",
       "stream": "stdout",
       "text": [
        "96 "
       ]
      },
      {
       "output_type": "stream",
       "stream": "stdout",
       "text": [
        "97 "
       ]
      },
      {
       "output_type": "stream",
       "stream": "stdout",
       "text": [
        "98 "
       ]
      },
      {
       "output_type": "stream",
       "stream": "stdout",
       "text": [
        "99 "
       ]
      },
      {
       "output_type": "stream",
       "stream": "stdout",
       "text": [
        "100 "
       ]
      },
      {
       "output_type": "stream",
       "stream": "stdout",
       "text": [
        "101 "
       ]
      },
      {
       "output_type": "stream",
       "stream": "stdout",
       "text": [
        "102 "
       ]
      },
      {
       "output_type": "stream",
       "stream": "stdout",
       "text": [
        "103 "
       ]
      },
      {
       "output_type": "stream",
       "stream": "stdout",
       "text": [
        "104 "
       ]
      },
      {
       "output_type": "stream",
       "stream": "stdout",
       "text": [
        "105 "
       ]
      },
      {
       "output_type": "stream",
       "stream": "stdout",
       "text": [
        "106 "
       ]
      },
      {
       "output_type": "stream",
       "stream": "stdout",
       "text": [
        "107 "
       ]
      },
      {
       "output_type": "stream",
       "stream": "stdout",
       "text": [
        "108 "
       ]
      },
      {
       "output_type": "stream",
       "stream": "stdout",
       "text": [
        "109 "
       ]
      },
      {
       "output_type": "stream",
       "stream": "stdout",
       "text": [
        "110 "
       ]
      },
      {
       "output_type": "stream",
       "stream": "stdout",
       "text": [
        "111 "
       ]
      },
      {
       "output_type": "stream",
       "stream": "stdout",
       "text": [
        "112 "
       ]
      },
      {
       "output_type": "stream",
       "stream": "stdout",
       "text": [
        "113 "
       ]
      },
      {
       "output_type": "stream",
       "stream": "stdout",
       "text": [
        "114 "
       ]
      },
      {
       "output_type": "stream",
       "stream": "stdout",
       "text": [
        "115 "
       ]
      },
      {
       "output_type": "stream",
       "stream": "stdout",
       "text": [
        "116 "
       ]
      },
      {
       "output_type": "stream",
       "stream": "stdout",
       "text": [
        "117 "
       ]
      },
      {
       "output_type": "stream",
       "stream": "stdout",
       "text": [
        "118 "
       ]
      },
      {
       "output_type": "stream",
       "stream": "stdout",
       "text": [
        "119 "
       ]
      },
      {
       "output_type": "stream",
       "stream": "stdout",
       "text": [
        "120 "
       ]
      },
      {
       "output_type": "stream",
       "stream": "stdout",
       "text": [
        "121 "
       ]
      },
      {
       "output_type": "stream",
       "stream": "stdout",
       "text": [
        "122 "
       ]
      },
      {
       "output_type": "stream",
       "stream": "stdout",
       "text": [
        "123 "
       ]
      },
      {
       "output_type": "stream",
       "stream": "stdout",
       "text": [
        "124 "
       ]
      },
      {
       "output_type": "stream",
       "stream": "stdout",
       "text": [
        "125 "
       ]
      },
      {
       "output_type": "stream",
       "stream": "stdout",
       "text": [
        "126 "
       ]
      },
      {
       "output_type": "stream",
       "stream": "stdout",
       "text": [
        "127 "
       ]
      },
      {
       "output_type": "stream",
       "stream": "stdout",
       "text": [
        "128 "
       ]
      },
      {
       "output_type": "stream",
       "stream": "stdout",
       "text": [
        "129 "
       ]
      },
      {
       "output_type": "stream",
       "stream": "stdout",
       "text": [
        "130 "
       ]
      },
      {
       "output_type": "stream",
       "stream": "stdout",
       "text": [
        "131 "
       ]
      },
      {
       "output_type": "stream",
       "stream": "stdout",
       "text": [
        "132 "
       ]
      },
      {
       "output_type": "stream",
       "stream": "stdout",
       "text": [
        "133 "
       ]
      },
      {
       "output_type": "stream",
       "stream": "stdout",
       "text": [
        "134 "
       ]
      },
      {
       "output_type": "stream",
       "stream": "stdout",
       "text": [
        "135 "
       ]
      },
      {
       "output_type": "stream",
       "stream": "stdout",
       "text": [
        "136 "
       ]
      },
      {
       "output_type": "stream",
       "stream": "stdout",
       "text": [
        "137 "
       ]
      },
      {
       "output_type": "stream",
       "stream": "stdout",
       "text": [
        "138 "
       ]
      },
      {
       "output_type": "stream",
       "stream": "stdout",
       "text": [
        "139 "
       ]
      },
      {
       "output_type": "stream",
       "stream": "stdout",
       "text": [
        "140 "
       ]
      },
      {
       "output_type": "stream",
       "stream": "stdout",
       "text": [
        "141 "
       ]
      },
      {
       "output_type": "stream",
       "stream": "stdout",
       "text": [
        "142 "
       ]
      },
      {
       "output_type": "stream",
       "stream": "stdout",
       "text": [
        "143 "
       ]
      },
      {
       "output_type": "stream",
       "stream": "stdout",
       "text": [
        "144 "
       ]
      },
      {
       "output_type": "stream",
       "stream": "stdout",
       "text": [
        "145 "
       ]
      },
      {
       "output_type": "stream",
       "stream": "stdout",
       "text": [
        "146 "
       ]
      },
      {
       "output_type": "stream",
       "stream": "stdout",
       "text": [
        "147 "
       ]
      },
      {
       "output_type": "stream",
       "stream": "stdout",
       "text": [
        "148 "
       ]
      },
      {
       "output_type": "stream",
       "stream": "stdout",
       "text": [
        "149 "
       ]
      },
      {
       "output_type": "stream",
       "stream": "stdout",
       "text": [
        "150 "
       ]
      },
      {
       "output_type": "stream",
       "stream": "stdout",
       "text": [
        "151 "
       ]
      },
      {
       "output_type": "stream",
       "stream": "stdout",
       "text": [
        "152 "
       ]
      },
      {
       "output_type": "stream",
       "stream": "stdout",
       "text": [
        "153 "
       ]
      },
      {
       "output_type": "stream",
       "stream": "stdout",
       "text": [
        "154 "
       ]
      },
      {
       "output_type": "stream",
       "stream": "stdout",
       "text": [
        "155 "
       ]
      },
      {
       "output_type": "stream",
       "stream": "stdout",
       "text": [
        "156 "
       ]
      },
      {
       "output_type": "stream",
       "stream": "stdout",
       "text": [
        "157 "
       ]
      },
      {
       "output_type": "stream",
       "stream": "stdout",
       "text": [
        "158 "
       ]
      },
      {
       "output_type": "stream",
       "stream": "stdout",
       "text": [
        "159 "
       ]
      },
      {
       "output_type": "stream",
       "stream": "stdout",
       "text": [
        "160 "
       ]
      },
      {
       "output_type": "stream",
       "stream": "stdout",
       "text": [
        "161 "
       ]
      },
      {
       "output_type": "stream",
       "stream": "stdout",
       "text": [
        "162 "
       ]
      },
      {
       "output_type": "stream",
       "stream": "stdout",
       "text": [
        "163 "
       ]
      },
      {
       "output_type": "stream",
       "stream": "stdout",
       "text": [
        "164 "
       ]
      },
      {
       "output_type": "stream",
       "stream": "stdout",
       "text": [
        "165 "
       ]
      },
      {
       "output_type": "stream",
       "stream": "stdout",
       "text": [
        "166 "
       ]
      },
      {
       "output_type": "stream",
       "stream": "stdout",
       "text": [
        "167 "
       ]
      },
      {
       "output_type": "stream",
       "stream": "stdout",
       "text": [
        "168 "
       ]
      },
      {
       "output_type": "stream",
       "stream": "stdout",
       "text": [
        "169 "
       ]
      },
      {
       "output_type": "stream",
       "stream": "stdout",
       "text": [
        "170 "
       ]
      },
      {
       "output_type": "stream",
       "stream": "stdout",
       "text": [
        "171 "
       ]
      },
      {
       "output_type": "stream",
       "stream": "stdout",
       "text": [
        "172 "
       ]
      },
      {
       "output_type": "stream",
       "stream": "stdout",
       "text": [
        "173 "
       ]
      },
      {
       "output_type": "stream",
       "stream": "stdout",
       "text": [
        "174 "
       ]
      },
      {
       "output_type": "stream",
       "stream": "stdout",
       "text": [
        "175 "
       ]
      },
      {
       "output_type": "stream",
       "stream": "stdout",
       "text": [
        "176 "
       ]
      },
      {
       "output_type": "stream",
       "stream": "stdout",
       "text": [
        "177 "
       ]
      },
      {
       "output_type": "stream",
       "stream": "stdout",
       "text": [
        "178 "
       ]
      },
      {
       "output_type": "stream",
       "stream": "stdout",
       "text": [
        "179 "
       ]
      },
      {
       "output_type": "stream",
       "stream": "stdout",
       "text": [
        "180 "
       ]
      },
      {
       "output_type": "stream",
       "stream": "stdout",
       "text": [
        "181 "
       ]
      },
      {
       "output_type": "stream",
       "stream": "stdout",
       "text": [
        "182 "
       ]
      },
      {
       "output_type": "stream",
       "stream": "stdout",
       "text": [
        "183 "
       ]
      },
      {
       "output_type": "stream",
       "stream": "stdout",
       "text": [
        "184 "
       ]
      },
      {
       "output_type": "stream",
       "stream": "stdout",
       "text": [
        "185 "
       ]
      },
      {
       "output_type": "stream",
       "stream": "stdout",
       "text": [
        "186 "
       ]
      },
      {
       "output_type": "stream",
       "stream": "stdout",
       "text": [
        "187 "
       ]
      },
      {
       "output_type": "stream",
       "stream": "stdout",
       "text": [
        "188 "
       ]
      },
      {
       "output_type": "stream",
       "stream": "stdout",
       "text": [
        "189 "
       ]
      },
      {
       "output_type": "stream",
       "stream": "stdout",
       "text": [
        "190 "
       ]
      },
      {
       "output_type": "stream",
       "stream": "stdout",
       "text": [
        "191 "
       ]
      },
      {
       "output_type": "stream",
       "stream": "stdout",
       "text": [
        "192 "
       ]
      },
      {
       "output_type": "stream",
       "stream": "stdout",
       "text": [
        "193 "
       ]
      },
      {
       "output_type": "stream",
       "stream": "stdout",
       "text": [
        "194 "
       ]
      },
      {
       "output_type": "stream",
       "stream": "stdout",
       "text": [
        "195 "
       ]
      },
      {
       "output_type": "stream",
       "stream": "stdout",
       "text": [
        "196 "
       ]
      },
      {
       "output_type": "stream",
       "stream": "stdout",
       "text": [
        "197 "
       ]
      },
      {
       "output_type": "stream",
       "stream": "stdout",
       "text": [
        "198 "
       ]
      },
      {
       "output_type": "stream",
       "stream": "stdout",
       "text": [
        "199 "
       ]
      },
      {
       "output_type": "stream",
       "stream": "stdout",
       "text": [
        "200 "
       ]
      },
      {
       "output_type": "stream",
       "stream": "stdout",
       "text": [
        "201 "
       ]
      },
      {
       "output_type": "stream",
       "stream": "stdout",
       "text": [
        "202 "
       ]
      },
      {
       "output_type": "stream",
       "stream": "stdout",
       "text": [
        "203 "
       ]
      },
      {
       "output_type": "stream",
       "stream": "stdout",
       "text": [
        "204 "
       ]
      },
      {
       "output_type": "stream",
       "stream": "stdout",
       "text": [
        "205 "
       ]
      },
      {
       "output_type": "stream",
       "stream": "stdout",
       "text": [
        "206 "
       ]
      },
      {
       "output_type": "stream",
       "stream": "stdout",
       "text": [
        "207 "
       ]
      },
      {
       "output_type": "stream",
       "stream": "stdout",
       "text": [
        "208 "
       ]
      },
      {
       "output_type": "stream",
       "stream": "stdout",
       "text": [
        "209 "
       ]
      },
      {
       "output_type": "stream",
       "stream": "stdout",
       "text": [
        "210 "
       ]
      },
      {
       "output_type": "stream",
       "stream": "stdout",
       "text": [
        "211 "
       ]
      },
      {
       "output_type": "stream",
       "stream": "stdout",
       "text": [
        "212 "
       ]
      },
      {
       "output_type": "stream",
       "stream": "stdout",
       "text": [
        "213 "
       ]
      },
      {
       "output_type": "stream",
       "stream": "stdout",
       "text": [
        "214 "
       ]
      },
      {
       "output_type": "stream",
       "stream": "stdout",
       "text": [
        "215 "
       ]
      },
      {
       "output_type": "stream",
       "stream": "stdout",
       "text": [
        "216 "
       ]
      },
      {
       "output_type": "stream",
       "stream": "stdout",
       "text": [
        "217 "
       ]
      },
      {
       "output_type": "stream",
       "stream": "stdout",
       "text": [
        "218 "
       ]
      },
      {
       "output_type": "stream",
       "stream": "stdout",
       "text": [
        "219 "
       ]
      },
      {
       "output_type": "stream",
       "stream": "stdout",
       "text": [
        "220 "
       ]
      },
      {
       "output_type": "stream",
       "stream": "stdout",
       "text": [
        "221 "
       ]
      },
      {
       "output_type": "stream",
       "stream": "stdout",
       "text": [
        "222 "
       ]
      },
      {
       "output_type": "stream",
       "stream": "stdout",
       "text": [
        "223 "
       ]
      },
      {
       "output_type": "stream",
       "stream": "stdout",
       "text": [
        "224 "
       ]
      },
      {
       "output_type": "stream",
       "stream": "stdout",
       "text": [
        "225 "
       ]
      },
      {
       "output_type": "stream",
       "stream": "stdout",
       "text": [
        "226 "
       ]
      },
      {
       "output_type": "stream",
       "stream": "stdout",
       "text": [
        "227 "
       ]
      },
      {
       "output_type": "stream",
       "stream": "stdout",
       "text": [
        "228 "
       ]
      },
      {
       "output_type": "stream",
       "stream": "stdout",
       "text": [
        "229 "
       ]
      },
      {
       "output_type": "stream",
       "stream": "stdout",
       "text": [
        "230 "
       ]
      },
      {
       "output_type": "stream",
       "stream": "stdout",
       "text": [
        "231 "
       ]
      },
      {
       "output_type": "stream",
       "stream": "stdout",
       "text": [
        "232 "
       ]
      },
      {
       "output_type": "stream",
       "stream": "stdout",
       "text": [
        "233 "
       ]
      },
      {
       "output_type": "stream",
       "stream": "stdout",
       "text": [
        "234 "
       ]
      },
      {
       "output_type": "stream",
       "stream": "stdout",
       "text": [
        "235 "
       ]
      },
      {
       "output_type": "stream",
       "stream": "stdout",
       "text": [
        "236 "
       ]
      },
      {
       "output_type": "stream",
       "stream": "stdout",
       "text": [
        "237 "
       ]
      },
      {
       "output_type": "stream",
       "stream": "stdout",
       "text": [
        "238 "
       ]
      },
      {
       "output_type": "stream",
       "stream": "stdout",
       "text": [
        "239 "
       ]
      },
      {
       "output_type": "stream",
       "stream": "stdout",
       "text": [
        "240 "
       ]
      },
      {
       "output_type": "stream",
       "stream": "stdout",
       "text": [
        "241 "
       ]
      },
      {
       "output_type": "stream",
       "stream": "stdout",
       "text": [
        "242 "
       ]
      },
      {
       "output_type": "stream",
       "stream": "stdout",
       "text": [
        "243 "
       ]
      },
      {
       "output_type": "stream",
       "stream": "stdout",
       "text": [
        "244 "
       ]
      },
      {
       "output_type": "stream",
       "stream": "stdout",
       "text": [
        "245 "
       ]
      },
      {
       "output_type": "stream",
       "stream": "stdout",
       "text": [
        "246 "
       ]
      },
      {
       "output_type": "stream",
       "stream": "stdout",
       "text": [
        "247 "
       ]
      },
      {
       "output_type": "stream",
       "stream": "stdout",
       "text": [
        "248 "
       ]
      },
      {
       "output_type": "stream",
       "stream": "stdout",
       "text": [
        "249 "
       ]
      },
      {
       "output_type": "stream",
       "stream": "stdout",
       "text": [
        "250 "
       ]
      },
      {
       "output_type": "stream",
       "stream": "stdout",
       "text": [
        "251 "
       ]
      },
      {
       "output_type": "stream",
       "stream": "stdout",
       "text": [
        "252 "
       ]
      },
      {
       "output_type": "stream",
       "stream": "stdout",
       "text": [
        "253 "
       ]
      },
      {
       "output_type": "stream",
       "stream": "stdout",
       "text": [
        "254 "
       ]
      },
      {
       "output_type": "stream",
       "stream": "stdout",
       "text": [
        "255 "
       ]
      },
      {
       "output_type": "stream",
       "stream": "stdout",
       "text": [
        "256 "
       ]
      },
      {
       "output_type": "stream",
       "stream": "stdout",
       "text": [
        "257 "
       ]
      },
      {
       "output_type": "stream",
       "stream": "stdout",
       "text": [
        "258 "
       ]
      },
      {
       "output_type": "stream",
       "stream": "stdout",
       "text": [
        "259 "
       ]
      },
      {
       "output_type": "stream",
       "stream": "stdout",
       "text": [
        "260 "
       ]
      },
      {
       "output_type": "stream",
       "stream": "stdout",
       "text": [
        "261 "
       ]
      },
      {
       "output_type": "stream",
       "stream": "stdout",
       "text": [
        "262 "
       ]
      },
      {
       "output_type": "stream",
       "stream": "stdout",
       "text": [
        "263 "
       ]
      },
      {
       "output_type": "stream",
       "stream": "stdout",
       "text": [
        "264 "
       ]
      },
      {
       "output_type": "stream",
       "stream": "stdout",
       "text": [
        "265 "
       ]
      },
      {
       "output_type": "stream",
       "stream": "stdout",
       "text": [
        "266 "
       ]
      },
      {
       "output_type": "stream",
       "stream": "stdout",
       "text": [
        "267 "
       ]
      },
      {
       "output_type": "stream",
       "stream": "stdout",
       "text": [
        "268 "
       ]
      },
      {
       "output_type": "stream",
       "stream": "stdout",
       "text": [
        "269 "
       ]
      },
      {
       "output_type": "stream",
       "stream": "stdout",
       "text": [
        "270 "
       ]
      },
      {
       "output_type": "stream",
       "stream": "stdout",
       "text": [
        "271 "
       ]
      },
      {
       "output_type": "stream",
       "stream": "stdout",
       "text": [
        "272 "
       ]
      },
      {
       "output_type": "stream",
       "stream": "stdout",
       "text": [
        "273 "
       ]
      },
      {
       "output_type": "stream",
       "stream": "stdout",
       "text": [
        "274 "
       ]
      },
      {
       "output_type": "stream",
       "stream": "stdout",
       "text": [
        "275 "
       ]
      },
      {
       "output_type": "stream",
       "stream": "stdout",
       "text": [
        "276 "
       ]
      },
      {
       "output_type": "stream",
       "stream": "stdout",
       "text": [
        "277 "
       ]
      },
      {
       "output_type": "stream",
       "stream": "stdout",
       "text": [
        "278 "
       ]
      },
      {
       "output_type": "stream",
       "stream": "stdout",
       "text": [
        "279 "
       ]
      },
      {
       "output_type": "stream",
       "stream": "stdout",
       "text": [
        "280 "
       ]
      },
      {
       "output_type": "stream",
       "stream": "stdout",
       "text": [
        "281 "
       ]
      },
      {
       "output_type": "stream",
       "stream": "stdout",
       "text": [
        "282 "
       ]
      },
      {
       "output_type": "stream",
       "stream": "stdout",
       "text": [
        "283 "
       ]
      },
      {
       "output_type": "stream",
       "stream": "stdout",
       "text": [
        "284 "
       ]
      },
      {
       "output_type": "stream",
       "stream": "stdout",
       "text": [
        "285 "
       ]
      },
      {
       "output_type": "stream",
       "stream": "stdout",
       "text": [
        "286 "
       ]
      },
      {
       "output_type": "stream",
       "stream": "stdout",
       "text": [
        "287 "
       ]
      },
      {
       "output_type": "stream",
       "stream": "stdout",
       "text": [
        "288 "
       ]
      },
      {
       "output_type": "stream",
       "stream": "stdout",
       "text": [
        "289 "
       ]
      },
      {
       "output_type": "stream",
       "stream": "stdout",
       "text": [
        "290 "
       ]
      },
      {
       "output_type": "stream",
       "stream": "stdout",
       "text": [
        "291 "
       ]
      },
      {
       "output_type": "stream",
       "stream": "stdout",
       "text": [
        "292 "
       ]
      },
      {
       "output_type": "stream",
       "stream": "stdout",
       "text": [
        "293 "
       ]
      },
      {
       "output_type": "stream",
       "stream": "stdout",
       "text": [
        "294 "
       ]
      },
      {
       "output_type": "stream",
       "stream": "stdout",
       "text": [
        "295 "
       ]
      },
      {
       "output_type": "stream",
       "stream": "stdout",
       "text": [
        "296 "
       ]
      },
      {
       "output_type": "stream",
       "stream": "stdout",
       "text": [
        "297 "
       ]
      },
      {
       "output_type": "stream",
       "stream": "stdout",
       "text": [
        "298 "
       ]
      },
      {
       "output_type": "stream",
       "stream": "stdout",
       "text": [
        "299 "
       ]
      },
      {
       "output_type": "stream",
       "stream": "stdout",
       "text": [
        "300 "
       ]
      },
      {
       "output_type": "stream",
       "stream": "stdout",
       "text": [
        "301 "
       ]
      },
      {
       "output_type": "stream",
       "stream": "stdout",
       "text": [
        "302 "
       ]
      },
      {
       "output_type": "stream",
       "stream": "stdout",
       "text": [
        "303 "
       ]
      },
      {
       "output_type": "stream",
       "stream": "stdout",
       "text": [
        "304 "
       ]
      },
      {
       "output_type": "stream",
       "stream": "stdout",
       "text": [
        "305 "
       ]
      },
      {
       "output_type": "stream",
       "stream": "stdout",
       "text": [
        "306 "
       ]
      },
      {
       "output_type": "stream",
       "stream": "stdout",
       "text": [
        "307 "
       ]
      },
      {
       "output_type": "stream",
       "stream": "stdout",
       "text": [
        "308 "
       ]
      },
      {
       "output_type": "stream",
       "stream": "stdout",
       "text": [
        "309 "
       ]
      },
      {
       "output_type": "stream",
       "stream": "stdout",
       "text": [
        "310 "
       ]
      },
      {
       "output_type": "stream",
       "stream": "stdout",
       "text": [
        "311 "
       ]
      },
      {
       "output_type": "stream",
       "stream": "stdout",
       "text": [
        "312 "
       ]
      },
      {
       "output_type": "stream",
       "stream": "stdout",
       "text": [
        "313 "
       ]
      },
      {
       "output_type": "stream",
       "stream": "stdout",
       "text": [
        "314 "
       ]
      },
      {
       "output_type": "stream",
       "stream": "stdout",
       "text": [
        "315 "
       ]
      },
      {
       "output_type": "stream",
       "stream": "stdout",
       "text": [
        "316 "
       ]
      },
      {
       "output_type": "stream",
       "stream": "stdout",
       "text": [
        "317 "
       ]
      },
      {
       "output_type": "stream",
       "stream": "stdout",
       "text": [
        "318 "
       ]
      },
      {
       "output_type": "stream",
       "stream": "stdout",
       "text": [
        "319 "
       ]
      },
      {
       "output_type": "stream",
       "stream": "stdout",
       "text": [
        "320 "
       ]
      },
      {
       "output_type": "stream",
       "stream": "stdout",
       "text": [
        "321 "
       ]
      },
      {
       "output_type": "stream",
       "stream": "stdout",
       "text": [
        "322 "
       ]
      },
      {
       "output_type": "stream",
       "stream": "stdout",
       "text": [
        "323 "
       ]
      },
      {
       "output_type": "stream",
       "stream": "stdout",
       "text": [
        "324 "
       ]
      },
      {
       "output_type": "stream",
       "stream": "stdout",
       "text": [
        "325 "
       ]
      },
      {
       "output_type": "stream",
       "stream": "stdout",
       "text": [
        "326 "
       ]
      },
      {
       "output_type": "stream",
       "stream": "stdout",
       "text": [
        "327 "
       ]
      },
      {
       "output_type": "stream",
       "stream": "stdout",
       "text": [
        "328 "
       ]
      },
      {
       "output_type": "stream",
       "stream": "stdout",
       "text": [
        "329 "
       ]
      },
      {
       "output_type": "stream",
       "stream": "stdout",
       "text": [
        "330 "
       ]
      },
      {
       "output_type": "stream",
       "stream": "stdout",
       "text": [
        "331 "
       ]
      },
      {
       "output_type": "stream",
       "stream": "stdout",
       "text": [
        "332 "
       ]
      },
      {
       "output_type": "stream",
       "stream": "stdout",
       "text": [
        "333 "
       ]
      },
      {
       "output_type": "stream",
       "stream": "stdout",
       "text": [
        "334 "
       ]
      },
      {
       "output_type": "stream",
       "stream": "stdout",
       "text": [
        "335 "
       ]
      },
      {
       "output_type": "stream",
       "stream": "stdout",
       "text": [
        "336 "
       ]
      },
      {
       "output_type": "stream",
       "stream": "stdout",
       "text": [
        "337 "
       ]
      },
      {
       "output_type": "stream",
       "stream": "stdout",
       "text": [
        "338 "
       ]
      },
      {
       "output_type": "stream",
       "stream": "stdout",
       "text": [
        "339 "
       ]
      },
      {
       "output_type": "stream",
       "stream": "stdout",
       "text": [
        "340 "
       ]
      },
      {
       "output_type": "stream",
       "stream": "stdout",
       "text": [
        "341 "
       ]
      },
      {
       "output_type": "stream",
       "stream": "stdout",
       "text": [
        "342 "
       ]
      },
      {
       "output_type": "stream",
       "stream": "stdout",
       "text": [
        "343 "
       ]
      },
      {
       "output_type": "stream",
       "stream": "stdout",
       "text": [
        "344 "
       ]
      },
      {
       "output_type": "stream",
       "stream": "stdout",
       "text": [
        "345 "
       ]
      },
      {
       "output_type": "stream",
       "stream": "stdout",
       "text": [
        "346 "
       ]
      },
      {
       "output_type": "stream",
       "stream": "stdout",
       "text": [
        "347 "
       ]
      },
      {
       "output_type": "stream",
       "stream": "stdout",
       "text": [
        "348 "
       ]
      },
      {
       "output_type": "stream",
       "stream": "stdout",
       "text": [
        "349 "
       ]
      },
      {
       "output_type": "stream",
       "stream": "stdout",
       "text": [
        "350 "
       ]
      },
      {
       "output_type": "stream",
       "stream": "stdout",
       "text": [
        "351 "
       ]
      },
      {
       "output_type": "stream",
       "stream": "stdout",
       "text": [
        "352 "
       ]
      },
      {
       "output_type": "stream",
       "stream": "stdout",
       "text": [
        "353 "
       ]
      },
      {
       "output_type": "stream",
       "stream": "stdout",
       "text": [
        "354 "
       ]
      },
      {
       "output_type": "stream",
       "stream": "stdout",
       "text": [
        "355 "
       ]
      },
      {
       "output_type": "stream",
       "stream": "stdout",
       "text": [
        "356 "
       ]
      },
      {
       "output_type": "stream",
       "stream": "stdout",
       "text": [
        "357 "
       ]
      },
      {
       "output_type": "stream",
       "stream": "stdout",
       "text": [
        "358 "
       ]
      },
      {
       "output_type": "stream",
       "stream": "stdout",
       "text": [
        "359 "
       ]
      },
      {
       "output_type": "stream",
       "stream": "stdout",
       "text": [
        "360 "
       ]
      },
      {
       "output_type": "stream",
       "stream": "stdout",
       "text": [
        "361 "
       ]
      },
      {
       "output_type": "stream",
       "stream": "stdout",
       "text": [
        "362 "
       ]
      },
      {
       "output_type": "stream",
       "stream": "stdout",
       "text": [
        "363 "
       ]
      },
      {
       "output_type": "stream",
       "stream": "stdout",
       "text": [
        "364 "
       ]
      },
      {
       "output_type": "stream",
       "stream": "stdout",
       "text": [
        "365 "
       ]
      },
      {
       "output_type": "stream",
       "stream": "stdout",
       "text": [
        "366 "
       ]
      },
      {
       "output_type": "stream",
       "stream": "stdout",
       "text": [
        "367 "
       ]
      },
      {
       "output_type": "stream",
       "stream": "stdout",
       "text": [
        "368 "
       ]
      },
      {
       "output_type": "stream",
       "stream": "stdout",
       "text": [
        "369 "
       ]
      },
      {
       "output_type": "stream",
       "stream": "stdout",
       "text": [
        "370 "
       ]
      },
      {
       "output_type": "stream",
       "stream": "stdout",
       "text": [
        "371 "
       ]
      },
      {
       "output_type": "stream",
       "stream": "stdout",
       "text": [
        "372 "
       ]
      },
      {
       "output_type": "stream",
       "stream": "stdout",
       "text": [
        "373 "
       ]
      },
      {
       "output_type": "stream",
       "stream": "stdout",
       "text": [
        "374 "
       ]
      },
      {
       "output_type": "stream",
       "stream": "stdout",
       "text": [
        "375 "
       ]
      },
      {
       "output_type": "stream",
       "stream": "stdout",
       "text": [
        "376 "
       ]
      },
      {
       "output_type": "stream",
       "stream": "stdout",
       "text": [
        "377 "
       ]
      },
      {
       "output_type": "stream",
       "stream": "stdout",
       "text": [
        "378 "
       ]
      },
      {
       "output_type": "stream",
       "stream": "stdout",
       "text": [
        "379 "
       ]
      },
      {
       "output_type": "stream",
       "stream": "stdout",
       "text": [
        "380 "
       ]
      },
      {
       "output_type": "stream",
       "stream": "stdout",
       "text": [
        "381 "
       ]
      },
      {
       "output_type": "stream",
       "stream": "stdout",
       "text": [
        "382 "
       ]
      },
      {
       "output_type": "stream",
       "stream": "stdout",
       "text": [
        "383 "
       ]
      },
      {
       "output_type": "stream",
       "stream": "stdout",
       "text": [
        "384 "
       ]
      },
      {
       "output_type": "stream",
       "stream": "stdout",
       "text": [
        "385 "
       ]
      },
      {
       "output_type": "stream",
       "stream": "stdout",
       "text": [
        "386 "
       ]
      },
      {
       "output_type": "stream",
       "stream": "stdout",
       "text": [
        "387 "
       ]
      },
      {
       "output_type": "stream",
       "stream": "stdout",
       "text": [
        "388 "
       ]
      },
      {
       "output_type": "stream",
       "stream": "stdout",
       "text": [
        "389 "
       ]
      },
      {
       "output_type": "stream",
       "stream": "stdout",
       "text": [
        "390 "
       ]
      },
      {
       "output_type": "stream",
       "stream": "stdout",
       "text": [
        "391 "
       ]
      },
      {
       "output_type": "stream",
       "stream": "stdout",
       "text": [
        "392 "
       ]
      },
      {
       "output_type": "stream",
       "stream": "stdout",
       "text": [
        "393 "
       ]
      },
      {
       "output_type": "stream",
       "stream": "stdout",
       "text": [
        "394 "
       ]
      },
      {
       "output_type": "stream",
       "stream": "stdout",
       "text": [
        "395 "
       ]
      },
      {
       "output_type": "stream",
       "stream": "stdout",
       "text": [
        "396 "
       ]
      },
      {
       "output_type": "stream",
       "stream": "stdout",
       "text": [
        "397 "
       ]
      },
      {
       "output_type": "stream",
       "stream": "stdout",
       "text": [
        "398 "
       ]
      },
      {
       "output_type": "stream",
       "stream": "stdout",
       "text": [
        "399 "
       ]
      },
      {
       "output_type": "stream",
       "stream": "stdout",
       "text": [
        "400 "
       ]
      },
      {
       "output_type": "stream",
       "stream": "stdout",
       "text": [
        "401 "
       ]
      },
      {
       "output_type": "stream",
       "stream": "stdout",
       "text": [
        "402 "
       ]
      },
      {
       "output_type": "stream",
       "stream": "stdout",
       "text": [
        "403 "
       ]
      },
      {
       "output_type": "stream",
       "stream": "stdout",
       "text": [
        "404 "
       ]
      },
      {
       "output_type": "stream",
       "stream": "stdout",
       "text": [
        "405 "
       ]
      },
      {
       "output_type": "stream",
       "stream": "stdout",
       "text": [
        "406 "
       ]
      },
      {
       "output_type": "stream",
       "stream": "stdout",
       "text": [
        "407 "
       ]
      },
      {
       "output_type": "stream",
       "stream": "stdout",
       "text": [
        "408 "
       ]
      },
      {
       "output_type": "stream",
       "stream": "stdout",
       "text": [
        "409 "
       ]
      },
      {
       "output_type": "stream",
       "stream": "stdout",
       "text": [
        "410 "
       ]
      },
      {
       "output_type": "stream",
       "stream": "stdout",
       "text": [
        "411 "
       ]
      },
      {
       "output_type": "stream",
       "stream": "stdout",
       "text": [
        "412 "
       ]
      },
      {
       "output_type": "stream",
       "stream": "stdout",
       "text": [
        "413 "
       ]
      },
      {
       "output_type": "stream",
       "stream": "stdout",
       "text": [
        "414 "
       ]
      },
      {
       "output_type": "stream",
       "stream": "stdout",
       "text": [
        "415 "
       ]
      },
      {
       "output_type": "stream",
       "stream": "stdout",
       "text": [
        "416 "
       ]
      },
      {
       "output_type": "stream",
       "stream": "stdout",
       "text": [
        "417 "
       ]
      },
      {
       "output_type": "stream",
       "stream": "stdout",
       "text": [
        "418 "
       ]
      },
      {
       "output_type": "stream",
       "stream": "stdout",
       "text": [
        "419 "
       ]
      },
      {
       "output_type": "stream",
       "stream": "stdout",
       "text": [
        "420 "
       ]
      },
      {
       "output_type": "stream",
       "stream": "stdout",
       "text": [
        "421 "
       ]
      },
      {
       "output_type": "stream",
       "stream": "stdout",
       "text": [
        "422 "
       ]
      },
      {
       "output_type": "stream",
       "stream": "stdout",
       "text": [
        "423 "
       ]
      },
      {
       "output_type": "stream",
       "stream": "stdout",
       "text": [
        "424 "
       ]
      },
      {
       "output_type": "stream",
       "stream": "stdout",
       "text": [
        "425 "
       ]
      },
      {
       "output_type": "stream",
       "stream": "stdout",
       "text": [
        "426 "
       ]
      },
      {
       "output_type": "stream",
       "stream": "stdout",
       "text": [
        "427 "
       ]
      },
      {
       "output_type": "stream",
       "stream": "stdout",
       "text": [
        "428 "
       ]
      },
      {
       "output_type": "stream",
       "stream": "stdout",
       "text": [
        "429 "
       ]
      },
      {
       "output_type": "stream",
       "stream": "stdout",
       "text": [
        "430 "
       ]
      },
      {
       "output_type": "stream",
       "stream": "stdout",
       "text": [
        "431 "
       ]
      },
      {
       "output_type": "stream",
       "stream": "stdout",
       "text": [
        "432 "
       ]
      },
      {
       "output_type": "stream",
       "stream": "stdout",
       "text": [
        "433 "
       ]
      },
      {
       "output_type": "stream",
       "stream": "stdout",
       "text": [
        "434 "
       ]
      },
      {
       "output_type": "stream",
       "stream": "stdout",
       "text": [
        "435 "
       ]
      },
      {
       "output_type": "stream",
       "stream": "stdout",
       "text": [
        "436 "
       ]
      },
      {
       "output_type": "stream",
       "stream": "stdout",
       "text": [
        "437 "
       ]
      },
      {
       "output_type": "stream",
       "stream": "stdout",
       "text": [
        "438 "
       ]
      },
      {
       "output_type": "stream",
       "stream": "stdout",
       "text": [
        "439 "
       ]
      },
      {
       "output_type": "stream",
       "stream": "stdout",
       "text": [
        "440 "
       ]
      },
      {
       "output_type": "stream",
       "stream": "stdout",
       "text": [
        "441 "
       ]
      },
      {
       "output_type": "stream",
       "stream": "stdout",
       "text": [
        "442 "
       ]
      },
      {
       "output_type": "stream",
       "stream": "stdout",
       "text": [
        "443 "
       ]
      },
      {
       "output_type": "stream",
       "stream": "stdout",
       "text": [
        "444 "
       ]
      },
      {
       "output_type": "stream",
       "stream": "stdout",
       "text": [
        "445 "
       ]
      },
      {
       "output_type": "stream",
       "stream": "stdout",
       "text": [
        "446 "
       ]
      },
      {
       "output_type": "stream",
       "stream": "stdout",
       "text": [
        "447 "
       ]
      },
      {
       "output_type": "stream",
       "stream": "stdout",
       "text": [
        "448 "
       ]
      },
      {
       "output_type": "stream",
       "stream": "stdout",
       "text": [
        "449 "
       ]
      },
      {
       "output_type": "stream",
       "stream": "stdout",
       "text": [
        "450 "
       ]
      },
      {
       "output_type": "stream",
       "stream": "stdout",
       "text": [
        "451 "
       ]
      },
      {
       "output_type": "stream",
       "stream": "stdout",
       "text": [
        "452 "
       ]
      },
      {
       "output_type": "stream",
       "stream": "stdout",
       "text": [
        "453 "
       ]
      },
      {
       "output_type": "stream",
       "stream": "stdout",
       "text": [
        "454 "
       ]
      },
      {
       "output_type": "stream",
       "stream": "stdout",
       "text": [
        "455 "
       ]
      },
      {
       "output_type": "stream",
       "stream": "stdout",
       "text": [
        "456 "
       ]
      },
      {
       "output_type": "stream",
       "stream": "stdout",
       "text": [
        "457 "
       ]
      },
      {
       "output_type": "stream",
       "stream": "stdout",
       "text": [
        "458 "
       ]
      },
      {
       "output_type": "stream",
       "stream": "stdout",
       "text": [
        "459 "
       ]
      },
      {
       "output_type": "stream",
       "stream": "stdout",
       "text": [
        "460 "
       ]
      },
      {
       "output_type": "stream",
       "stream": "stdout",
       "text": [
        "461 "
       ]
      },
      {
       "output_type": "stream",
       "stream": "stdout",
       "text": [
        "462 "
       ]
      },
      {
       "output_type": "stream",
       "stream": "stdout",
       "text": [
        "463 "
       ]
      },
      {
       "output_type": "stream",
       "stream": "stdout",
       "text": [
        "464 "
       ]
      },
      {
       "output_type": "stream",
       "stream": "stdout",
       "text": [
        "465 "
       ]
      },
      {
       "output_type": "stream",
       "stream": "stdout",
       "text": [
        "466 "
       ]
      },
      {
       "output_type": "stream",
       "stream": "stdout",
       "text": [
        "467 "
       ]
      },
      {
       "output_type": "stream",
       "stream": "stdout",
       "text": [
        "468 "
       ]
      },
      {
       "output_type": "stream",
       "stream": "stdout",
       "text": [
        "469 "
       ]
      },
      {
       "output_type": "stream",
       "stream": "stdout",
       "text": [
        "470 "
       ]
      },
      {
       "output_type": "stream",
       "stream": "stdout",
       "text": [
        "471 "
       ]
      },
      {
       "output_type": "stream",
       "stream": "stdout",
       "text": [
        "472 "
       ]
      },
      {
       "output_type": "stream",
       "stream": "stdout",
       "text": [
        "473 "
       ]
      },
      {
       "output_type": "stream",
       "stream": "stdout",
       "text": [
        "474 "
       ]
      },
      {
       "output_type": "stream",
       "stream": "stdout",
       "text": [
        "475 "
       ]
      },
      {
       "output_type": "stream",
       "stream": "stdout",
       "text": [
        "476 "
       ]
      },
      {
       "output_type": "stream",
       "stream": "stdout",
       "text": [
        "477 "
       ]
      },
      {
       "output_type": "stream",
       "stream": "stdout",
       "text": [
        "478 "
       ]
      },
      {
       "output_type": "stream",
       "stream": "stdout",
       "text": [
        "479 "
       ]
      },
      {
       "output_type": "stream",
       "stream": "stdout",
       "text": [
        "480 "
       ]
      },
      {
       "output_type": "stream",
       "stream": "stdout",
       "text": [
        "481 "
       ]
      },
      {
       "output_type": "stream",
       "stream": "stdout",
       "text": [
        "482 "
       ]
      },
      {
       "output_type": "stream",
       "stream": "stdout",
       "text": [
        "483 "
       ]
      },
      {
       "output_type": "stream",
       "stream": "stdout",
       "text": [
        "484 "
       ]
      },
      {
       "output_type": "stream",
       "stream": "stdout",
       "text": [
        "485 "
       ]
      },
      {
       "output_type": "stream",
       "stream": "stdout",
       "text": [
        "486 "
       ]
      },
      {
       "output_type": "stream",
       "stream": "stdout",
       "text": [
        "487 "
       ]
      },
      {
       "output_type": "stream",
       "stream": "stdout",
       "text": [
        "488 "
       ]
      },
      {
       "output_type": "stream",
       "stream": "stdout",
       "text": [
        "489 "
       ]
      },
      {
       "output_type": "stream",
       "stream": "stdout",
       "text": [
        "490 "
       ]
      },
      {
       "output_type": "stream",
       "stream": "stdout",
       "text": [
        "491 "
       ]
      },
      {
       "output_type": "stream",
       "stream": "stdout",
       "text": [
        "492 "
       ]
      },
      {
       "output_type": "stream",
       "stream": "stdout",
       "text": [
        "493 "
       ]
      },
      {
       "output_type": "stream",
       "stream": "stdout",
       "text": [
        "494 "
       ]
      },
      {
       "output_type": "stream",
       "stream": "stdout",
       "text": [
        "495 "
       ]
      },
      {
       "output_type": "stream",
       "stream": "stdout",
       "text": [
        "496 "
       ]
      },
      {
       "output_type": "stream",
       "stream": "stdout",
       "text": [
        "497 "
       ]
      },
      {
       "output_type": "stream",
       "stream": "stdout",
       "text": [
        "498 "
       ]
      },
      {
       "output_type": "stream",
       "stream": "stdout",
       "text": [
        "499 "
       ]
      },
      {
       "output_type": "stream",
       "stream": "stdout",
       "text": [
        "500 "
       ]
      },
      {
       "output_type": "stream",
       "stream": "stdout",
       "text": [
        "501 "
       ]
      },
      {
       "output_type": "stream",
       "stream": "stdout",
       "text": [
        "502 "
       ]
      },
      {
       "output_type": "stream",
       "stream": "stdout",
       "text": [
        "503 "
       ]
      },
      {
       "output_type": "stream",
       "stream": "stdout",
       "text": [
        "504 "
       ]
      },
      {
       "output_type": "stream",
       "stream": "stdout",
       "text": [
        "505 "
       ]
      },
      {
       "output_type": "stream",
       "stream": "stdout",
       "text": [
        "506 "
       ]
      },
      {
       "output_type": "stream",
       "stream": "stdout",
       "text": [
        "507 "
       ]
      },
      {
       "output_type": "stream",
       "stream": "stdout",
       "text": [
        "508 "
       ]
      },
      {
       "output_type": "stream",
       "stream": "stdout",
       "text": [
        "509 "
       ]
      },
      {
       "output_type": "stream",
       "stream": "stdout",
       "text": [
        "510 "
       ]
      },
      {
       "output_type": "stream",
       "stream": "stdout",
       "text": [
        "511 "
       ]
      },
      {
       "output_type": "stream",
       "stream": "stdout",
       "text": [
        "512 "
       ]
      },
      {
       "output_type": "stream",
       "stream": "stdout",
       "text": [
        "513 "
       ]
      },
      {
       "output_type": "stream",
       "stream": "stdout",
       "text": [
        "514 "
       ]
      },
      {
       "output_type": "stream",
       "stream": "stdout",
       "text": [
        "515 "
       ]
      },
      {
       "output_type": "stream",
       "stream": "stdout",
       "text": [
        "516 "
       ]
      },
      {
       "output_type": "stream",
       "stream": "stdout",
       "text": [
        "517 "
       ]
      },
      {
       "output_type": "stream",
       "stream": "stdout",
       "text": [
        "518 "
       ]
      },
      {
       "output_type": "stream",
       "stream": "stdout",
       "text": [
        "519 "
       ]
      },
      {
       "output_type": "stream",
       "stream": "stdout",
       "text": [
        "520 "
       ]
      },
      {
       "output_type": "stream",
       "stream": "stdout",
       "text": [
        "521 "
       ]
      },
      {
       "output_type": "stream",
       "stream": "stdout",
       "text": [
        "522 "
       ]
      },
      {
       "output_type": "stream",
       "stream": "stdout",
       "text": [
        "523 "
       ]
      },
      {
       "output_type": "stream",
       "stream": "stdout",
       "text": [
        "524 "
       ]
      },
      {
       "output_type": "stream",
       "stream": "stdout",
       "text": [
        "525 "
       ]
      },
      {
       "output_type": "stream",
       "stream": "stdout",
       "text": [
        "526 "
       ]
      },
      {
       "output_type": "stream",
       "stream": "stdout",
       "text": [
        "527 "
       ]
      },
      {
       "output_type": "stream",
       "stream": "stdout",
       "text": [
        "528 "
       ]
      },
      {
       "output_type": "stream",
       "stream": "stdout",
       "text": [
        "529 "
       ]
      },
      {
       "output_type": "stream",
       "stream": "stdout",
       "text": [
        "530 "
       ]
      },
      {
       "output_type": "stream",
       "stream": "stdout",
       "text": [
        "531 "
       ]
      },
      {
       "output_type": "stream",
       "stream": "stdout",
       "text": [
        "532 "
       ]
      },
      {
       "output_type": "stream",
       "stream": "stdout",
       "text": [
        "533 "
       ]
      },
      {
       "output_type": "stream",
       "stream": "stdout",
       "text": [
        "534 "
       ]
      },
      {
       "output_type": "stream",
       "stream": "stdout",
       "text": [
        "535 "
       ]
      },
      {
       "output_type": "stream",
       "stream": "stdout",
       "text": [
        "536 "
       ]
      },
      {
       "output_type": "stream",
       "stream": "stdout",
       "text": [
        "537 "
       ]
      },
      {
       "output_type": "stream",
       "stream": "stdout",
       "text": [
        "538 "
       ]
      },
      {
       "output_type": "stream",
       "stream": "stdout",
       "text": [
        "539 "
       ]
      },
      {
       "output_type": "stream",
       "stream": "stdout",
       "text": [
        "540 "
       ]
      },
      {
       "output_type": "stream",
       "stream": "stdout",
       "text": [
        "541 "
       ]
      },
      {
       "output_type": "stream",
       "stream": "stdout",
       "text": [
        "542 "
       ]
      },
      {
       "output_type": "stream",
       "stream": "stdout",
       "text": [
        "543 "
       ]
      },
      {
       "output_type": "stream",
       "stream": "stdout",
       "text": [
        "544 "
       ]
      },
      {
       "output_type": "stream",
       "stream": "stdout",
       "text": [
        "545 "
       ]
      },
      {
       "output_type": "stream",
       "stream": "stdout",
       "text": [
        "546 "
       ]
      },
      {
       "output_type": "stream",
       "stream": "stdout",
       "text": [
        "547 "
       ]
      },
      {
       "output_type": "stream",
       "stream": "stdout",
       "text": [
        "548 "
       ]
      },
      {
       "output_type": "stream",
       "stream": "stdout",
       "text": [
        "549 "
       ]
      },
      {
       "output_type": "stream",
       "stream": "stdout",
       "text": [
        "550 "
       ]
      },
      {
       "output_type": "stream",
       "stream": "stdout",
       "text": [
        "551 "
       ]
      },
      {
       "output_type": "stream",
       "stream": "stdout",
       "text": [
        "552 "
       ]
      },
      {
       "output_type": "stream",
       "stream": "stdout",
       "text": [
        "553 "
       ]
      },
      {
       "output_type": "stream",
       "stream": "stdout",
       "text": [
        "554 "
       ]
      },
      {
       "output_type": "stream",
       "stream": "stdout",
       "text": [
        "555 "
       ]
      },
      {
       "output_type": "stream",
       "stream": "stdout",
       "text": [
        "556 "
       ]
      },
      {
       "output_type": "stream",
       "stream": "stdout",
       "text": [
        "557 "
       ]
      },
      {
       "output_type": "stream",
       "stream": "stdout",
       "text": [
        "558 "
       ]
      },
      {
       "output_type": "stream",
       "stream": "stdout",
       "text": [
        "559 "
       ]
      },
      {
       "output_type": "stream",
       "stream": "stdout",
       "text": [
        "560 "
       ]
      },
      {
       "output_type": "stream",
       "stream": "stdout",
       "text": [
        "561 "
       ]
      },
      {
       "output_type": "stream",
       "stream": "stdout",
       "text": [
        "562 "
       ]
      },
      {
       "output_type": "stream",
       "stream": "stdout",
       "text": [
        "563 "
       ]
      },
      {
       "output_type": "stream",
       "stream": "stdout",
       "text": [
        "564 "
       ]
      },
      {
       "output_type": "stream",
       "stream": "stdout",
       "text": [
        "565 "
       ]
      },
      {
       "output_type": "stream",
       "stream": "stdout",
       "text": [
        "566 "
       ]
      },
      {
       "output_type": "stream",
       "stream": "stdout",
       "text": [
        "567 "
       ]
      },
      {
       "output_type": "stream",
       "stream": "stdout",
       "text": [
        "568 "
       ]
      },
      {
       "output_type": "stream",
       "stream": "stdout",
       "text": [
        "569 "
       ]
      },
      {
       "output_type": "stream",
       "stream": "stdout",
       "text": [
        "570 "
       ]
      },
      {
       "output_type": "stream",
       "stream": "stdout",
       "text": [
        "571 "
       ]
      },
      {
       "output_type": "stream",
       "stream": "stdout",
       "text": [
        "572 "
       ]
      },
      {
       "output_type": "stream",
       "stream": "stdout",
       "text": [
        "573 "
       ]
      },
      {
       "output_type": "stream",
       "stream": "stdout",
       "text": [
        "574 "
       ]
      },
      {
       "output_type": "stream",
       "stream": "stdout",
       "text": [
        "575 "
       ]
      },
      {
       "output_type": "stream",
       "stream": "stdout",
       "text": [
        "576 "
       ]
      },
      {
       "output_type": "stream",
       "stream": "stdout",
       "text": [
        "577 "
       ]
      },
      {
       "output_type": "stream",
       "stream": "stdout",
       "text": [
        "578 "
       ]
      },
      {
       "output_type": "stream",
       "stream": "stdout",
       "text": [
        "579 "
       ]
      },
      {
       "output_type": "stream",
       "stream": "stdout",
       "text": [
        "580 "
       ]
      },
      {
       "output_type": "stream",
       "stream": "stdout",
       "text": [
        "581 "
       ]
      },
      {
       "output_type": "stream",
       "stream": "stdout",
       "text": [
        "582 "
       ]
      },
      {
       "output_type": "stream",
       "stream": "stdout",
       "text": [
        "583 "
       ]
      },
      {
       "output_type": "stream",
       "stream": "stdout",
       "text": [
        "584 "
       ]
      },
      {
       "output_type": "stream",
       "stream": "stdout",
       "text": [
        "585 "
       ]
      },
      {
       "output_type": "stream",
       "stream": "stdout",
       "text": [
        "586 "
       ]
      },
      {
       "output_type": "stream",
       "stream": "stdout",
       "text": [
        "587 "
       ]
      },
      {
       "output_type": "stream",
       "stream": "stdout",
       "text": [
        "588 "
       ]
      },
      {
       "output_type": "stream",
       "stream": "stdout",
       "text": [
        "589 "
       ]
      },
      {
       "output_type": "stream",
       "stream": "stdout",
       "text": [
        "590 "
       ]
      },
      {
       "output_type": "stream",
       "stream": "stdout",
       "text": [
        "591 "
       ]
      },
      {
       "output_type": "stream",
       "stream": "stdout",
       "text": [
        "592 "
       ]
      },
      {
       "output_type": "stream",
       "stream": "stdout",
       "text": [
        "593 "
       ]
      },
      {
       "output_type": "stream",
       "stream": "stdout",
       "text": [
        "594 "
       ]
      },
      {
       "output_type": "stream",
       "stream": "stdout",
       "text": [
        "595 "
       ]
      },
      {
       "output_type": "stream",
       "stream": "stdout",
       "text": [
        "596 "
       ]
      },
      {
       "output_type": "stream",
       "stream": "stdout",
       "text": [
        "597 "
       ]
      },
      {
       "output_type": "stream",
       "stream": "stdout",
       "text": [
        "598 "
       ]
      },
      {
       "output_type": "stream",
       "stream": "stdout",
       "text": [
        "599 "
       ]
      },
      {
       "output_type": "stream",
       "stream": "stdout",
       "text": [
        "600 "
       ]
      },
      {
       "output_type": "stream",
       "stream": "stdout",
       "text": [
        "601 "
       ]
      },
      {
       "output_type": "stream",
       "stream": "stdout",
       "text": [
        "602 "
       ]
      },
      {
       "output_type": "stream",
       "stream": "stdout",
       "text": [
        "603 "
       ]
      },
      {
       "output_type": "stream",
       "stream": "stdout",
       "text": [
        "604 "
       ]
      },
      {
       "output_type": "stream",
       "stream": "stdout",
       "text": [
        "605 "
       ]
      },
      {
       "output_type": "stream",
       "stream": "stdout",
       "text": [
        "606 "
       ]
      },
      {
       "output_type": "stream",
       "stream": "stdout",
       "text": [
        "607 "
       ]
      },
      {
       "output_type": "stream",
       "stream": "stdout",
       "text": [
        "608 "
       ]
      },
      {
       "output_type": "stream",
       "stream": "stdout",
       "text": [
        "609 "
       ]
      },
      {
       "output_type": "stream",
       "stream": "stdout",
       "text": [
        "610 "
       ]
      },
      {
       "output_type": "stream",
       "stream": "stdout",
       "text": [
        "611 "
       ]
      },
      {
       "output_type": "stream",
       "stream": "stdout",
       "text": [
        "612 "
       ]
      },
      {
       "output_type": "stream",
       "stream": "stdout",
       "text": [
        "613 "
       ]
      },
      {
       "output_type": "stream",
       "stream": "stdout",
       "text": [
        "614 "
       ]
      },
      {
       "output_type": "stream",
       "stream": "stdout",
       "text": [
        "615 "
       ]
      },
      {
       "output_type": "stream",
       "stream": "stdout",
       "text": [
        "616 "
       ]
      },
      {
       "output_type": "stream",
       "stream": "stdout",
       "text": [
        "617 "
       ]
      },
      {
       "output_type": "stream",
       "stream": "stdout",
       "text": [
        "618 "
       ]
      },
      {
       "output_type": "stream",
       "stream": "stdout",
       "text": [
        "619 "
       ]
      },
      {
       "output_type": "stream",
       "stream": "stdout",
       "text": [
        "620 "
       ]
      },
      {
       "output_type": "stream",
       "stream": "stdout",
       "text": [
        "621 "
       ]
      },
      {
       "output_type": "stream",
       "stream": "stdout",
       "text": [
        "622 "
       ]
      },
      {
       "output_type": "stream",
       "stream": "stdout",
       "text": [
        "623 "
       ]
      },
      {
       "output_type": "stream",
       "stream": "stdout",
       "text": [
        "624 "
       ]
      },
      {
       "output_type": "stream",
       "stream": "stdout",
       "text": [
        "625 "
       ]
      },
      {
       "output_type": "stream",
       "stream": "stdout",
       "text": [
        "626 "
       ]
      },
      {
       "output_type": "stream",
       "stream": "stdout",
       "text": [
        "627 "
       ]
      },
      {
       "output_type": "stream",
       "stream": "stdout",
       "text": [
        "628 "
       ]
      },
      {
       "output_type": "stream",
       "stream": "stdout",
       "text": [
        "629 "
       ]
      },
      {
       "output_type": "stream",
       "stream": "stdout",
       "text": [
        "630 "
       ]
      },
      {
       "output_type": "stream",
       "stream": "stdout",
       "text": [
        "631 "
       ]
      },
      {
       "output_type": "stream",
       "stream": "stdout",
       "text": [
        "632 "
       ]
      },
      {
       "output_type": "stream",
       "stream": "stdout",
       "text": [
        "633 "
       ]
      },
      {
       "output_type": "stream",
       "stream": "stdout",
       "text": [
        "634 "
       ]
      },
      {
       "output_type": "stream",
       "stream": "stdout",
       "text": [
        "635 "
       ]
      },
      {
       "output_type": "stream",
       "stream": "stdout",
       "text": [
        "636 "
       ]
      },
      {
       "output_type": "stream",
       "stream": "stdout",
       "text": [
        "637 "
       ]
      },
      {
       "output_type": "stream",
       "stream": "stdout",
       "text": [
        "638 "
       ]
      },
      {
       "output_type": "stream",
       "stream": "stdout",
       "text": [
        "639 "
       ]
      },
      {
       "output_type": "stream",
       "stream": "stdout",
       "text": [
        "640 "
       ]
      },
      {
       "output_type": "stream",
       "stream": "stdout",
       "text": [
        "641 "
       ]
      },
      {
       "output_type": "stream",
       "stream": "stdout",
       "text": [
        "642 "
       ]
      },
      {
       "output_type": "stream",
       "stream": "stdout",
       "text": [
        "643 "
       ]
      },
      {
       "output_type": "stream",
       "stream": "stdout",
       "text": [
        "644 "
       ]
      },
      {
       "output_type": "stream",
       "stream": "stdout",
       "text": [
        "645 "
       ]
      },
      {
       "output_type": "stream",
       "stream": "stdout",
       "text": [
        "646 "
       ]
      },
      {
       "output_type": "stream",
       "stream": "stdout",
       "text": [
        "647 "
       ]
      },
      {
       "output_type": "stream",
       "stream": "stdout",
       "text": [
        "648 "
       ]
      },
      {
       "output_type": "stream",
       "stream": "stdout",
       "text": [
        "649 "
       ]
      },
      {
       "output_type": "stream",
       "stream": "stdout",
       "text": [
        "650 "
       ]
      },
      {
       "output_type": "stream",
       "stream": "stdout",
       "text": [
        "651 "
       ]
      },
      {
       "output_type": "stream",
       "stream": "stdout",
       "text": [
        "652 "
       ]
      },
      {
       "output_type": "stream",
       "stream": "stdout",
       "text": [
        "653 "
       ]
      },
      {
       "output_type": "stream",
       "stream": "stdout",
       "text": [
        "654 "
       ]
      },
      {
       "output_type": "stream",
       "stream": "stdout",
       "text": [
        "655 "
       ]
      },
      {
       "output_type": "stream",
       "stream": "stdout",
       "text": [
        "656 "
       ]
      },
      {
       "output_type": "stream",
       "stream": "stdout",
       "text": [
        "657 "
       ]
      },
      {
       "output_type": "stream",
       "stream": "stdout",
       "text": [
        "658 "
       ]
      },
      {
       "output_type": "stream",
       "stream": "stdout",
       "text": [
        "659 "
       ]
      },
      {
       "output_type": "stream",
       "stream": "stdout",
       "text": [
        "660 "
       ]
      },
      {
       "output_type": "stream",
       "stream": "stdout",
       "text": [
        "661 "
       ]
      },
      {
       "output_type": "stream",
       "stream": "stdout",
       "text": [
        "662 "
       ]
      },
      {
       "output_type": "stream",
       "stream": "stdout",
       "text": [
        "663 "
       ]
      },
      {
       "output_type": "stream",
       "stream": "stdout",
       "text": [
        "664 "
       ]
      },
      {
       "output_type": "stream",
       "stream": "stdout",
       "text": [
        "665 "
       ]
      },
      {
       "output_type": "stream",
       "stream": "stdout",
       "text": [
        "666 "
       ]
      },
      {
       "output_type": "stream",
       "stream": "stdout",
       "text": [
        "667 "
       ]
      },
      {
       "output_type": "stream",
       "stream": "stdout",
       "text": [
        "668 "
       ]
      },
      {
       "output_type": "stream",
       "stream": "stdout",
       "text": [
        "669 "
       ]
      },
      {
       "output_type": "stream",
       "stream": "stdout",
       "text": [
        "670 "
       ]
      },
      {
       "output_type": "stream",
       "stream": "stdout",
       "text": [
        "671 "
       ]
      },
      {
       "output_type": "stream",
       "stream": "stdout",
       "text": [
        "672 "
       ]
      },
      {
       "output_type": "stream",
       "stream": "stdout",
       "text": [
        "673 "
       ]
      },
      {
       "output_type": "stream",
       "stream": "stdout",
       "text": [
        "674 "
       ]
      },
      {
       "output_type": "stream",
       "stream": "stdout",
       "text": [
        "675 "
       ]
      },
      {
       "output_type": "stream",
       "stream": "stdout",
       "text": [
        "676 "
       ]
      },
      {
       "output_type": "stream",
       "stream": "stdout",
       "text": [
        "677 "
       ]
      },
      {
       "output_type": "stream",
       "stream": "stdout",
       "text": [
        "678 "
       ]
      },
      {
       "output_type": "stream",
       "stream": "stdout",
       "text": [
        "679 "
       ]
      },
      {
       "output_type": "stream",
       "stream": "stdout",
       "text": [
        "680 "
       ]
      },
      {
       "output_type": "stream",
       "stream": "stdout",
       "text": [
        "681 "
       ]
      },
      {
       "output_type": "stream",
       "stream": "stdout",
       "text": [
        "682 "
       ]
      },
      {
       "output_type": "stream",
       "stream": "stdout",
       "text": [
        "683 "
       ]
      },
      {
       "output_type": "stream",
       "stream": "stdout",
       "text": [
        "684 "
       ]
      },
      {
       "output_type": "stream",
       "stream": "stdout",
       "text": [
        "685 "
       ]
      },
      {
       "output_type": "stream",
       "stream": "stdout",
       "text": [
        "686 "
       ]
      },
      {
       "output_type": "stream",
       "stream": "stdout",
       "text": [
        "687 "
       ]
      },
      {
       "output_type": "stream",
       "stream": "stdout",
       "text": [
        "688 "
       ]
      },
      {
       "output_type": "stream",
       "stream": "stdout",
       "text": [
        "689 "
       ]
      },
      {
       "output_type": "stream",
       "stream": "stdout",
       "text": [
        "690 "
       ]
      },
      {
       "output_type": "stream",
       "stream": "stdout",
       "text": [
        "691 "
       ]
      },
      {
       "output_type": "stream",
       "stream": "stdout",
       "text": [
        "692 "
       ]
      },
      {
       "output_type": "stream",
       "stream": "stdout",
       "text": [
        "693 "
       ]
      },
      {
       "output_type": "stream",
       "stream": "stdout",
       "text": [
        "694 "
       ]
      },
      {
       "output_type": "stream",
       "stream": "stdout",
       "text": [
        "695 "
       ]
      },
      {
       "output_type": "stream",
       "stream": "stdout",
       "text": [
        "696 "
       ]
      },
      {
       "output_type": "stream",
       "stream": "stdout",
       "text": [
        "697 "
       ]
      },
      {
       "output_type": "stream",
       "stream": "stdout",
       "text": [
        "698 "
       ]
      },
      {
       "output_type": "stream",
       "stream": "stdout",
       "text": [
        "699 "
       ]
      },
      {
       "output_type": "stream",
       "stream": "stdout",
       "text": [
        "700 "
       ]
      },
      {
       "output_type": "stream",
       "stream": "stdout",
       "text": [
        "701 "
       ]
      },
      {
       "output_type": "stream",
       "stream": "stdout",
       "text": [
        "702 "
       ]
      },
      {
       "output_type": "stream",
       "stream": "stdout",
       "text": [
        "703 "
       ]
      },
      {
       "output_type": "stream",
       "stream": "stdout",
       "text": [
        "704 "
       ]
      },
      {
       "output_type": "stream",
       "stream": "stdout",
       "text": [
        "705 "
       ]
      },
      {
       "output_type": "stream",
       "stream": "stdout",
       "text": [
        "706 "
       ]
      },
      {
       "output_type": "stream",
       "stream": "stdout",
       "text": [
        "707 "
       ]
      },
      {
       "output_type": "stream",
       "stream": "stdout",
       "text": [
        "708 "
       ]
      },
      {
       "output_type": "stream",
       "stream": "stdout",
       "text": [
        "709 "
       ]
      },
      {
       "output_type": "stream",
       "stream": "stdout",
       "text": [
        "710 "
       ]
      },
      {
       "output_type": "stream",
       "stream": "stdout",
       "text": [
        "711 "
       ]
      },
      {
       "output_type": "stream",
       "stream": "stdout",
       "text": [
        "712 "
       ]
      },
      {
       "output_type": "stream",
       "stream": "stdout",
       "text": [
        "713 "
       ]
      },
      {
       "output_type": "stream",
       "stream": "stdout",
       "text": [
        "714 "
       ]
      },
      {
       "output_type": "stream",
       "stream": "stdout",
       "text": [
        "715 "
       ]
      },
      {
       "output_type": "stream",
       "stream": "stdout",
       "text": [
        "716 "
       ]
      },
      {
       "output_type": "stream",
       "stream": "stdout",
       "text": [
        "717 "
       ]
      },
      {
       "output_type": "stream",
       "stream": "stdout",
       "text": [
        "718 "
       ]
      },
      {
       "output_type": "stream",
       "stream": "stdout",
       "text": [
        "719 "
       ]
      },
      {
       "output_type": "stream",
       "stream": "stdout",
       "text": [
        "720 "
       ]
      },
      {
       "output_type": "stream",
       "stream": "stdout",
       "text": [
        "721 "
       ]
      },
      {
       "output_type": "stream",
       "stream": "stdout",
       "text": [
        "722 "
       ]
      },
      {
       "output_type": "stream",
       "stream": "stdout",
       "text": [
        "723 "
       ]
      },
      {
       "output_type": "stream",
       "stream": "stdout",
       "text": [
        "724 "
       ]
      },
      {
       "output_type": "stream",
       "stream": "stdout",
       "text": [
        "725 "
       ]
      },
      {
       "output_type": "stream",
       "stream": "stdout",
       "text": [
        "726 "
       ]
      },
      {
       "output_type": "stream",
       "stream": "stdout",
       "text": [
        "727 "
       ]
      },
      {
       "output_type": "stream",
       "stream": "stdout",
       "text": [
        "728 "
       ]
      },
      {
       "output_type": "stream",
       "stream": "stdout",
       "text": [
        "729 "
       ]
      },
      {
       "output_type": "stream",
       "stream": "stdout",
       "text": [
        "730 "
       ]
      },
      {
       "output_type": "stream",
       "stream": "stdout",
       "text": [
        "731 "
       ]
      },
      {
       "output_type": "stream",
       "stream": "stdout",
       "text": [
        "732 "
       ]
      },
      {
       "output_type": "stream",
       "stream": "stdout",
       "text": [
        "733 "
       ]
      },
      {
       "output_type": "stream",
       "stream": "stdout",
       "text": [
        "734 "
       ]
      },
      {
       "output_type": "stream",
       "stream": "stdout",
       "text": [
        "735 "
       ]
      },
      {
       "output_type": "stream",
       "stream": "stdout",
       "text": [
        "736 "
       ]
      },
      {
       "output_type": "stream",
       "stream": "stdout",
       "text": [
        "737 "
       ]
      },
      {
       "output_type": "stream",
       "stream": "stdout",
       "text": [
        "738 "
       ]
      },
      {
       "output_type": "stream",
       "stream": "stdout",
       "text": [
        "739 "
       ]
      },
      {
       "output_type": "stream",
       "stream": "stdout",
       "text": [
        "740 "
       ]
      },
      {
       "output_type": "stream",
       "stream": "stdout",
       "text": [
        "741 "
       ]
      },
      {
       "output_type": "stream",
       "stream": "stdout",
       "text": [
        "742 "
       ]
      },
      {
       "output_type": "stream",
       "stream": "stdout",
       "text": [
        "743 "
       ]
      },
      {
       "output_type": "stream",
       "stream": "stdout",
       "text": [
        "744 "
       ]
      },
      {
       "output_type": "stream",
       "stream": "stdout",
       "text": [
        "745 "
       ]
      },
      {
       "output_type": "stream",
       "stream": "stdout",
       "text": [
        "746 "
       ]
      },
      {
       "output_type": "stream",
       "stream": "stdout",
       "text": [
        "747 "
       ]
      },
      {
       "output_type": "stream",
       "stream": "stdout",
       "text": [
        "748 "
       ]
      },
      {
       "output_type": "stream",
       "stream": "stdout",
       "text": [
        "749 "
       ]
      },
      {
       "output_type": "stream",
       "stream": "stdout",
       "text": [
        "750 "
       ]
      },
      {
       "output_type": "stream",
       "stream": "stdout",
       "text": [
        "751 "
       ]
      },
      {
       "output_type": "stream",
       "stream": "stdout",
       "text": [
        "752 "
       ]
      },
      {
       "output_type": "stream",
       "stream": "stdout",
       "text": [
        "753 "
       ]
      },
      {
       "output_type": "stream",
       "stream": "stdout",
       "text": [
        "754 "
       ]
      },
      {
       "output_type": "stream",
       "stream": "stdout",
       "text": [
        "755 "
       ]
      },
      {
       "output_type": "stream",
       "stream": "stdout",
       "text": [
        "756 "
       ]
      },
      {
       "output_type": "stream",
       "stream": "stdout",
       "text": [
        "757 "
       ]
      },
      {
       "output_type": "stream",
       "stream": "stdout",
       "text": [
        "758 "
       ]
      },
      {
       "output_type": "stream",
       "stream": "stdout",
       "text": [
        "759 "
       ]
      },
      {
       "output_type": "stream",
       "stream": "stdout",
       "text": [
        "760 "
       ]
      },
      {
       "output_type": "stream",
       "stream": "stdout",
       "text": [
        "761 "
       ]
      },
      {
       "output_type": "stream",
       "stream": "stdout",
       "text": [
        "762 "
       ]
      },
      {
       "output_type": "stream",
       "stream": "stdout",
       "text": [
        "763 "
       ]
      },
      {
       "output_type": "stream",
       "stream": "stdout",
       "text": [
        "764 "
       ]
      },
      {
       "output_type": "stream",
       "stream": "stdout",
       "text": [
        "765 "
       ]
      },
      {
       "output_type": "stream",
       "stream": "stdout",
       "text": [
        "766 "
       ]
      },
      {
       "output_type": "stream",
       "stream": "stdout",
       "text": [
        "767 "
       ]
      },
      {
       "output_type": "stream",
       "stream": "stdout",
       "text": [
        "768 "
       ]
      },
      {
       "output_type": "stream",
       "stream": "stdout",
       "text": [
        "769 "
       ]
      },
      {
       "output_type": "stream",
       "stream": "stdout",
       "text": [
        "770 "
       ]
      },
      {
       "output_type": "stream",
       "stream": "stdout",
       "text": [
        "771 "
       ]
      },
      {
       "output_type": "stream",
       "stream": "stdout",
       "text": [
        "772 "
       ]
      },
      {
       "output_type": "stream",
       "stream": "stdout",
       "text": [
        "773 "
       ]
      },
      {
       "output_type": "stream",
       "stream": "stdout",
       "text": [
        "774 "
       ]
      },
      {
       "output_type": "stream",
       "stream": "stdout",
       "text": [
        "775 "
       ]
      },
      {
       "output_type": "stream",
       "stream": "stdout",
       "text": [
        "776 "
       ]
      },
      {
       "output_type": "stream",
       "stream": "stdout",
       "text": [
        "777 "
       ]
      },
      {
       "output_type": "stream",
       "stream": "stdout",
       "text": [
        "778 "
       ]
      },
      {
       "output_type": "stream",
       "stream": "stdout",
       "text": [
        "779 "
       ]
      },
      {
       "output_type": "stream",
       "stream": "stdout",
       "text": [
        "780 "
       ]
      },
      {
       "output_type": "stream",
       "stream": "stdout",
       "text": [
        "781 "
       ]
      },
      {
       "output_type": "stream",
       "stream": "stdout",
       "text": [
        "782 "
       ]
      },
      {
       "output_type": "stream",
       "stream": "stdout",
       "text": [
        "783 "
       ]
      },
      {
       "output_type": "stream",
       "stream": "stdout",
       "text": [
        "784 "
       ]
      },
      {
       "output_type": "stream",
       "stream": "stdout",
       "text": [
        "785 "
       ]
      },
      {
       "output_type": "stream",
       "stream": "stdout",
       "text": [
        "786 "
       ]
      },
      {
       "output_type": "stream",
       "stream": "stdout",
       "text": [
        "787 "
       ]
      },
      {
       "output_type": "stream",
       "stream": "stdout",
       "text": [
        "788 "
       ]
      },
      {
       "output_type": "stream",
       "stream": "stdout",
       "text": [
        "789 "
       ]
      },
      {
       "output_type": "stream",
       "stream": "stdout",
       "text": [
        "790 "
       ]
      },
      {
       "output_type": "stream",
       "stream": "stdout",
       "text": [
        "791 "
       ]
      },
      {
       "output_type": "stream",
       "stream": "stdout",
       "text": [
        "792 "
       ]
      },
      {
       "output_type": "stream",
       "stream": "stdout",
       "text": [
        "793 "
       ]
      },
      {
       "output_type": "stream",
       "stream": "stdout",
       "text": [
        "794 "
       ]
      },
      {
       "output_type": "stream",
       "stream": "stdout",
       "text": [
        "795 "
       ]
      },
      {
       "output_type": "stream",
       "stream": "stdout",
       "text": [
        "796 "
       ]
      },
      {
       "output_type": "stream",
       "stream": "stdout",
       "text": [
        "797 "
       ]
      },
      {
       "output_type": "stream",
       "stream": "stdout",
       "text": [
        "798 "
       ]
      },
      {
       "output_type": "stream",
       "stream": "stdout",
       "text": [
        "799\n"
       ]
      }
     ],
     "prompt_number": 8
    },
    {
     "cell_type": "code",
     "collapsed": false,
     "input": [
      "p_no_attacker_attacker_exists = [prob_model_no_attacker(net, d, 1000) for d in attacker_sets]"
     ],
     "language": "python",
     "metadata": {},
     "outputs": [],
     "prompt_number": 16
    },
    {
     "cell_type": "code",
     "collapsed": false,
     "input": [
      "p_no_attacker_attacker_doesnt_exist = [prob_model_no_attacker(net, d, 1000) for d in clean_sets]"
     ],
     "language": "python",
     "metadata": {},
     "outputs": [],
     "prompt_number": 48
    },
    {
     "cell_type": "markdown",
     "metadata": {},
     "source": [
      "Write function that takes as an input number of samples per dataset and returns the estimates in parallel"
     ]
    },
    {
     "cell_type": "code",
     "collapsed": false,
     "input": [
      "def estimate_likelihood(data, N=1000):\n",
      "    ests = []\n",
      "    for obs in data:\n",
      "        ests.append(Direct_Sample(net, obs, N, 1000, s0)[0])\n",
      "    return ests\n"
     ],
     "language": "python",
     "metadata": {},
     "outputs": [],
     "prompt_number": 44
    },
    {
     "cell_type": "code",
     "collapsed": false,
     "input": [
      "par_input = []\n",
      "for ix in np.arange(0,800,200):\n",
      "    par_input.append(attacker_sets[ix:ix+200])\n",
      "for ix in a:\n",
      "    par_input.append(clean_sets[ix:ix+200])"
     ],
     "language": "python",
     "metadata": {},
     "outputs": [],
     "prompt_number": 41
    },
    {
     "cell_type": "code",
     "collapsed": false,
     "input": [
      "multiple_res = []"
     ],
     "language": "python",
     "metadata": {},
     "outputs": [],
     "prompt_number": 56
    },
    {
     "cell_type": "code",
     "collapsed": false,
     "input": [
      "for i in range(10):\n",
      "    from multiprocessing import Pool\n",
      "    p=Pool()\n",
      "    np.random.seed(np.random.choice(np.arange(1000)))\n",
      "    res1000samps = p.map(estimate_likelihood, par_input)\n",
      "    multiple_res.append(res1000samps)"
     ],
     "language": "python",
     "metadata": {},
     "outputs": [],
     "prompt_number": 57
    },
    {
     "cell_type": "code",
     "collapsed": false,
     "input": [
      "def get_pos_neg(res, nullfalse = p_no_attacker_attacker_exists, nulltrue = p_no_attacker_attacker_doesnt_exist):\n",
      "    pos = []\n",
      "    neg = []\n",
      "    for i in range(4):\n",
      "        pos.extend(res[i])\n",
      "        neg.extend(res[i+4])\n",
      "    pos = np.asarray(pos)\n",
      "    neg = np.asarray(neg)\n",
      "    pos = pos.reshape(800,1)\n",
      "    neg = neg.reshape(800,1)\n",
      "    nullfalse = np.asarray(nullfalse).reshape(800,1)\n",
      "    nulltrue = np.asarray(nulltrue).reshape(800,1)\n",
      "    pos1 = np.hstack((pos, nullfalse))\n",
      "    neg1 = np.hstack((neg, nulltrue))\n",
      "    return pos1, neg1\n",
      "    "
     ],
     "language": "python",
     "metadata": {},
     "outputs": [],
     "prompt_number": 51
    },
    {
     "cell_type": "code",
     "collapsed": false,
     "input": [
      "for res in multiple_res:\n",
      "    pos, neg = get_pos_neg(res)\n",
      "    our_roc_pts = np.asarray(plot_our_roc(pos, neg, .001))\n",
      "    anom_roc_pts = np.asarray(plot_anomaly_roc(pos, neg, .001))\n",
      "    plot(our_roc_pts[:,0], our_roc_pts[:,1], color='b', alpha=.5)\n",
      "    # plot(anom_roc_pts[:,0], anom_roc_pts[:,1], label = 'anomaly detector')\n",
      "    plt.xlim(0,1)\n",
      "plot(anom_roc_pts[:,0], anom_roc_pts[:,1], label ='Anomaly Detector', color='r')\n",
      "plt.legend(loc=2)"
     ],
     "language": "python",
     "metadata": {},
     "outputs": [
      {
       "metadata": {},
       "output_type": "pyout",
       "prompt_number": 121,
       "text": [
        "<matplotlib.legend.Legend at 0x7f0e1408a110>"
       ]
      },
      {
       "metadata": {},
       "output_type": "display_data",
       "png": "[encoded data removed]",
       "text": [
        "<matplotlib.figure.Figure at 0x41af850>"
       ]
      }
     ],
     "prompt_number": 121
    },
    {
     "cell_type": "markdown",
     "metadata": {},
     "source": [
      "Now, let's just estimate the ROC once, this time with 100000 samples per dataset.  (I cannot use empirical error bars here \n",
      "because this simulation takes  20 hours)."
     ]
    },
    {
     "cell_type": "code",
     "collapsed": false,
     "input": [
      "def estimate_likelihood_big(data, N=100000):\n",
      "    ests = []\n",
      "    allofit = []\n",
      "    for obs in data:\n",
      "        full_res = Direct_Sample(net, obs, N, 1000, s0)\n",
      "        ests.append(full_res[0])\n",
      "        allofit.append(full_res)\n",
      "    return ests, allofit"
     ],
     "language": "python",
     "metadata": {},
     "outputs": [],
     "prompt_number": 77
    },
    {
     "cell_type": "code",
     "collapsed": false,
     "input": [
      "from multiprocessing import Pool\n",
      "p=Pool()\n",
      "np.random.seed(np.random.choice(np.arange(1000)))\n",
      "res100000samps1 = p.map(estimate_likelihood_big, par_input)"
     ],
     "language": "python",
     "metadata": {},
     "outputs": [],
     "prompt_number": 78
    },
    {
     "cell_type": "markdown",
     "metadata": {},
     "source": [
      "This should finish by 8PM on Sunday."
     ]
    },
    {
     "cell_type": "code",
     "collapsed": false,
     "input": [
      "llrs = []"
     ],
     "language": "python",
     "metadata": {},
     "outputs": [],
     "prompt_number": 110
    },
    {
     "cell_type": "code",
     "collapsed": false,
     "input": [
      "llrs = [res[0] for res in res100000samps]"
     ],
     "language": "python",
     "metadata": {},
     "outputs": [],
     "prompt_number": 115
    },
    {
     "cell_type": "code",
     "collapsed": false,
     "input": [
      "pos, neg = get_pos_neg(llrs)"
     ],
     "language": "python",
     "metadata": {},
     "outputs": [],
     "prompt_number": 117
    },
    {
     "cell_type": "code",
     "collapsed": false,
     "input": [
      "for res in multiple_res:\n",
      "    pos, neg = get_pos_neg(res)\n",
      "    our_roc_pts = np.asarray(plot_our_roc(pos, neg, .001))\n",
      "    anom_roc_pts = np.asarray(plot_anomaly_roc(pos, neg, .001))\n",
      "    plot(our_roc_pts[:,0], our_roc_pts[:,1], color='b', alpha=.5)\n",
      "    # plot(anom_roc_pts[:,0], anom_roc_pts[:,1], label = 'anomaly detector')\n",
      "    plt.xlim(0,1)\n",
      "plot(anom_roc_pts[:,0], anom_roc_pts[:,1], label ='Anomaly Detector', color='r')\n",
      "our_roc_ptsb = np.asarray(plot_our_roc(p1, n1 ,.001))\n",
      "plot(our_roc_ptsb[:,0], our_roc_ptsb[:,1], color='g', label='Likelihood ratio with 100000 samples', linewidth=2)\n",
      "plt.legend(loc=4)"
     ],
     "language": "python",
     "metadata": {},
     "outputs": [
      {
       "metadata": {},
       "output_type": "pyout",
       "prompt_number": 127,
       "text": [
        "<matplotlib.legend.Legend at 0x2fb1b050>"
       ]
      },
      {
       "metadata": {},
       "output_type": "display_data",
       "png": "[encoded data removed]",
       "text": [
        "<matplotlib.figure.Figure at 0x28450290>"
       ]
      }
     ],
     "prompt_number": 127
    },
    {
     "cell_type": "markdown",
     "metadata": {},
     "source": [
      "We see that when we up the sample size, the likelihood ratio gets closer to the anomaly detector and seems to do better much earlier."
     ]
    },
    {
     "cell_type": "code",
     "collapsed": false,
     "input": [
      "plt.hist(p1[:,0], bins=20)"
     ],
     "language": "python",
     "metadata": {},
     "outputs": [
      {
       "metadata": {},
       "output_type": "pyout",
       "prompt_number": 178,
       "text": [
        "(array([   3.,    0.,    1.,    4.,   14.,   22.,   45.,   42.,   73.,\n",
        "         95.,  128.,  122.,  100.,   72.,   42.,   16.,   12.,    5.,\n",
        "          1.,    3.]),\n",
        " array([-167.22027976, -165.43712847, -163.65397719, -161.87082591,\n",
        "       -160.08767463, -158.30452335, -156.52137207, -154.73822078,\n",
        "       -152.9550695 , -151.17191822, -149.38876694, -147.60561566,\n",
        "       -145.82246438, -144.03931309, -142.25616181, -140.47301053,\n",
        "       -138.68985925, -136.90670797, -135.12355669, -133.3404054 ,\n",
        "       -131.55725412]),\n",
        " <a list of 20 Patch objects>)"
       ]
      },
      {
       "metadata": {},
       "output_type": "display_data",
       "png": "[encoded data removed]",
       "text": [
        "<matplotlib.figure.Figure at 0x3a292250>"
       ]
      }
     ],
     "prompt_number": 178
    },
    {
     "cell_type": "markdown",
     "metadata": {},
     "source": [
      "The distribution of the Log likelihood with an attacker when we sample 100000 times"
     ]
    },
    {
     "cell_type": "code",
     "collapsed": false,
     "input": [
      "plt.hist(pos[:,0], bins=20)"
     ],
     "language": "python",
     "metadata": {},
     "outputs": [
      {
       "metadata": {},
       "output_type": "pyout",
       "prompt_number": 176,
       "text": [
        "(array([   1.,    2.,    1.,    6.,   12.,   28.,   44.,   84.,   83.,\n",
        "        124.,   99.,   81.,   60.,   57.,   44.,   27.,   28.,    9.,\n",
        "          5.,    5.]),\n",
        " array([-185.43032142, -183.21307984, -180.99583827, -178.77859669,\n",
        "       -176.56135512, -174.34411354, -172.12687196, -169.90963039,\n",
        "       -167.69238881, -165.47514724, -163.25790566, -161.04066409,\n",
        "       -158.82342251, -156.60618093, -154.38893936, -152.17169778,\n",
        "       -149.95445621, -147.73721463, -145.51997305, -143.30273148,\n",
        "       -141.0854899 ]),\n",
        " <a list of 20 Patch objects>)"
       ]
      },
      {
       "metadata": {},
       "output_type": "display_data",
       "png": "[encoded data removed]",
       "text": [
        "<matplotlib.figure.Figure at 0x3a23eb50>"
       ]
      }
     ],
     "prompt_number": 176
    },
    {
     "cell_type": "markdown",
     "metadata": {},
     "source": [
      "The distribution of the log likelihood with an attacker with only 1000 samples"
     ]
    },
    {
     "cell_type": "markdown",
     "metadata": {},
     "source": [
      "Recall that our estimate of the likelihood also has a distirbution.  That means, if we repeatedly estimate the *same* dataset, we will not get the same estimate.  My claim is that if the distribution of the estimate is skewed (fat part to the left, \n",
      "skinny part to the right, I forget if this is positive or negative skew), our small sample ROC can see some troubles.  \n",
      "\n",
      "Consider 1 realization of network activity.  Suppose we are interested in classifying that realization as either an \n",
      "infected or clean net based on a likelihood ratio threshold of 10.  That is, if the log likelihood ratio \n",
      "$\\frac{P(\\text{data} | \\text{attacker})}{P(\\text{data} | \\text{ no attacker})}$  is less than 10, we consider the net not to\n",
      "be infected.  If it is greater than 10, we classify the net as infected.  Consider a case when there is an attacker. Suppose that if we could calculate the numeratpr without an approximation (i.e. closed form solution), the likelihood ratio is $10.5$.  Therefore, at a threshold of 10, we would classify that realization as a positive and we would be correct.  That is, we found a true positive.  \n",
      "\n",
      "However, we do not (yet) have a closed form solution.  That means that even though the exact value of the likelihood would lead to a correct classification, our estimate may be significantly far enough away from the exact value that we actually \n",
      "classify the positive as a negative.  For example, suppose that due to variance in the Monte Carlo estimate, we actually \n",
      "estimate the likeligood ratio to be 9.5.  This would lead to a false negative classification.  \n",
      "\n",
      "Now, if the distribution around the *exact* (i.e. closed form) value of the likelihood was symmetric and identical (I'm sure\n",
      "there is a more formal term for these two conditions and I'm sure there are looser assumptions that capture the same idea) for any realization of the data, this misclassification would be cancelled out.  For example, consider another dataset with an attacker whose exact likelihood value is 9.5.  If the distribution of the MC estimate for this dataset was symmetric *and* the same for the case when the *exact* likelihood is 10.5, then the probability of this being classified as a positive when the threshold is 10 is the same as the data with a likelihood of a 10.5 being classified as a negative.  Therefore, there \n",
      "would be a \"wash\".  \n",
      "\n",
      "Now, suppose that instead of the distirbution being symmetric around the exact likelihood value, the **median** is actually \n",
      "less than the exact value.  That means that for a dateset that has an exact likelihood of say 10.000000000001, more than half \n",
      "of the time it will be classified as a false negative (since the median is less than 10).  However, if we were to raise the \n",
      "number of samples so that the MC approximation was always exactly the closed form value, then this realization of the data\n",
      "would always be classified as a true positive.  Therefore we see that when we raise the number of samples, we get better \n",
      "classification performance for a single realization.  "
     ]
    },
    {
     "cell_type": "code",
     "collapsed": false,
     "input": [
      "plt.hist([res[0] for res in llr1])\n",
      "plt.vlines(res100000samps[0][0][0], ymin=0, ymax = 20, linewidth=5)"
     ],
     "language": "python",
     "metadata": {},
     "outputs": [
      {
       "metadata": {},
       "output_type": "pyout",
       "prompt_number": 172,
       "text": [
        "<matplotlib.collections.LineCollection at 0x397e9810>"
       ]
      },
      {
       "metadata": {},
       "output_type": "display_data",
       "png": "[encoded data removed]",
       "text": [
        "<matplotlib.figure.Figure at 0x3a01f050>"
       ]
      }
     ],
     "prompt_number": 172
    },
    {
     "cell_type": "code",
     "collapsed": false,
     "input": [
      "plt.hist((np.exp([res[0] for res in llr1])))"
     ],
     "language": "python",
     "metadata": {},
     "outputs": [
      {
       "metadata": {},
       "output_type": "pyout",
       "prompt_number": 175,
       "text": [
        "(array([ 98.,   0.,   1.,   0.,   0.,   0.,   0.,   0.,   0.,   1.]),\n",
        " array([  2.46554477e-75,   1.88953682e-64,   3.77907365e-64,\n",
        "         5.66861047e-64,   7.55814730e-64,   9.44768412e-64,\n",
        "         1.13372209e-63,   1.32267578e-63,   1.51162946e-63,\n",
        "         1.70058314e-63,   1.88953682e-63]),\n",
        " <a list of 10 Patch objects>)"
       ]
      },
      {
       "metadata": {},
       "output_type": "display_data",
       "png": "[encoded data removed]",
       "text": [
        "<matplotlib.figure.Figure at 0x3871d7d0>"
       ]
      }
     ],
     "prompt_number": 175
    },
    {
     "cell_type": "code",
     "collapsed": false,
     "input": [],
     "language": "python",
     "metadata": {},
     "outputs": []
    }
   ],
   "metadata": {}
  }
 ]
}