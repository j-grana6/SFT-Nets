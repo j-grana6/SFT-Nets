{
 "metadata": {
  "name": ""
 },
 "nbformat": 3,
 "nbformat_minor": 0,
 "worksheets": [
  {
   "cells": [
    {
     "cell_type": "code",
     "collapsed": false,
     "input": [
      "import numpy as np\n",
      "from direct_sample import Direct_Sample\n",
      "from sft import SFT\n",
      "from sft_net import SFTNet\n",
      "import networkx as nx\n",
      "from IPython.display import HTML\n",
      "from tools import gen_trans_frame, gen_data\n",
      "from roc import get_roc_coords, handle_parallel_res, plot_anomaly_roc, plot_our_roc\n",
      "from adsy.display import extended_styles\n"
     ],
     "language": "python",
     "metadata": {},
     "outputs": [],
     "prompt_number": 2
    },
    {
     "cell_type": "code",
     "collapsed": false,
     "input": [
      "extended_styles()"
     ],
     "language": "python",
     "metadata": {},
     "outputs": [
      {
       "html": [
        "\n",
        "        <script type=\"text/javascript\">\n",
        "        var toggleInput;\n",
        "        (function() {\n",
        "            var inputInterval;\n",
        "            var intervalCount = 0;\n",
        "            var init = false;\n",
        "            var inputUp = false;\n",
        "            toggleInput = function() {\n",
        "                if(inputUp) {\n",
        "                    $('div.input').slideDown();\n",
        "                    $('div.code_cell').attr('style', '');\n",
        "                }\n",
        "                else {\n",
        "                    $('div.input').slideUp();\n",
        "                    $('div.code_cell').attr('style', 'padding: 0px; margin: 0px');\n",
        "                }\n",
        "                inputUp = !inputUp;\n",
        "                init = true;\n",
        "            }\n",
        "            function initExtendedStyles() {\n",
        "                if(intervalCount > 15) {\n",
        "                    clearInterval(inputInterval);\n",
        "                }\n",
        "                intervalCount += 1;\n",
        "                try {\n",
        "                    toggleInput();\n",
        "                    clearInterval(inputInterval);\n",
        "                } catch(e) {}\n",
        "            }\n",
        "            if (typeof jQuery == 'undefined') {\n",
        "                // if jQuery Library is not loaded\n",
        "                var script = document.createElement( 'script' );\n",
        "                script.type = 'text/javascript';\n",
        "                script.src = 'https://ajax.googleapis.com/ajax/libs/jquery/1.8.3/jquery.min.js';\n",
        "                document.body.appendChild(script);\n",
        "            }\n",
        "\n",
        "            setTimeout(initExtendedStyles, 200);\n",
        "            // jQuery is doing this interval trick\n",
        "            // I guess its the way to do it then.\n",
        "            inputInterval = setInterval(initExtendedStyles, 1000);\n",
        "        }());\n",
        "        </script>\n",
        "       <a href=\"javascript:toggleInput()\">Toggle Input</a>\n",
        "        "
       ],
       "metadata": {},
       "output_type": "pyout",
       "prompt_number": 3,
       "text": [
        "<IPython.core.display.HTML at 0x31c80d0>"
       ]
      }
     ],
     "prompt_number": 3
    },
    {
     "cell_type": "code",
     "collapsed": false,
     "input": [
      "A = SFT('A', ['normal' , 'infected'], ['B', 'F'], \n",
      "    {'B': np.array([[.5, 0], [.5,.01]]), 'F' : np.array([[.5, 0], [.5, .01]])},\n",
      "    ['clean', 'malicious'], 'external')\n",
      "\n",
      "\n",
      "B = SFT('B', ['normal' , 'infected'], [ 'E'], \n",
      "    {'E' : np.array([[.25, 0], [.25, .01]])},\n",
      "    ['clean', 'malicious'], 'internal')\n",
      "\n",
      "C = SFT('C', ['normal' , 'infected'], ['E'],\n",
      "    {'E': np.array([[.1, 0], [.1,.01]])},\n",
      "    ['clean', 'malicious'], 'internal')\n",
      "# C sends messages to A, B and F\n",
      "\n",
      "\n",
      "D = SFT('D', ['normal' , 'infected'], ['E'], \n",
      "    {'E': np.array([[2, 0], [2,.01]])},\n",
      "    ['clean', 'malicious'], 'internal')\n",
      "# D sends nodes to A, C and F\n",
      "\n",
      "E = SFT('E', ['normal' , 'infected'], ['A', 'B', 'C', 'D', 'F', 'E1'], \n",
      "    {'A': np.array([[.5, 0], [.5,.001]]), 'B': np.array([[.5,0], [.5, .001]]), \n",
      "     'C': np.array([[.5,0], [.5, .001]]), 'D' : np.array([[.5, 0], [.5, .001]]), \n",
      "     'F' : np.array([[.5, 0], [.5, .001]]),\n",
      "      'E1': np.array([[.01,0],[.01, .001]])},\n",
      "    ['clean', 'malicious'], 'internal')\n",
      "# E (slowly) sends nodes to A, B, C and F\n",
      "\n",
      "F = SFT('F', ['normal' , 'infected'], ['A1', 'E'], \n",
      "    {'A1': np.array([[.01, 0], [.01,.01]]), 'E' : np.array([[.25, 0], [.25, .01]])},\n",
      "    ['clean', 'malicious'], 'external')\n",
      "# F sends nodes to A and E\n",
      "\n",
      "A1 = SFT('A1', ['normal' , 'infected'], ['B1', 'F1'], \n",
      "    {'B1': np.array([[.5, 0], [.5,.01]]), 'F1' : np.array([[.5, 0], [.5, .01]])},\n",
      "    ['clean', 'malicious'], 'external')\n",
      "# Node A sends messages to B and F\n",
      "\n",
      "B1 = SFT('B1', ['normal' , 'infected'], [ 'E1'], \n",
      "    {'E1' : np.array([[.5, 0], [.5, .01]])},\n",
      "    ['clean', 'malicious'], 'internal')\n",
      "# B sends messages to A, D and F\n",
      "C1 = SFT('C1', ['normal' , 'infected'], ['D1', 'E1'],\n",
      "    {'D1': np.array([[.2, 0], [.2,.04]]),\n",
      "     'E1': np.array([[.8, 0], [.8,.02]])},\n",
      "    ['clean', 'malicious'], 'internal')\n",
      "# C sends messages to A, B and F\n",
      "\n",
      "\n",
      "D1 = SFT('D1', ['normal' , 'infected'], ['F'], \n",
      "    {'F': np.array([[.5, 0], [.5,.01]])},\n",
      "    ['clean', 'malicious'], 'internal')\n",
      "# D sends nodes to A, C and F\n",
      "\n",
      "E1 = SFT('E1', ['normal' , 'infected'], ['A1', 'B1', 'C1', 'D1', 'F1'], \n",
      "    {'A1': np.array([[.5, 0], [.5,.001]]), 'B1': np.array([[.5,0], [.5, .001]]), \n",
      "     'C1': np.array([[.5,0], [.5, .001]]), 'D1' : np.array([[.5, 0], [.5, .001]]), 'F1' : np.array([[.5, 0], [.5, .001]])},\n",
      "    ['clean', 'malicious'], 'internal')\n",
      "# E (slowly) sends nodes to A, B, C and F\n",
      "\n",
      "F1 = SFT('F1', ['normal' , 'infected'], ['C', 'E1'], \n",
      "    {'C': np.array([[1, 0], [1,.001]]), 'E1' : np.array([[1, 0], [1, .001]])},\n",
      "    ['clean', 'malicious'], 'external')\n",
      "# F sends nodes to A and E\n",
      "\n",
      "nodes = [A, B,C,D,E,F, A1, B1,C1,D1,E1,F1]\n",
      "net = SFTNet(nodes)\n",
      "s0 = {'A': 'infected', 'B': 'normal', 'C': 'normal', 'D': 'normal', 'E': 'normal', 'F': 'normal', \n",
      "      'A1': 'normal', 'B1': 'normal', 'C1': 'normal', 'D1': 'normal', 'E1': 'normal', 'F1': 'normal'}"
     ],
     "language": "python",
     "metadata": {},
     "outputs": [],
     "prompt_number": 2
    },
    {
     "cell_type": "code",
     "collapsed": false,
     "input": [
      "rates = gen_trans_frame(net)\n",
      "ix = rates['normal-clean rate'] >0\n",
      "HTML(rates[ix].to_html())"
     ],
     "language": "python",
     "metadata": {},
     "outputs": [
      {
       "html": [
        "<table border=\"1\" class=\"dataframe\">\n",
        "  <thead>\n",
        "    <tr style=\"text-align: right;\">\n",
        "      <th></th>\n",
        "      <th></th>\n",
        "      <th>normal-clean rate</th>\n",
        "      <th>infected-clean rate</th>\n",
        "      <th>infected-malicious rate</th>\n",
        "    </tr>\n",
        "    <tr>\n",
        "      <th>sender</th>\n",
        "      <th>receiver</th>\n",
        "      <th></th>\n",
        "      <th></th>\n",
        "      <th></th>\n",
        "    </tr>\n",
        "  </thead>\n",
        "  <tbody>\n",
        "    <tr>\n",
        "      <th rowspan=\"2\" valign=\"top\">A</th>\n",
        "      <th>B</th>\n",
        "      <td> 0.50</td>\n",
        "      <td> 0.50</td>\n",
        "      <td> 0.010</td>\n",
        "    </tr>\n",
        "    <tr>\n",
        "      <th>F</th>\n",
        "      <td> 0.50</td>\n",
        "      <td> 0.50</td>\n",
        "      <td> 0.010</td>\n",
        "    </tr>\n",
        "    <tr>\n",
        "      <th>B</th>\n",
        "      <th>E</th>\n",
        "      <td> 0.25</td>\n",
        "      <td> 0.25</td>\n",
        "      <td> 0.010</td>\n",
        "    </tr>\n",
        "    <tr>\n",
        "      <th>C</th>\n",
        "      <th>E</th>\n",
        "      <td> 0.10</td>\n",
        "      <td> 0.10</td>\n",
        "      <td> 0.010</td>\n",
        "    </tr>\n",
        "    <tr>\n",
        "      <th>D</th>\n",
        "      <th>E</th>\n",
        "      <td> 2.00</td>\n",
        "      <td> 2.00</td>\n",
        "      <td> 0.010</td>\n",
        "    </tr>\n",
        "    <tr>\n",
        "      <th rowspan=\"6\" valign=\"top\">E</th>\n",
        "      <th>A</th>\n",
        "      <td> 0.50</td>\n",
        "      <td> 0.50</td>\n",
        "      <td> 0.001</td>\n",
        "    </tr>\n",
        "    <tr>\n",
        "      <th>B</th>\n",
        "      <td> 0.50</td>\n",
        "      <td> 0.50</td>\n",
        "      <td> 0.001</td>\n",
        "    </tr>\n",
        "    <tr>\n",
        "      <th>C</th>\n",
        "      <td> 0.50</td>\n",
        "      <td> 0.50</td>\n",
        "      <td> 0.001</td>\n",
        "    </tr>\n",
        "    <tr>\n",
        "      <th>D</th>\n",
        "      <td> 0.50</td>\n",
        "      <td> 0.50</td>\n",
        "      <td> 0.001</td>\n",
        "    </tr>\n",
        "    <tr>\n",
        "      <th>F</th>\n",
        "      <td> 0.50</td>\n",
        "      <td> 0.50</td>\n",
        "      <td> 0.001</td>\n",
        "    </tr>\n",
        "    <tr>\n",
        "      <th>E1</th>\n",
        "      <td> 0.01</td>\n",
        "      <td> 0.01</td>\n",
        "      <td> 0.001</td>\n",
        "    </tr>\n",
        "    <tr>\n",
        "      <th rowspan=\"2\" valign=\"top\">F</th>\n",
        "      <th>E</th>\n",
        "      <td> 0.25</td>\n",
        "      <td> 0.25</td>\n",
        "      <td> 0.010</td>\n",
        "    </tr>\n",
        "    <tr>\n",
        "      <th>A1</th>\n",
        "      <td> 0.01</td>\n",
        "      <td> 0.01</td>\n",
        "      <td> 0.010</td>\n",
        "    </tr>\n",
        "    <tr>\n",
        "      <th rowspan=\"2\" valign=\"top\">A1</th>\n",
        "      <th>B1</th>\n",
        "      <td> 0.50</td>\n",
        "      <td> 0.50</td>\n",
        "      <td> 0.010</td>\n",
        "    </tr>\n",
        "    <tr>\n",
        "      <th>F1</th>\n",
        "      <td> 0.50</td>\n",
        "      <td> 0.50</td>\n",
        "      <td> 0.010</td>\n",
        "    </tr>\n",
        "    <tr>\n",
        "      <th>B1</th>\n",
        "      <th>E1</th>\n",
        "      <td> 0.50</td>\n",
        "      <td> 0.50</td>\n",
        "      <td> 0.010</td>\n",
        "    </tr>\n",
        "    <tr>\n",
        "      <th rowspan=\"2\" valign=\"top\">C1</th>\n",
        "      <th>D1</th>\n",
        "      <td> 0.20</td>\n",
        "      <td> 0.20</td>\n",
        "      <td> 0.040</td>\n",
        "    </tr>\n",
        "    <tr>\n",
        "      <th>E1</th>\n",
        "      <td> 0.80</td>\n",
        "      <td> 0.80</td>\n",
        "      <td> 0.020</td>\n",
        "    </tr>\n",
        "    <tr>\n",
        "      <th>D1</th>\n",
        "      <th>F</th>\n",
        "      <td> 0.50</td>\n",
        "      <td> 0.50</td>\n",
        "      <td> 0.010</td>\n",
        "    </tr>\n",
        "    <tr>\n",
        "      <th rowspan=\"5\" valign=\"top\">E1</th>\n",
        "      <th>A1</th>\n",
        "      <td> 0.50</td>\n",
        "      <td> 0.50</td>\n",
        "      <td> 0.001</td>\n",
        "    </tr>\n",
        "    <tr>\n",
        "      <th>B1</th>\n",
        "      <td> 0.50</td>\n",
        "      <td> 0.50</td>\n",
        "      <td> 0.001</td>\n",
        "    </tr>\n",
        "    <tr>\n",
        "      <th>C1</th>\n",
        "      <td> 0.50</td>\n",
        "      <td> 0.50</td>\n",
        "      <td> 0.001</td>\n",
        "    </tr>\n",
        "    <tr>\n",
        "      <th>D1</th>\n",
        "      <td> 0.50</td>\n",
        "      <td> 0.50</td>\n",
        "      <td> 0.001</td>\n",
        "    </tr>\n",
        "    <tr>\n",
        "      <th>F1</th>\n",
        "      <td> 0.50</td>\n",
        "      <td> 0.50</td>\n",
        "      <td> 0.001</td>\n",
        "    </tr>\n",
        "    <tr>\n",
        "      <th rowspan=\"2\" valign=\"top\">F1</th>\n",
        "      <th>C</th>\n",
        "      <td> 1.00</td>\n",
        "      <td> 1.00</td>\n",
        "      <td> 0.001</td>\n",
        "    </tr>\n",
        "    <tr>\n",
        "      <th>E1</th>\n",
        "      <td> 1.00</td>\n",
        "      <td> 1.00</td>\n",
        "      <td> 0.001</td>\n",
        "    </tr>\n",
        "  </tbody>\n",
        "</table>"
       ],
       "metadata": {},
       "output_type": "pyout",
       "prompt_number": 3,
       "text": [
        "<IPython.core.display.HTML at 0x7f5558427a10>"
       ]
      }
     ],
     "prompt_number": 3
    },
    {
     "cell_type": "code",
     "collapsed": false,
     "input": [
      "percore = 100\n",
      "net_input = net\n",
      "s_input = s0\n",
      "def f1(x):\n",
      "    return get_roc_coords(x, percore, percore, net_input, s0=s_input , \\\n",
      "                                  T=1000, method='direct', directsamps=2000, printsteps=False)\n",
      "from multiprocessing import Pool\n",
      "p = Pool(8)\n",
      "results_1 = p.map(f1, list(np.random.randint(0, 10000, 8)))"
     ],
     "language": "python",
     "metadata": {},
     "outputs": [],
     "prompt_number": 6
    },
    {
     "cell_type": "code",
     "collapsed": false,
     "input": [
      "pos_5, neg_5 = handle_parallel_res(results_1)\n",
      "our_roc_pts = np.asarray(plot_our_roc(pos_5, neg_5, .001))\n",
      "anom_roc_pts = np.asarray(plot_anomaly_roc(pos_5, neg_5, .0001))\n",
      "plot(our_roc_pts[:,0], our_roc_pts[:,1], label =' Our likelihood ratio')\n",
      "plot(anom_roc_pts[:,0], anom_roc_pts[:,1], label = 'anomaly detector')\n",
      "plt.xlim(0,1)\n",
      "plt.legend(loc=0)"
     ],
     "language": "python",
     "metadata": {},
     "outputs": [
      {
       "metadata": {},
       "output_type": "pyout",
       "prompt_number": 7,
       "text": [
        "<matplotlib.legend.Legend at 0x8c608d0>"
       ]
      },
      {
       "metadata": {},
       "output_type": "display_data",
       "png": "[encoded data removed]",
       "text": [
        "<matplotlib.figure.Figure at 0x87219d0>"
       ]
      }
     ],
     "prompt_number": 7
    },
    {
     "cell_type": "heading",
     "level": 2,
     "metadata": {},
     "source": [
      "Let's up T to 2000"
     ]
    },
    {
     "cell_type": "code",
     "collapsed": false,
     "input": [
      "percore = 100\n",
      "net_input = net\n",
      "s_input = s0\n",
      "def f1(x):\n",
      "    return get_roc_coords(x, percore, percore, net_input, s0=s_input , \\\n",
      "                                  T=2000, method='direct', directsamps=2000, printsteps=False)\n",
      "from multiprocessing import Pool\n",
      "p = Pool(8)\n",
      "results_2 = p.map(f1, list(np.random.randint(0, 10000, 8)))"
     ],
     "language": "python",
     "metadata": {},
     "outputs": [],
     "prompt_number": 8
    },
    {
     "cell_type": "code",
     "collapsed": false,
     "input": [
      "pos_5, neg_5 = handle_parallel_res(results_2)\n",
      "our_roc_pts = np.asarray(plot_our_roc(pos_5, neg_5, .001))\n",
      "anom_roc_pts = np.asarray(plot_anomaly_roc(pos_5, neg_5, .001))\n",
      "plot(our_roc_pts[:,0], our_roc_pts[:,1], label =' Our likelihood ratio')\n",
      "plot(anom_roc_pts[:,0], anom_roc_pts[:,1], label = 'anomaly detector')\n",
      "plt.xlim(0,1)\n",
      "plt.legend(loc=0)"
     ],
     "language": "python",
     "metadata": {},
     "outputs": [
      {
       "metadata": {},
       "output_type": "pyout",
       "prompt_number": 9,
       "text": [
        "<matplotlib.legend.Legend at 0x8c378d0>"
       ]
      },
      {
       "metadata": {},
       "output_type": "display_data",
       "png": "[encoded data removed]",
       "text": [
        "<matplotlib.figure.Figure at 0x8688b10>"
       ]
      }
     ],
     "prompt_number": 9
    },
    {
     "cell_type": "markdown",
     "metadata": {},
     "source": [
      "We see that just with a higher T, our detector does better"
     ]
    },
    {
     "cell_type": "heading",
     "level": 2,
     "metadata": {},
     "source": [
      "Now let's bring T back down to 1000 but double ALL the rates"
     ]
    },
    {
     "cell_type": "code",
     "collapsed": false,
     "input": [
      "A = SFT('A', ['normal' , 'infected'], ['B', 'F'], \n",
      "    {'B': np.array([[.5, 0], [.5,.01]]) * 2, 'F' : 2* np.array([[.5, 0], [.5, .01]])},\n",
      "    ['clean', 'malicious'], 'external')\n",
      "\n",
      "\n",
      "B = SFT('B', ['normal' , 'infected'], [ 'E'], \n",
      "    {'E' : 2* np.array([[.25, 0], [.25, .01]])},\n",
      "    ['clean', 'malicious'], 'internal')\n",
      "\n",
      "C = SFT('C', ['normal' , 'infected'], ['E'],\n",
      "    {'E': 2 * np.array([[.1, 0], [.1,.01]])},\n",
      "    ['clean', 'malicious'], 'internal')\n",
      "# C sends messages to A, B and F\n",
      "\n",
      "\n",
      "D = SFT('D', ['normal' , 'infected'], ['E'], \n",
      "    {'E': 2* np.array([[2, 0], [2,.01]])},\n",
      "    ['clean', 'malicious'], 'internal')\n",
      "# D sends nodes to A, C and F\n",
      "\n",
      "E = SFT('E', ['normal' , 'infected'], ['A', 'B', 'C', 'D', 'F', 'E1'], \n",
      "    {'A': 2 * np.array([[.5, 0], [.5,.001]]), 'B': 2 * np.array([[.5,0], [.5, .001]]), \n",
      "     'C': 2 * np.array([[.5,0], [.5, .001]]), 'D' : 2 * np.array([[.5, 0], [.5, .001]]), \n",
      "     'F' : 2 * np.array([[.5, 0], [.5, .001]]),\n",
      "      'E1': 2 * np.array([[.01,0],[.01, .001]])},\n",
      "    ['clean', 'malicious'], 'internal')\n",
      "# E (slowly) sends nodes to A, B, C and F\n",
      "\n",
      "F = SFT('F', ['normal' , 'infected'], ['A1', 'E'], \n",
      "    {'A1': 2 * np.array([[.01, 0], [.01,.01]]), 'E' : 2 * np.array([[.25, 0], [.25, .01]])},\n",
      "    ['clean', 'malicious'], 'external')\n",
      "# F sends nodes to A and E\n",
      "\n",
      "A1 = SFT('A1', ['normal' , 'infected'], ['B1', 'F1'], \n",
      "    {'B1': 2 * np.array([[.5, 0], [.5,.01]]), 'F1' : 2 * np.array([[.5, 0], [.5, .01]])},\n",
      "    ['clean', 'malicious'], 'external')\n",
      "# Node A sends messages to B and F\n",
      "\n",
      "B1 = SFT('B1', ['normal' , 'infected'], [ 'E1'], \n",
      "    {'E1' : 2 * np.array([[.5, 0], [.5, .01]])},\n",
      "    ['clean', 'malicious'], 'internal')\n",
      "# B sends messages to A, D and F\n",
      "C1 = SFT('C1', ['normal' , 'infected'], ['D1', 'E1'],\n",
      "    {'D1': 2 * np.array([[.2, 0], [.2,.04]]),\n",
      "     'E1': 2 * np.array([[.8, 0], [.8,.02]])},\n",
      "    ['clean', 'malicious'], 'internal')\n",
      "# C sends messages to A, B and F\n",
      "\n",
      "\n",
      "D1 = SFT('D1', ['normal' , 'infected'], ['F'], \n",
      "    {'F': 2 * np.array([[.5, 0], [.5,.01]])},\n",
      "    ['clean', 'malicious'], 'internal')\n",
      "# D sends nodes to A, C and F\n",
      "\n",
      "E1 = SFT('E1', ['normal' , 'infected'], ['A1', 'B1', 'C1', 'D1', 'F1'], \n",
      "    {'A1': 2 * np.array([[.5, 0], [.5,.001]]), 'B1': 2 * np.array([[.5,0], [.5, .001]]), \n",
      "     'C1': 2 * np.array([[.5,0], [.5, .001]]), 'D1' : 2 * np.array([[.5, 0], [.5, .001]]), 'F1' : 2 * np.array([[.5, 0], [.5, .001]])},\n",
      "    ['clean', 'malicious'], 'internal')\n",
      "# E (slowly) sends nodes to A, B, C and F\n",
      "\n",
      "F1 = SFT('F1', ['normal' , 'infected'], ['C', 'E1'], \n",
      "    {'C': 2 * np.array([[1, 0], [1,.001]]), 'E1' : 2 * np.array([[1, 0], [1, .001]])},\n",
      "    ['clean', 'malicious'], 'external')\n",
      "# F sends nodes to A and E\n",
      "\n",
      "nodes = [A, B,C,D,E,F, A1, B1,C1,D1,E1,F1]\n",
      "net = SFTNet(nodes)\n",
      "s0 = {'A': 'infected', 'B': 'normal', 'C': 'normal', 'D': 'normal', 'E': 'normal', 'F': 'normal', \n",
      "      'A1': 'normal', 'B1': 'normal', 'C1': 'normal', 'D1': 'normal', 'E1': 'normal', 'F1': 'normal'}"
     ],
     "language": "python",
     "metadata": {},
     "outputs": [],
     "prompt_number": 10
    },
    {
     "cell_type": "code",
     "collapsed": false,
     "input": [
      "percore = 100\n",
      "net_input = net\n",
      "s_input = s0\n",
      "def f1(x):\n",
      "    return get_roc_coords(x, percore, percore, net_input, s0=s_input , \\\n",
      "                                  T=1000, method='direct', directsamps=2000, printsteps=False)\n",
      "from multiprocessing import Pool\n",
      "p = Pool(8)\n",
      "results_3 = p.map(f1, list(np.random.randint(0, 10000, 8)))"
     ],
     "language": "python",
     "metadata": {},
     "outputs": [],
     "prompt_number": 15
    },
    {
     "cell_type": "code",
     "collapsed": false,
     "input": [
      "pos_5, neg_5 = handle_parallel_res(results_3)\n",
      "our_roc_pts = np.asarray(plot_our_roc(pos_5, neg_5, .001))\n",
      "anom_roc_pts = np.asarray(plot_anomaly_roc(pos_5, neg_5, .001))\n",
      "plot(our_roc_pts[:,0], our_roc_pts[:,1], label =' Our likelihood ratio')\n",
      "plot(anom_roc_pts[:,0], anom_roc_pts[:,1], label = 'anomaly detector')\n",
      "plt.xlim(0,1)\n",
      "plt.legend(loc=0)"
     ],
     "language": "python",
     "metadata": {},
     "outputs": [
      {
       "metadata": {},
       "output_type": "pyout",
       "prompt_number": 16,
       "text": [
        "<matplotlib.legend.Legend at 0x9037cd0>"
       ]
      },
      {
       "metadata": {},
       "output_type": "display_data",
       "png": "[encoded data removed]",
       "text": [
        "<matplotlib.figure.Figure at 0x8687a90>"
       ]
      }
     ],
     "prompt_number": 16
    },
    {
     "cell_type": "markdown",
     "metadata": {},
     "source": [
      "So, even when we raise the normal and the clean rates proportionally, we see that once again our anomaly detector does better,"
     ]
    },
    {
     "cell_type": "heading",
     "level": 2,
     "metadata": {},
     "source": [
      "What about with the increased rate but T=500?"
     ]
    },
    {
     "cell_type": "code",
     "collapsed": false,
     "input": [
      "percore = 100\n",
      "net_input = net\n",
      "s_input = s0\n",
      "def f1(x):\n",
      "    return get_roc_coords(x, percore, percore, net_input, s0=s_input , \\\n",
      "                                  T=500, method='direct', directsamps=2000, printsteps=False)\n",
      "from multiprocessing import Pool\n",
      "p = Pool(8)\n",
      "results_4 = p.map(f1, list(np.random.randint(0, 10000, 8)))"
     ],
     "language": "python",
     "metadata": {},
     "outputs": [],
     "prompt_number": 17
    },
    {
     "cell_type": "code",
     "collapsed": false,
     "input": [
      "pos_5, neg_5 = handle_parallel_res(results_4)\n",
      "our_roc_pts = np.asarray(plot_our_roc(pos_5, neg_5, .001))\n",
      "anom_roc_pts = np.asarray(plot_anomaly_roc(pos_5, neg_5, .001))\n",
      "plot(our_roc_pts[:,0], our_roc_pts[:,1], label =' Our likelihood ratio')\n",
      "plot(anom_roc_pts[:,0], anom_roc_pts[:,1], label = 'anomaly detector')\n",
      "plt.xlim(0,1)\n",
      "plt.legend(loc=0)"
     ],
     "language": "python",
     "metadata": {},
     "outputs": [
      {
       "metadata": {},
       "output_type": "pyout",
       "prompt_number": 19,
       "text": [
        "<matplotlib.legend.Legend at 0x5063510>"
       ]
      },
      {
       "metadata": {},
       "output_type": "display_data",
       "png": "[encoded data removed]",
       "text": [
        "<matplotlib.figure.Figure at 0x8721cd0>"
       ]
      }
     ],
     "prompt_number": 19
    },
    {
     "cell_type": "markdown",
     "metadata": {},
     "source": [
      "This looks more like the \"bad\" case.  It seems as that the superiority of the algorithm depends on the ratio of rates to T"
     ]
    },
    {
     "cell_type": "markdown",
     "metadata": {},
     "source": [
      "Consider the case when the rates of malicious message transmission and T are small.  Due to statistical fluctuation, there might be non-malicious anomalous behavior.  This non-malicious behavior would decrease $P(\\text{data} | \\text{no attacker})$ and $P( \\text{data} | \\text{attacker})$ approximately proportionately. (As an extreme, suppose there was a node such that by the topology of the network, it is impossible for that node to become infected.  Then that would change both likelihoods exactly proportionately).  Now, suppose that there is a node that gets infected  at some t.  Since the rates of infected messages are so low, the amount that it separates  $P(\\text{data} | \\text{ attacker})$ and $P(\\text{data } | \\text{ no attacker})$ is negligible, especially in the presence of other statistical fluctuation.  As a simple example, if $T$ =10 and a node gets infected at $5$ but it only sends malicious messages at a rate of .2, it is unlikely that any detection system would pick this up, especially if there are many other nodes in the network firing at higher rates). This fact alone would explain why neither detection systems works well with small T and small rate of infected transmission.  However, the question actually is \"why does the simply anomaly detector work better?\"  The reason is that in the case when there is non-malicious anomalous behavior,  and there is an attacker, the simple anomaly detector will detect this scenario as having an attacker present.  In other words, the attacker would be \"unlucky\" in the sense that he did nothing to get himself caught but the simple randomness of the system set off the alarm.  Note that in this case the likelihood *ratio* does not pick this up because the non-malicious anomalous behavior that makes the simple anomaly detector alarm sound also shifts $P(\\text{data} | \\text{attacker})$ and leaves the likelihood ratio unchanged.\n",
      "\n",
      "This means that in large networks with small $T$ and small rates, the simple anomaly detector might go off more when there is an attacker but it would pinpoint the wrong part of the network as having suspicious behavior.  "
     ]
    }
   ],
   "metadata": {}
  }
 ]
}