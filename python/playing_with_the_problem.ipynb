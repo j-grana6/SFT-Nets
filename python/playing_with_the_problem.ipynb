{
 "metadata": {
  "name": ""
 },
 "nbformat": 3,
 "nbformat_minor": 0,
 "worksheets": [
  {
   "cells": [
    {
     "cell_type": "code",
     "collapsed": false,
     "input": [
      "import numpy as np\n",
      "from direct_sample import Direct_Sample\n",
      "from sft import SFT\n",
      "from sft_net import SFTNet\n",
      "import networkx as nx\n",
      "from IPython.display import HTML\n",
      "from tools import gen_trans_frame, gen_data\n",
      "from roc import get_roc_coords, handle_parallel_res, plot_anomaly_roc, plot_our_roc\n",
      "from adsy.display import extended_styles\n"
     ],
     "language": "python",
     "metadata": {},
     "outputs": [],
     "prompt_number": 2
    },
    {
     "cell_type": "code",
     "collapsed": false,
     "input": [
      "extended_styles()"
     ],
     "language": "python",
     "metadata": {},
     "outputs": [
      {
       "html": [
        "\n",
        "        <script type=\"text/javascript\">\n",
        "        var toggleInput;\n",
        "        (function() {\n",
        "            var inputInterval;\n",
        "            var intervalCount = 0;\n",
        "            var init = false;\n",
        "            var inputUp = false;\n",
        "            toggleInput = function() {\n",
        "                if(inputUp) {\n",
        "                    $('div.input').slideDown();\n",
        "                    $('div.code_cell').attr('style', '');\n",
        "                }\n",
        "                else {\n",
        "                    $('div.input').slideUp();\n",
        "                    $('div.code_cell').attr('style', 'padding: 0px; margin: 0px');\n",
        "                }\n",
        "                inputUp = !inputUp;\n",
        "                init = true;\n",
        "            }\n",
        "            function initExtendedStyles() {\n",
        "                if(intervalCount > 15) {\n",
        "                    clearInterval(inputInterval);\n",
        "                }\n",
        "                intervalCount += 1;\n",
        "                try {\n",
        "                    toggleInput();\n",
        "                    clearInterval(inputInterval);\n",
        "                } catch(e) {}\n",
        "            }\n",
        "            if (typeof jQuery == 'undefined') {\n",
        "                // if jQuery Library is not loaded\n",
        "                var script = document.createElement( 'script' );\n",
        "                script.type = 'text/javascript';\n",
        "                script.src = 'https://ajax.googleapis.com/ajax/libs/jquery/1.8.3/jquery.min.js';\n",
        "                document.body.appendChild(script);\n",
        "            }\n",
        "\n",
        "            setTimeout(initExtendedStyles, 200);\n",
        "            // jQuery is doing this interval trick\n",
        "            // I guess its the way to do it then.\n",
        "            inputInterval = setInterval(initExtendedStyles, 1000);\n",
        "        }());\n",
        "        </script>\n",
        "       <a href=\"javascript:toggleInput()\">Toggle Input</a>\n",
        "        "
       ],
       "metadata": {},
       "output_type": "pyout",
       "prompt_number": 3,
       "text": [
        "<IPython.core.display.HTML at 0x31c80d0>"
       ]
      }
     ],
     "prompt_number": 3
    },
    {
     "cell_type": "code",
     "collapsed": false,
     "input": [
      "A = SFT('A', ['normal' , 'infected'], ['B', 'F'], \n",
      "    {'B': np.array([[.5, 0], [.5,.01]]), 'F' : np.array([[.5, 0], [.5, .01]])},\n",
      "    ['clean', 'malicious'], 'external')\n",
      "\n",
      "\n",
      "B = SFT('B', ['normal' , 'infected'], [ 'E'], \n",
      "    {'E' : np.array([[.25, 0], [.25, .01]])},\n",
      "    ['clean', 'malicious'], 'internal')\n",
      "\n",
      "C = SFT('C', ['normal' , 'infected'], ['E'],\n",
      "    {'E': np.array([[.1, 0], [.1,.01]])},\n",
      "    ['clean', 'malicious'], 'internal')\n",
      "# C sends messages to A, B and F\n",
      "\n",
      "\n",
      "D = SFT('D', ['normal' , 'infected'], ['E'], \n",
      "    {'E': np.array([[2, 0], [2,.01]])},\n",
      "    ['clean', 'malicious'], 'internal')\n",
      "# D sends nodes to A, C and F\n",
      "\n",
      "E = SFT('E', ['normal' , 'infected'], ['A', 'B', 'C', 'D', 'F', 'E1'], \n",
      "    {'A': np.array([[.5, 0], [.5,.001]]), 'B': np.array([[.5,0], [.5, .001]]), \n",
      "     'C': np.array([[.5,0], [.5, .001]]), 'D' : np.array([[.5, 0], [.5, .001]]), \n",
      "     'F' : np.array([[.5, 0], [.5, .001]]),\n",
      "      'E1': np.array([[.01,0],[.01, .001]])},\n",
      "    ['clean', 'malicious'], 'internal')\n",
      "# E (slowly) sends nodes to A, B, C and F\n",
      "\n",
      "F = SFT('F', ['normal' , 'infected'], ['A1', 'E'], \n",
      "    {'A1': np.array([[.01, 0], [.01,.01]]), 'E' : np.array([[.25, 0], [.25, .01]])},\n",
      "    ['clean', 'malicious'], 'external')\n",
      "# F sends nodes to A and E\n",
      "\n",
      "A1 = SFT('A1', ['normal' , 'infected'], ['B1', 'F1'], \n",
      "    {'B1': np.array([[.5, 0], [.5,.01]]), 'F1' : np.array([[.5, 0], [.5, .01]])},\n",
      "    ['clean', 'malicious'], 'external')\n",
      "# Node A sends messages to B and F\n",
      "\n",
      "B1 = SFT('B1', ['normal' , 'infected'], [ 'E1'], \n",
      "    {'E1' : np.array([[.5, 0], [.5, .01]])},\n",
      "    ['clean', 'malicious'], 'internal')\n",
      "# B sends messages to A, D and F\n",
      "C1 = SFT('C1', ['normal' , 'infected'], ['D1', 'E1'],\n",
      "    {'D1': np.array([[.2, 0], [.2,.04]]),\n",
      "     'E1': np.array([[.8, 0], [.8,.02]])},\n",
      "    ['clean', 'malicious'], 'internal')\n",
      "# C sends messages to A, B and F\n",
      "\n",
      "\n",
      "D1 = SFT('D1', ['normal' , 'infected'], ['F'], \n",
      "    {'F': np.array([[.5, 0], [.5,.01]])},\n",
      "    ['clean', 'malicious'], 'internal')\n",
      "# D sends nodes to A, C and F\n",
      "\n",
      "E1 = SFT('E1', ['normal' , 'infected'], ['A1', 'B1', 'C1', 'D1', 'F1'], \n",
      "    {'A1': np.array([[.5, 0], [.5,.001]]), 'B1': np.array([[.5,0], [.5, .001]]), \n",
      "     'C1': np.array([[.5,0], [.5, .001]]), 'D1' : np.array([[.5, 0], [.5, .001]]), 'F1' : np.array([[.5, 0], [.5, .001]])},\n",
      "    ['clean', 'malicious'], 'internal')\n",
      "# E (slowly) sends nodes to A, B, C and F\n",
      "\n",
      "F1 = SFT('F1', ['normal' , 'infected'], ['C', 'E1'], \n",
      "    {'C': np.array([[1, 0], [1,.001]]), 'E1' : np.array([[1, 0], [1, .001]])},\n",
      "    ['clean', 'malicious'], 'external')\n",
      "# F sends nodes to A and E\n",
      "\n",
      "nodes = [A, B,C,D,E,F, A1, B1,C1,D1,E1,F1]\n",
      "net = SFTNet(nodes)\n",
      "s0 = {'A': 'infected', 'B': 'normal', 'C': 'normal', 'D': 'normal', 'E': 'normal', 'F': 'normal', \n",
      "      'A1': 'normal', 'B1': 'normal', 'C1': 'normal', 'D1': 'normal', 'E1': 'normal', 'F1': 'normal'}"
     ],
     "language": "python",
     "metadata": {},
     "outputs": [],
     "prompt_number": 149
    },
    {
     "cell_type": "code",
     "collapsed": false,
     "input": [
      "rates = gen_trans_frame(net)\n",
      "ix = rates['normal-clean rate'] >0\n",
      "HTML(rates[ix].to_html())"
     ],
     "language": "python",
     "metadata": {},
     "outputs": [
      {
       "html": [
        "<table border=\"1\" class=\"dataframe\">\n",
        "  <thead>\n",
        "    <tr style=\"text-align: right;\">\n",
        "      <th></th>\n",
        "      <th></th>\n",
        "      <th>normal-clean rate</th>\n",
        "      <th>infected-clean rate</th>\n",
        "      <th>infected-malicious rate</th>\n",
        "    </tr>\n",
        "    <tr>\n",
        "      <th>sender</th>\n",
        "      <th>receiver</th>\n",
        "      <th></th>\n",
        "      <th></th>\n",
        "      <th></th>\n",
        "    </tr>\n",
        "  </thead>\n",
        "  <tbody>\n",
        "    <tr>\n",
        "      <th rowspan=\"2\" valign=\"top\">A</th>\n",
        "      <th>B</th>\n",
        "      <td> 0.50</td>\n",
        "      <td> 0.50</td>\n",
        "      <td> 0.010</td>\n",
        "    </tr>\n",
        "    <tr>\n",
        "      <th>F</th>\n",
        "      <td> 0.50</td>\n",
        "      <td> 0.50</td>\n",
        "      <td> 0.010</td>\n",
        "    </tr>\n",
        "    <tr>\n",
        "      <th>B</th>\n",
        "      <th>E</th>\n",
        "      <td> 0.25</td>\n",
        "      <td> 0.25</td>\n",
        "      <td> 0.010</td>\n",
        "    </tr>\n",
        "    <tr>\n",
        "      <th>C</th>\n",
        "      <th>E</th>\n",
        "      <td> 0.10</td>\n",
        "      <td> 0.10</td>\n",
        "      <td> 0.010</td>\n",
        "    </tr>\n",
        "    <tr>\n",
        "      <th>D</th>\n",
        "      <th>E</th>\n",
        "      <td> 2.00</td>\n",
        "      <td> 2.00</td>\n",
        "      <td> 0.010</td>\n",
        "    </tr>\n",
        "    <tr>\n",
        "      <th rowspan=\"6\" valign=\"top\">E</th>\n",
        "      <th>A</th>\n",
        "      <td> 0.50</td>\n",
        "      <td> 0.50</td>\n",
        "      <td> 0.001</td>\n",
        "    </tr>\n",
        "    <tr>\n",
        "      <th>B</th>\n",
        "      <td> 0.50</td>\n",
        "      <td> 0.50</td>\n",
        "      <td> 0.001</td>\n",
        "    </tr>\n",
        "    <tr>\n",
        "      <th>C</th>\n",
        "      <td> 0.50</td>\n",
        "      <td> 0.50</td>\n",
        "      <td> 0.001</td>\n",
        "    </tr>\n",
        "    <tr>\n",
        "      <th>D</th>\n",
        "      <td> 0.50</td>\n",
        "      <td> 0.50</td>\n",
        "      <td> 0.001</td>\n",
        "    </tr>\n",
        "    <tr>\n",
        "      <th>F</th>\n",
        "      <td> 0.50</td>\n",
        "      <td> 0.50</td>\n",
        "      <td> 0.001</td>\n",
        "    </tr>\n",
        "    <tr>\n",
        "      <th>E1</th>\n",
        "      <td> 0.01</td>\n",
        "      <td> 0.01</td>\n",
        "      <td> 0.001</td>\n",
        "    </tr>\n",
        "    <tr>\n",
        "      <th rowspan=\"2\" valign=\"top\">F</th>\n",
        "      <th>E</th>\n",
        "      <td> 0.25</td>\n",
        "      <td> 0.25</td>\n",
        "      <td> 0.010</td>\n",
        "    </tr>\n",
        "    <tr>\n",
        "      <th>A1</th>\n",
        "      <td> 0.01</td>\n",
        "      <td> 0.01</td>\n",
        "      <td> 0.010</td>\n",
        "    </tr>\n",
        "    <tr>\n",
        "      <th rowspan=\"2\" valign=\"top\">A1</th>\n",
        "      <th>B1</th>\n",
        "      <td> 0.50</td>\n",
        "      <td> 0.50</td>\n",
        "      <td> 0.010</td>\n",
        "    </tr>\n",
        "    <tr>\n",
        "      <th>F1</th>\n",
        "      <td> 0.50</td>\n",
        "      <td> 0.50</td>\n",
        "      <td> 0.010</td>\n",
        "    </tr>\n",
        "    <tr>\n",
        "      <th>B1</th>\n",
        "      <th>E1</th>\n",
        "      <td> 0.50</td>\n",
        "      <td> 0.50</td>\n",
        "      <td> 0.010</td>\n",
        "    </tr>\n",
        "    <tr>\n",
        "      <th rowspan=\"2\" valign=\"top\">C1</th>\n",
        "      <th>D1</th>\n",
        "      <td> 0.20</td>\n",
        "      <td> 0.20</td>\n",
        "      <td> 0.040</td>\n",
        "    </tr>\n",
        "    <tr>\n",
        "      <th>E1</th>\n",
        "      <td> 0.80</td>\n",
        "      <td> 0.80</td>\n",
        "      <td> 0.020</td>\n",
        "    </tr>\n",
        "    <tr>\n",
        "      <th>D1</th>\n",
        "      <th>F</th>\n",
        "      <td> 0.50</td>\n",
        "      <td> 0.50</td>\n",
        "      <td> 0.010</td>\n",
        "    </tr>\n",
        "    <tr>\n",
        "      <th rowspan=\"5\" valign=\"top\">E1</th>\n",
        "      <th>A1</th>\n",
        "      <td> 0.50</td>\n",
        "      <td> 0.50</td>\n",
        "      <td> 0.001</td>\n",
        "    </tr>\n",
        "    <tr>\n",
        "      <th>B1</th>\n",
        "      <td> 0.50</td>\n",
        "      <td> 0.50</td>\n",
        "      <td> 0.001</td>\n",
        "    </tr>\n",
        "    <tr>\n",
        "      <th>C1</th>\n",
        "      <td> 0.50</td>\n",
        "      <td> 0.50</td>\n",
        "      <td> 0.001</td>\n",
        "    </tr>\n",
        "    <tr>\n",
        "      <th>D1</th>\n",
        "      <td> 0.50</td>\n",
        "      <td> 0.50</td>\n",
        "      <td> 0.001</td>\n",
        "    </tr>\n",
        "    <tr>\n",
        "      <th>F1</th>\n",
        "      <td> 0.50</td>\n",
        "      <td> 0.50</td>\n",
        "      <td> 0.001</td>\n",
        "    </tr>\n",
        "    <tr>\n",
        "      <th rowspan=\"2\" valign=\"top\">F1</th>\n",
        "      <th>C</th>\n",
        "      <td> 1.00</td>\n",
        "      <td> 1.00</td>\n",
        "      <td> 0.001</td>\n",
        "    </tr>\n",
        "    <tr>\n",
        "      <th>E1</th>\n",
        "      <td> 1.00</td>\n",
        "      <td> 1.00</td>\n",
        "      <td> 0.001</td>\n",
        "    </tr>\n",
        "  </tbody>\n",
        "</table>"
       ],
       "metadata": {},
       "output_type": "pyout",
       "prompt_number": 153,
       "text": [
        "<IPython.core.display.HTML at 0x97ebb90>"
       ]
      }
     ],
     "prompt_number": 153
    },
    {
     "cell_type": "code",
     "collapsed": false,
     "input": [
      "def draw_graph_with_rates(net, s0_in):\n",
      "    G=nx.DiGraph()\n",
      "    G.add_nodes_from(s0_in.keys())\n",
      "    edges = []\n",
      "    for node in net.node_names:\n",
      "        for onode in net.node_dict[node].sends_to:\n",
      "            edges.append((node, onode))\n",
      "    G.add_edges_from(edges)\n",
      "    theta = np.arange(0, 720, len(s0_in.keys()))\n",
      "    pos = {}\n",
      "    for i in range(len(s0_in.keys())):\n",
      "        pos[s0_in.keys()[i]] = (np.cos(i), np.sin(i))\n",
      "    pos['E'] = (0,0)\n",
      "    pos['A'] = (0,-1)\n",
      "    pos['B'] = (1, 0)\n",
      "    pos['C'] = (0, 1)\n",
      "    pos['D'] = (-1,0)\n",
      "    pos['F'] = (1,-1)\n",
      "    \n",
      "    try :\n",
      "        pos['E1'] = (4, -1)\n",
      "        pos['A1'] = (4, -2)\n",
      "        pos['B1'] = (5, -1)\n",
      "        pos['C1'] = (4, 0 )\n",
      "        pos['D1'] = (3, -1)\n",
      "        pos['F1'] = (2, -2)\n",
      "    except KeyError:\n",
      "        pass\n",
      "    val_map = {}\n",
      "    for (key, val) in s0_in.iteritems():\n",
      "        if val=='infected':\n",
      "            val_map[key] ='r'\n",
      "        else: \n",
      "            val_map[key] = '.85'\n",
      "    values = [val_map.get(node, .25) for node in G.nodes()]\n",
      "    a= nx.draw(G, pos=pos, node_color = values, arrows=True)\n",
      "    return a"
     ],
     "language": "python",
     "metadata": {},
     "outputs": [],
     "prompt_number": 154
    },
    {
     "cell_type": "code",
     "collapsed": false,
     "input": [
      "n= draw_graph_with_rates(net, s0)"
     ],
     "language": "python",
     "metadata": {},
     "outputs": [
      {
       "metadata": {},
       "output_type": "display_data",
       "png": "[encoded data removed]",
       "text": [
        "<matplotlib.figure.Figure at 0xa19f650>"
       ]
      }
     ],
     "prompt_number": 155
    },
    {
     "cell_type": "markdown",
     "metadata": {},
     "source": [
      "Let's look at the problem,  Here we only sample $\\bar{z}, s$ 1000 times"
     ]
    },
    {
     "cell_type": "code",
     "collapsed": false,
     "input": [
      "percore = 100\n",
      "net_input = net\n",
      "s_input = s0\n",
      "def f1(x):\n",
      "    return get_roc_coords(x, percore, percore, net_input, s0=s_input , \\\n",
      "                                  T=1000, method='direct', directsamps=1000, printsteps=False)\n",
      "from multiprocessing import Pool\n",
      "p = Pool(8)\n",
      "results_good_better = p.map(f1, list(np.random.randint(0, 10000, 8)))"
     ],
     "language": "python",
     "metadata": {},
     "outputs": [],
     "prompt_number": 156
    },
    {
     "cell_type": "code",
     "collapsed": false,
     "input": [
      "pos_5, neg_5 = handle_parallel_res(results_good_better)\n",
      "our_roc_pts = np.asarray(plot_our_roc(pos_5, neg_5, .001))\n",
      "anom_roc_pts = np.asarray(plot_anomaly_roc(pos_5, neg_5, .0001))\n",
      "plot(our_roc_pts[:,0], our_roc_pts[:,1], label =' Our likelihood ratio')\n",
      "plot(anom_roc_pts[:,0], anom_roc_pts[:,1], label = 'anomaly detector')\n",
      "plt.xlim(0,1)\n",
      "plt.legend(loc=0)"
     ],
     "language": "python",
     "metadata": {},
     "outputs": [
      {
       "metadata": {},
       "output_type": "pyout",
       "prompt_number": 157,
       "text": [
        "<matplotlib.legend.Legend at 0x940b610>"
       ]
      },
      {
       "metadata": {},
       "output_type": "display_data",
       "png": "[encoded data removed]",
       "text": [
        "<matplotlib.figure.Figure at 0xa7f3050>"
       ]
      }
     ],
     "prompt_number": 157
    },
    {
     "cell_type": "markdown",
     "metadata": {},
     "source": [
      "Yuck...Before diving in, let's do the same experiment with T=2000 instead of 1000."
     ]
    },
    {
     "cell_type": "heading",
     "level": 2,
     "metadata": {},
     "source": [
      "Let's up T to 2000"
     ]
    },
    {
     "cell_type": "code",
     "collapsed": false,
     "input": [
      "percore = 100\n",
      "net_input = net\n",
      "s_input = s0\n",
      "def f1(x):\n",
      "    return get_roc_coords(x, percore, percore, net_input, s0=s_input , \\\n",
      "                                  T=2000, method='direct', directsamps=2000, printsteps=False)\n",
      "from multiprocessing import Pool\n",
      "p = Pool(8)\n",
      "results_2 = p.map(f1, list(np.random.randint(0, 10000, 8)))"
     ],
     "language": "python",
     "metadata": {},
     "outputs": [],
     "prompt_number": 8
    },
    {
     "cell_type": "code",
     "collapsed": false,
     "input": [
      "pos_5, neg_5 = handle_parallel_res(results_2)\n",
      "our_roc_pts = np.asarray(plot_our_roc(pos_5, neg_5, .001))\n",
      "anom_roc_pts = np.asarray(plot_anomaly_roc(pos_5, neg_5, .001))\n",
      "plot(our_roc_pts[:,0], our_roc_pts[:,1], label =' Our likelihood ratio')\n",
      "plot(anom_roc_pts[:,0], anom_roc_pts[:,1], label = 'anomaly detector')\n",
      "plt.xlim(0,1)\n",
      "plt.legend(loc=0)"
     ],
     "language": "python",
     "metadata": {},
     "outputs": [
      {
       "metadata": {},
       "output_type": "pyout",
       "prompt_number": 9,
       "text": [
        "<matplotlib.legend.Legend at 0x8c378d0>"
       ]
      },
      {
       "metadata": {},
       "output_type": "display_data",
       "png": "[encoded data removed]",
       "text": [
        "<matplotlib.figure.Figure at 0x8688b10>"
       ]
      }
     ],
     "prompt_number": 9
    },
    {
     "cell_type": "markdown",
     "metadata": {},
     "source": [
      "We see that just with a higher T, our detector does better"
     ]
    },
    {
     "cell_type": "heading",
     "level": 2,
     "metadata": {},
     "source": [
      "Now let's bring T back down to 1000 but double ALL the rates"
     ]
    },
    {
     "cell_type": "code",
     "collapsed": false,
     "input": [
      "A = SFT('A', ['normal' , 'infected'], ['B', 'F'], \n",
      "    {'B': np.array([[.5, 0], [.5,.01]]) * 2, 'F' : 2* np.array([[.5, 0], [.5, .01]])},\n",
      "    ['clean', 'malicious'], 'external')\n",
      "\n",
      "\n",
      "B = SFT('B', ['normal' , 'infected'], [ 'E'], \n",
      "    {'E' : 2* np.array([[.25, 0], [.25, .01]])},\n",
      "    ['clean', 'malicious'], 'internal')\n",
      "\n",
      "C = SFT('C', ['normal' , 'infected'], ['E'],\n",
      "    {'E': 2 * np.array([[.1, 0], [.1,.01]])},\n",
      "    ['clean', 'malicious'], 'internal')\n",
      "# C sends messages to A, B and F\n",
      "\n",
      "\n",
      "D = SFT('D', ['normal' , 'infected'], ['E'], \n",
      "    {'E': 2* np.array([[2, 0], [2,.01]])},\n",
      "    ['clean', 'malicious'], 'internal')\n",
      "# D sends nodes to A, C and F\n",
      "\n",
      "E = SFT('E', ['normal' , 'infected'], ['A', 'B', 'C', 'D', 'F', 'E1'], \n",
      "    {'A': 2 * np.array([[.5, 0], [.5,.001]]), 'B': 2 * np.array([[.5,0], [.5, .001]]), \n",
      "     'C': 2 * np.array([[.5,0], [.5, .001]]), 'D' : 2 * np.array([[.5, 0], [.5, .001]]), \n",
      "     'F' : 2 * np.array([[.5, 0], [.5, .001]]),\n",
      "      'E1': 2 * np.array([[.01,0],[.01, .001]])},\n",
      "    ['clean', 'malicious'], 'internal')\n",
      "# E (slowly) sends nodes to A, B, C and F\n",
      "\n",
      "F = SFT('F', ['normal' , 'infected'], ['A1', 'E'], \n",
      "    {'A1': 2 * np.array([[.01, 0], [.01,.01]]), 'E' : 2 * np.array([[.25, 0], [.25, .01]])},\n",
      "    ['clean', 'malicious'], 'external')\n",
      "# F sends nodes to A and E\n",
      "\n",
      "A1 = SFT('A1', ['normal' , 'infected'], ['B1', 'F1'], \n",
      "    {'B1': 2 * np.array([[.5, 0], [.5,.01]]), 'F1' : 2 * np.array([[.5, 0], [.5, .01]])},\n",
      "    ['clean', 'malicious'], 'external')\n",
      "# Node A sends messages to B and F\n",
      "\n",
      "B1 = SFT('B1', ['normal' , 'infected'], [ 'E1'], \n",
      "    {'E1' : 2 * np.array([[.5, 0], [.5, .01]])},\n",
      "    ['clean', 'malicious'], 'internal')\n",
      "# B sends messages to A, D and F\n",
      "C1 = SFT('C1', ['normal' , 'infected'], ['D1', 'E1'],\n",
      "    {'D1': 2 * np.array([[.2, 0], [.2,.04]]),\n",
      "     'E1': 2 * np.array([[.8, 0], [.8,.02]])},\n",
      "    ['clean', 'malicious'], 'internal')\n",
      "# C sends messages to A, B and F\n",
      "\n",
      "\n",
      "D1 = SFT('D1', ['normal' , 'infected'], ['F'], \n",
      "    {'F': 2 * np.array([[.5, 0], [.5,.01]])},\n",
      "    ['clean', 'malicious'], 'internal')\n",
      "# D sends nodes to A, C and F\n",
      "\n",
      "E1 = SFT('E1', ['normal' , 'infected'], ['A1', 'B1', 'C1', 'D1', 'F1'], \n",
      "    {'A1': 2 * np.array([[.5, 0], [.5,.001]]), 'B1': 2 * np.array([[.5,0], [.5, .001]]), \n",
      "     'C1': 2 * np.array([[.5,0], [.5, .001]]), 'D1' : 2 * np.array([[.5, 0], [.5, .001]]), 'F1' : 2 * np.array([[.5, 0], [.5, .001]])},\n",
      "    ['clean', 'malicious'], 'internal')\n",
      "# E (slowly) sends nodes to A, B, C and F\n",
      "\n",
      "F1 = SFT('F1', ['normal' , 'infected'], ['C', 'E1'], \n",
      "    {'C': 2 * np.array([[1, 0], [1,.001]]), 'E1' : 2 * np.array([[1, 0], [1, .001]])},\n",
      "    ['clean', 'malicious'], 'external')\n",
      "# F sends nodes to A and E\n",
      "\n",
      "nodes = [A, B,C,D,E,F, A1, B1,C1,D1,E1,F1]\n",
      "net = SFTNet(nodes)\n",
      "s0 = {'A': 'infected', 'B': 'normal', 'C': 'normal', 'D': 'normal', 'E': 'normal', 'F': 'normal', \n",
      "      'A1': 'normal', 'B1': 'normal', 'C1': 'normal', 'D1': 'normal', 'E1': 'normal', 'F1': 'normal'}"
     ],
     "language": "python",
     "metadata": {},
     "outputs": [],
     "prompt_number": 158
    },
    {
     "cell_type": "code",
     "collapsed": false,
     "input": [
      "percore = 100\n",
      "net_input = net\n",
      "s_input = s0\n",
      "def f1(x):\n",
      "    return get_roc_coords(x, percore, percore, net_input, s0=s_input , \\\n",
      "                                  T=1000, method='direct', directsamps=2000, printsteps=False)\n",
      "from multiprocessing import Pool\n",
      "p = Pool(8)\n",
      "results_3 = p.map(f1, list(np.random.randint(0, 10000, 8)))"
     ],
     "language": "python",
     "metadata": {},
     "outputs": [],
     "prompt_number": 15
    },
    {
     "cell_type": "code",
     "collapsed": false,
     "input": [
      "pos_5, neg_5 = handle_parallel_res(results_3)\n",
      "our_roc_pts = np.asarray(plot_our_roc(pos_5, neg_5, .001))\n",
      "anom_roc_pts = np.asarray(plot_anomaly_roc(pos_5, neg_5, .001))\n",
      "plot(our_roc_pts[:,0], our_roc_pts[:,1], label =' Our likelihood ratio')\n",
      "plot(anom_roc_pts[:,0], anom_roc_pts[:,1], label = 'anomaly detector')\n",
      "plt.xlim(0,1)\n",
      "plt.legend(loc=0)"
     ],
     "language": "python",
     "metadata": {},
     "outputs": [
      {
       "metadata": {},
       "output_type": "pyout",
       "prompt_number": 16,
       "text": [
        "<matplotlib.legend.Legend at 0x9037cd0>"
       ]
      },
      {
       "metadata": {},
       "output_type": "display_data",
       "png": "[encoded data removed]",
       "text": [
        "<matplotlib.figure.Figure at 0x8687a90>"
       ]
      }
     ],
     "prompt_number": 16
    },
    {
     "cell_type": "markdown",
     "metadata": {},
     "source": [
      "So, even when we raise the normal and the clean rates proportionally, we see that once again our anomaly detector does better,"
     ]
    },
    {
     "cell_type": "heading",
     "level": 2,
     "metadata": {},
     "source": [
      "What about with the increased rate but T=500?"
     ]
    },
    {
     "cell_type": "code",
     "collapsed": false,
     "input": [
      "percore = 50\n",
      "net_input = net\n",
      "s_input = s0\n",
      "def f1(x):\n",
      "    return get_roc_coords(x, percore, percore, net_input, s0=s_input , \\\n",
      "                                  T=500, method='direct', directsamps=1000, printsteps=False)\n",
      "from multiprocessing import Pool\n",
      "p = Pool(8)\n",
      "results_4 = p.map(f1, list(np.random.randint(0, 10000, 8)))"
     ],
     "language": "python",
     "metadata": {},
     "outputs": [],
     "prompt_number": 24
    },
    {
     "cell_type": "code",
     "collapsed": false,
     "input": [
      "pos_5, neg_5 = handle_parallel_res(results_4)\n",
      "our_roc_pts = np.asarray(plot_our_roc(pos_5, neg_5, .001))\n",
      "anom_roc_pts = np.asarray(plot_anomaly_roc(pos_5, neg_5, .001))\n",
      "plot(our_roc_pts[:,0], our_roc_pts[:,1], label =' Our likelihood ratio')\n",
      "plot(anom_roc_pts[:,0], anom_roc_pts[:,1], label = 'anomaly detector')\n",
      "plt.xlim(0,1)\n",
      "plt.legend(loc=0)\n",
      "plt.show()"
     ],
     "language": "python",
     "metadata": {},
     "outputs": [
      {
       "metadata": {},
       "output_type": "display_data",
       "png": "[encoded data removed]",
       "text": [
        "<matplotlib.figure.Figure at 0x656fb50>"
       ]
      }
     ],
     "prompt_number": 28
    },
    {
     "cell_type": "markdown",
     "metadata": {},
     "source": [
      "Again, we see an ROC where the anomaly detector seems to do better"
     ]
    },
    {
     "cell_type": "markdown",
     "metadata": {},
     "source": [
      "This looks more like the \"bad\" case.  It seems as that the superiority of the algorithm depends on the ratio of rates to T"
     ]
    },
    {
     "cell_type": "markdown",
     "metadata": {},
     "source": [
      "Just to make sure we are running long enough, let's bump the number of MCMC samples to 100000.  This is with T=500 and \n",
      "the doubled rates,"
     ]
    },
    {
     "cell_type": "code",
     "collapsed": false,
     "input": [
      "percore = 25\n",
      "net_input = net\n",
      "s_input = s0\n",
      "def f1(x):\n",
      "    return get_roc_coords(x, percore, percore, net_input, s0=s_input , \\\n",
      "                                  T=500, method='direct', directsamps=100000, printsteps=False)\n",
      "from multiprocessing import Pool\n",
      "p = Pool(8)\n",
      "results_tons_of_samps = p.map(f1, list(np.random.randint(0, 10000, 8)))"
     ],
     "language": "python",
     "metadata": {},
     "outputs": [],
     "prompt_number": 35
    },
    {
     "cell_type": "code",
     "collapsed": false,
     "input": [
      "pos_5, neg_5 = handle_parallel_res(results_tons_of_samps)\n",
      "our_roc_pts = np.asarray(plot_our_roc(pos_5, neg_5, .001))\n",
      "anom_roc_pts = np.asarray(plot_anomaly_roc(pos_5, neg_5, .001))\n",
      "plot(our_roc_pts[:,0], our_roc_pts[:,1], label =' Our likelihood ratio')\n",
      "plot(anom_roc_pts[:,0], anom_roc_pts[:,1], label = 'anomaly detector')\n",
      "plt.xlim(0,1)\n",
      "plt.legend(loc=0)"
     ],
     "language": "python",
     "metadata": {},
     "outputs": [
      {
       "metadata": {},
       "output_type": "pyout",
       "prompt_number": 36,
       "text": [
        "<matplotlib.legend.Legend at 0x614ca50>"
       ]
      },
      {
       "metadata": {},
       "output_type": "display_data",
       "png": "[encoded data removed]",
       "text": [
        "<matplotlib.figure.Figure at 0x6d0d210>"
       ]
      }
     ],
     "prompt_number": 36
    },
    {
     "cell_type": "markdown",
     "metadata": {},
     "source": [
      "With more samples, ours does better!"
     ]
    },
    {
     "cell_type": "code",
     "collapsed": false,
     "input": [
      "percore = 100\n",
      "net_input = net\n",
      "s_input = s0\n",
      "def f1(x):\n",
      "    return get_roc_coords(x, percore, percore, net_input, s0=s_input , \\\n",
      "                                  T=500, method='direct', directsamps=100000, printsteps=False)\n",
      "from multiprocessing import Pool\n",
      "p = Pool(8)\n",
      "results_tons_of_samps = p.map(f1, list(np.random.randint(0, 10000, 8)))"
     ],
     "language": "python",
     "metadata": {},
     "outputs": [],
     "prompt_number": 37
    },
    {
     "cell_type": "code",
     "collapsed": false,
     "input": [
      "pos_5, neg_5 = handle_parallel_res(results_tons_of_samps)\n",
      "our_roc_pts = np.asarray(plot_our_roc(pos_5, neg_5, .001))\n",
      "anom_roc_pts = np.asarray(plot_anomaly_roc(pos_5, neg_5, .001))\n",
      "plot(our_roc_pts[:,0], our_roc_pts[:,1], label =' Our likelihood ratio')\n",
      "plot(anom_roc_pts[:,0], anom_roc_pts[:,1], label = 'anomaly detector')\n",
      "plt.xlim(0,1)\n",
      "plt.legend(loc=0)"
     ],
     "language": "python",
     "metadata": {},
     "outputs": [
      {
       "metadata": {},
       "output_type": "pyout",
       "prompt_number": 38,
       "text": [
        "<matplotlib.legend.Legend at 0x77086d0>"
       ]
      },
      {
       "metadata": {},
       "output_type": "display_data",
       "png": "[encoded data removed]",
       "text": [
        "<matplotlib.figure.Figure at 0x617d710>"
       ]
      }
     ],
     "prompt_number": 38
    },
    {
     "cell_type": "markdown",
     "metadata": {},
     "source": [
      "This is the original \"bad case\" but now with $N=100000$"
     ]
    },
    {
     "cell_type": "markdown",
     "metadata": {},
     "source": [
      "Recall that our estimate of the likelihood also has a distirbution.  That means, if we repeatedly estimate the *same* dataset, we will not get the same estimate.  My claim is that if the distribution of the estimate is skewed (fat part to the left, \n",
      "skinny part to the right, I forget if this is positive or negative skew), our small sample ROC can see some troubles.  \n",
      "\n",
      "Consider 1 realization of network activity.  Suppose we are interested in classifying that realization as either an \n",
      "infected or clean net based on a likelihood ratio threshold of 10.  That is, if the log likelihood ratio \n",
      "$\\frac{P(\\text{data} | \\text{attacker})}{P(\\text{data} | \\text{ no attacker})}$  is less than 10, we consider the net not to\n",
      "be infected.  If it is greater than 10, we classify the net as infected.  Consider a case when there is an attacker. Suppose that if we could calculate the numeratpr without an approximation (i.e. closed form solution), the likelihood ratio is $10.5$.  Therefore, at a threshold of 10, we would classify that realization as a positive and we would be correct.  That is, we found a true positive.  \n",
      "\n",
      "However, we do not (yet) have a closed form solution.  That means that even though the exact value of the likelihood would lead to a correct classification, our estimate may be significantly far enough away from the exact value that we actually \n",
      "classify the positive as a negative.  For example, suppose that due to variance in the Monte Carlo estimate, we actually \n",
      "estimate the likeligood ratio to be 9.5.  This would lead to a false negative classification.  \n",
      "\n",
      "Now, if the distribution around the *exact* (i.e. closed form) value of the likelihood was symmetric and identical (I'm sure\n",
      "there is a more formal term for these two conditions and I'm sure there are looser assumptions that capture the same idea) for any realization of the data, this misclassification would be cancelled out.  For example, consider another dataset with an attacker whose exact likelihood value is 9.5.  If the distribution of the MC estimate for this dataset was symmetric *and* the same for the case when the *exact* likelihood is 10.5, then the probability of this being classified as a positive when the threshold is 10 is the same as the data with a likelihood of a 10.5 being classified as a negative.  Therefore, there \n",
      "would be a \"wash\".  \n",
      "\n",
      "Now, suppose that instead of the distirbution being symmetric around the exact likelihood value, the **median** is actually \n",
      "less than the exact value.  That means that for a dateset that has an exact likelihood of say 10.000000000001, more than half \n",
      "of the time it will be classified as a false negative (since the median is less than 10).  However, if we were to raise the \n",
      "number of samples so that the MC approximation was always exactly the closed form value, then this realization of the data\n",
      "would always be classified as a true positive.  Therefore we see that when we raise the number of samples, we get better \n",
      "classification performance for a single realization.  \n",
      "  "
     ]
    },
    {
     "cell_type": "code",
     "collapsed": false,
     "input": [],
     "language": "python",
     "metadata": {},
     "outputs": [],
     "prompt_number": 160
    },
    {
     "cell_type": "code",
     "collapsed": false,
     "input": [],
     "language": "python",
     "metadata": {},
     "outputs": []
    }
   ],
   "metadata": {}
  }
 ]
}