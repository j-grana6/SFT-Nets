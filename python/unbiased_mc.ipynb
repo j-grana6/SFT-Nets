{
 "metadata": {
  "name": ""
 },
 "nbformat": 3,
 "nbformat_minor": 0,
 "worksheets": [
  {
   "cells": [
    {
     "cell_type": "code",
     "collapsed": false,
     "input": [
      "import numpy as np\n",
      "import networkx as nx\n",
      "import matplotlib.pyplot as plt\n",
      "from adsy.display import extended_styles\n",
      "from IPython.display import HTML\n",
      "from tools import gen_data, gen_trans_frame\n",
      "from direct_sample import Direct_Sample\n",
      "from sft import SFT\n",
      "from sft_net import SFTNet\n",
      "%matplotlib inline"
     ],
     "language": "python",
     "metadata": {},
     "outputs": [],
     "prompt_number": 43
    },
    {
     "cell_type": "code",
     "collapsed": false,
     "input": [
      "extended_styles()"
     ],
     "language": "python",
     "metadata": {},
     "outputs": [
      {
       "html": [
        "\n",
        "        <script type=\"text/javascript\">\n",
        "        var toggleInput;\n",
        "        (function() {\n",
        "            var inputInterval;\n",
        "            var intervalCount = 0;\n",
        "            var init = false;\n",
        "            var inputUp = false;\n",
        "            toggleInput = function() {\n",
        "                if(inputUp) {\n",
        "                    $('div.input').slideDown();\n",
        "                    $('div.code_cell').attr('style', '');\n",
        "                }\n",
        "                else {\n",
        "                    $('div.input').slideUp();\n",
        "                    $('div.code_cell').attr('style', 'padding: 0px; margin: 0px');\n",
        "                }\n",
        "                inputUp = !inputUp;\n",
        "                init = true;\n",
        "            }\n",
        "            function initExtendedStyles() {\n",
        "                if(intervalCount > 15) {\n",
        "                    clearInterval(inputInterval);\n",
        "                }\n",
        "                intervalCount += 1;\n",
        "                try {\n",
        "                    toggleInput();\n",
        "                    clearInterval(inputInterval);\n",
        "                } catch(e) {}\n",
        "            }\n",
        "            if (typeof jQuery == 'undefined') {\n",
        "                // if jQuery Library is not loaded\n",
        "                var script = document.createElement( 'script' );\n",
        "                script.type = 'text/javascript';\n",
        "                script.src = 'https://ajax.googleapis.com/ajax/libs/jquery/1.8.3/jquery.min.js';\n",
        "                document.body.appendChild(script);\n",
        "            }\n",
        "\n",
        "            setTimeout(initExtendedStyles, 200);\n",
        "            // jQuery is doing this interval trick\n",
        "            // I guess its the way to do it then.\n",
        "            inputInterval = setInterval(initExtendedStyles, 1000);\n",
        "        }());\n",
        "        </script>\n",
        "       <a href=\"javascript:toggleInput()\">Toggle Input</a>\n",
        "        "
       ],
       "metadata": {},
       "output_type": "pyout",
       "prompt_number": 24,
       "text": [
        "<IPython.core.display.HTML at 0x1081b1390>"
       ]
      }
     ],
     "prompt_number": 24
    },
    {
     "cell_type": "heading",
     "level": 1,
     "metadata": {},
     "source": [
      "A 2-node SFT Net"
     ]
    },
    {
     "cell_type": "code",
     "collapsed": false,
     "input": [
      "A = SFT('A',['normal','infected'],['B'],{'B':np.array([[1,0],[1,.2]])},['clean','malicious'],'external')\n",
      "B = SFT('B',['normal','infected'],[],{},[],'internal')\n",
      "net02 = SFTNet([A,B])\n",
      "T = 10\n",
      "s0 = {'A':'infected','B':'normal'}"
     ],
     "language": "python",
     "metadata": {},
     "outputs": [],
     "prompt_number": 81
    },
    {
     "cell_type": "code",
     "collapsed": false,
     "input": [
      "G02 = nx.DiGraph()\n",
      "G02.add_nodes_from(s0.keys())\n",
      "G02.add_edge('A','B')\n",
      "G02['A']['B']['normal_clean'] = G2['A']['B']['infected_clean'] = 1\n",
      "G02['A']['B']['infected_mal'] = .2\n",
      "nx.draw_networkx(G02,nx.spring_layout(G02),node_size = 500,node_color = ['r','g'])\n",
      "plt.axis('off')\n",
      "plt.show()"
     ],
     "language": "python",
     "metadata": {},
     "outputs": [
      {
       "metadata": {},
       "output_type": "display_data",
       "png": "[encoded data removed]",
       "text": [
        "<matplotlib.figure.Figure at 0x108f34cd0>"
       ]
      }
     ],
     "prompt_number": 82
    },
    {
     "cell_type": "code",
     "collapsed": false,
     "input": [
      "rates = gen_trans_frame(net2)\n",
      "ix = rates['normal-clean rate'] > 0\n",
      "HTML(rates[ix].to_html())"
     ],
     "language": "python",
     "metadata": {},
     "outputs": [
      {
       "output_type": "stream",
       "stream": "stdout",
       "text": [
        "Doesn't send\n"
       ]
      },
      {
       "html": [
        "<table border=\"1\" class=\"dataframe\">\n",
        "  <thead>\n",
        "    <tr style=\"text-align: right;\">\n",
        "      <th></th>\n",
        "      <th></th>\n",
        "      <th>normal-clean rate</th>\n",
        "      <th>infected-clean rate</th>\n",
        "      <th>infected-malicious rate</th>\n",
        "    </tr>\n",
        "    <tr>\n",
        "      <th>sender</th>\n",
        "      <th>receiver</th>\n",
        "      <th></th>\n",
        "      <th></th>\n",
        "      <th></th>\n",
        "    </tr>\n",
        "  </thead>\n",
        "  <tbody>\n",
        "    <tr>\n",
        "      <th>A</th>\n",
        "      <th>B</th>\n",
        "      <td> 1</td>\n",
        "      <td> 1</td>\n",
        "      <td> 0.2</td>\n",
        "    </tr>\n",
        "  </tbody>\n",
        "</table>"
       ],
       "metadata": {},
       "output_type": "pyout",
       "prompt_number": 83,
       "text": [
        "<IPython.core.display.HTML at 0x108f0ced0>"
       ]
      }
     ],
     "prompt_number": 83
    },
    {
     "cell_type": "heading",
     "level": 2,
     "metadata": {},
     "source": [
      "Large Sample - N = 100,000, T = 20"
     ]
    },
    {
     "cell_type": "markdown",
     "metadata": {},
     "source": [
      "First, generate one dataset."
     ]
    },
    {
     "cell_type": "code",
     "collapsed": false,
     "input": [
      "data02 = gen_data(T,net02,s0)"
     ],
     "language": "python",
     "metadata": {},
     "outputs": [],
     "prompt_number": 84
    },
    {
     "cell_type": "code",
     "collapsed": false,
     "input": [
      "lhood,dist = Direct_Sample(net02,data02,100000,T,s0)"
     ],
     "language": "python",
     "metadata": {},
     "outputs": [],
     "prompt_number": 85
    },
    {
     "cell_type": "markdown",
     "metadata": {},
     "source": [
      "The Log-likelihood from the large sample is "
     ]
    },
    {
     "cell_type": "code",
     "collapsed": false,
     "input": [
      "lhood"
     ],
     "language": "python",
     "metadata": {},
     "outputs": [
      {
       "metadata": {},
       "output_type": "pyout",
       "prompt_number": 86,
       "text": [
        "-3.2616604037386088"
       ]
      }
     ],
     "prompt_number": 86
    },
    {
     "cell_type": "heading",
     "level": 2,
     "metadata": {},
     "source": [
      "Small Sample - N = 1000, T = 20"
     ]
    },
    {
     "cell_type": "markdown",
     "metadata": {},
     "source": [
      "We run with the same dataset for 100 times."
     ]
    },
    {
     "cell_type": "code",
     "collapsed": false,
     "input": [
      "ests = []\n",
      "for i in range(100):\n",
      "    res,_ = Direct_Sample(net02,data02,100,T,s0)\n",
      "    ests.append(res)"
     ],
     "language": "python",
     "metadata": {},
     "outputs": [],
     "prompt_number": 87
    },
    {
     "cell_type": "code",
     "collapsed": false,
     "input": [
      "ests"
     ],
     "language": "python",
     "metadata": {},
     "outputs": [
      {
       "metadata": {},
       "output_type": "pyout",
       "prompt_number": 88,
       "text": [
        "[-3.2616604037408816,\n",
        " -3.2616604037408816,\n",
        " -3.2616604037408816,\n",
        " -3.2616604037408816,\n",
        " -3.2616604037408816,\n",
        " -3.2616604037408816,\n",
        " -3.2616604037408816,\n",
        " -3.2616604037408816,\n",
        " -3.2616604037408816,\n",
        " -3.2616604037408816,\n",
        " -3.2616604037408816,\n",
        " -3.2616604037408816,\n",
        " -3.2616604037408816,\n",
        " -3.2616604037408816,\n",
        " -3.2616604037408816,\n",
        " -3.2616604037408816,\n",
        " -3.2616604037408816,\n",
        " -3.2616604037408816,\n",
        " -3.2616604037408816,\n",
        " -3.2616604037408816,\n",
        " -3.2616604037408816,\n",
        " -3.2616604037408816,\n",
        " -3.2616604037408816,\n",
        " -3.2616604037408816,\n",
        " -3.2616604037408816,\n",
        " -3.2616604037408816,\n",
        " -3.2616604037408816,\n",
        " -3.2616604037408816,\n",
        " -3.2616604037408816,\n",
        " -3.2616604037408816,\n",
        " -3.2616604037408816,\n",
        " -3.2616604037408816,\n",
        " -3.2616604037408816,\n",
        " -3.2616604037408816,\n",
        " -3.2616604037408816,\n",
        " -3.2616604037408816,\n",
        " -3.2616604037408816,\n",
        " -3.2616604037408816,\n",
        " -3.2616604037408816,\n",
        " -3.2616604037408816,\n",
        " -3.2616604037408816,\n",
        " -3.2616604037408816,\n",
        " -3.2616604037408816,\n",
        " -3.2616604037408816,\n",
        " -3.2616604037408816,\n",
        " -3.2616604037408816,\n",
        " -3.2616604037408816,\n",
        " -3.2616604037408816,\n",
        " -3.2616604037408816,\n",
        " -3.2616604037408816,\n",
        " -3.2616604037408816,\n",
        " -3.2616604037408816,\n",
        " -3.2616604037408816,\n",
        " -3.2616604037408816,\n",
        " -3.2616604037408816,\n",
        " -3.2616604037408816,\n",
        " -3.2616604037408816,\n",
        " -3.2616604037408816,\n",
        " -3.2616604037408816,\n",
        " -3.2616604037408816,\n",
        " -3.2616604037408816,\n",
        " -3.2616604037408816,\n",
        " -3.2616604037408816,\n",
        " -3.2616604037408816,\n",
        " -3.2616604037408816,\n",
        " -3.2616604037408816,\n",
        " -3.2616604037408816,\n",
        " -3.2616604037408816,\n",
        " -3.2616604037408816,\n",
        " -3.2616604037408816,\n",
        " -3.2616604037408816,\n",
        " -3.2616604037408816,\n",
        " -3.2616604037408816,\n",
        " -3.2616604037408816,\n",
        " -3.2616604037408816,\n",
        " -3.2616604037408816,\n",
        " -3.2616604037408816,\n",
        " -3.2616604037408816,\n",
        " -3.2616604037408816,\n",
        " -3.2616604037408816,\n",
        " -3.2616604037408816,\n",
        " -3.2616604037408816,\n",
        " -3.2616604037408816,\n",
        " -3.2616604037408816,\n",
        " -3.2616604037408816,\n",
        " -3.2616604037408816,\n",
        " -3.2616604037408816,\n",
        " -3.2616604037408816,\n",
        " -3.2616604037408816,\n",
        " -3.2616604037408816,\n",
        " -3.2616604037408816,\n",
        " -3.2616604037408816,\n",
        " -3.2616604037408816,\n",
        " -3.2616604037408816,\n",
        " -3.2616604037408816,\n",
        " -3.2616604037408816,\n",
        " -3.2616604037408816,\n",
        " -3.2616604037408816,\n",
        " -3.2616604037408816,\n",
        " -3.2616604037408816]"
       ]
      }
     ],
     "prompt_number": 88
    },
    {
     "cell_type": "code",
     "collapsed": false,
     "input": [],
     "language": "python",
     "metadata": {},
     "outputs": []
    }
   ],
   "metadata": {}
  }
 ]
}