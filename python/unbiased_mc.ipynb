{
 "metadata": {
  "name": ""
 },
 "nbformat": 3,
 "nbformat_minor": 0,
 "worksheets": [
  {
   "cells": [
    {
     "cell_type": "code",
     "collapsed": false,
     "input": [
      "import numpy as np\n",
      "import networkx as nx\n",
      "import matplotlib.pyplot as plt\n",
      "import matplotlib.mlab as mlab\n",
      "from adsy.display import extended_styles\n",
      "from IPython.display import HTML\n",
      "from tools import gen_data, gen_trans_frame\n",
      "from direct_sample import Direct_Sample\n",
      "from sft import SFT\n",
      "from sft_net import SFTNet\n",
      "%matplotlib inline"
     ],
     "language": "python",
     "metadata": {},
     "outputs": [],
     "prompt_number": 27
    },
    {
     "cell_type": "code",
     "collapsed": false,
     "input": [
      "extended_styles()"
     ],
     "language": "python",
     "metadata": {},
     "outputs": [
      {
       "html": [
        "\n",
        "        <script type=\"text/javascript\">\n",
        "        var toggleInput;\n",
        "        (function() {\n",
        "            var inputInterval;\n",
        "            var intervalCount = 0;\n",
        "            var init = false;\n",
        "            var inputUp = false;\n",
        "            toggleInput = function() {\n",
        "                if(inputUp) {\n",
        "                    $('div.input').slideDown();\n",
        "                    $('div.code_cell').attr('style', '');\n",
        "                }\n",
        "                else {\n",
        "                    $('div.input').slideUp();\n",
        "                    $('div.code_cell').attr('style', 'padding: 0px; margin: 0px');\n",
        "                }\n",
        "                inputUp = !inputUp;\n",
        "                init = true;\n",
        "            }\n",
        "            function initExtendedStyles() {\n",
        "                if(intervalCount > 15) {\n",
        "                    clearInterval(inputInterval);\n",
        "                }\n",
        "                intervalCount += 1;\n",
        "                try {\n",
        "                    toggleInput();\n",
        "                    clearInterval(inputInterval);\n",
        "                } catch(e) {}\n",
        "            }\n",
        "            if (typeof jQuery == 'undefined') {\n",
        "                // if jQuery Library is not loaded\n",
        "                var script = document.createElement( 'script' );\n",
        "                script.type = 'text/javascript';\n",
        "                script.src = 'https://ajax.googleapis.com/ajax/libs/jquery/1.8.3/jquery.min.js';\n",
        "                document.body.appendChild(script);\n",
        "            }\n",
        "\n",
        "            setTimeout(initExtendedStyles, 200);\n",
        "            // jQuery is doing this interval trick\n",
        "            // I guess its the way to do it then.\n",
        "            inputInterval = setInterval(initExtendedStyles, 1000);\n",
        "        }());\n",
        "        </script>\n",
        "       <a href=\"javascript:toggleInput()\">Toggle Input</a>\n",
        "        "
       ],
       "metadata": {},
       "output_type": "pyout",
       "prompt_number": 2,
       "text": [
        "<IPython.core.display.HTML at 0x104dcb310>"
       ]
      }
     ],
     "prompt_number": 2
    },
    {
     "cell_type": "heading",
     "level": 1,
     "metadata": {},
     "source": [
      "A 2-node SFT Net"
     ]
    },
    {
     "cell_type": "code",
     "collapsed": false,
     "input": [
      "A = SFT('A',['normal','infected'],['B'],{'B':np.array([[1,0],[1,.2]])},['clean','malicious'],'external')\n",
      "B = SFT('B',['normal','infected'],['A'],{'A':np.array([[1,0],[1,.2]])},['clean','malicious'],'internal')\n",
      "net02 = SFTNet([A,B])\n",
      "T = 20\n",
      "s0 = {'A':'infected','B':'normal'}"
     ],
     "language": "python",
     "metadata": {},
     "outputs": [],
     "prompt_number": 3
    },
    {
     "cell_type": "code",
     "collapsed": false,
     "input": [
      "G02 = nx.DiGraph()\n",
      "G02.add_nodes_from(s0.keys())\n",
      "G02.add_edge('A','B')\n",
      "G02.add_edge('B','A')\n",
      "nx.draw_networkx(G02,nx.spring_layout(G02),node_size = 500,node_color = ['r','g'])\n",
      "plt.axis('off')\n",
      "plt.show()"
     ],
     "language": "python",
     "metadata": {},
     "outputs": [
      {
       "metadata": {},
       "output_type": "display_data",
       "png": "[encoded data removed]",
       "text": [
        "<matplotlib.figure.Figure at 0x108040390>"
       ]
      }
     ],
     "prompt_number": 4
    },
    {
     "cell_type": "code",
     "collapsed": false,
     "input": [
      "rates = gen_trans_frame(net02)\n",
      "ix = rates['normal-clean rate'] > 0\n",
      "HTML(rates[ix].to_html())"
     ],
     "language": "python",
     "metadata": {},
     "outputs": [
      {
       "html": [
        "<table border=\"1\" class=\"dataframe\">\n",
        "  <thead>\n",
        "    <tr style=\"text-align: right;\">\n",
        "      <th></th>\n",
        "      <th></th>\n",
        "      <th>normal-clean rate</th>\n",
        "      <th>infected-clean rate</th>\n",
        "      <th>infected-malicious rate</th>\n",
        "    </tr>\n",
        "    <tr>\n",
        "      <th>sender</th>\n",
        "      <th>receiver</th>\n",
        "      <th></th>\n",
        "      <th></th>\n",
        "      <th></th>\n",
        "    </tr>\n",
        "  </thead>\n",
        "  <tbody>\n",
        "    <tr>\n",
        "      <th>A</th>\n",
        "      <th>B</th>\n",
        "      <td> 1</td>\n",
        "      <td> 1</td>\n",
        "      <td> 0.2</td>\n",
        "    </tr>\n",
        "    <tr>\n",
        "      <th>B</th>\n",
        "      <th>A</th>\n",
        "      <td> 1</td>\n",
        "      <td> 1</td>\n",
        "      <td> 0.2</td>\n",
        "    </tr>\n",
        "  </tbody>\n",
        "</table>"
       ],
       "metadata": {},
       "output_type": "pyout",
       "prompt_number": 5,
       "text": [
        "<IPython.core.display.HTML at 0x104dcb350>"
       ]
      }
     ],
     "prompt_number": 5
    },
    {
     "cell_type": "heading",
     "level": 2,
     "metadata": {},
     "source": [
      "Large Sample - N = 100,000, T = 20"
     ]
    },
    {
     "cell_type": "markdown",
     "metadata": {},
     "source": [
      "First, generate one dataset."
     ]
    },
    {
     "cell_type": "code",
     "collapsed": false,
     "input": [
      "data02 = gen_data(T,net02,s0)"
     ],
     "language": "python",
     "metadata": {},
     "outputs": [],
     "prompt_number": 6
    },
    {
     "cell_type": "code",
     "collapsed": false,
     "input": [
      "lhood02,dist02 = Direct_Sample(net02,data02,100000,T,s0)"
     ],
     "language": "python",
     "metadata": {},
     "outputs": [],
     "prompt_number": 7
    },
    {
     "cell_type": "markdown",
     "metadata": {},
     "source": [
      "**The Log-likelihood from the large sample is **"
     ]
    },
    {
     "cell_type": "code",
     "collapsed": false,
     "input": [
      "lhood02"
     ],
     "language": "python",
     "metadata": {},
     "outputs": [
      {
       "metadata": {},
       "output_type": "pyout",
       "prompt_number": 8,
       "text": [
        "-8.0370381313518635"
       ]
      }
     ],
     "prompt_number": 8
    },
    {
     "cell_type": "markdown",
     "metadata": {},
     "source": [
      "The Log-likelihood distribution from the large sample is"
     ]
    },
    {
     "cell_type": "heading",
     "level": 2,
     "metadata": {},
     "source": [
      "Small Sample - N = 1000, T = 20"
     ]
    },
    {
     "cell_type": "markdown",
     "metadata": {},
     "source": [
      "**We run with the same dataset for 1000 times.**"
     ]
    },
    {
     "cell_type": "code",
     "collapsed": false,
     "input": [
      "ests02 = []\n",
      "for i in range(1000):\n",
      "    res,_ = Direct_Sample(net02,data02,1000,T,s0)\n",
      "    ests02.append(res)"
     ],
     "language": "python",
     "metadata": {},
     "outputs": [],
     "prompt_number": 9
    },
    {
     "cell_type": "markdown",
     "metadata": {},
     "source": [
      "**Histogram of Log-likelihoods**"
     ]
    },
    {
     "cell_type": "code",
     "collapsed": false,
     "input": [
      "n,bins,patches = plt.hist(ests02,bins=20,align='mid')"
     ],
     "language": "python",
     "metadata": {},
     "outputs": [
      {
       "metadata": {},
       "output_type": "display_data",
       "png": "[encoded data removed]",
       "text": [
        "<matplotlib.figure.Figure at 0x109c32910>"
       ]
      }
     ],
     "prompt_number": 28
    },
    {
     "cell_type": "markdown",
     "metadata": {},
     "source": [
      "**Histogram of Exponential of Log-likelihoods**"
     ]
    },
    {
     "cell_type": "code",
     "collapsed": false,
     "input": [
      "n,bins,patches = plt.hist(np.exp(ests02),bins=20,align='mid')"
     ],
     "language": "python",
     "metadata": {},
     "outputs": [
      {
       "metadata": {},
       "output_type": "display_data",
       "png": "[encoded data removed]",
       "text": [
        "<matplotlib.figure.Figure at 0x1007265d0>"
       ]
      }
     ],
     "prompt_number": 30
    },
    {
     "cell_type": "markdown",
     "metadata": {},
     "source": [
      "**The mean of log-likelihoods is**"
     ]
    },
    {
     "cell_type": "code",
     "collapsed": false,
     "input": [
      "np.mean(ests02)"
     ],
     "language": "python",
     "metadata": {},
     "outputs": [
      {
       "metadata": {},
       "output_type": "pyout",
       "prompt_number": 29,
       "text": [
        "-8.0372036861541449"
       ]
      }
     ],
     "prompt_number": 29
    },
    {
     "cell_type": "markdown",
     "metadata": {},
     "source": [
      "**The log  of the mean of exponentials is**"
     ]
    },
    {
     "cell_type": "code",
     "collapsed": false,
     "input": [
      "np.log(np.mean(np.exp(ests02)))"
     ],
     "language": "python",
     "metadata": {},
     "outputs": [
      {
       "metadata": {},
       "output_type": "pyout",
       "prompt_number": 32,
       "text": [
        "-8.0361720099370952"
       ]
      }
     ],
     "prompt_number": 32
    },
    {
     "cell_type": "markdown",
     "metadata": {},
     "source": [
      "**How close are they?**"
     ]
    },
    {
     "cell_type": "code",
     "collapsed": false,
     "input": [
      "print 'Log-likelihood from the large sample is ', lhood02\n",
      "print 'The mean of the log-likelihoods from small samples is ', np.mean(ests02)\n",
      "print 'The logarithm of the mean of exponentials of log-likelihoods from sample samples is ', np.log(np.mean(np.exp(ests02)))"
     ],
     "language": "python",
     "metadata": {},
     "outputs": [
      {
       "output_type": "stream",
       "stream": "stdout",
       "text": [
        " Log-likelihood from the large sample is  -8.03703813135\n",
        "The mean of the log-likelihoods from small samples is  -8.03720368615\n",
        "The logarithm of the mean of exponentials of log-likelihoods from sample samples is  -8.03617200994\n"
       ]
      }
     ],
     "prompt_number": 34
    },
    {
     "cell_type": "heading",
     "level": 1,
     "metadata": {},
     "source": [
      "A 3-node SFT Net"
     ]
    },
    {
     "cell_type": "code",
     "collapsed": false,
     "input": [
      "A = SFT('A',['normal','infected'],['B','C'],{'B':np.array([[1,0],[1,.05]]),'C':np.array([[.5,0],[.5,.01]])},\n",
      "                                                                                        ['clean','malicious'],'external')\n",
      "B = SFT('B',['normal','infected'],['C'],{'C':np.array([[.2,0],[.2,.005]])},['clean','malicious'],'internal')\n",
      "C = SFT('C',['normal','infected'],['B'],{'B':np.array([[.1,0],[.1,.01]])},['clean','malicious'],'internal')\n",
      "net03 = SFTNet([A,B,C])\n",
      "T = 1000\n",
      "s0 = {'A':'infected','B':'normal','C':'normal'}"
     ],
     "language": "python",
     "metadata": {},
     "outputs": [],
     "prompt_number": 35
    },
    {
     "cell_type": "code",
     "collapsed": false,
     "input": [
      "G03 = nx.DiGraph()\n",
      "G03.add_nodes_from(s0.keys())\n",
      "G03.add_edges_from([('A','B'),('A','C'),('B','C'),('C','B')])\n",
      "nx.draw_networkx(G03,nx.spring_layout(G03),node_size = 500,node_color = ['r','g','g'])\n",
      "plt.axis('off')\n",
      "plt.show()"
     ],
     "language": "python",
     "metadata": {},
     "outputs": [
      {
       "metadata": {},
       "output_type": "display_data",
       "png": "[encoded data removed]",
       "text": [
        "<matplotlib.figure.Figure at 0x100720110>"
       ]
      }
     ],
     "prompt_number": 36
    },
    {
     "cell_type": "code",
     "collapsed": false,
     "input": [
      "rates = gen_trans_frame(net03)\n",
      "ix = rates['normal-clean rate'] > 0\n",
      "HTML(rates[ix].to_html())"
     ],
     "language": "python",
     "metadata": {},
     "outputs": [
      {
       "html": [
        "<table border=\"1\" class=\"dataframe\">\n",
        "  <thead>\n",
        "    <tr style=\"text-align: right;\">\n",
        "      <th></th>\n",
        "      <th></th>\n",
        "      <th>normal-clean rate</th>\n",
        "      <th>infected-clean rate</th>\n",
        "      <th>infected-malicious rate</th>\n",
        "    </tr>\n",
        "    <tr>\n",
        "      <th>sender</th>\n",
        "      <th>receiver</th>\n",
        "      <th></th>\n",
        "      <th></th>\n",
        "      <th></th>\n",
        "    </tr>\n",
        "  </thead>\n",
        "  <tbody>\n",
        "    <tr>\n",
        "      <th rowspan=\"2\" valign=\"top\">A</th>\n",
        "      <th>B</th>\n",
        "      <td> 1.0</td>\n",
        "      <td> 1.0</td>\n",
        "      <td> 0.050</td>\n",
        "    </tr>\n",
        "    <tr>\n",
        "      <th>C</th>\n",
        "      <td> 0.5</td>\n",
        "      <td> 0.5</td>\n",
        "      <td> 0.010</td>\n",
        "    </tr>\n",
        "    <tr>\n",
        "      <th>B</th>\n",
        "      <th>C</th>\n",
        "      <td> 0.2</td>\n",
        "      <td> 0.2</td>\n",
        "      <td> 0.005</td>\n",
        "    </tr>\n",
        "    <tr>\n",
        "      <th>C</th>\n",
        "      <th>B</th>\n",
        "      <td> 0.1</td>\n",
        "      <td> 0.1</td>\n",
        "      <td> 0.010</td>\n",
        "    </tr>\n",
        "  </tbody>\n",
        "</table>"
       ],
       "metadata": {},
       "output_type": "pyout",
       "prompt_number": 37,
       "text": [
        "<IPython.core.display.HTML at 0x109c3cc50>"
       ]
      }
     ],
     "prompt_number": 37
    },
    {
     "cell_type": "heading",
     "level": 2,
     "metadata": {},
     "source": [
      "Large Sample - N = 100,000, T = 1000"
     ]
    },
    {
     "cell_type": "code",
     "collapsed": false,
     "input": [
      "data03 = gen_data(T,net03,s0)"
     ],
     "language": "python",
     "metadata": {},
     "outputs": [],
     "prompt_number": 38
    },
    {
     "cell_type": "code",
     "collapsed": false,
     "input": [
      "lhood03,dist03 = Direct_Sample(net03,data03,100000,T,s0)"
     ],
     "language": "python",
     "metadata": {},
     "outputs": [],
     "prompt_number": 39
    },
    {
     "cell_type": "markdown",
     "metadata": {},
     "source": [
      "**Log-likelihood from the large sample is **"
     ]
    },
    {
     "cell_type": "code",
     "collapsed": false,
     "input": [
      "lhood03"
     ],
     "language": "python",
     "metadata": {},
     "outputs": [
      {
       "metadata": {},
       "output_type": "pyout",
       "prompt_number": 40,
       "text": [
        "-19.011294932329324"
       ]
      }
     ],
     "prompt_number": 40
    },
    {
     "cell_type": "heading",
     "level": 2,
     "metadata": {},
     "source": [
      "Small Sample - N = 1000, T = 1000"
     ]
    },
    {
     "cell_type": "code",
     "collapsed": false,
     "input": [
      "ests03 = []\n",
      "for i in range(1000):\n",
      "    res,_ = Direct_Sample(net03,data03,1000,T,s0)\n",
      "    ests03.append(res)"
     ],
     "language": "python",
     "metadata": {},
     "outputs": [],
     "prompt_number": 41
    },
    {
     "cell_type": "markdown",
     "metadata": {},
     "source": [
      "**Histogram of Log-likelihoods**"
     ]
    },
    {
     "cell_type": "code",
     "collapsed": false,
     "input": [
      "n,bins,patches = plt.hist(ests03,bins=20,align='mid')"
     ],
     "language": "python",
     "metadata": {},
     "outputs": [
      {
       "metadata": {},
       "output_type": "display_data",
       "png": "[encoded data removed]",
       "text": [
        "<matplotlib.figure.Figure at 0x108bba490>"
       ]
      }
     ],
     "prompt_number": 42
    },
    {
     "cell_type": "markdown",
     "metadata": {},
     "source": [
      "**Histogram of Exponential of Log-likelihoods**"
     ]
    },
    {
     "cell_type": "code",
     "collapsed": false,
     "input": [
      "n,bins,patches = plt.hist(np.exp(ests03),bins=20,align='mid')"
     ],
     "language": "python",
     "metadata": {},
     "outputs": [
      {
       "metadata": {},
       "output_type": "display_data",
       "png": "[encoded data removed]",
       "text": [
        "<matplotlib.figure.Figure at 0x108cacad0>"
       ]
      }
     ],
     "prompt_number": 43
    },
    {
     "cell_type": "markdown",
     "metadata": {},
     "source": [
      "**The mean of log-likelihoods is **"
     ]
    },
    {
     "cell_type": "code",
     "collapsed": false,
     "input": [
      "np.mean(ests03)"
     ],
     "language": "python",
     "metadata": {},
     "outputs": [
      {
       "metadata": {},
       "output_type": "pyout",
       "prompt_number": 44,
       "text": [
        "-19.016843870570941"
       ]
      }
     ],
     "prompt_number": 44
    },
    {
     "cell_type": "markdown",
     "metadata": {},
     "source": [
      "**The log of the mean of exponentials is **"
     ]
    },
    {
     "cell_type": "code",
     "collapsed": false,
     "input": [
      "np.log(np.mean(np.exp(ests03)))"
     ],
     "language": "python",
     "metadata": {},
     "outputs": [
      {
       "metadata": {},
       "output_type": "pyout",
       "prompt_number": 45,
       "text": [
        "-19.013976462333702"
       ]
      }
     ],
     "prompt_number": 45
    },
    {
     "cell_type": "markdown",
     "metadata": {},
     "source": [
      "**How close are they?**"
     ]
    },
    {
     "cell_type": "code",
     "collapsed": false,
     "input": [
      "print 'Log-likelihood from the large sample is ', lhood03\n",
      "print 'The mean of the log-likelihoods from small samples is ', np.mean(ests03)\n",
      "print 'The logarithm of the mean of exponentials of log-likelihoods from sample samples is ', np.log(np.mean(np.exp(ests03)))"
     ],
     "language": "python",
     "metadata": {},
     "outputs": [
      {
       "output_type": "stream",
       "stream": "stdout",
       "text": [
        "Log-likelihood from the large sample is  -19.0112949323\n",
        "The mean of the log-likelihoods from small samples is  -19.0168438706\n",
        "The logarithm of the mean of exponentials of log-likelihoods from sample samples is  -19.0139764623\n"
       ]
      }
     ],
     "prompt_number": 46
    },
    {
     "cell_type": "heading",
     "level": 1,
     "metadata": {},
     "source": [
      "Brian's Net"
     ]
    },
    {
     "cell_type": "code",
     "collapsed": false,
     "input": [
      "A = SFT('A', ['normal', 'infected'], ['B', 'C'],\n",
      "      {'B':np.array([[1, 0], [1, 1./10000.]]),\n",
      "       'C': np.array([[1, 0], [1, 1./10000.]])},\n",
      "       ['clean', 'malicious'], 'external')\n",
      "\n",
      "B = SFT('B', ['normal', 'infected'], ['C', 'D'],\n",
      "       {'C': np.array([[1, 0], [1, .1]]),\n",
      "        'D' : np.array([[1, 0], [1, .1]])},\n",
      "       ['clean', 'malicious'], 'internal')\n",
      "\n",
      "C = SFT('C', ['normal', 'infected'], ['D'],\n",
      "       {'D': np.array([[1, 0], [1, .2]])},\n",
      "       ['clean', 'malicious'], 'internal')\n",
      "\n",
      "D = SFT('D', ['normal', 'infected'], [], {}, [], 'internal')\n",
      "\n",
      "T = 10000\n",
      "s0 = {'A':'infected','B':'normal','C':'normal','D':'normal'}\n",
      "nodes = [A, B, C, D]\n",
      "net04 = SFTNet(nodes)"
     ],
     "language": "python",
     "metadata": {},
     "outputs": [],
     "prompt_number": 47
    },
    {
     "cell_type": "code",
     "collapsed": false,
     "input": [
      "G04 = nx.DiGraph()\n",
      "G04.add_nodes_from(s0.keys())\n",
      "G04.add_edges_from([('A','B'),('A','C'),('B','C'),('B','D'),('C','D')])\n",
      "nx.draw_networkx(G04,nx.spring_layout(G04),node_size = 500,node_color = ['r','g','g','g'])\n",
      "plt.axis('off')\n",
      "plt.show()"
     ],
     "language": "python",
     "metadata": {},
     "outputs": [
      {
       "metadata": {},
       "output_type": "display_data",
       "png": "[encoded data removed]",
       "text": [
        "<matplotlib.figure.Figure at 0x100706710>"
       ]
      }
     ],
     "prompt_number": 48
    },
    {
     "cell_type": "code",
     "collapsed": false,
     "input": [
      "rates = gen_trans_frame(net04)\n",
      "ix = rates['normal-clean rate'] > 0\n",
      "HTML(rates[ix].to_html())"
     ],
     "language": "python",
     "metadata": {},
     "outputs": [
      {
       "output_type": "stream",
       "stream": "stdout",
       "text": [
        "Doesn't send\n"
       ]
      },
      {
       "html": [
        "<table border=\"1\" class=\"dataframe\">\n",
        "  <thead>\n",
        "    <tr style=\"text-align: right;\">\n",
        "      <th></th>\n",
        "      <th></th>\n",
        "      <th>normal-clean rate</th>\n",
        "      <th>infected-clean rate</th>\n",
        "      <th>infected-malicious rate</th>\n",
        "    </tr>\n",
        "    <tr>\n",
        "      <th>sender</th>\n",
        "      <th>receiver</th>\n",
        "      <th></th>\n",
        "      <th></th>\n",
        "      <th></th>\n",
        "    </tr>\n",
        "  </thead>\n",
        "  <tbody>\n",
        "    <tr>\n",
        "      <th rowspan=\"2\" valign=\"top\">A</th>\n",
        "      <th>B</th>\n",
        "      <td> 1</td>\n",
        "      <td> 1</td>\n",
        "      <td> 0.0001</td>\n",
        "    </tr>\n",
        "    <tr>\n",
        "      <th>C</th>\n",
        "      <td> 1</td>\n",
        "      <td> 1</td>\n",
        "      <td> 0.0001</td>\n",
        "    </tr>\n",
        "    <tr>\n",
        "      <th rowspan=\"2\" valign=\"top\">B</th>\n",
        "      <th>C</th>\n",
        "      <td> 1</td>\n",
        "      <td> 1</td>\n",
        "      <td> 0.1000</td>\n",
        "    </tr>\n",
        "    <tr>\n",
        "      <th>D</th>\n",
        "      <td> 1</td>\n",
        "      <td> 1</td>\n",
        "      <td> 0.1000</td>\n",
        "    </tr>\n",
        "    <tr>\n",
        "      <th>C</th>\n",
        "      <th>D</th>\n",
        "      <td> 1</td>\n",
        "      <td> 1</td>\n",
        "      <td> 0.2000</td>\n",
        "    </tr>\n",
        "  </tbody>\n",
        "</table>"
       ],
       "metadata": {},
       "output_type": "pyout",
       "prompt_number": 49,
       "text": [
        "<IPython.core.display.HTML at 0x108bc4310>"
       ]
      }
     ],
     "prompt_number": 49
    },
    {
     "cell_type": "heading",
     "level": 2,
     "metadata": {},
     "source": [
      "Large Sample - N = 100,000, T = 10000"
     ]
    },
    {
     "cell_type": "code",
     "collapsed": false,
     "input": [
      "data04 = gen_data(T,net04,s0)"
     ],
     "language": "python",
     "metadata": {},
     "outputs": [],
     "prompt_number": 50
    },
    {
     "cell_type": "code",
     "collapsed": false,
     "input": [
      "lhood04,dist04 = Direct_Sample(net04,data04,100000,T,s0)"
     ],
     "language": "python",
     "metadata": {},
     "outputs": [],
     "prompt_number": 51
    },
    {
     "cell_type": "markdown",
     "metadata": {},
     "source": [
      "**The Log-likelihood from the large sample is**"
     ]
    },
    {
     "cell_type": "code",
     "collapsed": false,
     "input": [
      "lhood04"
     ],
     "language": "python",
     "metadata": {},
     "outputs": [
      {
       "metadata": {},
       "output_type": "pyout",
       "prompt_number": 52,
       "text": [
        "-30.665987224927019"
       ]
      }
     ],
     "prompt_number": 52
    },
    {
     "cell_type": "heading",
     "level": 2,
     "metadata": {},
     "source": [
      "Small Sample - N = 1000, T = 10000"
     ]
    },
    {
     "cell_type": "code",
     "collapsed": false,
     "input": [
      "ests04 = []\n",
      "for i in range(1000):\n",
      "    res,_ = Direct_Sample(net04,data04,1000,T,s0)\n",
      "    ests04.append(res)"
     ],
     "language": "python",
     "metadata": {},
     "outputs": [],
     "prompt_number": 53
    },
    {
     "cell_type": "markdown",
     "metadata": {},
     "source": [
      "**Histogram of Log-likelihoods**"
     ]
    },
    {
     "cell_type": "code",
     "collapsed": false,
     "input": [
      "n,bins,patches = plt.hist(ests04,bins=20,align='mid')"
     ],
     "language": "python",
     "metadata": {},
     "outputs": [
      {
       "metadata": {},
       "output_type": "display_data",
       "png": "[encoded data removed]",
       "text": [
        "<matplotlib.figure.Figure at 0x108bc4a90>"
       ]
      }
     ],
     "prompt_number": 54
    },
    {
     "cell_type": "markdown",
     "metadata": {},
     "source": [
      "**Histogram of Exponential of Log-likelihoods**"
     ]
    },
    {
     "cell_type": "code",
     "collapsed": false,
     "input": [
      "n,bins,patches = plt.hist(np.exp(ests04),bins=20,align='mid')"
     ],
     "language": "python",
     "metadata": {},
     "outputs": [
      {
       "metadata": {},
       "output_type": "display_data",
       "png": "[encoded data removed]",
       "text": [
        "<matplotlib.figure.Figure at 0x109a9a390>"
       ]
      }
     ],
     "prompt_number": 55
    },
    {
     "cell_type": "markdown",
     "metadata": {},
     "source": [
      "**The mean of log-likelihoods is **"
     ]
    },
    {
     "cell_type": "code",
     "collapsed": false,
     "input": [
      "np.mean(ests04)"
     ],
     "language": "python",
     "metadata": {},
     "outputs": [
      {
       "metadata": {},
       "output_type": "pyout",
       "prompt_number": 56,
       "text": [
        "-30.675879754421896"
       ]
      }
     ],
     "prompt_number": 56
    },
    {
     "cell_type": "markdown",
     "metadata": {},
     "source": [
      "**The log of the mean of exponentials is **"
     ]
    },
    {
     "cell_type": "code",
     "collapsed": false,
     "input": [
      "np.log(np.mean(np.exp(ests04)))"
     ],
     "language": "python",
     "metadata": {},
     "outputs": [
      {
       "metadata": {},
       "output_type": "pyout",
       "prompt_number": 57,
       "text": [
        "-30.672567613124997"
       ]
      }
     ],
     "prompt_number": 57
    },
    {
     "cell_type": "markdown",
     "metadata": {},
     "source": [
      "**How close are they?**"
     ]
    },
    {
     "cell_type": "code",
     "collapsed": false,
     "input": [
      "print 'Log-likelihood from the large sample is ', lhood04\n",
      "print 'The mean of the log-likelihoods from small samples is ', np.mean(ests04)\n",
      "print 'The logarithm of the mean of exponentials of log-likelihoods from sample samples is ', np.log(np.mean(np.exp(ests04)))"
     ],
     "language": "python",
     "metadata": {},
     "outputs": [
      {
       "output_type": "stream",
       "stream": "stdout",
       "text": [
        "Log-likelihood from the large sample is  -30.6659872249\n",
        "The mean of the log-likelihoods from small samples is  -30.6758797544\n",
        "The logarithm of the mean of exponentials of log-likelihoods from sample samples is  -30.6725676131\n"
       ]
      }
     ],
     "prompt_number": 58
    }
   ],
   "metadata": {}
  }
 ]
}