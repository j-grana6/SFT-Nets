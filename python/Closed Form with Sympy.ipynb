{
 "metadata": {
  "name": "",
  "signature": "sha256:05fcb0e747356ce86e154d76560db050f27dca3466c0116d34f07c69191b871e"
 },
 "nbformat": 3,
 "nbformat_minor": 0,
 "worksheets": [
  {
   "cells": [
    {
     "cell_type": "heading",
     "level": 1,
     "metadata": {},
     "source": [
      "Closed Form Solution with Sympy"
     ]
    },
    {
     "cell_type": "markdown",
     "metadata": {},
     "source": [
      "For simplicity, let's assume that we are working with a net with only $1$ attacker \"A\" and $1$ node that can possibly be infected \"B\".  This makes it simple because there are only 2 possible \"infection orderings\".  One is when the node gets infected before the observation window ends at $T$ and one where it doesn't get infected.  The latter is trivial to compute.  First some notation, Let $\\lambda_1$ be the rate that \"B\" sends messages given it is not infected.  Let $\\lambda_2$ be the rate that \"B\" sends messages given it is infected.  Let $\\gamma$ be the rate at which \"A\" sends infected messages to \"B\".  Let $k_{x}$ be the number of messages that \"B\" sends before $x$  and let $N$ be the total number of messages that \"B\" sends.  Since only one node can be infected drop the subscript and let $\\bar{z}$ be the infection time of \"B\". Here we go..."
     ]
    },
    {
     "cell_type": "markdown",
     "metadata": {},
     "source": [
      "We want to compute $\\int_0^T P( \\text{  data } | \\bar{z}) P(\\bar{z} | s) d\\bar{z}$\n",
      "\n",
      "$= \\int_0^T P( \\text{  messages before  } \\bar{z} | \\bar{z}) \\times \n",
      "P( \\text{  messages after  } \\bar{z} | \\bar{z})\\times  P(\\bar{z} | s)d\\bar{z}$\n",
      "\n",
      "$=\\int_0^T   \\frac{(\\lambda_1\\bar{z})^{k_{\\bar{z}}}e^{-\\lambda_1\\bar{z}}}{k_{\\bar{z}}!} \\times \n",
      "                  \\frac{(\\lambda_2(T- \\bar{z}))^{N-k_{\\bar{z}}}e^{-\\lambda_2(T-\\bar{z})}}{(N-k_{\\bar{z}})!} \\times\n",
      "                  \\gamma e^{-\\gamma\\bar{z}}d\\bar{z}$"
     ]
    },
    {
     "cell_type": "markdown",
     "metadata": {},
     "source": [
      "If we let $m_i$ denote the time of the $i$'th message sent by node B and let $m_0=0$ and $m_{N+1}=T$, then the integral becomes"
     ]
    },
    {
     "cell_type": "markdown",
     "metadata": {},
     "source": [
      "$=\\sum_{i=0}^N \\int_{m_i}^{m_{i+1}}\\frac{(\\lambda_1\\bar{z})^{k_{\\bar{z}}}e^{-\\lambda_1\\bar{z}}}{k_{\\bar{z}}!} \\times \n",
      "                  \\frac{(\\lambda_2(T- \\bar{z}))^{N-k_{\\bar{z}}}e^{-\\lambda_2(T-\\bar{z})}}{(N-k_{\\bar{z}})!} \\times\n",
      "                  \\gamma e^{-\\gamma\\bar{z}}d\\bar{z}$"
     ]
    },
    {
     "cell_type": "markdown",
     "metadata": {},
     "source": [
      "Now, let's see if Sympy can do the integral between $m_1$ and $m_2$"
     ]
    },
    {
     "cell_type": "code",
     "collapsed": false,
     "input": [
      "from sympy import symbols, init_printing, integrate,E, factorial\n",
      "from sympy import simplify, together, collect, apart, diff\n",
      "init_printing()"
     ],
     "language": "python",
     "metadata": {},
     "outputs": [],
     "prompt_number": 1
    },
    {
     "cell_type": "code",
     "collapsed": false,
     "input": [
      "m_i, m_iplus1, lambda_1, k_zbar, lambda_2, zbar, T, N, gamma = symbols(\n",
      "'m_i m_iplus1 lambda_1 k_zbar lambda_2 zbar T N gamma', rational=True)"
     ],
     "language": "python",
     "metadata": {},
     "outputs": [],
     "prompt_number": 2
    },
    {
     "cell_type": "code",
     "collapsed": false,
     "input": [
      "integrand1 = ((lambda_1 * zbar)**k_zbar*E**(-lambda_1*zbar)* \\\n",
      " (lambda_2*(T-zbar))**(N-k_zbar)*E**(-lambda_2 *(T-zbar)))*\\\n",
      "gamma*E**(-gamma *zbar)/(factorial(k_zbar) * factorial(N-k_zbar))"
     ],
     "language": "python",
     "metadata": {},
     "outputs": [],
     "prompt_number": 3
    },
    {
     "cell_type": "code",
     "collapsed": false,
     "input": [
      "integrand1"
     ],
     "language": "python",
     "metadata": {},
     "outputs": [
      {
       "latex": [
        "$$\\frac{\\gamma \\left(\\lambda_{1} \\bar{z}\\right)^{k_{\\bar{z}}} e^{- \\gamma \\bar{z}}}{k_{\\bar{z}}! \\left(N - k_{\\bar{z}}\\right)!} \\left(\\lambda_{2} \\left(T - \\bar{z}\\right)\\right)^{N - k_{\\bar{z}}} e^{- \\lambda_{1} \\bar{z}} e^{- \\lambda_{2} \\left(T - \\bar{z}\\right)}$$"
       ],
       "metadata": {},
       "output_type": "pyout",
       "png": "[encoded data removed]",
       "prompt_number": 4,
       "text": [
        "         k_z\u0305              N - k_z\u0305  -\u03b3\u22c5z\u0305  -\u03bb\u2081\u22c5z\u0305  -\u03bb\u2082\u22c5(T - z\u0305)\n",
        "\u03b3\u22c5(\u03bb\u2081\u22c5z\u0305)    \u22c5(\u03bb\u2082\u22c5(T - z\u0305))        \u22c5\u212f     \u22c5\u212f      \u22c5\u212f            \n",
        "\u2500\u2500\u2500\u2500\u2500\u2500\u2500\u2500\u2500\u2500\u2500\u2500\u2500\u2500\u2500\u2500\u2500\u2500\u2500\u2500\u2500\u2500\u2500\u2500\u2500\u2500\u2500\u2500\u2500\u2500\u2500\u2500\u2500\u2500\u2500\u2500\u2500\u2500\u2500\u2500\u2500\u2500\u2500\u2500\u2500\u2500\u2500\u2500\u2500\u2500\u2500\u2500\u2500\u2500\u2500\u2500\u2500\u2500\u2500\u2500\u2500\u2500\u2500\u2500\n",
        "                       k_z\u0305!\u22c5(N - k_z\u0305)!                        "
       ]
      }
     ],
     "prompt_number": 4
    },
    {
     "cell_type": "code",
     "collapsed": false,
     "input": [
      "# Can sympy integrate this? \n",
      "#integrate(integrand1, zbar)"
     ],
     "language": "python",
     "metadata": {},
     "outputs": [],
     "prompt_number": 5
    },
    {
     "cell_type": "markdown",
     "metadata": {},
     "source": [
      "Not even close... Since we will only be integrating with respect to $\\bar{z}$, let's move all of the terms without a $\\bar{z}$ outside of the integral.\n",
      "\n",
      "$=\\sum_{i=0}^N \\int_{m_i}^{m_{i+1}}\\frac{(\\lambda_1\\bar{z})^{k_{\\bar{z}}}e^{-\\lambda_1\\bar{z}}}{k_{\\bar{z}}!} \\times \n",
      "                  \\frac{(\\lambda_2(T- \\bar{z}))^{N-k_{\\bar{z}}}e^{-\\lambda_2(T-\\bar{z})}}{(N-k_{\\bar{z}})!} \\times\n",
      "                  \\gamma e^{-\\gamma\\bar{z}}d\\bar{z}$"
     ]
    },
    {
     "cell_type": "markdown",
     "metadata": {},
     "source": [
      "$=\\sum_{i=0}^N \\frac{\\lambda_1^{k_\\bar{z}}\\lambda_2^{N-k_\\bar{z}} \n",
      "\\gamma}{k_{\\bar{z}}!(N-k_\\bar{z})!}\n",
      "\\int_{m_i}^{m_{i+1}} \\frac{\\partial^{k_\\bar{z}}}{\\partial_\\gamma} e^{-\\bar{z}(\\lambda_1 + \\gamma)} (T- \\bar{z})^{N-k_{\\bar{z}}}e^{-\\lambda_2(T-\\bar{z})} \n",
      "d\\bar{z}$"
     ]
    },
    {
     "cell_type": "markdown",
     "metadata": {},
     "source": [
      "In the following lines, we will apply Leibniz rule twice"
     ]
    },
    {
     "cell_type": "markdown",
     "metadata": {},
     "source": [
      "$=\\sum_{i=0}^N \\frac{\\lambda_1^{k_\\bar{z}}\\lambda_2^{N-k_\\bar{z}} \n",
      "\\gamma}{k_{\\bar{z}}!(N-k_\\bar{z})!}\n",
      "\\int_{m_i}^{m_{i+1}} \\frac{\\partial^{k_\\bar{z}}}{\\partial_\\gamma}(-1)^{k_\\bar{z}} e^{-\\bar{z}(\\lambda_1 + \\gamma)} (T- \\bar{z})^{N-k_{\\bar{z}}}e^{-\\lambda_2(T-\\bar{z})} \n",
      "d\\bar{z}$"
     ]
    },
    {
     "cell_type": "markdown",
     "metadata": {},
     "source": [
      "$=\\sum_{i=0}^N \\frac{\\lambda_1^{k_\\bar{z}}\\lambda_2^{N-k_\\bar{z}} \n",
      "\\gamma}{k_{\\bar{z}}!(N-k_\\bar{z})!}\n",
      "\\frac{\\partial^{k_\\bar{z}}}{\\partial_\\gamma}(-1)^{k_\\bar{z}} \\int_{m_i}^{m_{i+1}} e^{-\\bar{z}(\\lambda_1 + \\gamma)} (T- \\bar{z})^{N-k_{\\bar{z}}}e^{-\\lambda_2(T-\\bar{z})} \n",
      "d\\bar{z}$"
     ]
    },
    {
     "cell_type": "markdown",
     "metadata": {},
     "source": [
      "$=\\sum_{i=0}^N \\frac{\\lambda_1^{k_\\bar{z}}\\lambda_2^{N-k_\\bar{z}} \n",
      "\\gamma}{k_{\\bar{z}}!(N-k_\\bar{z})!}\n",
      "\\frac{\\partial^{k_\\bar{z}}}{\\partial_\\gamma}(-1)^{k_\\bar{z}}\n",
      "\\frac{\\partial^{N-k_{\\bar{z}}}}{\\lambda_2}(-1)^{N-k_{\\bar{z}}}\n",
      "\\int_{m_i}^{m_{i+1}} e^{-\\bar{z}(\\lambda_1 + \\gamma)} e^{-\\lambda_2(T-\\bar{z})} \n",
      "d\\bar{z}$"
     ]
    },
    {
     "cell_type": "markdown",
     "metadata": {},
     "source": [
      "$=\\sum_{i=0}^N \\frac{\\lambda_1^{k_\\bar{z}}\\lambda_2^{N-k_\\bar{z}} \n",
      "\\gamma}{k_{\\bar{z}}!(N-k_\\bar{z})!}\n",
      "(-1)^{N}\n",
      "\\frac{\\partial^{k_\\bar{z}}}{\\partial_\\gamma}\n",
      "\\frac{\\partial^{N-k_{\\bar{z}}}}{\\lambda_2}\n",
      "\\int_{m_i}^{m_{i+1}} e^{-\\bar{z}(\\lambda_1 + \\gamma)} e^{-\\lambda_2(T-\\bar{z})} \n",
      "d\\bar{z}$"
     ]
    },
    {
     "cell_type": "markdown",
     "metadata": {},
     "source": [
      "$=\\sum_{i=0}^N \\frac{\\lambda_1^{k_\\bar{z}}\\lambda_2^{N-k_\\bar{z}} \n",
      "\\gamma}{k_{\\bar{z}}!(N-k_\\bar{z})!}\n",
      "(-1)^{N}\n",
      "\\frac{\\partial^{k_\\bar{z}}}{\\partial_\\gamma}\n",
      "\\frac{\\partial^{N-k_{\\bar{z}}}}{\\lambda_2}\n",
      "\\int_{m_i}^{m_{i+1}} e^{-\\bar{z}(\\lambda_1 + \\gamma)} e^{-\\lambda_2(T-\\bar{z})} \n",
      "d\\bar{z}$"
     ]
    },
    {
     "cell_type": "markdown",
     "metadata": {},
     "source": [
      "$=\\sum_{i=0}^N \\frac{\\lambda_1^{k_\\bar{z}}\\lambda_2^{N-k_\\bar{z}} \n",
      "\\gamma}{k_{\\bar{z}}!(N-k_\\bar{z})!}\n",
      "(-1)^{N}\n",
      "\\frac{\\partial^{k_\\bar{z}}}{\\partial_\\gamma}\n",
      "\\frac{\\partial^{N-k_{\\bar{z}}}}{\\lambda_2}\n",
      "\\int_{m_i}^{m_{i+1}} e^{-\\bar{z}(\\lambda_1 + \\gamma -\\lambda_2)  -\\lambda_2 T}\n",
      "d\\bar{z}$"
     ]
    },
    {
     "cell_type": "markdown",
     "metadata": {},
     "source": [
      "And now we have an integral with only an exponential term, \n",
      "which we can easily integrate by hand...but for fun, let's let sympy \n",
      "do it."
     ]
    },
    {
     "cell_type": "code",
     "collapsed": false,
     "input": [
      "integrated = integrate(E**(-zbar*(lambda_1 + gamma - lambda_2) -T*lambda_2), \n",
      "                       zbar)\n",
      "integrated"
     ],
     "language": "python",
     "metadata": {},
     "outputs": [
      {
       "latex": [
        "$$\\begin{cases} \\bar{z} & \\text{for}\\: \\gamma + \\lambda_{1} - \\lambda_{2} = 0 \\\\- \\frac{e^{- T \\lambda_{2} - \\bar{z} \\left(\\gamma + \\lambda_{1} - \\lambda_{2}\\right)}}{\\gamma + \\lambda_{1} - \\lambda_{2}} & \\text{otherwise} \\end{cases}$$"
       ],
       "metadata": {},
       "output_type": "pyout",
       "png": "[encoded data removed]",
       "prompt_number": 6,
       "text": [
        "\u23a7            z\u0305               for \u03b3 + \u03bb\u2081 - \u03bb\u2082 = 0\n",
        "\u23aa                                                \n",
        "\u23aa  -T\u22c5\u03bb\u2082 - z\u0305\u22c5(\u03b3 + \u03bb\u2081 - \u03bb\u2082)                      \n",
        "\u23a8-\u212f                                              \n",
        "\u23aa\u2500\u2500\u2500\u2500\u2500\u2500\u2500\u2500\u2500\u2500\u2500\u2500\u2500\u2500\u2500\u2500\u2500\u2500\u2500\u2500\u2500\u2500\u2500\u2500\u2500\u2500\u2500       otherwise     \n",
        "\u23aa        \u03b3 + \u03bb\u2081 - \u03bb\u2082                             \n",
        "\u23a9                                                "
       ]
      }
     ],
     "prompt_number": 6
    },
    {
     "cell_type": "markdown",
     "metadata": {},
     "source": [
      "With one line of code, we can  take care of the differentiation too:"
     ]
    },
    {
     "cell_type": "code",
     "collapsed": false,
     "input": [
      "diff(\n",
      "diff(\n",
      "integrate(\n",
      "E**(-zbar*(lambda_1 + gamma - lambda_2) -T*lambda_2), zbar), \n",
      "lambda_2, 1), \n",
      "gamma, 1)"
     ],
     "language": "python",
     "metadata": {},
     "outputs": [
      {
       "latex": [
        "$$\\begin{cases} 0 & \\text{for}\\: \\gamma + \\lambda_{1} - \\lambda_{2} = 0 \\\\\\frac{\\bar{z}}{\\gamma + \\lambda_{1} - \\lambda_{2}} \\left(- T + \\bar{z}\\right) e^{- T \\lambda_{2} - \\bar{z} \\left(\\gamma + \\lambda_{1} - \\lambda_{2}\\right)} + \\frac{\\bar{z}}{\\left(\\gamma + \\lambda_{1} - \\lambda_{2}\\right)^{2}} e^{- T \\lambda_{2} - \\bar{z} \\left(\\gamma + \\lambda_{1} - \\lambda_{2}\\right)} + \\frac{e^{- T \\lambda_{2} - \\bar{z} \\left(\\gamma + \\lambda_{1} - \\lambda_{2}\\right)}}{\\left(\\gamma + \\lambda_{1} - \\lambda_{2}\\right)^{2}} \\left(- T + \\bar{z}\\right) + \\frac{2}{\\left(\\gamma + \\lambda_{1} - \\lambda_{2}\\right)^{3}} e^{- T \\lambda_{2} - \\bar{z} \\left(\\gamma + \\lambda_{1} - \\lambda_{2}\\right)} & \\text{otherwise} \\end{cases}$$"
       ],
       "metadata": {},
       "output_type": "pyout",
       "png": "[encoded data removed]",
       "prompt_number": 7,
       "text": [
        "\u23a7                                                                    0        \n",
        "\u23aa                                                                             \n",
        "\u23aa              -T\u22c5\u03bb\u2082 - z\u0305\u22c5(\u03b3 + \u03bb\u2081 - \u03bb\u2082)       -T\u22c5\u03bb\u2082 - z\u0305\u22c5(\u03b3 + \u03bb\u2081 - \u03bb\u2082)        \n",
        "\u23a8z\u0305\u22c5(-T + z\u0305)\u22c5\u212f                           z\u0305\u22c5\u212f                           (-T +\n",
        "\u23aa\u2500\u2500\u2500\u2500\u2500\u2500\u2500\u2500\u2500\u2500\u2500\u2500\u2500\u2500\u2500\u2500\u2500\u2500\u2500\u2500\u2500\u2500\u2500\u2500\u2500\u2500\u2500\u2500\u2500\u2500\u2500\u2500\u2500\u2500\u2500\u2500\u2500\u2500 + \u2500\u2500\u2500\u2500\u2500\u2500\u2500\u2500\u2500\u2500\u2500\u2500\u2500\u2500\u2500\u2500\u2500\u2500\u2500\u2500\u2500\u2500\u2500\u2500\u2500\u2500\u2500\u2500 + \u2500\u2500\u2500\u2500\u2500\n",
        "\u23aa             \u03b3 + \u03bb\u2081 - \u03bb\u2082                                     2               \n",
        "\u23a9                                                (\u03b3 + \u03bb\u2081 - \u03bb\u2082)                \n",
        "\n",
        "                                                              for \u03b3 + \u03bb\u2081 - \u03bb\u2082 \n",
        "                                                                              \n",
        "      -T\u22c5\u03bb\u2082 - z\u0305\u22c5(\u03b3 + \u03bb\u2081 - \u03bb\u2082)      -T\u22c5\u03bb\u2082 - z\u0305\u22c5(\u03b3 + \u03bb\u2081 - \u03bb\u2082)                  \n",
        " z\u0305)\u22c5\u212f                           2\u22c5\u212f                                          \n",
        "\u2500\u2500\u2500\u2500\u2500\u2500\u2500\u2500\u2500\u2500\u2500\u2500\u2500\u2500\u2500\u2500\u2500\u2500\u2500\u2500\u2500\u2500\u2500\u2500\u2500\u2500\u2500\u2500\u2500\u2500 + \u2500\u2500\u2500\u2500\u2500\u2500\u2500\u2500\u2500\u2500\u2500\u2500\u2500\u2500\u2500\u2500\u2500\u2500\u2500\u2500\u2500\u2500\u2500\u2500\u2500\u2500\u2500       otherwise  \n",
        "                   2                                 3                        \n",
        "      (\u03b3 + \u03bb\u2081 - \u03bb\u2082)                     (\u03b3 + \u03bb\u2081 - \u03bb\u2082)                         \n",
        "\n",
        "= 0\n",
        "   \n",
        "   \n",
        "   \n",
        "   \n",
        "   \n",
        "   "
       ]
      }
     ],
     "prompt_number": 7
    },
    {
     "cell_type": "markdown",
     "metadata": {},
     "source": [
      "The above result illustrates the case when $N=2$ and $k_\\bar{z}=1$."
     ]
    },
    {
     "cell_type": "heading",
     "level": 2,
     "metadata": {},
     "source": [
      "Now let's set up a simulation and test our closed form solution"
     ]
    },
    {
     "cell_type": "code",
     "collapsed": false,
     "input": [
      "from sft import *\n",
      "from sft_net import *\n",
      "from tools import gen_data\n",
      "from direct_sample import Direct_Sample\n",
      "import numpy as np\n",
      "from scipy.misc import factorial as num_fact"
     ],
     "language": "python",
     "metadata": {},
     "outputs": [],
     "prompt_number": 8
    },
    {
     "cell_type": "code",
     "collapsed": false,
     "input": [
      "A = SFT('A', ['normal', 'infected'], 'B', \n",
      "        {'B': np.array([[1, 0], [1,.5]])}, ['clean', 'malicious'],\n",
      "        'interior')\n",
      "\n",
      "B = SFT('B', ['normal', 'infected'], 'A', \n",
      "        {'A': np.array([[1, 0], [1,1.]])}, ['clean', 'malicious'],\n",
      "        'interior')\n",
      "\n",
      "net =SFTNet([A,B])\n",
      "s0 = {'A': 'infected', 'B': 'normal'}\n",
      "window = 10\n",
      "data = gen_data(window, net, s0)"
     ],
     "language": "python",
     "metadata": {},
     "outputs": [],
     "prompt_number": 9
    },
    {
     "cell_type": "code",
     "collapsed": false,
     "input": [
      "lhood = Direct_Sample(net, data, 100000, window,s0)"
     ],
     "language": "python",
     "metadata": {},
     "outputs": [],
     "prompt_number": 10
    },
    {
     "cell_type": "code",
     "collapsed": false,
     "input": [
      "print lhood[0]"
     ],
     "language": "python",
     "metadata": {},
     "outputs": [
      {
       "output_type": "stream",
       "stream": "stdout",
       "text": [
        "-5.99799498095\n"
       ]
      }
     ],
     "prompt_number": 11
    },
    {
     "cell_type": "markdown",
     "metadata": {},
     "source": [
      "Using simple sampling, the log likelihood is approx. -6.  Let's see if the closed form solution matches"
     ]
    },
    {
     "cell_type": "code",
     "collapsed": false,
     "input": [
      "# This cell computes to coefficient outside of the integral for each m_i\n",
      "b_message_times = data[-2]['B-A']\n",
      "num_msgs = len(b_message_times)\n",
      "l1 = 1.\n",
      "l2 = 2.\n",
      "gam = .5\n",
      "outside_coeff = l1**np.arange(num_msgs+1)*l2**(num_msgs-\n",
      "                            np.arange(num_msgs+1))*gam /\\\n",
      "    (num_fact(np.arange(num_msgs+1)) * num_fact(num_msgs - \n",
      "                                                np.arange(num_msgs+1)))\n",
      "    "
     ],
     "language": "python",
     "metadata": {},
     "outputs": [],
     "prompt_number": 12
    },
    {
     "cell_type": "code",
     "collapsed": false,
     "input": [
      "# This cell computes the derivative for each of the integrated terms\n",
      "integrated_and_diffed = []\n",
      "for m_i in range(len(b_message_times) +1):\n",
      "    diffed = diff(diff(integrated, gamma, m_i), lambda_2, num_msgs-m_i)\n",
      "    integrated_and_diffed.append(diffed)"
     ],
     "language": "python",
     "metadata": {},
     "outputs": [],
     "prompt_number": 13
    },
    {
     "cell_type": "code",
     "collapsed": false,
     "input": [
      "b_message_times = np.hstack(([0], b_message_times, [window]))"
     ],
     "language": "python",
     "metadata": {},
     "outputs": [],
     "prompt_number": 14
    },
    {
     "cell_type": "code",
     "collapsed": false,
     "input": [
      "# This computes the definite integral for each m_i, m_i+1\n",
      "each_mi_integral = []\n",
      "for i in range(len(integrated_and_diffed)):\n",
      "    expr = integrated_and_diffed[i]\n",
      "    expr_w_params = expr.subs([(lambda_1, 1.), (lambda_2, 2.), \n",
      "                               (gamma, .5), (T, window)])\n",
      "    each_mi_integral.append((-1)**(num_msgs)* (\n",
      "    expr_w_params.subs(zbar, b_message_times[i+1]) \\\n",
      "        - expr_w_params.subs(zbar, b_message_times[i])))\n",
      "    "
     ],
     "language": "python",
     "metadata": {},
     "outputs": [],
     "prompt_number": 15
    },
    {
     "cell_type": "code",
     "collapsed": false,
     "input": [
      "# Computes the value of the integral\n",
      "p_b_messages = float(np.sum(np.asarray(each_mi_integral) * outside_coeff))"
     ],
     "language": "python",
     "metadata": {},
     "outputs": [],
     "prompt_number": 16
    },
    {
     "cell_type": "code",
     "collapsed": false,
     "input": [
      "# Computes the probability of the transmissions from A\n",
      "num_a_msgs = len(data[-2]['A-B'])\n",
      "p_a_messages = (np.exp(-1.5*window)*(1.5*window)**num_a_msgs)/num_fact(num_a_msgs)"
     ],
     "language": "python",
     "metadata": {},
     "outputs": [],
     "prompt_number": 17
    },
    {
     "cell_type": "markdown",
     "metadata": {},
     "source": [
      "All that is left to add back in is the contribution of the likelihood of B not getting infected in the window."
     ]
    },
    {
     "cell_type": "code",
     "collapsed": false,
     "input": [
      "\n",
      "lhood_b_not_infected = (np.exp(-.5*window)) * np.exp(-window)*window**num_msgs/\\\n",
      "    num_fact(num_msgs)"
     ],
     "language": "python",
     "metadata": {},
     "outputs": [],
     "prompt_number": 18
    },
    {
     "cell_type": "code",
     "collapsed": false,
     "input": [
      "closed_form_solution =np.log(p_a_messages*(p_b_messages + lhood_b_not_infected))"
     ],
     "language": "python",
     "metadata": {},
     "outputs": [],
     "prompt_number": 19
    },
    {
     "cell_type": "code",
     "collapsed": false,
     "input": [
      "closed_form_solution"
     ],
     "language": "python",
     "metadata": {},
     "outputs": [
      {
       "latex": [
        "$$-5.99919461275$$"
       ],
       "metadata": {},
       "output_type": "pyout",
       "png": "[encoded data removed]",
       "prompt_number": 20,
       "text": [
        "-5.99919461275"
       ]
      }
     ],
     "prompt_number": 20
    },
    {
     "cell_type": "code",
     "collapsed": false,
     "input": [],
     "language": "python",
     "metadata": {},
     "outputs": []
    }
   ],
   "metadata": {}
  }
 ]
}